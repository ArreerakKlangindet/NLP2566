{
  "nbformat": 4,
  "nbformat_minor": 0,
  "metadata": {
    "colab": {
      "provenance": []
    },
    "kernelspec": {
      "name": "python3",
      "display_name": "Python 3"
    },
    "language_info": {
      "name": "python"
    }
  },
  "cells": [
    {
      "cell_type": "markdown",
      "source": [
        "# HW 11 : Deploy Your Model\n",
        "\n",
        "\n"
      ],
      "metadata": {
        "id": "MwCptnzw_PTn"
      }
    },
    {
      "cell_type": "markdown",
      "source": [
        "## การ Deploy โมเดลเพื่อนำไปใช้งานจริง\n",
        "\n",
        "ในส่วนนี้เราจะมาทำการ Deploy ตัวโมเดลต่างๆ ที่เราทำมาทำเป็น Intent chatbot ทั้งในรูปแบบของ\n",
        "\n",
        "1.    **Text Classification** (Topic, Intent-based classification) เราจะใช้โมเดล Pretrained LM model (Thai2fit) + DNN ก็แล้วกันจะได้ง่ายๆ\n",
        "2.   **Chatbot**: เราจะผสมผสานหลายๆ อย่างที่เรียนมา มาทำเป็น Chatbot ถามตอบเกี่ยวกับวิทยาลัย\n",
        "\n"
      ],
      "metadata": {
        "id": "SzHRYfpANylG"
      }
    },
    {
      "cell_type": "markdown",
      "source": [
        "# Deploy Text Clssification model (Sentiment Analysis)\n",
        "\n",
        "## Train your model\n",
        "\n",
        "ตัวอย่างนี้เป็นตัวอย่างโค้ดโมเดจาก HW6 มาใช้งาน นะครับ โดยจะตัอง save model และ dict ที่แมพจาก คำเป็น id"
      ],
      "metadata": {
        "id": "oTJ8K7Zy4fQT"
      }
    },
    {
      "cell_type": "code",
      "source": [
        "!pip install pythainlp\n",
        "!pip install torch==1.4.0\n",
        "!pip install torchtext==0.6.0\n",
        "\n",
        "import torchtext\n",
        "torchtext.__version__"
      ],
      "metadata": {
        "id": "EwTgEW6w757s",
        "colab": {
          "base_uri": "https://localhost:8080/",
          "height": 730
        },
        "outputId": "45596aea-9a9d-4efe-c0b1-f8db1a02ec62"
      },
      "execution_count": null,
      "outputs": [
        {
          "output_type": "stream",
          "name": "stdout",
          "text": [
            "Collecting pythainlp\n",
            "  Downloading pythainlp-5.0.1-py3-none-any.whl (17.9 MB)\n",
            "\u001b[2K     \u001b[90m━━━━━━━━━━━━━━━━━━━━━━━━━━━━━━━━━━━━━━━━\u001b[0m \u001b[32m17.9/17.9 MB\u001b[0m \u001b[31m16.2 MB/s\u001b[0m eta \u001b[36m0:00:00\u001b[0m\n",
            "\u001b[?25hRequirement already satisfied: requests>=2.22.0 in /usr/local/lib/python3.10/dist-packages (from pythainlp) (2.31.0)\n",
            "Requirement already satisfied: charset-normalizer<4,>=2 in /usr/local/lib/python3.10/dist-packages (from requests>=2.22.0->pythainlp) (3.3.2)\n",
            "Requirement already satisfied: idna<4,>=2.5 in /usr/local/lib/python3.10/dist-packages (from requests>=2.22.0->pythainlp) (3.6)\n",
            "Requirement already satisfied: urllib3<3,>=1.21.1 in /usr/local/lib/python3.10/dist-packages (from requests>=2.22.0->pythainlp) (2.0.7)\n",
            "Requirement already satisfied: certifi>=2017.4.17 in /usr/local/lib/python3.10/dist-packages (from requests>=2.22.0->pythainlp) (2024.2.2)\n",
            "Installing collected packages: pythainlp\n",
            "Successfully installed pythainlp-5.0.1\n",
            "\u001b[31mERROR: Could not find a version that satisfies the requirement torch==1.4.0 (from versions: 1.11.0, 1.12.0, 1.12.1, 1.13.0, 1.13.1, 2.0.0, 2.0.1, 2.1.0, 2.1.1, 2.1.2, 2.2.0, 2.2.1)\u001b[0m\u001b[31m\n",
            "\u001b[0m\u001b[31mERROR: No matching distribution found for torch==1.4.0\u001b[0m\u001b[31m\n",
            "\u001b[0mCollecting torchtext==0.6.0\n",
            "  Downloading torchtext-0.6.0-py3-none-any.whl (64 kB)\n",
            "\u001b[2K     \u001b[90m━━━━━━━━━━━━━━━━━━━━━━━━━━━━━━━━━━━━━━━━\u001b[0m \u001b[32m64.2/64.2 kB\u001b[0m \u001b[31m1.6 MB/s\u001b[0m eta \u001b[36m0:00:00\u001b[0m\n",
            "\u001b[?25hRequirement already satisfied: tqdm in /usr/local/lib/python3.10/dist-packages (from torchtext==0.6.0) (4.66.2)\n",
            "Requirement already satisfied: requests in /usr/local/lib/python3.10/dist-packages (from torchtext==0.6.0) (2.31.0)\n",
            "Requirement already satisfied: torch in /usr/local/lib/python3.10/dist-packages (from torchtext==0.6.0) (2.1.0+cu121)\n",
            "Requirement already satisfied: numpy in /usr/local/lib/python3.10/dist-packages (from torchtext==0.6.0) (1.25.2)\n",
            "Requirement already satisfied: six in /usr/local/lib/python3.10/dist-packages (from torchtext==0.6.0) (1.16.0)\n",
            "Requirement already satisfied: sentencepiece in /usr/local/lib/python3.10/dist-packages (from torchtext==0.6.0) (0.1.99)\n",
            "Requirement already satisfied: charset-normalizer<4,>=2 in /usr/local/lib/python3.10/dist-packages (from requests->torchtext==0.6.0) (3.3.2)\n",
            "Requirement already satisfied: idna<4,>=2.5 in /usr/local/lib/python3.10/dist-packages (from requests->torchtext==0.6.0) (3.6)\n",
            "Requirement already satisfied: urllib3<3,>=1.21.1 in /usr/local/lib/python3.10/dist-packages (from requests->torchtext==0.6.0) (2.0.7)\n",
            "Requirement already satisfied: certifi>=2017.4.17 in /usr/local/lib/python3.10/dist-packages (from requests->torchtext==0.6.0) (2024.2.2)\n",
            "Requirement already satisfied: filelock in /usr/local/lib/python3.10/dist-packages (from torch->torchtext==0.6.0) (3.13.1)\n",
            "Requirement already satisfied: typing-extensions in /usr/local/lib/python3.10/dist-packages (from torch->torchtext==0.6.0) (4.9.0)\n",
            "Requirement already satisfied: sympy in /usr/local/lib/python3.10/dist-packages (from torch->torchtext==0.6.0) (1.12)\n",
            "Requirement already satisfied: networkx in /usr/local/lib/python3.10/dist-packages (from torch->torchtext==0.6.0) (3.2.1)\n",
            "Requirement already satisfied: jinja2 in /usr/local/lib/python3.10/dist-packages (from torch->torchtext==0.6.0) (3.1.3)\n",
            "Requirement already satisfied: fsspec in /usr/local/lib/python3.10/dist-packages (from torch->torchtext==0.6.0) (2023.6.0)\n",
            "Requirement already satisfied: triton==2.1.0 in /usr/local/lib/python3.10/dist-packages (from torch->torchtext==0.6.0) (2.1.0)\n",
            "Requirement already satisfied: MarkupSafe>=2.0 in /usr/local/lib/python3.10/dist-packages (from jinja2->torch->torchtext==0.6.0) (2.1.5)\n",
            "Requirement already satisfied: mpmath>=0.19 in /usr/local/lib/python3.10/dist-packages (from sympy->torch->torchtext==0.6.0) (1.3.0)\n",
            "Installing collected packages: torchtext\n",
            "  Attempting uninstall: torchtext\n",
            "    Found existing installation: torchtext 0.16.0\n",
            "    Uninstalling torchtext-0.16.0:\n",
            "      Successfully uninstalled torchtext-0.16.0\n",
            "Successfully installed torchtext-0.6.0\n"
          ]
        },
        {
          "output_type": "execute_result",
          "data": {
            "text/plain": [
              "'0.6.0'"
            ],
            "application/vnd.google.colaboratory.intrinsic+json": {
              "type": "string"
            }
          },
          "metadata": {},
          "execution_count": 1
        }
      ]
    },
    {
      "cell_type": "code",
      "source": [],
      "metadata": {
        "id": "aOP9U-Wa5rzG"
      },
      "execution_count": null,
      "outputs": []
    },
    {
      "cell_type": "code",
      "source": [
        "#download data\n",
        "!wget https://raw.githubusercontent.com/PyThaiNLP/wisesight-sentiment/master/pos.txt\n",
        "!wget https://raw.githubusercontent.com/PyThaiNLP/wisesight-sentiment/master/neg.txt\n",
        "!wget https://raw.githubusercontent.com/PyThaiNLP/wisesight-sentiment/master/neu.txt"
      ],
      "metadata": {
        "id": "nZX64oGC7-44",
        "colab": {
          "base_uri": "https://localhost:8080/"
        },
        "outputId": "78923115-7082-47b3-c797-422dffd2c80d"
      },
      "execution_count": null,
      "outputs": [
        {
          "output_type": "stream",
          "name": "stdout",
          "text": [
            "--2024-02-23 06:26:03--  https://raw.githubusercontent.com/PyThaiNLP/wisesight-sentiment/master/pos.txt\n",
            "Resolving raw.githubusercontent.com (raw.githubusercontent.com)... 185.199.110.133, 185.199.109.133, 185.199.108.133, ...\n",
            "Connecting to raw.githubusercontent.com (raw.githubusercontent.com)|185.199.110.133|:443... connected.\n",
            "HTTP request sent, awaiting response... 200 OK\n",
            "Length: 761195 (743K) [text/plain]\n",
            "Saving to: ‘pos.txt’\n",
            "\n",
            "\rpos.txt               0%[                    ]       0  --.-KB/s               \rpos.txt             100%[===================>] 743.35K  --.-KB/s    in 0.04s   \n",
            "\n",
            "2024-02-23 06:26:03 (18.3 MB/s) - ‘pos.txt’ saved [761195/761195]\n",
            "\n",
            "--2024-02-23 06:26:03--  https://raw.githubusercontent.com/PyThaiNLP/wisesight-sentiment/master/neg.txt\n",
            "Resolving raw.githubusercontent.com (raw.githubusercontent.com)... 185.199.110.133, 185.199.109.133, 185.199.108.133, ...\n",
            "Connecting to raw.githubusercontent.com (raw.githubusercontent.com)|185.199.110.133|:443... connected.\n",
            "HTTP request sent, awaiting response... 200 OK\n",
            "Length: 1676577 (1.6M) [text/plain]\n",
            "Saving to: ‘neg.txt’\n",
            "\n",
            "neg.txt             100%[===================>]   1.60M  --.-KB/s    in 0.04s   \n",
            "\n",
            "2024-02-23 06:26:03 (38.1 MB/s) - ‘neg.txt’ saved [1676577/1676577]\n",
            "\n",
            "--2024-02-23 06:26:03--  https://raw.githubusercontent.com/PyThaiNLP/wisesight-sentiment/master/neu.txt\n",
            "Resolving raw.githubusercontent.com (raw.githubusercontent.com)... 185.199.110.133, 185.199.108.133, 185.199.111.133, ...\n",
            "Connecting to raw.githubusercontent.com (raw.githubusercontent.com)|185.199.110.133|:443... connected.\n",
            "HTTP request sent, awaiting response... 200 OK\n",
            "Length: 3814841 (3.6M) [text/plain]\n",
            "Saving to: ‘neu.txt’\n",
            "\n",
            "neu.txt             100%[===================>]   3.64M  --.-KB/s    in 0.06s   \n",
            "\n",
            "2024-02-23 06:26:03 (65.5 MB/s) - ‘neu.txt’ saved [3814841/3814841]\n",
            "\n"
          ]
        }
      ]
    },
    {
      "cell_type": "code",
      "source": [
        "import pandas as pd\n",
        "\n",
        "neg_df = pd.read_csv('neg.txt',sep='\\t',names=['text'], header=None)\n",
        "neg_df[\"label\"] = \"neg\"\n",
        "\n",
        "pos_df = pd.read_csv('pos.txt',sep='\\t',names=['text'], header=None)\n",
        "pos_df[\"label\"] = \"pos\"\n",
        "\n",
        "#neu_df = pd.read_csv('neu.txt',sep=';',names=['review'], header=None)\n",
        "#neu_df[\"sentiment\"] = \"neu\"\n",
        "df = pd.concat([neg_df, pos_df])"
      ],
      "metadata": {
        "id": "no8RY4Tj8Bbo"
      },
      "execution_count": null,
      "outputs": []
    },
    {
      "cell_type": "code",
      "source": [
        "df"
      ],
      "metadata": {
        "colab": {
          "base_uri": "https://localhost:8080/",
          "height": 424
        },
        "id": "VOt-3EelpUyR",
        "outputId": "a0984e40-1b8b-44c7-ee10-ff43218540fe"
      },
      "execution_count": null,
      "outputs": [
        {
          "output_type": "execute_result",
          "data": {
            "text/plain": [
              "                                                   text label\n",
              "0                                                    ☹️   neg\n",
              "1                                                     😔   neg\n",
              "2                                                     😞   neg\n",
              "3                                                     😥   neg\n",
              "4                                                    รำ   neg\n",
              "...                                                 ...   ...\n",
              "4773  พูดถึงรถยนต์ตัวท็อปที่อีซูซุผลิต หนึ่งในนั้นต้...   pos\n",
              "4774  เรื่องประทับใจเกิดที่ the mall บางแค ค่ะ ❤️ เป...   pos\n",
              "4775  🌞แสงแดดเมืองไทย โดยเฉพาะหน้าร้อนอย่างเดือนเมษา...   pos\n",
              "4776  เราชื่นชอบและเป็นลูกค้าที่ใช้บริการ มานานถึง 3...   pos\n",
              "4777  เอา mini review เครื่องสำอางที่ใช้แต่งหน้าใน l...   pos\n",
              "\n",
              "[11601 rows x 2 columns]"
            ],
            "text/html": [
              "\n",
              "  <div id=\"df-94d2a7f3-490b-487d-9707-a69f2583d34d\" class=\"colab-df-container\">\n",
              "    <div>\n",
              "<style scoped>\n",
              "    .dataframe tbody tr th:only-of-type {\n",
              "        vertical-align: middle;\n",
              "    }\n",
              "\n",
              "    .dataframe tbody tr th {\n",
              "        vertical-align: top;\n",
              "    }\n",
              "\n",
              "    .dataframe thead th {\n",
              "        text-align: right;\n",
              "    }\n",
              "</style>\n",
              "<table border=\"1\" class=\"dataframe\">\n",
              "  <thead>\n",
              "    <tr style=\"text-align: right;\">\n",
              "      <th></th>\n",
              "      <th>text</th>\n",
              "      <th>label</th>\n",
              "    </tr>\n",
              "  </thead>\n",
              "  <tbody>\n",
              "    <tr>\n",
              "      <th>0</th>\n",
              "      <td>☹️</td>\n",
              "      <td>neg</td>\n",
              "    </tr>\n",
              "    <tr>\n",
              "      <th>1</th>\n",
              "      <td>😔</td>\n",
              "      <td>neg</td>\n",
              "    </tr>\n",
              "    <tr>\n",
              "      <th>2</th>\n",
              "      <td>😞</td>\n",
              "      <td>neg</td>\n",
              "    </tr>\n",
              "    <tr>\n",
              "      <th>3</th>\n",
              "      <td>😥</td>\n",
              "      <td>neg</td>\n",
              "    </tr>\n",
              "    <tr>\n",
              "      <th>4</th>\n",
              "      <td>รำ</td>\n",
              "      <td>neg</td>\n",
              "    </tr>\n",
              "    <tr>\n",
              "      <th>...</th>\n",
              "      <td>...</td>\n",
              "      <td>...</td>\n",
              "    </tr>\n",
              "    <tr>\n",
              "      <th>4773</th>\n",
              "      <td>พูดถึงรถยนต์ตัวท็อปที่อีซูซุผลิต หนึ่งในนั้นต้...</td>\n",
              "      <td>pos</td>\n",
              "    </tr>\n",
              "    <tr>\n",
              "      <th>4774</th>\n",
              "      <td>เรื่องประทับใจเกิดที่ the mall บางแค ค่ะ ❤️ เป...</td>\n",
              "      <td>pos</td>\n",
              "    </tr>\n",
              "    <tr>\n",
              "      <th>4775</th>\n",
              "      <td>🌞แสงแดดเมืองไทย โดยเฉพาะหน้าร้อนอย่างเดือนเมษา...</td>\n",
              "      <td>pos</td>\n",
              "    </tr>\n",
              "    <tr>\n",
              "      <th>4776</th>\n",
              "      <td>เราชื่นชอบและเป็นลูกค้าที่ใช้บริการ มานานถึง 3...</td>\n",
              "      <td>pos</td>\n",
              "    </tr>\n",
              "    <tr>\n",
              "      <th>4777</th>\n",
              "      <td>เอา mini review เครื่องสำอางที่ใช้แต่งหน้าใน l...</td>\n",
              "      <td>pos</td>\n",
              "    </tr>\n",
              "  </tbody>\n",
              "</table>\n",
              "<p>11601 rows × 2 columns</p>\n",
              "</div>\n",
              "    <div class=\"colab-df-buttons\">\n",
              "\n",
              "  <div class=\"colab-df-container\">\n",
              "    <button class=\"colab-df-convert\" onclick=\"convertToInteractive('df-94d2a7f3-490b-487d-9707-a69f2583d34d')\"\n",
              "            title=\"Convert this dataframe to an interactive table.\"\n",
              "            style=\"display:none;\">\n",
              "\n",
              "  <svg xmlns=\"http://www.w3.org/2000/svg\" height=\"24px\" viewBox=\"0 -960 960 960\">\n",
              "    <path d=\"M120-120v-720h720v720H120Zm60-500h600v-160H180v160Zm220 220h160v-160H400v160Zm0 220h160v-160H400v160ZM180-400h160v-160H180v160Zm440 0h160v-160H620v160ZM180-180h160v-160H180v160Zm440 0h160v-160H620v160Z\"/>\n",
              "  </svg>\n",
              "    </button>\n",
              "\n",
              "  <style>\n",
              "    .colab-df-container {\n",
              "      display:flex;\n",
              "      gap: 12px;\n",
              "    }\n",
              "\n",
              "    .colab-df-convert {\n",
              "      background-color: #E8F0FE;\n",
              "      border: none;\n",
              "      border-radius: 50%;\n",
              "      cursor: pointer;\n",
              "      display: none;\n",
              "      fill: #1967D2;\n",
              "      height: 32px;\n",
              "      padding: 0 0 0 0;\n",
              "      width: 32px;\n",
              "    }\n",
              "\n",
              "    .colab-df-convert:hover {\n",
              "      background-color: #E2EBFA;\n",
              "      box-shadow: 0px 1px 2px rgba(60, 64, 67, 0.3), 0px 1px 3px 1px rgba(60, 64, 67, 0.15);\n",
              "      fill: #174EA6;\n",
              "    }\n",
              "\n",
              "    .colab-df-buttons div {\n",
              "      margin-bottom: 4px;\n",
              "    }\n",
              "\n",
              "    [theme=dark] .colab-df-convert {\n",
              "      background-color: #3B4455;\n",
              "      fill: #D2E3FC;\n",
              "    }\n",
              "\n",
              "    [theme=dark] .colab-df-convert:hover {\n",
              "      background-color: #434B5C;\n",
              "      box-shadow: 0px 1px 3px 1px rgba(0, 0, 0, 0.15);\n",
              "      filter: drop-shadow(0px 1px 2px rgba(0, 0, 0, 0.3));\n",
              "      fill: #FFFFFF;\n",
              "    }\n",
              "  </style>\n",
              "\n",
              "    <script>\n",
              "      const buttonEl =\n",
              "        document.querySelector('#df-94d2a7f3-490b-487d-9707-a69f2583d34d button.colab-df-convert');\n",
              "      buttonEl.style.display =\n",
              "        google.colab.kernel.accessAllowed ? 'block' : 'none';\n",
              "\n",
              "      async function convertToInteractive(key) {\n",
              "        const element = document.querySelector('#df-94d2a7f3-490b-487d-9707-a69f2583d34d');\n",
              "        const dataTable =\n",
              "          await google.colab.kernel.invokeFunction('convertToInteractive',\n",
              "                                                    [key], {});\n",
              "        if (!dataTable) return;\n",
              "\n",
              "        const docLinkHtml = 'Like what you see? Visit the ' +\n",
              "          '<a target=\"_blank\" href=https://colab.research.google.com/notebooks/data_table.ipynb>data table notebook</a>'\n",
              "          + ' to learn more about interactive tables.';\n",
              "        element.innerHTML = '';\n",
              "        dataTable['output_type'] = 'display_data';\n",
              "        await google.colab.output.renderOutput(dataTable, element);\n",
              "        const docLink = document.createElement('div');\n",
              "        docLink.innerHTML = docLinkHtml;\n",
              "        element.appendChild(docLink);\n",
              "      }\n",
              "    </script>\n",
              "  </div>\n",
              "\n",
              "\n",
              "<div id=\"df-d0b320fc-450c-433b-a31d-c8b4be0d2646\">\n",
              "  <button class=\"colab-df-quickchart\" onclick=\"quickchart('df-d0b320fc-450c-433b-a31d-c8b4be0d2646')\"\n",
              "            title=\"Suggest charts\"\n",
              "            style=\"display:none;\">\n",
              "\n",
              "<svg xmlns=\"http://www.w3.org/2000/svg\" height=\"24px\"viewBox=\"0 0 24 24\"\n",
              "     width=\"24px\">\n",
              "    <g>\n",
              "        <path d=\"M19 3H5c-1.1 0-2 .9-2 2v14c0 1.1.9 2 2 2h14c1.1 0 2-.9 2-2V5c0-1.1-.9-2-2-2zM9 17H7v-7h2v7zm4 0h-2V7h2v10zm4 0h-2v-4h2v4z\"/>\n",
              "    </g>\n",
              "</svg>\n",
              "  </button>\n",
              "\n",
              "<style>\n",
              "  .colab-df-quickchart {\n",
              "      --bg-color: #E8F0FE;\n",
              "      --fill-color: #1967D2;\n",
              "      --hover-bg-color: #E2EBFA;\n",
              "      --hover-fill-color: #174EA6;\n",
              "      --disabled-fill-color: #AAA;\n",
              "      --disabled-bg-color: #DDD;\n",
              "  }\n",
              "\n",
              "  [theme=dark] .colab-df-quickchart {\n",
              "      --bg-color: #3B4455;\n",
              "      --fill-color: #D2E3FC;\n",
              "      --hover-bg-color: #434B5C;\n",
              "      --hover-fill-color: #FFFFFF;\n",
              "      --disabled-bg-color: #3B4455;\n",
              "      --disabled-fill-color: #666;\n",
              "  }\n",
              "\n",
              "  .colab-df-quickchart {\n",
              "    background-color: var(--bg-color);\n",
              "    border: none;\n",
              "    border-radius: 50%;\n",
              "    cursor: pointer;\n",
              "    display: none;\n",
              "    fill: var(--fill-color);\n",
              "    height: 32px;\n",
              "    padding: 0;\n",
              "    width: 32px;\n",
              "  }\n",
              "\n",
              "  .colab-df-quickchart:hover {\n",
              "    background-color: var(--hover-bg-color);\n",
              "    box-shadow: 0 1px 2px rgba(60, 64, 67, 0.3), 0 1px 3px 1px rgba(60, 64, 67, 0.15);\n",
              "    fill: var(--button-hover-fill-color);\n",
              "  }\n",
              "\n",
              "  .colab-df-quickchart-complete:disabled,\n",
              "  .colab-df-quickchart-complete:disabled:hover {\n",
              "    background-color: var(--disabled-bg-color);\n",
              "    fill: var(--disabled-fill-color);\n",
              "    box-shadow: none;\n",
              "  }\n",
              "\n",
              "  .colab-df-spinner {\n",
              "    border: 2px solid var(--fill-color);\n",
              "    border-color: transparent;\n",
              "    border-bottom-color: var(--fill-color);\n",
              "    animation:\n",
              "      spin 1s steps(1) infinite;\n",
              "  }\n",
              "\n",
              "  @keyframes spin {\n",
              "    0% {\n",
              "      border-color: transparent;\n",
              "      border-bottom-color: var(--fill-color);\n",
              "      border-left-color: var(--fill-color);\n",
              "    }\n",
              "    20% {\n",
              "      border-color: transparent;\n",
              "      border-left-color: var(--fill-color);\n",
              "      border-top-color: var(--fill-color);\n",
              "    }\n",
              "    30% {\n",
              "      border-color: transparent;\n",
              "      border-left-color: var(--fill-color);\n",
              "      border-top-color: var(--fill-color);\n",
              "      border-right-color: var(--fill-color);\n",
              "    }\n",
              "    40% {\n",
              "      border-color: transparent;\n",
              "      border-right-color: var(--fill-color);\n",
              "      border-top-color: var(--fill-color);\n",
              "    }\n",
              "    60% {\n",
              "      border-color: transparent;\n",
              "      border-right-color: var(--fill-color);\n",
              "    }\n",
              "    80% {\n",
              "      border-color: transparent;\n",
              "      border-right-color: var(--fill-color);\n",
              "      border-bottom-color: var(--fill-color);\n",
              "    }\n",
              "    90% {\n",
              "      border-color: transparent;\n",
              "      border-bottom-color: var(--fill-color);\n",
              "    }\n",
              "  }\n",
              "</style>\n",
              "\n",
              "  <script>\n",
              "    async function quickchart(key) {\n",
              "      const quickchartButtonEl =\n",
              "        document.querySelector('#' + key + ' button');\n",
              "      quickchartButtonEl.disabled = true;  // To prevent multiple clicks.\n",
              "      quickchartButtonEl.classList.add('colab-df-spinner');\n",
              "      try {\n",
              "        const charts = await google.colab.kernel.invokeFunction(\n",
              "            'suggestCharts', [key], {});\n",
              "      } catch (error) {\n",
              "        console.error('Error during call to suggestCharts:', error);\n",
              "      }\n",
              "      quickchartButtonEl.classList.remove('colab-df-spinner');\n",
              "      quickchartButtonEl.classList.add('colab-df-quickchart-complete');\n",
              "    }\n",
              "    (() => {\n",
              "      let quickchartButtonEl =\n",
              "        document.querySelector('#df-d0b320fc-450c-433b-a31d-c8b4be0d2646 button');\n",
              "      quickchartButtonEl.style.display =\n",
              "        google.colab.kernel.accessAllowed ? 'block' : 'none';\n",
              "    })();\n",
              "  </script>\n",
              "</div>\n",
              "    </div>\n",
              "  </div>\n"
            ],
            "application/vnd.google.colaboratory.intrinsic+json": {
              "type": "dataframe",
              "variable_name": "df",
              "summary": "{\n  \"name\": \"df\",\n  \"rows\": 11601,\n  \"fields\": [\n    {\n      \"column\": \"text\",\n      \"properties\": {\n        \"dtype\": \"string\",\n        \"num_unique_values\": 11600,\n        \"samples\": [\n          \"\\u0e43\\u0e2b\\u0e49\\u0e21\\u0e31\\u0e19\\u0e44\\u0e14\\u0e49\\u0e41\\u0e1a\\u0e1a\\u0e19\\u0e35\\u0e49\\u0e2a\\u0e345555 \\u0e1b\\u0e25.\\u0e1a\\u0e2d\\u0e14\\u0e35\\u0e49\\u0e19\\u0e35\\u0e49\\u0e16\\u0e36\\u0e07\\u0e02\\u0e32\\u0e22\\u0e40\\u0e1b\\u0e47\\u0e1910\\u0e1b\\u0e35\\u0e41\\u0e25\\u0e49\\u0e27\\u0e41\\u0e15\\u0e48\\u0e17\\u0e33\\u0e44\\u0e21\\u0e21\\u0e31\\u0e19\\u0e14\\u0e39\\u0e14\\u0e35\\u0e21\\u0e32\\u0e01\",\n          \"\\u0e23\\u0e16\\u0e42\\u0e15\\u0e42\\u0e22\\u0e15\\u0e49\\u0e32\\u0e44\\u0e21\\u0e04\\u0e30 \\u0e40\\u0e04\\u0e22\\u0e40\\u0e15\\u0e34\\u0e21\\u0e40\\u0e01\\u0e1a\\u0e32\\u0e07\\u0e17\\u0e35\\u0e02\\u0e36\\u0e49\\u0e19\\u0e0a\\u0e49\\u0e32\\u0e21\\u0e32\\u0e01 \\u0e02\\u0e31\\u0e1a\\u0e44\\u0e1b\\u0e40\\u0e1b\\u0e19\\u0e04\\u0e23\\u0e36\\u0e48\\u0e07\\u0e0a\\u0e21.\\u0e16\\u0e36\\u0e07\\u0e08\\u0e30\\u0e02\\u0e36\\u0e49\\u0e19\",\n          \"\\u0e2d\\u0e22\\u0e48\\u0e32\\u0e21\\u0e32\\u0e41\\u0e17\\u0e47\\u0e01\\u0e01\\u0e39\\u0e27\\u0e27\\u0e27\\u0e27\\u0e27 \\u0e01\\u0e39\\u0e44\\u0e21\\u0e48\\u0e19\\u0e31\\u0e48\\u0e07\\u0e41\\u0e14\\u0e01\\u0e1a\\u0e32\\u0e1a\\u0e35\\u0e01\\u0e49\\u0e2d\\u0e19\\u0e41\\u0e1a\\u0e1a\\u0e19\\u0e35\\u0e49\\u0e40\\u0e40\\u0e19\\u0e48\\u0e4655\"\n        ],\n        \"semantic_type\": \"\",\n        \"description\": \"\"\n      }\n    },\n    {\n      \"column\": \"label\",\n      \"properties\": {\n        \"dtype\": \"category\",\n        \"num_unique_values\": 2,\n        \"samples\": [\n          \"pos\",\n          \"neg\"\n        ],\n        \"semantic_type\": \"\",\n        \"description\": \"\"\n      }\n    }\n  ]\n}"
            }
          },
          "metadata": {},
          "execution_count": 5
        }
      ]
    },
    {
      "cell_type": "code",
      "source": [
        "# Training configurations\n",
        "SEED = 1234\n",
        "TRAIN = False\n",
        "BATCH_SIZE = 64\n",
        "N_EPOCHS = 10\n",
        "\n",
        "# Architecture\n",
        "EMBEDDING_DIM = 128\n",
        "HIDDEN_DIM = 256\n",
        "OUTPUT_DIM = 2\n",
        "N_LAYERS = 2\n",
        "BIDIRECTIONAL = True\n",
        "DROPOUT = 0.25\n",
        "\n",
        "TEXT = \"ไม่อร่อยเลย\""
      ],
      "metadata": {
        "id": "UFKYnFuG83EE"
      },
      "execution_count": null,
      "outputs": []
    },
    {
      "cell_type": "code",
      "source": [
        "import torch\n",
        "import torch.nn as nn\n",
        "import torch.optim as optim\n",
        "# Bert model and its tokenizer\n",
        "# Text data\n",
        "from torchtext import data, datasets\n",
        "# Numerical computation\n",
        "import numpy as np\n",
        "# standard library\n",
        "import random\n",
        "import time\n",
        "# Configuration\n",
        "#from config import *\n",
        "\n",
        "# Set random seed for reproducible experiments\n",
        "random.seed(SEED)\n",
        "np.random.seed(SEED)\n",
        "torch.manual_seed(SEED)\n",
        "torch.backends.cudnn.deterministic = True\n",
        "\n",
        "import pandas as pd\n",
        "import re\n",
        "import pandas as pd\n",
        "import numpy as np\n",
        "from sklearn.preprocessing import LabelEncoder\n",
        "from sklearn.model_selection import train_test_split\n",
        "from sklearn.metrics import classification_report\n",
        "from sklearn.metrics import accuracy_score\n",
        "import math\n",
        "import nltk\n",
        "from sklearn.feature_extraction.text import CountVectorizer\n",
        "from collections import defaultdict"
      ],
      "metadata": {
        "id": "f_l62MiZ86Nr"
      },
      "execution_count": null,
      "outputs": []
    },
    {
      "cell_type": "code",
      "source": [
        "from pythainlp.tokenize import word_tokenize\n",
        "import re\n",
        "\n",
        "def deEmojify(text):\n",
        "    regrex_pattern = re.compile(pattern = \"[\"\n",
        "        u\"\\U0001F600-\\U0001F64F\"  # emoticons\n",
        "        u\"\\U0001F300-\\U0001F5FF\"  # symbols & pictographs\n",
        "        u\"\\U0001F680-\\U0001F6FF\"  # transport & map symbols\n",
        "        u\"\\U0001F1E0-\\U0001F1FF\"  # flags (iOS)\n",
        "                           \"]+\", flags = re.UNICODE)\n",
        "    return regrex_pattern.sub(r'',text)\n",
        "\n",
        "def thai_clean_text(text):\n",
        "    st = \"\"\n",
        "\n",
        "    #สามารถเพิ่มโค้ด สำหรับคลีน ข้อความ เช่น ลบ emoji ออก เป็นต้น\n",
        "    text = deEmojify(text)\n",
        "    text = text.replace(\"\\n\",\" \")\n",
        "    for w in word_tokenize(text):\n",
        "        st = st + w + \" \"\n",
        "\n",
        "    return  re.sub(' +', ' ', st)\n",
        "\n",
        "df['text'] = df.text.apply(thai_clean_text)\n",
        "df = df.dropna()"
      ],
      "metadata": {
        "id": "3hAqXF_b9KZc"
      },
      "execution_count": null,
      "outputs": []
    },
    {
      "cell_type": "code",
      "source": [],
      "metadata": {
        "id": "W7_zXllzZaOe"
      },
      "execution_count": null,
      "outputs": []
    },
    {
      "cell_type": "code",
      "source": [
        "import numpy as np\n",
        "\n",
        "import time\n",
        "import random\n",
        "import functools\n",
        "import math\n",
        "\n",
        "from torchtext.data import Field, Dataset, Example\n",
        "import pandas as pd\n",
        "\n",
        "class DataFrameDataset(Dataset):\n",
        "    \"\"\"Class for using pandas DataFrames as a datasource\"\"\"\n",
        "    def __init__(self, examples, fields, filter_pred=None):\n",
        "        \"\"\"\n",
        "        Create a dataset from a pandas dataframe of examples and Fields\n",
        "        Arguments:\n",
        "            examples pd.DataFrame: DataFrame of examples\n",
        "            fields {str: Field}: The Fields to use in this tuple. The\n",
        "                string is a field name, and the Field is the associated field.\n",
        "            filter_pred (callable or None): use only exanples for which\n",
        "                filter_pred(example) is true, or use all examples if None.\n",
        "                Default is None\n",
        "        \"\"\"\n",
        "        self.examples = examples.apply(SeriesExample.fromSeries, args=(fields,), axis=1).tolist()\n",
        "        if filter_pred is not None:\n",
        "            self.examples = filter(filter_pred, self.examples)\n",
        "        self.fields = dict(fields)\n",
        "        # Unpack field tuples\n",
        "        for n, f in list(self.fields.items()):\n",
        "            if isinstance(n, tuple):\n",
        "                self.fields.update(zip(n, f))\n",
        "                del self.fields[n]\n",
        "\n",
        "class SeriesExample(Example):\n",
        "    \"\"\"Class to convert a pandas Series to an Example\"\"\"\n",
        "\n",
        "    @classmethod\n",
        "    def fromSeries(cls, data, fields):\n",
        "        return cls.fromdict(data.to_dict(), fields)\n",
        "\n",
        "    @classmethod\n",
        "    def fromdict(cls, data, fields):\n",
        "        ex = cls()\n",
        "\n",
        "        for key, field in fields.items():\n",
        "            if key not in data:\n",
        "                raise ValueError(\"Specified key {} was not found in \"\n",
        "                \"the input data\".format(key))\n",
        "            if field is not None:\n",
        "                setattr(ex, key, field.preprocess(data[key]))\n",
        "            else:\n",
        "                setattr(ex, key, data[key])\n",
        "        return ex"
      ],
      "metadata": {
        "id": "AM8ztVSt9Nyn"
      },
      "execution_count": null,
      "outputs": []
    },
    {
      "cell_type": "code",
      "source": [
        "reviews = df['text'].values\n",
        "labels = df['label'].values\n",
        "encoder = LabelEncoder()\n",
        "encoded_labels = encoder.fit_transform(labels)\n",
        "\n",
        "train_sentences, test_sentences, train_labels, test_labels = train_test_split(reviews, encoded_labels, stratify = encoded_labels,test_size=0.2, random_state=1234)"
      ],
      "metadata": {
        "id": "3r27CuEG9pZL"
      },
      "execution_count": null,
      "outputs": []
    },
    {
      "cell_type": "code",
      "source": [],
      "metadata": {
        "id": "9ytEG47296kq"
      },
      "execution_count": null,
      "outputs": []
    },
    {
      "cell_type": "code",
      "source": [
        "import pandas as pd\n",
        "import re\n",
        "import pandas as pd\n",
        "import numpy as np\n",
        "from sklearn.preprocessing import LabelEncoder\n",
        "from sklearn.model_selection import train_test_split\n",
        "from sklearn.metrics import classification_report\n",
        "from sklearn.metrics import accuracy_score\n",
        "import math\n",
        "import nltk\n",
        "from sklearn.feature_extraction.text import CountVectorizer\n",
        "from collections import defaultdict"
      ],
      "metadata": {
        "id": "mKF0No97-YhD"
      },
      "execution_count": null,
      "outputs": []
    },
    {
      "cell_type": "code",
      "source": [
        "init_token_id = 1  #เริ่มต้นประโยค\n",
        "pad_token_id = 0  #pad_id ตอนเทรนจะเติมเข้าไปกรณีบางประโยคสั้นกว่าประโยคอื่น\n",
        "unk_token_id=2 # กรณีไม่พบคำศัพท์จะแทนด้วย 2 นี้\n",
        "max_input_len = 512 # ความยาวสูงสุดที่โมเดลสามารภทำนายได้\n",
        "\n",
        "#create vocab_dict\n",
        "vocab = []\n",
        "for i in range( train_sentences.shape[0]):\n",
        "    ws = train_sentences[i].split(\" \")\n",
        "    for w in ws:\n",
        "        if w not in vocab:\n",
        "            vocab.append(w)\n"
      ],
      "metadata": {
        "id": "xvV0tGRO_pws"
      },
      "execution_count": null,
      "outputs": []
    },
    {
      "cell_type": "code",
      "source": [
        "vocab.sort()\n",
        "start_word_id = 3\n",
        "token_to_id = {val: (i+start_word_id) for i, val in enumerate(vocab)}\n",
        "\n",
        "token_to_id.update({'init_id': init_token_id, 'pad_id':pad_token_id,'unk_id':unk_token_id})"
      ],
      "metadata": {
        "id": "SNfSa9eOADKM"
      },
      "execution_count": null,
      "outputs": []
    },
    {
      "cell_type": "code",
      "source": [
        "# token_to_id"
      ],
      "metadata": {
        "id": "1BaX8LQsA1lb"
      },
      "execution_count": null,
      "outputs": []
    },
    {
      "cell_type": "code",
      "source": [
        "import json\n",
        "vocab_json_object = json.dumps(token_to_id)\n",
        "with open(\"token2idx.json\", \"w\") as outfile:\n",
        "    outfile.write(vocab_json_object)"
      ],
      "metadata": {
        "id": "3YIUCU86A2us"
      },
      "execution_count": null,
      "outputs": []
    },
    {
      "cell_type": "code",
      "source": [
        "device = torch.device(\"cuda\" if torch.cuda.is_available() else \"cpu\")\n",
        "print(\"Device available for running: \")\n",
        "print(device)"
      ],
      "metadata": {
        "id": "XXT5E5yMBhzt",
        "colab": {
          "base_uri": "https://localhost:8080/"
        },
        "outputId": "024319c3-e3fe-4866-8ccc-73f4bdceb638"
      },
      "execution_count": null,
      "outputs": [
        {
          "output_type": "stream",
          "name": "stdout",
          "text": [
            "Device available for running: \n",
            "cpu\n"
          ]
        }
      ]
    },
    {
      "cell_type": "code",
      "source": [
        "import json\n",
        "import numpy as np\n",
        "\n",
        "import time\n",
        "import random\n",
        "import functools\n",
        "import math\n",
        "\n",
        "from torchtext.data import Field, Dataset, Example,LabelField\n",
        "import pandas as pd\n",
        "\n",
        "# Tokensize and crop sentence to 510 (for 1st and last token) instead of 512 (i.e. `max_input_len`)\n",
        "def tokenize_and_crop(sentence):\n",
        "  #print(sentence)\n",
        "  tokens = sentence.split(\" \")\n",
        "  tokens = tokens[:max_input_len - 2]\n",
        "  return tokens\n",
        "\n",
        "def convert_tokens_to_ids(tokens):\n",
        "    out_id = []\n",
        "    for w in tokens:\n",
        "        if w in token_to_id.keys():\n",
        "            out_id.append(token_to_id[w])\n",
        "        else:\n",
        "            out_id.append(unk_token_id) #unk word\n",
        "    if len(out_id)==0:\n",
        "        return [0]\n",
        "    return out_id\n",
        "\n",
        "def load_data():\n",
        "  text = Field(\n",
        "    batch_first=True,\n",
        "    use_vocab=False,\n",
        "    tokenize=tokenize_and_crop,\n",
        "    preprocessing=convert_tokens_to_ids,\n",
        "    init_token=init_token_id,\n",
        "    pad_token=pad_token_id,\n",
        "    unk_token=unk_token_id\n",
        "  )\n",
        "\n",
        "  label = LabelField(dtype=torch.long)\n",
        "\n",
        "\n",
        "  fields = { 'text' : text, 'label' : label }\n",
        "\n",
        "  train_ds = DataFrameDataset(df, fields)\n",
        "  _train_data, _valid_data = train_ds.split(random_state=random.seed(1234))\n",
        "\n",
        "  #แบ่งครึ่งๆ\n",
        "  test_data,valid_data = _valid_data.split(random_state=random.seed(1234),split_ratio=0.5)\n",
        "\n",
        "\n",
        "  print(f\"training examples count: {len(_train_data)}\")\n",
        "  print(f\"test examples count: {len(test_data)}\")\n",
        "  print(f\"validation examples count: {len(valid_data)}\")\n",
        "\n",
        "  label.build_vocab(_train_data)\n",
        "\n",
        "  lab_data = {v: k for k, v in label.vocab.stoi.items()}\n",
        "  with open('idx2lab.json', 'w') as f:\n",
        "      json.dump(lab_data, f)\n",
        "\n",
        "\n",
        "\n",
        "  train_iter, valid_iter, test_iter = data.BucketIterator.splits(\n",
        "    (_train_data, valid_data, test_data),\n",
        "    batch_size=BATCH_SIZE,\n",
        "    device=device,\n",
        "    sort_key = lambda x: len(x.text),\n",
        "    sort_within_batch=True\n",
        "  )\n",
        "\n",
        "  return train_iter, valid_iter, test_iter"
      ],
      "metadata": {
        "id": "4g1TtRV8BdcB"
      },
      "execution_count": null,
      "outputs": []
    },
    {
      "cell_type": "code",
      "source": [
        "# Sentiment model contrain two-GRU layers for analyzing hidden representation\n",
        "# and a linear layer for classfification (the sigmoid is applied by the criterion during training).\n",
        "import torch.nn as nn\n",
        "\n",
        "class SentimentModel(nn.Module):\n",
        "  def __init__(\n",
        "    self,\n",
        "    vocab_size,\n",
        "    embedding_dim,\n",
        "    hidden_dim,\n",
        "    output_dim,\n",
        "    n_layers,\n",
        "    bidirectional,\n",
        "    dropout,\n",
        "    padding_id=0\n",
        "  ):\n",
        "\n",
        "    super(SentimentModel, self).__init__()\n",
        "\n",
        "    embedding_dim = embedding_dim\n",
        "    self.embedding = nn.Embedding(vocab_size, embedding_dim, padding_idx=padding_id)\n",
        "\n",
        "    self.rnn = nn.GRU(\n",
        "      embedding_dim,\n",
        "      hidden_dim,\n",
        "      num_layers=n_layers,\n",
        "      bidirectional=bidirectional,\n",
        "      batch_first=True,\n",
        "      dropout=0 if n_layers < 2 else dropout\n",
        "    )\n",
        "    self.out = nn.Linear(hidden_dim * 2 if bidirectional else hidden_dim, output_dim)\n",
        "    self.dropout = nn.Dropout(dropout)\n",
        "\n",
        "  def forward(self, text):\n",
        "\n",
        "    embedded = self.embedding(text)\n",
        "    _, hidden = self.rnn(embedded)\n",
        "\n",
        "    if self.rnn.bidirectional:\n",
        "      hidden = self.dropout(torch.cat((hidden[-2,:,:], hidden[-1,:,:]), dim = 1))\n",
        "    else:\n",
        "      hidden = self.dropout(hidden[-1,:,:])\n",
        "\n",
        "    output = self.out(hidden)\n",
        "    return output"
      ],
      "metadata": {
        "id": "LF-df9iyBlT7"
      },
      "execution_count": null,
      "outputs": []
    },
    {
      "cell_type": "code",
      "source": [
        "load_data()"
      ],
      "metadata": {
        "id": "BeWGP_DNDyhL",
        "colab": {
          "base_uri": "https://localhost:8080/"
        },
        "outputId": "c7764440-9f9c-4a9f-d78a-38431824392f"
      },
      "execution_count": null,
      "outputs": [
        {
          "output_type": "stream",
          "name": "stdout",
          "text": [
            "training examples count: 8121\n",
            "test examples count: 1740\n",
            "validation examples count: 1740\n"
          ]
        },
        {
          "output_type": "execute_result",
          "data": {
            "text/plain": [
              "(<torchtext.data.iterator.BucketIterator at 0x7a5111169cc0>,\n",
              " <torchtext.data.iterator.BucketIterator at 0x7a5111169d80>,\n",
              " <torchtext.data.iterator.BucketIterator at 0x7a5111169e10>)"
            ]
          },
          "metadata": {},
          "execution_count": 18
        }
      ]
    },
    {
      "cell_type": "code",
      "source": [
        "ข้าม\n",
        "# Sentiment model contrain two-GRU layers for analyzing hidden representation\n",
        "# and a linear layer for classfification (the sigmoid is applied by the criterion during training).\n",
        "import torch.nn as nn\n",
        "\n",
        "class SentimentModel(nn.Module):\n",
        "  def __init__(\n",
        "    self,\n",
        "    vocab_size,\n",
        "    embedding_dim,\n",
        "    hidden_dim,\n",
        "    output_dim,\n",
        "    n_layers,\n",
        "    bidirectional,\n",
        "    dropout,\n",
        "    padding_id=0\n",
        "  ):\n",
        "\n",
        "    super(SentimentModel, self).__init__()\n",
        "\n",
        "    embedding_dim = embedding_dim\n",
        "    self.embedding = nn.Embedding(vocab_size, embedding_dim, padding_idx=padding_id)\n",
        "\n",
        "    self.rnn = nn.GRU(\n",
        "      embedding_dim,\n",
        "      hidden_dim,\n",
        "      num_layers=n_layers,\n",
        "      bidirectional=bidirectional,\n",
        "      batch_first=True,\n",
        "      dropout=0 if n_layers < 2 else dropout\n",
        "    )\n",
        "    self.out = nn.Linear(hidden_dim * 2 if bidirectional else hidden_dim, output_dim)\n",
        "    self.dropout = nn.Dropout(dropout)\n",
        "\n",
        "  def forward(self, text):\n",
        "\n",
        "    embedded = self.embedding(text)\n",
        "    _, hidden = self.rnn(embedded)\n",
        "\n",
        "    if self.rnn.bidirectional:\n",
        "      hidden = self.dropout(torch.cat((hidden[-2,:,:], hidden[-1,:,:]), dim = 1))\n",
        "    else:\n",
        "      hidden = self.dropout(hidden[-1,:,:])\n",
        "\n",
        "    output = self.out(hidden)\n",
        "    return output"
      ],
      "metadata": {
        "id": "iL7T7_2FFAZC"
      },
      "execution_count": null,
      "outputs": []
    },
    {
      "cell_type": "code",
      "source": [
        "vocab_size = len(vocab) + 3"
      ],
      "metadata": {
        "id": "_DyZyB8cFEEC"
      },
      "execution_count": null,
      "outputs": []
    },
    {
      "cell_type": "code",
      "source": [
        "model = SentimentModel(\n",
        "  vocab_size,\n",
        "  EMBEDDING_DIM,\n",
        "  HIDDEN_DIM,\n",
        "  OUTPUT_DIM,\n",
        "  N_LAYERS,\n",
        "  BIDIRECTIONAL,\n",
        "  DROPOUT\n",
        ")\n",
        "print(model)\n",
        "pytorch_total_params = sum(p.numel() for p in model.parameters())\n",
        "pytorch_total_params"
      ],
      "metadata": {
        "id": "ch5oFFOUFClX",
        "colab": {
          "base_uri": "https://localhost:8080/"
        },
        "outputId": "07ce93bd-bf84-43b4-c7a0-4931e92b23c0"
      },
      "execution_count": null,
      "outputs": [
        {
          "output_type": "stream",
          "name": "stdout",
          "text": [
            "SentimentModel(\n",
            "  (embedding): Embedding(14091, 128, padding_idx=0)\n",
            "  (rnn): GRU(128, 256, num_layers=2, batch_first=True, dropout=0.25, bidirectional=True)\n",
            "  (out): Linear(in_features=512, out_features=2, bias=True)\n",
            "  (dropout): Dropout(p=0.25, inplace=False)\n",
            ")\n"
          ]
        },
        {
          "output_type": "execute_result",
          "data": {
            "text/plain": [
              "3580290"
            ]
          },
          "metadata": {},
          "execution_count": 20
        }
      ]
    },
    {
      "cell_type": "code",
      "source": [
        "from tqdm import tqdm\n",
        "# time taken for single epoch\n",
        "def epoch_time(start_time, end_time):\n",
        "  elapsed_time = end_time - start_time\n",
        "  elapsed_mins = int(elapsed_time / 60)\n",
        "  elapsed_secs = int(elapsed_time - (elapsed_mins * 60))\n",
        "  return elapsed_mins, elapsed_secs\n",
        "\n",
        "# computes accuracy\n",
        "def calculate_accuracy2(y_pred,y_true):\n",
        "  y_pred = torch.round(y_pred)\n",
        "  #print(y_pred.argmax(-1))\n",
        "  correct = (y_true == y_pred.argmax(-1)).float()\n",
        "  acc = correct.sum() / len(correct)\n",
        "  return acc\n",
        "\n",
        "# def binary_accuracy(preds, y):\n",
        "#   rounded_preds = torch.round(torch.sigmoid(preds))\n",
        "#   correct = (rounded_preds == y).float()\n",
        "#   acc = correct.sum() / len(correct)\n",
        "#   return acc\n",
        "\n",
        "# training step\n",
        "def train(model, iterator, optimizer, criterion):\n",
        "  # stats\n",
        "  epoch_loss = 0\n",
        "  epoch_acc = 0\n",
        "  # train mode\n",
        "  model.train()\n",
        "\n",
        "  for batch in tqdm(iterator):\n",
        "    # train step\n",
        "    optimizer.zero_grad()\n",
        "    #print(batch.review)\n",
        "    predictions = model(batch.text).squeeze(1)\n",
        "    loss = criterion(predictions, batch.label)\n",
        "    acc = calculate_accuracy2(predictions, batch.label)\n",
        "    loss.backward()\n",
        "    optimizer.step()\n",
        "    # stats\n",
        "    epoch_loss += loss.item()\n",
        "    epoch_acc += acc.item()\n",
        "\n",
        "  return epoch_loss / len(iterator), epoch_acc / len(iterator)\n",
        "\n",
        "# evaluates the model on given iterator (either\n",
        "# train_iter, valid_iter, or test_iter)\n",
        "def evaluate(model, iterator, criterion):\n",
        "\n",
        "  epoch_loss = 0\n",
        "  epoch_acc = 0\n",
        "  # evaluation mode\n",
        "  model.eval()\n",
        "\n",
        "  with torch.no_grad():\n",
        "    for batch in iterator:\n",
        "       #print(batch.text.shape)\n",
        "       predictions = model(batch.text).squeeze(1)\n",
        "       loss = criterion(predictions, batch.label)\n",
        "       acc = calculate_accuracy2(predictions, batch.label)\n",
        "       epoch_loss += loss.item()\n",
        "       epoch_acc += acc.item()\n",
        "\n",
        "  return epoch_loss / len(iterator), epoch_acc / len(iterator)"
      ],
      "metadata": {
        "id": "aNukx256FKPx"
      },
      "execution_count": null,
      "outputs": []
    },
    {
      "cell_type": "code",
      "source": [
        "train_iter, valid_iter, test_iter = load_data()\n",
        "\n",
        "optimizer = optim.Adam(model.parameters())\n",
        "criterion = nn.CrossEntropyLoss().to(device)\n",
        "model = model.to(device)\n",
        "\n",
        "best_valid_loss = float('inf')\n",
        "\n",
        "for epoch in range(N_EPOCHS):\n",
        "  # start time\n",
        "  start_time = time.time()\n",
        "  # train for an epoch\n",
        "  train_loss, train_acc = train(model, train_iter, optimizer, criterion)\n",
        "  valid_loss, valid_acc = evaluate(model, valid_iter, criterion)\n",
        "  # end time\n",
        "  end_time = time.time()\n",
        "  # stats\n",
        "  epoch_mins, epoch_secs = epoch_time(start_time, end_time)\n",
        "  # save model if has validation loss\n",
        "  # better than last one\n",
        "  if valid_loss < best_valid_loss:\n",
        "    best_valid_loss = valid_loss\n",
        "    torch.save(model.state_dict(), 'sentiment_model_gru.pt')\n",
        "  # stats\n",
        "  print(f'Epoch: {epoch+1:02}/{N_EPOCHS} | Epoch Time: {epoch_mins}m {epoch_secs}s')\n",
        "  print(f'\\tTrain Loss: {train_loss:.3f} | Train Acc: {train_acc*100:.2f}%')\n",
        "  print(f'\\t Val. Loss: {valid_loss:.3f} |  Val. Acc: {valid_acc*100:.2f}%')"
      ],
      "metadata": {
        "id": "ZRtC_evwFSMV",
        "colab": {
          "base_uri": "https://localhost:8080/",
          "height": 495
        },
        "outputId": "e3a58f23-3087-4d77-9126-212ed644aa99"
      },
      "execution_count": null,
      "outputs": [
        {
          "output_type": "stream",
          "name": "stdout",
          "text": [
            "training examples count: 8121\n",
            "test examples count: 1740\n",
            "validation examples count: 1740\n"
          ]
        },
        {
          "output_type": "stream",
          "name": "stderr",
          "text": [
            "100%|██████████| 127/127 [02:27<00:00,  1.16s/it]\n"
          ]
        },
        {
          "output_type": "stream",
          "name": "stdout",
          "text": [
            "Epoch: 01/10 | Epoch Time: 2m 30s\n",
            "\tTrain Loss: 0.525 | Train Acc: 72.11%\n",
            "\t Val. Loss: 0.471 |  Val. Acc: 71.89%\n"
          ]
        },
        {
          "output_type": "stream",
          "name": "stderr",
          "text": [
            "  9%|▊         | 11/127 [00:42<07:23,  3.82s/it]\n"
          ]
        },
        {
          "output_type": "error",
          "ename": "KeyboardInterrupt",
          "evalue": "",
          "traceback": [
            "\u001b[0;31m---------------------------------------------------------------------------\u001b[0m",
            "\u001b[0;31mKeyboardInterrupt\u001b[0m                         Traceback (most recent call last)",
            "\u001b[0;32m<ipython-input-22-d82da7c093a0>\u001b[0m in \u001b[0;36m<cell line: 9>\u001b[0;34m()\u001b[0m\n\u001b[1;32m     11\u001b[0m   \u001b[0mstart_time\u001b[0m \u001b[0;34m=\u001b[0m \u001b[0mtime\u001b[0m\u001b[0;34m.\u001b[0m\u001b[0mtime\u001b[0m\u001b[0;34m(\u001b[0m\u001b[0;34m)\u001b[0m\u001b[0;34m\u001b[0m\u001b[0;34m\u001b[0m\u001b[0m\n\u001b[1;32m     12\u001b[0m   \u001b[0;31m# train for an epoch\u001b[0m\u001b[0;34m\u001b[0m\u001b[0;34m\u001b[0m\u001b[0m\n\u001b[0;32m---> 13\u001b[0;31m   \u001b[0mtrain_loss\u001b[0m\u001b[0;34m,\u001b[0m \u001b[0mtrain_acc\u001b[0m \u001b[0;34m=\u001b[0m \u001b[0mtrain\u001b[0m\u001b[0;34m(\u001b[0m\u001b[0mmodel\u001b[0m\u001b[0;34m,\u001b[0m \u001b[0mtrain_iter\u001b[0m\u001b[0;34m,\u001b[0m \u001b[0moptimizer\u001b[0m\u001b[0;34m,\u001b[0m \u001b[0mcriterion\u001b[0m\u001b[0;34m)\u001b[0m\u001b[0;34m\u001b[0m\u001b[0;34m\u001b[0m\u001b[0m\n\u001b[0m\u001b[1;32m     14\u001b[0m   \u001b[0mvalid_loss\u001b[0m\u001b[0;34m,\u001b[0m \u001b[0mvalid_acc\u001b[0m \u001b[0;34m=\u001b[0m \u001b[0mevaluate\u001b[0m\u001b[0;34m(\u001b[0m\u001b[0mmodel\u001b[0m\u001b[0;34m,\u001b[0m \u001b[0mvalid_iter\u001b[0m\u001b[0;34m,\u001b[0m \u001b[0mcriterion\u001b[0m\u001b[0;34m)\u001b[0m\u001b[0;34m\u001b[0m\u001b[0;34m\u001b[0m\u001b[0m\n\u001b[1;32m     15\u001b[0m   \u001b[0;31m# end time\u001b[0m\u001b[0;34m\u001b[0m\u001b[0;34m\u001b[0m\u001b[0m\n",
            "\u001b[0;32m<ipython-input-21-a2b7a808e8db>\u001b[0m in \u001b[0;36mtrain\u001b[0;34m(model, iterator, optimizer, criterion)\u001b[0m\n\u001b[1;32m     36\u001b[0m     \u001b[0mloss\u001b[0m \u001b[0;34m=\u001b[0m \u001b[0mcriterion\u001b[0m\u001b[0;34m(\u001b[0m\u001b[0mpredictions\u001b[0m\u001b[0;34m,\u001b[0m \u001b[0mbatch\u001b[0m\u001b[0;34m.\u001b[0m\u001b[0mlabel\u001b[0m\u001b[0;34m)\u001b[0m\u001b[0;34m\u001b[0m\u001b[0;34m\u001b[0m\u001b[0m\n\u001b[1;32m     37\u001b[0m     \u001b[0macc\u001b[0m \u001b[0;34m=\u001b[0m \u001b[0mcalculate_accuracy2\u001b[0m\u001b[0;34m(\u001b[0m\u001b[0mpredictions\u001b[0m\u001b[0;34m,\u001b[0m \u001b[0mbatch\u001b[0m\u001b[0;34m.\u001b[0m\u001b[0mlabel\u001b[0m\u001b[0;34m)\u001b[0m\u001b[0;34m\u001b[0m\u001b[0;34m\u001b[0m\u001b[0m\n\u001b[0;32m---> 38\u001b[0;31m     \u001b[0mloss\u001b[0m\u001b[0;34m.\u001b[0m\u001b[0mbackward\u001b[0m\u001b[0;34m(\u001b[0m\u001b[0;34m)\u001b[0m\u001b[0;34m\u001b[0m\u001b[0;34m\u001b[0m\u001b[0m\n\u001b[0m\u001b[1;32m     39\u001b[0m     \u001b[0moptimizer\u001b[0m\u001b[0;34m.\u001b[0m\u001b[0mstep\u001b[0m\u001b[0;34m(\u001b[0m\u001b[0;34m)\u001b[0m\u001b[0;34m\u001b[0m\u001b[0;34m\u001b[0m\u001b[0m\n\u001b[1;32m     40\u001b[0m     \u001b[0;31m# stats\u001b[0m\u001b[0;34m\u001b[0m\u001b[0;34m\u001b[0m\u001b[0m\n",
            "\u001b[0;32m/usr/local/lib/python3.10/dist-packages/torch/_tensor.py\u001b[0m in \u001b[0;36mbackward\u001b[0;34m(self, gradient, retain_graph, create_graph, inputs)\u001b[0m\n\u001b[1;32m    490\u001b[0m                 \u001b[0minputs\u001b[0m\u001b[0;34m=\u001b[0m\u001b[0minputs\u001b[0m\u001b[0;34m,\u001b[0m\u001b[0;34m\u001b[0m\u001b[0;34m\u001b[0m\u001b[0m\n\u001b[1;32m    491\u001b[0m             )\n\u001b[0;32m--> 492\u001b[0;31m         torch.autograd.backward(\n\u001b[0m\u001b[1;32m    493\u001b[0m             \u001b[0mself\u001b[0m\u001b[0;34m,\u001b[0m \u001b[0mgradient\u001b[0m\u001b[0;34m,\u001b[0m \u001b[0mretain_graph\u001b[0m\u001b[0;34m,\u001b[0m \u001b[0mcreate_graph\u001b[0m\u001b[0;34m,\u001b[0m \u001b[0minputs\u001b[0m\u001b[0;34m=\u001b[0m\u001b[0minputs\u001b[0m\u001b[0;34m\u001b[0m\u001b[0;34m\u001b[0m\u001b[0m\n\u001b[1;32m    494\u001b[0m         )\n",
            "\u001b[0;32m/usr/local/lib/python3.10/dist-packages/torch/autograd/__init__.py\u001b[0m in \u001b[0;36mbackward\u001b[0;34m(tensors, grad_tensors, retain_graph, create_graph, grad_variables, inputs)\u001b[0m\n\u001b[1;32m    249\u001b[0m     \u001b[0;31m# some Python versions print out the first line of a multi-line function\u001b[0m\u001b[0;34m\u001b[0m\u001b[0;34m\u001b[0m\u001b[0m\n\u001b[1;32m    250\u001b[0m     \u001b[0;31m# calls in the traceback and some print out the last line\u001b[0m\u001b[0;34m\u001b[0m\u001b[0;34m\u001b[0m\u001b[0m\n\u001b[0;32m--> 251\u001b[0;31m     Variable._execution_engine.run_backward(  # Calls into the C++ engine to run the backward pass\n\u001b[0m\u001b[1;32m    252\u001b[0m         \u001b[0mtensors\u001b[0m\u001b[0;34m,\u001b[0m\u001b[0;34m\u001b[0m\u001b[0;34m\u001b[0m\u001b[0m\n\u001b[1;32m    253\u001b[0m         \u001b[0mgrad_tensors_\u001b[0m\u001b[0;34m,\u001b[0m\u001b[0;34m\u001b[0m\u001b[0;34m\u001b[0m\u001b[0m\n",
            "\u001b[0;31mKeyboardInterrupt\u001b[0m: "
          ]
        }
      ]
    },
    {
      "cell_type": "code",
      "source": [
        "valid_loss, valid_acc = evaluate(model, valid_iter, criterion)"
      ],
      "metadata": {
        "id": "vbTSjpvFib0E"
      },
      "execution_count": null,
      "outputs": []
    },
    {
      "cell_type": "code",
      "source": [],
      "metadata": {
        "id": "rst2IYsKA6qX"
      },
      "execution_count": null,
      "outputs": []
    },
    {
      "cell_type": "markdown",
      "source": [
        "## Export Model to ONNX\n",
        "\n",
        "ส่วนนี้จะเป็นตัวอย่างการนำตัวโมเดลไปใช้งาน ปกติเราก็จะทำการ export เอาเฉพาะโมเดลไปใช้งาน คือวิธีนี้จะทำให้เรานำโมเดลไปใช้งานโดยไม่ต้องลง pytorch ลงแค่ onnx เราก็จะสามารถนำไปใช้งานได้เลย เดี๋ยวมาลองทำกัน"
      ],
      "metadata": {
        "id": "_M_OUWwuaAg4"
      }
    },
    {
      "cell_type": "code",
      "source": [
        "!pip install onnxruntime\n",
        "!pip install onnx"
      ],
      "metadata": {
        "id": "YG6pbhNIgnMf",
        "colab": {
          "base_uri": "https://localhost:8080/"
        },
        "outputId": "b608c0bf-4a60-407d-807f-f0a7ee277a6a"
      },
      "execution_count": null,
      "outputs": [
        {
          "output_type": "stream",
          "name": "stdout",
          "text": [
            "Requirement already satisfied: onnxruntime in /usr/local/lib/python3.10/dist-packages (1.17.0)\n",
            "Requirement already satisfied: coloredlogs in /usr/local/lib/python3.10/dist-packages (from onnxruntime) (15.0.1)\n",
            "Requirement already satisfied: flatbuffers in /usr/local/lib/python3.10/dist-packages (from onnxruntime) (23.5.26)\n",
            "Requirement already satisfied: numpy>=1.21.6 in /usr/local/lib/python3.10/dist-packages (from onnxruntime) (1.25.2)\n",
            "Requirement already satisfied: packaging in /usr/local/lib/python3.10/dist-packages (from onnxruntime) (23.2)\n",
            "Requirement already satisfied: protobuf in /usr/local/lib/python3.10/dist-packages (from onnxruntime) (3.20.3)\n",
            "Requirement already satisfied: sympy in /usr/local/lib/python3.10/dist-packages (from onnxruntime) (1.12)\n",
            "Requirement already satisfied: humanfriendly>=9.1 in /usr/local/lib/python3.10/dist-packages (from coloredlogs->onnxruntime) (10.0)\n",
            "Requirement already satisfied: mpmath>=0.19 in /usr/local/lib/python3.10/dist-packages (from sympy->onnxruntime) (1.3.0)\n",
            "Collecting onnx\n",
            "  Downloading onnx-1.15.0-cp310-cp310-manylinux_2_17_x86_64.manylinux2014_x86_64.whl (15.7 MB)\n",
            "\u001b[2K     \u001b[90m━━━━━━━━━━━━━━━━━━━━━━━━━━━━━━━━━━━━━━━━\u001b[0m \u001b[32m15.7/15.7 MB\u001b[0m \u001b[31m41.3 MB/s\u001b[0m eta \u001b[36m0:00:00\u001b[0m\n",
            "\u001b[?25hRequirement already satisfied: numpy in /usr/local/lib/python3.10/dist-packages (from onnx) (1.25.2)\n",
            "Requirement already satisfied: protobuf>=3.20.2 in /usr/local/lib/python3.10/dist-packages (from onnx) (3.20.3)\n",
            "Installing collected packages: onnx\n",
            "Successfully installed onnx-1.15.0\n"
          ]
        }
      ]
    },
    {
      "cell_type": "code",
      "source": [
        "import torch.onnx as onnx\n",
        "import torch"
      ],
      "metadata": {
        "id": "sZVSbJXDZndL"
      },
      "execution_count": null,
      "outputs": []
    },
    {
      "cell_type": "code",
      "source": [
        "\n",
        "x = torch.tensor([[init_token_id, 5 , 6 , 7],[init_token_id, 4 , 6 , 7],[init_token_id, 4 , 6 , 7]]) #id ของคำ\n",
        "print(x)\n",
        "# Export the model to ONNX format\n",
        "onnx.export(model, x, \"sentiment_model.onnx\",\n",
        "            input_names=[\"input\"], #กำหนด ชื่อ input ตอน inference\n",
        "            output_names=[\"output\"], #กำหนด ชือ output\n",
        "            dynamic_axes={ \"input\": [0,1]})\n",
        "\n",
        "# Load the exported model using onnxruntime\n",
        "sess = onnxruntime.InferenceSession(\"sentiment_model.onnx\")\n",
        "\n",
        "# Perform inference using the exported model\n",
        "input_name = sess.get_inputs()[0].name\n",
        "output_name = sess.get_outputs()[0].name\n",
        "result = sess.run([output_name], {input_name: x.numpy()})\n",
        "print(result[0])\n",
        "lab_index = np.argmax(result[0],axis=1)\n",
        "print(result)\n",
        "print(lab_index)\n",
        "print(input_name)"
      ],
      "metadata": {
        "id": "rDHw4nT6hjK0",
        "colab": {
          "base_uri": "https://localhost:8080/"
        },
        "outputId": "488c3daf-9a2b-4ed5-fa8b-588202098bc3"
      },
      "execution_count": null,
      "outputs": [
        {
          "output_type": "stream",
          "name": "stdout",
          "text": [
            "tensor([[1, 5, 6, 7],\n",
            "        [1, 4, 6, 7],\n",
            "        [1, 4, 6, 7]])\n"
          ]
        },
        {
          "output_type": "stream",
          "name": "stderr",
          "text": [
            "/usr/local/lib/python3.10/dist-packages/torch/onnx/utils.py:2082: UserWarning: No names were found for specified dynamic axes of provided input.Automatically generated names will be applied to each dynamic axes of input input\n",
            "  warnings.warn(\n",
            "/usr/local/lib/python3.10/dist-packages/torch/onnx/symbolic_opset9.py:4661: UserWarning: Exporting a model to ONNX with a batch_size other than 1, with a variable length with GRU can cause an error when running the ONNX model with a different batch size. Make sure to save the model with a batch size of 1, or define the initial states (h0/c0) as inputs of the model. \n",
            "  warnings.warn(\n"
          ]
        },
        {
          "output_type": "stream",
          "name": "stdout",
          "text": [
            "[[-0.42956775  0.63244355]\n",
            " [-0.4971882   0.59263957]\n",
            " [-0.4971882   0.59263957]]\n",
            "[array([[-0.42956775,  0.63244355],\n",
            "       [-0.4971882 ,  0.59263957],\n",
            "       [-0.4971882 ,  0.59263957]], dtype=float32)]\n",
            "[1 1 1]\n",
            "input\n"
          ]
        }
      ]
    },
    {
      "cell_type": "code",
      "source": [
        "# Load the exported model using onnxruntime\n",
        "sess = onnxruntime.InferenceSession(\"sentiment_model.onnx\")\n",
        "\n",
        "# Perform inference using the exported model\n",
        "input_name = sess.get_inputs()[0].name\n",
        "output_name = sess.get_outputs()[0].name\n",
        "print(input_name,output_name,)\n",
        "result = sess.run([output_name], {input_name: x.numpy()})\n",
        "print(result[0])\n",
        "lab_index = np.argmax(result[0],axis=1)\n",
        "print(result)\n",
        "print(lab_index)\n",
        "print(input_name)"
      ],
      "metadata": {
        "id": "vQtnFqsBYfmc",
        "colab": {
          "base_uri": "https://localhost:8080/"
        },
        "outputId": "6eee4dd8-1203-43f0-b06d-36c069412802"
      },
      "execution_count": null,
      "outputs": [
        {
          "output_type": "stream",
          "name": "stdout",
          "text": [
            "input output\n",
            "[[-0.42956775  0.63244355]\n",
            " [-0.4971882   0.59263957]\n",
            " [-0.4971882   0.59263957]]\n",
            "[array([[-0.42956775,  0.63244355],\n",
            "       [-0.4971882 ,  0.59263957],\n",
            "       [-0.4971882 ,  0.59263957]], dtype=float32)]\n",
            "[1 1 1]\n",
            "input\n"
          ]
        }
      ]
    },
    {
      "cell_type": "markdown",
      "source": [
        "## Create Web API\n",
        "\n",
        "ในส่วนนี้เราก็จะนำโมเดลไปทำเป็น Web API โดยเราจะสร้าง Server มาหนึ่งแล้วจะลองทำหน้าเรียกใช้งานเว็บ Sentiment Analysis ของเรา\n",
        "\n",
        "หมายเหตุ   โค้ดส่วนนี้รันที่ Server นะครับ"
      ],
      "metadata": {
        "id": "UpQWeu7WjdaF"
      }
    },
    {
      "cell_type": "code",
      "source": [
        "#onnxruntime อาจจะลงใน version ใหม่ๆ ไม่ได้ เวอร์ชัน 3.9 work อยู่\n",
        "!pip install fastapi uvicorn onnxruntime"
      ],
      "metadata": {
        "id": "1GxIfcBxYwAl"
      },
      "execution_count": null,
      "outputs": []
    },
    {
      "cell_type": "code",
      "source": [
        "from fastapi import FastAPI\n",
        "from pydantic import BaseModel\n",
        "import numpy as np\n",
        "import onnxruntime\n",
        "import uvicorn\n",
        "import json\n",
        "from pythainlp.tokenize import word_tokenize\n",
        "import re\n",
        "import os\n",
        "from fastapi.middleware.cors import CORSMiddleware\n",
        "\n",
        "origins = [\n",
        "    \"http://localhost\",\n",
        "    \"http://localhost:8080\",\n",
        "]\n",
        "\n",
        "app = FastAPI()\n",
        "\n",
        "app.add_middleware(\n",
        "    CORSMiddleware,\n",
        "    allow_origins=origins,\n",
        "    allow_credentials=True,\n",
        "    allow_methods=[\"*\"],\n",
        "    allow_headers=[\"*\"],\n",
        ")\n",
        "\n",
        "init_token_id = 1  #เริ่มต้นประโยค\n",
        "pad_token_id = 0  #pad_id ตอนเทรนจะเติมเข้าไปกรณีบางประโยคสั้นกว่าประโยคอื่น\n",
        "unk_token_id=2 # กรณีไม่พบคำศัพท์จะแทนด้วย 2 นี้\n",
        "\n",
        "\n",
        "\n",
        "model_dir = 'model'\n",
        "model = onnxruntime.InferenceSession(os.path.join(model_dir,\"sentiment_model.onnx\"))\n",
        "\n",
        "def read_json(fname):\n",
        "    with open(fname) as f:\n",
        "        data = json.load(f)\n",
        "        return data\n",
        "\n",
        "token_to_id = read_json(os.path.join(model_dir,'token2idx.json'))\n",
        "ids_to_labs  = read_json(os.path.join(model_dir,'idx2lab.json'))\n",
        "\n",
        "def tokens_to_ids(tokens):\n",
        "    out_id = [init_token_id]\n",
        "    for w in tokens:\n",
        "        if w in token_to_id.keys():\n",
        "            out_id.append(token_to_id[w])\n",
        "        else:\n",
        "            out_id.append(unk_token_id) #unk word\n",
        "    if len(out_id)==0:\n",
        "        return [0]\n",
        "    return out_id\n",
        "\n",
        "\n",
        "\n",
        "def deEmojify(text):\n",
        "    regrex_pattern = re.compile(pattern = \"[\"\n",
        "        u\"\\U0001F600-\\U0001F64F\"  # emoticons\n",
        "        u\"\\U0001F300-\\U0001F5FF\"  # symbols & pictographs\n",
        "        u\"\\U0001F680-\\U0001F6FF\"  # transport & map symbols\n",
        "        u\"\\U0001F1E0-\\U0001F1FF\"  # flags (iOS)\n",
        "                           \"]+\", flags = re.UNICODE)\n",
        "    return regrex_pattern.sub(r'',text)\n",
        "\n",
        "def thai_clean_text(text):\n",
        "    st = \"\"\n",
        "    #สามารถเพิ่มโค้ด สำหรับคลีน ข้อความ เช่น ลบ emoji ออก เป็นต้น\n",
        "    text = deEmojify(text)\n",
        "    text = text.replace(\"\\n\",\" \")\n",
        "    for w in word_tokenize(text):\n",
        "        st = st + w + \" \"\n",
        "\n",
        "    return  re.sub(' +', ' ', st).strip()\n",
        "\n",
        "\n",
        "class PredictionInput(BaseModel):\n",
        "    text: str\n",
        "\n",
        "@app.post(\"/predict\")\n",
        "async def predict(input: PredictionInput):\n",
        "\n",
        "\n",
        "    #convert text to id\n",
        "    clean_text = thai_clean_text(input.text)\n",
        "    token_ids = tokens_to_ids(clean_text.split(' '))\n",
        "    input_data = np.array([token_ids])\n",
        "\n",
        "    print('input :',input_data)\n",
        "\n",
        "    input_name = model.get_inputs()[0].name\n",
        "    output_name = model.get_outputs()[0].name\n",
        "    result = model.run([output_name], {input_name: input_data.astype(np.int64)})\n",
        "\n",
        "    lab_index = np.argmax(result[0],axis=1)\n",
        "    label = ids_to_labs[str(lab_index[0])]\n",
        "    print('result :', result,label)\n",
        "    return {\"prediction\": label}\n",
        "\n",
        "\n",
        "if __name__ == \"__main__\":\n",
        "    uvicorn.run(\"server:app\", host=\"0.0.0.0\", port=3000, reload=True)"
      ],
      "metadata": {
        "id": "yVdLppP9Y7sG"
      },
      "execution_count": null,
      "outputs": []
    },
    {
      "cell_type": "markdown",
      "source": [
        "ก่อนจะรันอย่าลืมคัดลอกไฟล์โมเดลต่างๆ ไปวางให้ได้หน้าตาตามรูป\n",
        "\n",
        "![image.png](data:image/png;base64,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)"
      ],
      "metadata": {
        "id": "CVq_tnfuljct"
      }
    },
    {
      "cell_type": "markdown",
      "source": [
        "รันคำสั่งที่ เครื่องตัวเอง\n",
        "\n",
        "![image.png](data:image/png;base64,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)"
      ],
      "metadata": {
        "id": "XUjrztcxlMxV"
      }
    },
    {
      "cell_type": "markdown",
      "source": [
        "จากนั้ก็ลองเข้าหน้าเว็บเพื่อทดสอบ"
      ],
      "metadata": {
        "id": "ea_3IK4fldJ7"
      }
    },
    {
      "cell_type": "markdown",
      "source": [
        "## สร้างหน้าเว็บเพื่อเรียกใช้้ API อย่างง่าย"
      ],
      "metadata": {
        "id": "n31t5x_t55FO"
      }
    },
    {
      "cell_type": "markdown",
      "source": [
        "ลองสร้างไฟล์ index.html แล้วเพิ่มโค้ด ดังนี้เพื่อเรียกใช้งาน API\n",
        "\n",
        "```\n",
        "<!DOCTYPE html>\n",
        "<html lang=\"en\">\n",
        "<head>\n",
        "  <meta charset=\"UTF-8\">\n",
        "  <title>Thai Sentiment Analysis</title>\n",
        "  <!-- Bootstrap CSS -->\n",
        "  <link href=\"https://cdn.jsdelivr.net/npm/bootstrap@5.0.2/dist/css/bootstrap.min.css\" rel=\"stylesheet\" integrity=\"sha384-EVSTQN3/azprG1Anm3QDgpJLIm9Nao0Yz1ztcQTwFspd3yD65VohhpuuCOmLASjC\" crossorigin=\"anonymous\">\n",
        "\n",
        "<style>\n",
        ".Positive{\n",
        "    color: #28B463\n",
        "}\n",
        ".Negative{\n",
        "    color: #E74C3C  \n",
        "}\n",
        "\n",
        ".result{\n",
        "    font-size: 24px;\n",
        "}\n",
        "</style>\n",
        "\n",
        "</head>\n",
        "<body>\n",
        "  <div class=\"container mt-5\">\n",
        "  <h1>Thai Sentiment Analysis</h1>\n",
        "    <form id=\"myForm\">\n",
        "      <div class=\"mb-3 mt-5\">\n",
        "        <label for=\"input-text\" class=\"form-label\">Enter some text:</label>\n",
        "        <textarea type=\"text\" class=\"form-control\" id=\"input-text\" placeholder=\"Type here...\"> </textarea>\n",
        "        <div calss=\"result\" id=\"result\"></div>\n",
        "      </div>\n",
        "      <button type=\"submit\" class=\"btn btn-primary\">Submit</button>\n",
        "    </form>\n",
        "  </div>\n",
        "  <!-- Bootstrap JavaScript -->\n",
        "  <script src=\"https://cdn.jsdelivr.net/npm/bootstrap@5.0.2/dist/js/bootstrap.bundle.min.js\" integrity=\"sha384-MrcW6ZMFYlzcLA8Nl+NtUVF0sA7MsXsP1UyJoMp4YLEuNSfAP+JcXn/tWtIaxVXM\" crossorigin=\"anonymous\"></script>\n",
        "  <!-- jQuery -->\n",
        "  <script src=\"https://code.jquery.com/jquery-3.6.4.min.js\" crossorigin=\"anonymous\" referrerpolicy=\"no-referrer\"></script>\n",
        "  \n",
        "  <script>\n",
        "    $(document).ready(function() {\n",
        "      $(\"#myForm\").submit(function(event) {\n",
        "        event.preventDefault(); // Prevent form from submitting normally\n",
        "        var inputText = $(\"#input-text\").val(); // Get input value\n",
        "        $.ajax({\n",
        "          type: \"POST\",\n",
        "          contentType: \"application/json\",\n",
        "          url: \"http://localhost:3000/predict\", // Replace with your API endpoint URL\n",
        "          data: JSON.stringify({ text: inputText }), // Pass input value as data to API\n",
        "          dataType: 'json',\n",
        "          success: function(response) {\n",
        "            alert(\"Data submitted successfully!\"); // Show success message\n",
        "            console.log(response);\n",
        "           // $(\"#input-text\").val(\"\"); // Clear input field\n",
        "            $(\"#result\").html(\"<div class='\"+response.prediction+\"''>\"+response.prediction+\"</div>\");\n",
        "          },\n",
        "          error: function(jqXHR, textStatus, errorThrown) {\n",
        "            alert(\"Error submitting data: \" + errorThrown); // Show error message\n",
        "          }\n",
        "        });\n",
        "      });\n",
        "    });\n",
        "  </script>\n",
        "</body>\n",
        "</html>\n",
        "\n",
        "\n",
        "\n",
        "```\n",
        "\n",
        "\n",
        "\n",
        "ของ API แล้วลองรัน\n",
        "\n",
        "`python -m http.server`\n",
        "\n",
        "จะได้ผลลัพธ์ ดังรูป\n"
      ],
      "metadata": {
        "id": "CXPZvOgJ-gyT"
      }
    },
    {
      "cell_type": "markdown",
      "source": [
        "![image.png](data:image/png;base64,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)"
      ],
      "metadata": {
        "id": "z_HIOzoXlBOO"
      }
    }
  ]
}