{
  "nbformat": 4,
  "nbformat_minor": 0,
  "metadata": {
    "colab": {
      "provenance": [],
      "gpuType": "T4"
    },
    "kernelspec": {
      "name": "python3",
      "display_name": "Python 3"
    },
    "language_info": {
      "name": "python"
    },
    "accelerator": "GPU"
  },
  "cells": [
    {
      "cell_type": "markdown",
      "source": [
        "# HW07 :  Aspect Tagging using RNN\n",
        "\n",
        "ในหัวข้อนี้จะได้เรียนรู้การสร้างโมเดลสำหรับกำกับข้อมูลลำดับด้วย RNN โดยเริ่มต้นจากการทำ NER หลังจากนั้นจะได้ลองสร้างแบบจำลองเพื่อทำนาย Aspect ของข้อความโดยใช้ RNN\n"
      ],
      "metadata": {
        "id": "NNtiuKMW-qHa"
      }
    },
    {
      "cell_type": "markdown",
      "source": [
        "# Data Preparation\n",
        "\n",
        "\n",
        "โดยคลังข้อมูลที่ใช้จะใช้ข้อมูล LST20\n",
        "\n",
        "ดาวน์โหลดได้ที่ https://aiforthai.in.th/download.php?c=LST20\n",
        "\n",
        "โดยสามารถดาวน์โหลดได้ตามขึ้นตอนดังนี้\n",
        "\n"
      ],
      "metadata": {
        "id": "b4_ZqB5H0EGa"
      }
    },
    {
      "cell_type": "code",
      "source": [
        "!pip install -U gdown"
      ],
      "metadata": {
        "id": "sTEyikkMt97C",
        "colab": {
          "base_uri": "https://localhost:8080/"
        },
        "outputId": "f76e4b9e-129e-4ece-ab6c-a28deb0f6d33"
      },
      "execution_count": null,
      "outputs": [
        {
          "output_type": "stream",
          "name": "stdout",
          "text": [
            "Requirement already satisfied: gdown in /usr/local/lib/python3.10/dist-packages (4.7.3)\n",
            "Collecting gdown\n",
            "  Downloading gdown-5.0.0-py3-none-any.whl (16 kB)\n",
            "Requirement already satisfied: beautifulsoup4 in /usr/local/lib/python3.10/dist-packages (from gdown) (4.11.2)\n",
            "Requirement already satisfied: filelock in /usr/local/lib/python3.10/dist-packages (from gdown) (3.13.1)\n",
            "Requirement already satisfied: requests[socks] in /usr/local/lib/python3.10/dist-packages (from gdown) (2.31.0)\n",
            "Requirement already satisfied: tqdm in /usr/local/lib/python3.10/dist-packages (from gdown) (4.66.1)\n",
            "Requirement already satisfied: soupsieve>1.2 in /usr/local/lib/python3.10/dist-packages (from beautifulsoup4->gdown) (2.5)\n",
            "Requirement already satisfied: charset-normalizer<4,>=2 in /usr/local/lib/python3.10/dist-packages (from requests[socks]->gdown) (3.3.2)\n",
            "Requirement already satisfied: idna<4,>=2.5 in /usr/local/lib/python3.10/dist-packages (from requests[socks]->gdown) (3.6)\n",
            "Requirement already satisfied: urllib3<3,>=1.21.1 in /usr/local/lib/python3.10/dist-packages (from requests[socks]->gdown) (2.0.7)\n",
            "Requirement already satisfied: certifi>=2017.4.17 in /usr/local/lib/python3.10/dist-packages (from requests[socks]->gdown) (2023.11.17)\n",
            "Requirement already satisfied: PySocks!=1.5.7,>=1.5.6 in /usr/local/lib/python3.10/dist-packages (from requests[socks]->gdown) (1.7.1)\n",
            "Installing collected packages: gdown\n",
            "  Attempting uninstall: gdown\n",
            "    Found existing installation: gdown 4.7.3\n",
            "    Uninstalling gdown-4.7.3:\n",
            "      Successfully uninstalled gdown-4.7.3\n",
            "Successfully installed gdown-5.0.0\n"
          ]
        }
      ]
    },
    {
      "cell_type": "code",
      "source": [
        "#https://drive.google.com/file/d/1RQYB_ZGiCEMHNRlTN4vQgXK-9UifBmJQ/view?usp=drive_link\n",
        "\n",
        "!gdown 1RQYB_ZGiCEMHNRlTN4vQgXK-9UifBmJQ"
      ],
      "metadata": {
        "id": "RqbWmn9A15Y3",
        "colab": {
          "base_uri": "https://localhost:8080/"
        },
        "outputId": "7d9b1e8a-6dad-4cc0-feed-7db5a5badcb2"
      },
      "execution_count": null,
      "outputs": [
        {
          "output_type": "stream",
          "name": "stdout",
          "text": [
            "Downloading...\n",
            "From: https://drive.google.com/uc?id=1RQYB_ZGiCEMHNRlTN4vQgXK-9UifBmJQ\n",
            "To: /content/AIFORTHAI-LST20Corpus.tar.gz\n",
            "\r  0% 0.00/13.6M [00:00<?, ?B/s]\r 50% 6.82M/13.6M [00:00<00:00, 67.7MB/s]\r100% 13.6M/13.6M [00:00<00:00, 109MB/s] \n"
          ]
        }
      ]
    },
    {
      "cell_type": "code",
      "source": [
        "!mv AIFORTHAI-LST20Corpus.tar.gz LST20.tar.gz\n",
        "!tar -xvf LST20.tar.gz"
      ],
      "metadata": {
        "id": "QKy5p4cW-KAp",
        "colab": {
          "base_uri": "https://localhost:8080/"
        },
        "outputId": "08e027bd-9002-4836-b88f-030b5cfc6056"
      },
      "execution_count": null,
      "outputs": [
        {
          "output_type": "stream",
          "name": "stdout",
          "text": [
            "\u001b[1;30;43mStreaming output truncated to the last 5000 lines.\u001b[0m\n",
            "LST20_Corpus/train/._T12371.txt\n",
            "LST20_Corpus/train/T12371.txt\n",
            "LST20_Corpus/train/._T11678.txt\n",
            "LST20_Corpus/train/T11678.txt\n",
            "LST20_Corpus/train/._T10566.txt\n",
            "LST20_Corpus/train/T10566.txt\n",
            "LST20_Corpus/train/._T00775.txt\n",
            "LST20_Corpus/train/T00775.txt\n",
            "LST20_Corpus/train/._T12417.txt\n",
            "LST20_Corpus/train/T12417.txt\n",
            "LST20_Corpus/train/._T12403.txt\n",
            "LST20_Corpus/train/T12403.txt\n",
            "LST20_Corpus/train/._T10214.txt\n",
            "LST20_Corpus/train/T10214.txt\n",
            "LST20_Corpus/train/._T01319.txt\n",
            "LST20_Corpus/train/T01319.txt\n",
            "LST20_Corpus/train/._T00761.txt\n",
            "LST20_Corpus/train/T00761.txt\n",
            "LST20_Corpus/train/._T01457.txt\n",
            "LST20_Corpus/train/T01457.txt\n",
            "LST20_Corpus/train/._T00991.txt\n",
            "LST20_Corpus/train/T00991.txt\n",
            "LST20_Corpus/train/._T11644.txt\n",
            "LST20_Corpus/train/T11644.txt\n",
            "LST20_Corpus/train/._T00749.txt\n",
            "LST20_Corpus/train/T00749.txt\n",
            "LST20_Corpus/train/._T13053.txt\n",
            "LST20_Corpus/train/T13053.txt\n",
            "LST20_Corpus/train/._T11122.txt\n",
            "LST20_Corpus/train/T11122.txt\n",
            "LST20_Corpus/train/._T01331.txt\n",
            "LST20_Corpus/train/T01331.txt\n",
            "LST20_Corpus/train/._T10228.txt\n",
            "LST20_Corpus/train/T10228.txt\n",
            "LST20_Corpus/train/._T11136.txt\n",
            "LST20_Corpus/train/T11136.txt\n",
            "LST20_Corpus/train/._T01325.txt\n",
            "LST20_Corpus/train/T01325.txt\n",
            "LST20_Corpus/train/._T13047.txt\n",
            "LST20_Corpus/train/T13047.txt\n",
            "LST20_Corpus/train/._T12359.txt\n",
            "LST20_Corpus/train/T12359.txt\n",
            "LST20_Corpus/train/._T01443.txt\n",
            "LST20_Corpus/train/T01443.txt\n",
            "LST20_Corpus/train/._T11650.txt\n",
            "LST20_Corpus/train/T11650.txt\n",
            "LST20_Corpus/train/._T00985.txt\n",
            "LST20_Corpus/train/T00985.txt\n",
            "LST20_Corpus/train/._T11888.txt\n",
            "LST20_Corpus/train/T11888.txt\n",
            "LST20_Corpus/train/._T11863.txt\n",
            "LST20_Corpus/train/T11863.txt\n",
            "LST20_Corpus/train/._T11877.txt\n",
            "LST20_Corpus/train/T11877.txt\n",
            "LST20_Corpus/train/._T13090.txt\n",
            "LST20_Corpus/train/T13090.txt\n",
            "LST20_Corpus/train/._T10599.txt\n",
            "LST20_Corpus/train/T10599.txt\n",
            "LST20_Corpus/train/._T01494.txt\n",
            "LST20_Corpus/train/T01494.txt\n",
            "LST20_Corpus/train/._T00952.txt\n",
            "LST20_Corpus/train/T00952.txt\n",
            "LST20_Corpus/train/._T11687.txt\n",
            "LST20_Corpus/train/T11687.txt\n",
            "LST20_Corpus/train/._T01480.txt\n",
            "LST20_Corpus/train/T01480.txt\n",
            "LST20_Corpus/train/._T11693.txt\n",
            "LST20_Corpus/train/T11693.txt\n",
            "LST20_Corpus/train/._T00946.txt\n",
            "LST20_Corpus/train/T00946.txt\n",
            "LST20_Corpus/train/._T13084.txt\n",
            "LST20_Corpus/train/T13084.txt\n",
            "LST20_Corpus/train/._T10002.txt\n",
            "LST20_Corpus/train/T10002.txt\n",
            "LST20_Corpus/train/._T00211.txt\n",
            "LST20_Corpus/train/T00211.txt\n",
            "LST20_Corpus/train/._T00577.txt\n",
            "LST20_Corpus/train/T00577.txt\n",
            "LST20_Corpus/train/._T10764.txt\n",
            "LST20_Corpus/train/T10764.txt\n",
            "LST20_Corpus/train/._T01669.txt\n",
            "LST20_Corpus/train/T01669.txt\n",
            "LST20_Corpus/train/._T12173.txt\n",
            "LST20_Corpus/train/T12173.txt\n",
            "LST20_Corpus/train/._T00563.txt\n",
            "LST20_Corpus/train/T00563.txt\n",
            "LST20_Corpus/train/._T10770.txt\n",
            "LST20_Corpus/train/T10770.txt\n",
            "LST20_Corpus/train/._T11308.txt\n",
            "LST20_Corpus/train/T11308.txt\n",
            "LST20_Corpus/train/._T10016.txt\n",
            "LST20_Corpus/train/T10016.txt\n",
            "LST20_Corpus/train/._T00205.txt\n",
            "LST20_Corpus/train/T00205.txt\n",
            "LST20_Corpus/train/._T01133.txt\n",
            "LST20_Corpus/train/T01133.txt\n",
            "LST20_Corpus/train/._T11320.txt\n",
            "LST20_Corpus/train/T11320.txt\n",
            "LST20_Corpus/train/._T10758.txt\n",
            "LST20_Corpus/train/T10758.txt\n",
            "LST20_Corpus/train/._T11446.txt\n",
            "LST20_Corpus/train/T11446.txt\n",
            "LST20_Corpus/train/._T10980.txt\n",
            "LST20_Corpus/train/T10980.txt\n",
            "LST20_Corpus/train/._T01655.txt\n",
            "LST20_Corpus/train/T01655.txt\n",
            "LST20_Corpus/train/._T11452.txt\n",
            "LST20_Corpus/train/T11452.txt\n",
            "LST20_Corpus/train/._T01641.txt\n",
            "LST20_Corpus/train/T01641.txt\n",
            "LST20_Corpus/train/._T10994.txt\n",
            "LST20_Corpus/train/T10994.txt\n",
            "LST20_Corpus/train/._T01127.txt\n",
            "LST20_Corpus/train/T01127.txt\n",
            "LST20_Corpus/train/._T11334.txt\n",
            "LST20_Corpus/train/T11334.txt\n",
            "LST20_Corpus/train/._T00239.txt\n",
            "LST20_Corpus/train/T00239.txt\n",
            "LST20_Corpus/train/._T12832.txt\n",
            "LST20_Corpus/train/T12832.txt\n",
            "LST20_Corpus/train/._T11485.txt\n",
            "LST20_Corpus/train/T11485.txt\n",
            "LST20_Corpus/train/._T10943.txt\n",
            "LST20_Corpus/train/T10943.txt\n",
            "LST20_Corpus/train/._T01696.txt\n",
            "LST20_Corpus/train/T01696.txt\n",
            "LST20_Corpus/train/._T00588.txt\n",
            "LST20_Corpus/train/T00588.txt\n",
            "LST20_Corpus/train/._T12198.txt\n",
            "LST20_Corpus/train/T12198.txt\n",
            "LST20_Corpus/train/._T11491.txt\n",
            "LST20_Corpus/train/T11491.txt\n",
            "LST20_Corpus/train/._T01682.txt\n",
            "LST20_Corpus/train/T01682.txt\n",
            "LST20_Corpus/train/._T10957.txt\n",
            "LST20_Corpus/train/T10957.txt\n",
            "LST20_Corpus/train/._T12826.txt\n",
            "LST20_Corpus/train/T12826.txt\n",
            "LST20_Corpus/train/._T00365.txt\n",
            "LST20_Corpus/train/T00365.txt\n",
            "LST20_Corpus/train/._T10176.txt\n",
            "LST20_Corpus/train/T10176.txt\n",
            "LST20_Corpus/train/._T11268.txt\n",
            "LST20_Corpus/train/T11268.txt\n",
            "LST20_Corpus/train/._T10610.txt\n",
            "LST20_Corpus/train/T10610.txt\n",
            "LST20_Corpus/train/._T00403.txt\n",
            "LST20_Corpus/train/T00403.txt\n",
            "LST20_Corpus/train/._T12007.txt\n",
            "LST20_Corpus/train/T12007.txt\n",
            "LST20_Corpus/train/._T12013.txt\n",
            "LST20_Corpus/train/T12013.txt\n",
            "LST20_Corpus/train/._T01709.txt\n",
            "LST20_Corpus/train/T01709.txt\n",
            "LST20_Corpus/train/._T10604.txt\n",
            "LST20_Corpus/train/T10604.txt\n",
            "LST20_Corpus/train/._T00417.txt\n",
            "LST20_Corpus/train/T00417.txt\n",
            "LST20_Corpus/train/._T00371.txt\n",
            "LST20_Corpus/train/T00371.txt\n",
            "LST20_Corpus/train/._T10162.txt\n",
            "LST20_Corpus/train/T10162.txt\n",
            "LST20_Corpus/train/._T00359.txt\n",
            "LST20_Corpus/train/T00359.txt\n",
            "LST20_Corpus/train/._T11254.txt\n",
            "LST20_Corpus/train/T11254.txt\n",
            "LST20_Corpus/train/._T12985.txt\n",
            "LST20_Corpus/train/T12985.txt\n",
            "LST20_Corpus/train/._T01721.txt\n",
            "LST20_Corpus/train/T01721.txt\n",
            "LST20_Corpus/train/._T01735.txt\n",
            "LST20_Corpus/train/T01735.txt\n",
            "LST20_Corpus/train/._T11526.txt\n",
            "LST20_Corpus/train/T11526.txt\n",
            "LST20_Corpus/train/._T10638.txt\n",
            "LST20_Corpus/train/T10638.txt\n",
            "LST20_Corpus/train/._T12991.txt\n",
            "LST20_Corpus/train/T12991.txt\n",
            "LST20_Corpus/train/._T11240.txt\n",
            "LST20_Corpus/train/T11240.txt\n",
            "LST20_Corpus/train/._T11297.txt\n",
            "LST20_Corpus/train/T11297.txt\n",
            "LST20_Corpus/train/._T10189.txt\n",
            "LST20_Corpus/train/T10189.txt\n",
            "LST20_Corpus/train/._T10823.txt\n",
            "LST20_Corpus/train/T10823.txt\n",
            "LST20_Corpus/train/._T12952.txt\n",
            "LST20_Corpus/train/T12952.txt\n",
            "LST20_Corpus/train/._T00601.txt\n",
            "LST20_Corpus/train/T00601.txt\n",
            "LST20_Corpus/train/._T10412.txt\n",
            "LST20_Corpus/train/T10412.txt\n",
            "LST20_Corpus/train/._T01279.txt\n",
            "LST20_Corpus/train/T01279.txt\n",
            "LST20_Corpus/train/._T10374.txt\n",
            "LST20_Corpus/train/T10374.txt\n",
            "LST20_Corpus/train/._T10360.txt\n",
            "LST20_Corpus/train/T10360.txt\n",
            "LST20_Corpus/train/._T00173.txt\n",
            "LST20_Corpus/train/T00173.txt\n",
            "LST20_Corpus/train/._T00615.txt\n",
            "LST20_Corpus/train/T00615.txt\n",
            "LST20_Corpus/train/._T10406.txt\n",
            "LST20_Corpus/train/T10406.txt\n",
            "LST20_Corpus/train/._T11718.txt\n",
            "LST20_Corpus/train/T11718.txt\n",
            "LST20_Corpus/train/._T11730.txt\n",
            "LST20_Corpus/train/T11730.txt\n",
            "LST20_Corpus/train/._T01523.txt\n",
            "LST20_Corpus/train/T01523.txt\n",
            "LST20_Corpus/train/._T13127.txt\n",
            "LST20_Corpus/train/T13127.txt\n",
            "LST20_Corpus/train/._T01245.txt\n",
            "LST20_Corpus/train/T01245.txt\n",
            "LST20_Corpus/train/._T11056.txt\n",
            "LST20_Corpus/train/T11056.txt\n",
            "LST20_Corpus/train/._T10348.txt\n",
            "LST20_Corpus/train/T10348.txt\n",
            "LST20_Corpus/train/._T01251.txt\n",
            "LST20_Corpus/train/T01251.txt\n",
            "LST20_Corpus/train/._T11042.txt\n",
            "LST20_Corpus/train/T11042.txt\n",
            "LST20_Corpus/train/._T13133.txt\n",
            "LST20_Corpus/train/T13133.txt\n",
            "LST20_Corpus/train/._T00629.txt\n",
            "LST20_Corpus/train/T00629.txt\n",
            "LST20_Corpus/train/._T11724.txt\n",
            "LST20_Corpus/train/T11724.txt\n",
            "LST20_Corpus/train/._T01537.txt\n",
            "LST20_Corpus/train/T01537.txt\n",
            "LST20_Corpus/train/._T11917.txt\n",
            "LST20_Corpus/train/T11917.txt\n",
            "LST20_Corpus/train/._T11903.txt\n",
            "LST20_Corpus/train/T11903.txt\n",
            "LST20_Corpus/train/._T00826.txt\n",
            "LST20_Corpus/train/T00826.txt\n",
            "LST20_Corpus/train/._T00198.txt\n",
            "LST20_Corpus/train/T00198.txt\n",
            "LST20_Corpus/train/._T01286.txt\n",
            "LST20_Corpus/train/T01286.txt\n",
            "LST20_Corpus/train/._T11095.txt\n",
            "LST20_Corpus/train/T11095.txt\n",
            "LST20_Corpus/train/._T12588.txt\n",
            "LST20_Corpus/train/T12588.txt\n",
            "LST20_Corpus/train/._T01292.txt\n",
            "LST20_Corpus/train/T01292.txt\n",
            "LST20_Corpus/train/._T11081.txt\n",
            "LST20_Corpus/train/T11081.txt\n",
            "LST20_Corpus/train/._T00832.txt\n",
            "LST20_Corpus/train/T00832.txt\n",
            "LST20_Corpus/train/._T11926.txt\n",
            "LST20_Corpus/train/T11926.txt\n",
            "LST20_Corpus/train/._T10386.txt\n",
            "LST20_Corpus/train/T10386.txt\n",
            "LST20_Corpus/train/._T12585.txt\n",
            "LST20_Corpus/train/T12585.txt\n",
            "LST20_Corpus/train/._T10392.txt\n",
            "LST20_Corpus/train/T10392.txt\n",
            "LST20_Corpus/train/._T00181.txt\n",
            "LST20_Corpus/train/T00181.txt\n",
            "LST20_Corpus/train/._T11932.txt\n",
            "LST20_Corpus/train/T11932.txt\n",
            "LST20_Corpus/train/._T00817.txt\n",
            "LST20_Corpus/train/T00817.txt\n",
            "LST20_Corpus/train/._T00803.txt\n",
            "LST20_Corpus/train/T00803.txt\n",
            "LST20_Corpus/train/._T00630.txt\n",
            "LST20_Corpus/train/T00630.txt\n",
            "LST20_Corpus/train/._T10423.txt\n",
            "LST20_Corpus/train/T10423.txt\n",
            "LST20_Corpus/train/._T12552.txt\n",
            "LST20_Corpus/train/T12552.txt\n",
            "LST20_Corpus/train/._T10345.txt\n",
            "LST20_Corpus/train/T10345.txt\n",
            "LST20_Corpus/train/._T00156.txt\n",
            "LST20_Corpus/train/T00156.txt\n",
            "LST20_Corpus/train/._T01248.txt\n",
            "LST20_Corpus/train/T01248.txt\n",
            "LST20_Corpus/train/._T10351.txt\n",
            "LST20_Corpus/train/T10351.txt\n",
            "LST20_Corpus/train/._T00142.txt\n",
            "LST20_Corpus/train/T00142.txt\n",
            "LST20_Corpus/train/._T12220.txt\n",
            "LST20_Corpus/train/T12220.txt\n",
            "LST20_Corpus/train/._T11729.txt\n",
            "LST20_Corpus/train/T11729.txt\n",
            "LST20_Corpus/train/._T00624.txt\n",
            "LST20_Corpus/train/T00624.txt\n",
            "LST20_Corpus/train/._T10437.txt\n",
            "LST20_Corpus/train/T10437.txt\n",
            "LST20_Corpus/train/._T13116.txt\n",
            "LST20_Corpus/train/T13116.txt\n",
            "LST20_Corpus/train/._T11701.txt\n",
            "LST20_Corpus/train/T11701.txt\n",
            "LST20_Corpus/train/._T01512.txt\n",
            "LST20_Corpus/train/T01512.txt\n",
            "LST20_Corpus/train/._T10379.txt\n",
            "LST20_Corpus/train/T10379.txt\n",
            "LST20_Corpus/train/._T01274.txt\n",
            "LST20_Corpus/train/T01274.txt\n",
            "LST20_Corpus/train/._T11067.txt\n",
            "LST20_Corpus/train/T11067.txt\n",
            "LST20_Corpus/train/._T01260.txt\n",
            "LST20_Corpus/train/T01260.txt\n",
            "LST20_Corpus/train/._T11073.txt\n",
            "LST20_Corpus/train/T11073.txt\n",
            "LST20_Corpus/train/._T11715.txt\n",
            "LST20_Corpus/train/T11715.txt\n",
            "LST20_Corpus/train/._T01506.txt\n",
            "LST20_Corpus/train/T01506.txt\n",
            "LST20_Corpus/train/._T00618.txt\n",
            "LST20_Corpus/train/T00618.txt\n",
            "LST20_Corpus/train/._T13102.txt\n",
            "LST20_Corpus/train/T13102.txt\n",
            "LST20_Corpus/train/._T00397.txt\n",
            "LST20_Corpus/train/T00397.txt\n",
            "LST20_Corpus/train/._T10184.txt\n",
            "LST20_Corpus/train/T10184.txt\n",
            "LST20_Corpus/train/._T00383.txt\n",
            "LST20_Corpus/train/T00383.txt\n",
            "LST20_Corpus/train/._T10190.txt\n",
            "LST20_Corpus/train/T10190.txt\n",
            "LST20_Corpus/train/._T12977.txt\n",
            "LST20_Corpus/train/T12977.txt\n",
            "LST20_Corpus/train/._T10806.txt\n",
            "LST20_Corpus/train/T10806.txt\n",
            "LST20_Corpus/train/._T10812.txt\n",
            "LST20_Corpus/train/T10812.txt\n",
            "LST20_Corpus/train/._T12963.txt\n",
            "LST20_Corpus/train/T12963.txt\n",
            "LST20_Corpus/train/._T11259.txt\n",
            "LST20_Corpus/train/T11259.txt\n",
            "LST20_Corpus/train/._T00354.txt\n",
            "LST20_Corpus/train/T00354.txt\n",
            "LST20_Corpus/train/._T10147.txt\n",
            "LST20_Corpus/train/T10147.txt\n",
            "LST20_Corpus/train/._T12988.txt\n",
            "LST20_Corpus/train/T12988.txt\n",
            "LST20_Corpus/train/._T12036.txt\n",
            "LST20_Corpus/train/T12036.txt\n",
            "LST20_Corpus/train/._T10621.txt\n",
            "LST20_Corpus/train/T10621.txt\n",
            "LST20_Corpus/train/._T00432.txt\n",
            "LST20_Corpus/train/T00432.txt\n",
            "LST20_Corpus/train/._T10635.txt\n",
            "LST20_Corpus/train/T10635.txt\n",
            "LST20_Corpus/train/._T00426.txt\n",
            "LST20_Corpus/train/T00426.txt\n",
            "LST20_Corpus/train/._T12022.txt\n",
            "LST20_Corpus/train/T12022.txt\n",
            "LST20_Corpus/train/._T00340.txt\n",
            "LST20_Corpus/train/T00340.txt\n",
            "LST20_Corpus/train/._T10153.txt\n",
            "LST20_Corpus/train/T10153.txt\n",
            "LST20_Corpus/train/._T11265.txt\n",
            "LST20_Corpus/train/T11265.txt\n",
            "LST20_Corpus/train/._T00368.txt\n",
            "LST20_Corpus/train/T00368.txt\n",
            "LST20_Corpus/train/._T01710.txt\n",
            "LST20_Corpus/train/T01710.txt\n",
            "LST20_Corpus/train/._T11503.txt\n",
            "LST20_Corpus/train/T11503.txt\n",
            "LST20_Corpus/train/._T10609.txt\n",
            "LST20_Corpus/train/T10609.txt\n",
            "LST20_Corpus/train/._T01704.txt\n",
            "LST20_Corpus/train/T01704.txt\n",
            "LST20_Corpus/train/._T11517.txt\n",
            "LST20_Corpus/train/T11517.txt\n",
            "LST20_Corpus/train/._T11271.txt\n",
            "LST20_Corpus/train/T11271.txt\n",
            "LST20_Corpus/train/._T00585.txt\n",
            "LST20_Corpus/train/T00585.txt\n",
            "LST20_Corpus/train/._T10796.txt\n",
            "LST20_Corpus/train/T10796.txt\n",
            "LST20_Corpus/train/._T11488.txt\n",
            "LST20_Corpus/train/T11488.txt\n",
            "LST20_Corpus/train/._T12181.txt\n",
            "LST20_Corpus/train/T12181.txt\n",
            "LST20_Corpus/train/._T12195.txt\n",
            "LST20_Corpus/train/T12195.txt\n",
            "LST20_Corpus/train/._T00591.txt\n",
            "LST20_Corpus/train/T00591.txt\n",
            "LST20_Corpus/train/._T10782.txt\n",
            "LST20_Corpus/train/T10782.txt\n",
            "LST20_Corpus/train/._T12803.txt\n",
            "LST20_Corpus/train/T12803.txt\n",
            "LST20_Corpus/train/._T10972.txt\n",
            "LST20_Corpus/train/T10972.txt\n",
            "LST20_Corpus/train/._T10966.txt\n",
            "LST20_Corpus/train/T10966.txt\n",
            "LST20_Corpus/train/._T12817.txt\n",
            "LST20_Corpus/train/T12817.txt\n",
            "LST20_Corpus/train/._T10033.txt\n",
            "LST20_Corpus/train/T10033.txt\n",
            "LST20_Corpus/train/._T00220.txt\n",
            "LST20_Corpus/train/T00220.txt\n",
            "LST20_Corpus/train/._T01658.txt\n",
            "LST20_Corpus/train/T01658.txt\n",
            "LST20_Corpus/train/._T00546.txt\n",
            "LST20_Corpus/train/T00546.txt\n",
            "LST20_Corpus/train/._T10755.txt\n",
            "LST20_Corpus/train/T10755.txt\n",
            "LST20_Corpus/train/._T10999.txt\n",
            "LST20_Corpus/train/T10999.txt\n",
            "LST20_Corpus/train/._T00552.txt\n",
            "LST20_Corpus/train/T00552.txt\n",
            "LST20_Corpus/train/._T10741.txt\n",
            "LST20_Corpus/train/T10741.txt\n",
            "LST20_Corpus/train/._T12156.txt\n",
            "LST20_Corpus/train/T12156.txt\n",
            "LST20_Corpus/train/._T10027.txt\n",
            "LST20_Corpus/train/T10027.txt\n",
            "LST20_Corpus/train/._T00234.txt\n",
            "LST20_Corpus/train/T00234.txt\n",
            "LST20_Corpus/train/._T11339.txt\n",
            "LST20_Corpus/train/T11339.txt\n",
            "LST20_Corpus/train/._T11311.txt\n",
            "LST20_Corpus/train/T11311.txt\n",
            "LST20_Corpus/train/._T11477.txt\n",
            "LST20_Corpus/train/T11477.txt\n",
            "LST20_Corpus/train/._T01664.txt\n",
            "LST20_Corpus/train/T01664.txt\n",
            "LST20_Corpus/train/._T10769.txt\n",
            "LST20_Corpus/train/T10769.txt\n",
            "LST20_Corpus/train/._T11463.txt\n",
            "LST20_Corpus/train/T11463.txt\n",
            "LST20_Corpus/train/._T01670.txt\n",
            "LST20_Corpus/train/T01670.txt\n",
            "LST20_Corpus/train/._T11305.txt\n",
            "LST20_Corpus/train/T11305.txt\n",
            "LST20_Corpus/train/._T12383.txt\n",
            "LST20_Corpus/train/T12383.txt\n",
            "LST20_Corpus/train/._T10594.txt\n",
            "LST20_Corpus/train/T10594.txt\n",
            "LST20_Corpus/train/._T11852.txt\n",
            "LST20_Corpus/train/T11852.txt\n",
            "LST20_Corpus/train/._T00787.txt\n",
            "LST20_Corpus/train/T00787.txt\n",
            "LST20_Corpus/train/._T10580.txt\n",
            "LST20_Corpus/train/T10580.txt\n",
            "LST20_Corpus/train/._T00793.txt\n",
            "LST20_Corpus/train/T00793.txt\n",
            "LST20_Corpus/train/._T13089.txt\n",
            "LST20_Corpus/train/T13089.txt\n",
            "LST20_Corpus/train/._T00963.txt\n",
            "LST20_Corpus/train/T00963.txt\n",
            "LST20_Corpus/train/._T00977.txt\n",
            "LST20_Corpus/train/T00977.txt\n",
            "LST20_Corpus/train/._T10557.txt\n",
            "LST20_Corpus/train/T10557.txt\n",
            "LST20_Corpus/train/._T11891.txt\n",
            "LST20_Corpus/train/T11891.txt\n",
            "LST20_Corpus/train/._T00744.txt\n",
            "LST20_Corpus/train/T00744.txt\n",
            "LST20_Corpus/train/._T10231.txt\n",
            "LST20_Corpus/train/T10231.txt\n",
            "LST20_Corpus/train/._T01328.txt\n",
            "LST20_Corpus/train/T01328.txt\n",
            "LST20_Corpus/train/._T10225.txt\n",
            "LST20_Corpus/train/T10225.txt\n",
            "LST20_Corpus/train/._T12354.txt\n",
            "LST20_Corpus/train/T12354.txt\n",
            "LST20_Corpus/train/._T10543.txt\n",
            "LST20_Corpus/train/T10543.txt\n",
            "LST20_Corpus/train/._T00750.txt\n",
            "LST20_Corpus/train/T00750.txt\n",
            "LST20_Corpus/train/._T11885.txt\n",
            "LST20_Corpus/train/T11885.txt\n",
            "LST20_Corpus/train/._T00988.txt\n",
            "LST20_Corpus/train/T00988.txt\n",
            "LST20_Corpus/train/._T13062.txt\n",
            "LST20_Corpus/train/T13062.txt\n",
            "LST20_Corpus/train/._T00778.txt\n",
            "LST20_Corpus/train/T00778.txt\n",
            "LST20_Corpus/train/._T01466.txt\n",
            "LST20_Corpus/train/T01466.txt\n",
            "LST20_Corpus/train/._T11675.txt\n",
            "LST20_Corpus/train/T11675.txt\n",
            "LST20_Corpus/train/._T11113.txt\n",
            "LST20_Corpus/train/T11113.txt\n",
            "LST20_Corpus/train/._T01300.txt\n",
            "LST20_Corpus/train/T01300.txt\n",
            "LST20_Corpus/train/._T11107.txt\n",
            "LST20_Corpus/train/T11107.txt\n",
            "LST20_Corpus/train/._T01314.txt\n",
            "LST20_Corpus/train/T01314.txt\n",
            "LST20_Corpus/train/._T11661.txt\n",
            "LST20_Corpus/train/T11661.txt\n",
            "LST20_Corpus/train/._T13076.txt\n",
            "LST20_Corpus/train/T13076.txt\n",
            "LST20_Corpus/train/._T01315.txt\n",
            "LST20_Corpus/train/T01315.txt\n",
            "LST20_Corpus/train/._T11106.txt\n",
            "LST20_Corpus/train/T11106.txt\n",
            "LST20_Corpus/train/._T13077.txt\n",
            "LST20_Corpus/train/T13077.txt\n",
            "LST20_Corpus/train/._T11660.txt\n",
            "LST20_Corpus/train/T11660.txt\n",
            "LST20_Corpus/train/._T01473.txt\n",
            "LST20_Corpus/train/T01473.txt\n",
            "LST20_Corpus/train/._T01467.txt\n",
            "LST20_Corpus/train/T01467.txt\n",
            "LST20_Corpus/train/._T00779.txt\n",
            "LST20_Corpus/train/T00779.txt\n",
            "LST20_Corpus/train/._T13063.txt\n",
            "LST20_Corpus/train/T13063.txt\n",
            "LST20_Corpus/train/._T01301.txt\n",
            "LST20_Corpus/train/T01301.txt\n",
            "LST20_Corpus/train/._T11112.txt\n",
            "LST20_Corpus/train/T11112.txt\n",
            "LST20_Corpus/train/._T10224.txt\n",
            "LST20_Corpus/train/T10224.txt\n",
            "LST20_Corpus/train/._T01329.txt\n",
            "LST20_Corpus/train/T01329.txt\n",
            "LST20_Corpus/train/._T00989.txt\n",
            "LST20_Corpus/train/T00989.txt\n",
            "LST20_Corpus/train/._T11884.txt\n",
            "LST20_Corpus/train/T11884.txt\n",
            "LST20_Corpus/train/._T00751.txt\n",
            "LST20_Corpus/train/T00751.txt\n",
            "LST20_Corpus/train/._T10542.txt\n",
            "LST20_Corpus/train/T10542.txt\n",
            "LST20_Corpus/train/._T12355.txt\n",
            "LST20_Corpus/train/T12355.txt\n",
            "LST20_Corpus/train/._T12341.txt\n",
            "LST20_Corpus/train/T12341.txt\n",
            "LST20_Corpus/train/._T11648.txt\n",
            "LST20_Corpus/train/T11648.txt\n",
            "LST20_Corpus/train/._T00745.txt\n",
            "LST20_Corpus/train/T00745.txt\n",
            "LST20_Corpus/train/._T11890.txt\n",
            "LST20_Corpus/train/T11890.txt\n",
            "LST20_Corpus/train/._T10556.txt\n",
            "LST20_Corpus/train/T10556.txt\n",
            "LST20_Corpus/train/._T10230.txt\n",
            "LST20_Corpus/train/T10230.txt\n",
            "LST20_Corpus/train/._T00976.txt\n",
            "LST20_Corpus/train/T00976.txt\n",
            "LST20_Corpus/train/._T00962.txt\n",
            "LST20_Corpus/train/T00962.txt\n",
            "LST20_Corpus/train/._T13088.txt\n",
            "LST20_Corpus/train/T13088.txt\n",
            "LST20_Corpus/train/._T00792.txt\n",
            "LST20_Corpus/train/T00792.txt\n",
            "LST20_Corpus/train/._T10581.txt\n",
            "LST20_Corpus/train/T10581.txt\n",
            "LST20_Corpus/train/._T00786.txt\n",
            "LST20_Corpus/train/T00786.txt\n",
            "LST20_Corpus/train/._T11853.txt\n",
            "LST20_Corpus/train/T11853.txt\n",
            "LST20_Corpus/train/._T10595.txt\n",
            "LST20_Corpus/train/T10595.txt\n",
            "LST20_Corpus/train/._T01498.txt\n",
            "LST20_Corpus/train/T01498.txt\n",
            "LST20_Corpus/train/._T12382.txt\n",
            "LST20_Corpus/train/T12382.txt\n",
            "LST20_Corpus/train/._T01671.txt\n",
            "LST20_Corpus/train/T01671.txt\n",
            "LST20_Corpus/train/._T11462.txt\n",
            "LST20_Corpus/train/T11462.txt\n",
            "LST20_Corpus/train/._T11304.txt\n",
            "LST20_Corpus/train/T11304.txt\n",
            "LST20_Corpus/train/._T11310.txt\n",
            "LST20_Corpus/train/T11310.txt\n",
            "LST20_Corpus/train/._T10768.txt\n",
            "LST20_Corpus/train/T10768.txt\n",
            "LST20_Corpus/train/._T01665.txt\n",
            "LST20_Corpus/train/T01665.txt\n",
            "LST20_Corpus/train/._T11476.txt\n",
            "LST20_Corpus/train/T11476.txt\n",
            "LST20_Corpus/train/._T12157.txt\n",
            "LST20_Corpus/train/T12157.txt\n",
            "LST20_Corpus/train/._T10740.txt\n",
            "LST20_Corpus/train/T10740.txt\n",
            "LST20_Corpus/train/._T00553.txt\n",
            "LST20_Corpus/train/T00553.txt\n",
            "LST20_Corpus/train/._T10998.txt\n",
            "LST20_Corpus/train/T10998.txt\n",
            "LST20_Corpus/train/._T11338.txt\n",
            "LST20_Corpus/train/T11338.txt\n",
            "LST20_Corpus/train/._T00235.txt\n",
            "LST20_Corpus/train/T00235.txt\n",
            "LST20_Corpus/train/._T10026.txt\n",
            "LST20_Corpus/train/T10026.txt\n",
            "LST20_Corpus/train/._T12631.txt\n",
            "LST20_Corpus/train/T12631.txt\n",
            "LST20_Corpus/train/._T00221.txt\n",
            "LST20_Corpus/train/T00221.txt\n",
            "LST20_Corpus/train/._T10032.txt\n",
            "LST20_Corpus/train/T10032.txt\n",
            "LST20_Corpus/train/._T10754.txt\n",
            "LST20_Corpus/train/T10754.txt\n",
            "LST20_Corpus/train/._T00547.txt\n",
            "LST20_Corpus/train/T00547.txt\n",
            "LST20_Corpus/train/._T01659.txt\n",
            "LST20_Corpus/train/T01659.txt\n",
            "LST20_Corpus/train/._T10967.txt\n",
            "LST20_Corpus/train/T10967.txt\n",
            "LST20_Corpus/train/._T12816.txt\n",
            "LST20_Corpus/train/T12816.txt\n",
            "LST20_Corpus/train/._T10973.txt\n",
            "LST20_Corpus/train/T10973.txt\n",
            "LST20_Corpus/train/._T10783.txt\n",
            "LST20_Corpus/train/T10783.txt\n",
            "LST20_Corpus/train/._T00590.txt\n",
            "LST20_Corpus/train/T00590.txt\n",
            "LST20_Corpus/train/._T12194.txt\n",
            "LST20_Corpus/train/T12194.txt\n",
            "LST20_Corpus/train/._T11489.txt\n",
            "LST20_Corpus/train/T11489.txt\n",
            "LST20_Corpus/train/._T10797.txt\n",
            "LST20_Corpus/train/T10797.txt\n",
            "LST20_Corpus/train/._T00584.txt\n",
            "LST20_Corpus/train/T00584.txt\n",
            "LST20_Corpus/train/._T11516.txt\n",
            "LST20_Corpus/train/T11516.txt\n",
            "LST20_Corpus/train/._T01705.txt\n",
            "LST20_Corpus/train/T01705.txt\n",
            "LST20_Corpus/train/._T10608.txt\n",
            "LST20_Corpus/train/T10608.txt\n",
            "LST20_Corpus/train/._T11270.txt\n",
            "LST20_Corpus/train/T11270.txt\n",
            "LST20_Corpus/train/._T00369.txt\n",
            "LST20_Corpus/train/T00369.txt\n",
            "LST20_Corpus/train/._T11264.txt\n",
            "LST20_Corpus/train/T11264.txt\n",
            "LST20_Corpus/train/._T11502.txt\n",
            "LST20_Corpus/train/T11502.txt\n",
            "LST20_Corpus/train/._T01711.txt\n",
            "LST20_Corpus/train/T01711.txt\n",
            "LST20_Corpus/train/._T12023.txt\n",
            "LST20_Corpus/train/T12023.txt\n",
            "LST20_Corpus/train/._T00427.txt\n",
            "LST20_Corpus/train/T00427.txt\n",
            "LST20_Corpus/train/._T10634.txt\n",
            "LST20_Corpus/train/T10634.txt\n",
            "LST20_Corpus/train/._T10152.txt\n",
            "LST20_Corpus/train/T10152.txt\n",
            "LST20_Corpus/train/._T00341.txt\n",
            "LST20_Corpus/train/T00341.txt\n",
            "LST20_Corpus/train/._T12751.txt\n",
            "LST20_Corpus/train/T12751.txt\n",
            "LST20_Corpus/train/._T12989.txt\n",
            "LST20_Corpus/train/T12989.txt\n",
            "LST20_Corpus/train/._T10146.txt\n",
            "LST20_Corpus/train/T10146.txt\n",
            "LST20_Corpus/train/._T00355.txt\n",
            "LST20_Corpus/train/T00355.txt\n",
            "LST20_Corpus/train/._T11258.txt\n",
            "LST20_Corpus/train/T11258.txt\n",
            "LST20_Corpus/train/._T00433.txt\n",
            "LST20_Corpus/train/T00433.txt\n",
            "LST20_Corpus/train/._T10620.txt\n",
            "LST20_Corpus/train/T10620.txt\n",
            "LST20_Corpus/train/._T12037.txt\n",
            "LST20_Corpus/train/T12037.txt\n",
            "LST20_Corpus/train/._T10813.txt\n",
            "LST20_Corpus/train/T10813.txt\n",
            "LST20_Corpus/train/._T12962.txt\n",
            "LST20_Corpus/train/T12962.txt\n",
            "LST20_Corpus/train/._T12976.txt\n",
            "LST20_Corpus/train/T12976.txt\n",
            "LST20_Corpus/train/._T10807.txt\n",
            "LST20_Corpus/train/T10807.txt\n",
            "LST20_Corpus/train/._T10191.txt\n",
            "LST20_Corpus/train/T10191.txt\n",
            "LST20_Corpus/train/._T00382.txt\n",
            "LST20_Corpus/train/T00382.txt\n",
            "LST20_Corpus/train/._T10185.txt\n",
            "LST20_Corpus/train/T10185.txt\n",
            "LST20_Corpus/train/._T00396.txt\n",
            "LST20_Corpus/train/T00396.txt\n",
            "LST20_Corpus/train/._T11072.txt\n",
            "LST20_Corpus/train/T11072.txt\n",
            "LST20_Corpus/train/._T01261.txt\n",
            "LST20_Corpus/train/T01261.txt\n",
            "LST20_Corpus/train/._T13103.txt\n",
            "LST20_Corpus/train/T13103.txt\n",
            "LST20_Corpus/train/._T00619.txt\n",
            "LST20_Corpus/train/T00619.txt\n",
            "LST20_Corpus/train/._T01507.txt\n",
            "LST20_Corpus/train/T01507.txt\n",
            "LST20_Corpus/train/._T11714.txt\n",
            "LST20_Corpus/train/T11714.txt\n",
            "LST20_Corpus/train/._T01513.txt\n",
            "LST20_Corpus/train/T01513.txt\n",
            "LST20_Corpus/train/._T11700.txt\n",
            "LST20_Corpus/train/T11700.txt\n",
            "LST20_Corpus/train/._T13117.txt\n",
            "LST20_Corpus/train/T13117.txt\n",
            "LST20_Corpus/train/._T11066.txt\n",
            "LST20_Corpus/train/T11066.txt\n",
            "LST20_Corpus/train/._T01275.txt\n",
            "LST20_Corpus/train/T01275.txt\n",
            "LST20_Corpus/train/._T10378.txt\n",
            "LST20_Corpus/train/T10378.txt\n",
            "LST20_Corpus/train/._T00143.txt\n",
            "LST20_Corpus/train/T00143.txt\n",
            "LST20_Corpus/train/._T10350.txt\n",
            "LST20_Corpus/train/T10350.txt\n",
            "LST20_Corpus/train/._T10436.txt\n",
            "LST20_Corpus/train/T10436.txt\n",
            "LST20_Corpus/train/._T00625.txt\n",
            "LST20_Corpus/train/T00625.txt\n",
            "LST20_Corpus/train/._T11728.txt\n",
            "LST20_Corpus/train/T11728.txt\n",
            "LST20_Corpus/train/._T12221.txt\n",
            "LST20_Corpus/train/T12221.txt\n",
            "LST20_Corpus/train/._T10422.txt\n",
            "LST20_Corpus/train/T10422.txt\n",
            "LST20_Corpus/train/._T00631.txt\n",
            "LST20_Corpus/train/T00631.txt\n",
            "LST20_Corpus/train/._T01249.txt\n",
            "LST20_Corpus/train/T01249.txt\n",
            "LST20_Corpus/train/._T00157.txt\n",
            "LST20_Corpus/train/T00157.txt\n",
            "LST20_Corpus/train/._T10344.txt\n",
            "LST20_Corpus/train/T10344.txt\n",
            "LST20_Corpus/train/._T00802.txt\n",
            "LST20_Corpus/train/T00802.txt\n",
            "LST20_Corpus/train/._T00816.txt\n",
            "LST20_Corpus/train/T00816.txt\n",
            "LST20_Corpus/train/._T00180.txt\n",
            "LST20_Corpus/train/T00180.txt\n",
            "LST20_Corpus/train/._T10393.txt\n",
            "LST20_Corpus/train/T10393.txt\n",
            "LST20_Corpus/train/._T11933.txt\n",
            "LST20_Corpus/train/T11933.txt\n",
            "LST20_Corpus/train/._T11927.txt\n",
            "LST20_Corpus/train/T11927.txt\n",
            "LST20_Corpus/train/._T00194.txt\n",
            "LST20_Corpus/train/T00194.txt\n",
            "LST20_Corpus/train/._T10387.txt\n",
            "LST20_Corpus/train/T10387.txt\n",
            "LST20_Corpus/train/._T11099.txt\n",
            "LST20_Corpus/train/T11099.txt\n",
            "LST20_Corpus/train/._T11931.txt\n",
            "LST20_Corpus/train/T11931.txt\n",
            "LST20_Corpus/train/._T12586.txt\n",
            "LST20_Corpus/train/T12586.txt\n",
            "LST20_Corpus/train/._T10391.txt\n",
            "LST20_Corpus/train/T10391.txt\n",
            "LST20_Corpus/train/._T00182.txt\n",
            "LST20_Corpus/train/T00182.txt\n",
            "LST20_Corpus/train/._T01288.txt\n",
            "LST20_Corpus/train/T01288.txt\n",
            "LST20_Corpus/train/._T10385.txt\n",
            "LST20_Corpus/train/T10385.txt\n",
            "LST20_Corpus/train/._T00196.txt\n",
            "LST20_Corpus/train/T00196.txt\n",
            "LST20_Corpus/train/._T11925.txt\n",
            "LST20_Corpus/train/T11925.txt\n",
            "LST20_Corpus/train/._T00828.txt\n",
            "LST20_Corpus/train/T00828.txt\n",
            "LST20_Corpus/train/._T00800.txt\n",
            "LST20_Corpus/train/T00800.txt\n",
            "LST20_Corpus/train/._T11919.txt\n",
            "LST20_Corpus/train/T11919.txt\n",
            "LST20_Corpus/train/._T00814.txt\n",
            "LST20_Corpus/train/T00814.txt\n",
            "LST20_Corpus/train/._T01539.txt\n",
            "LST20_Corpus/train/T01539.txt\n",
            "LST20_Corpus/train/._T00627.txt\n",
            "LST20_Corpus/train/T00627.txt\n",
            "LST20_Corpus/train/._T10434.txt\n",
            "LST20_Corpus/train/T10434.txt\n",
            "LST20_Corpus/train/._T10352.txt\n",
            "LST20_Corpus/train/T10352.txt\n",
            "LST20_Corpus/train/._T00141.txt\n",
            "LST20_Corpus/train/T00141.txt\n",
            "LST20_Corpus/train/._T10346.txt\n",
            "LST20_Corpus/train/T10346.txt\n",
            "LST20_Corpus/train/._T00155.txt\n",
            "LST20_Corpus/train/T00155.txt\n",
            "LST20_Corpus/train/._T00633.txt\n",
            "LST20_Corpus/train/T00633.txt\n",
            "LST20_Corpus/train/._T10420.txt\n",
            "LST20_Corpus/train/T10420.txt\n",
            "LST20_Corpus/train/._T13129.txt\n",
            "LST20_Corpus/train/T13129.txt\n",
            "LST20_Corpus/train/._T11716.txt\n",
            "LST20_Corpus/train/T11716.txt\n",
            "LST20_Corpus/train/._T01505.txt\n",
            "LST20_Corpus/train/T01505.txt\n",
            "LST20_Corpus/train/._T10408.txt\n",
            "LST20_Corpus/train/T10408.txt\n",
            "LST20_Corpus/train/._T13101.txt\n",
            "LST20_Corpus/train/T13101.txt\n",
            "LST20_Corpus/train/._T01263.txt\n",
            "LST20_Corpus/train/T01263.txt\n",
            "LST20_Corpus/train/._T11070.txt\n",
            "LST20_Corpus/train/T11070.txt\n",
            "LST20_Corpus/train/._T00169.txt\n",
            "LST20_Corpus/train/T00169.txt\n",
            "LST20_Corpus/train/._T01277.txt\n",
            "LST20_Corpus/train/T01277.txt\n",
            "LST20_Corpus/train/._T11064.txt\n",
            "LST20_Corpus/train/T11064.txt\n",
            "LST20_Corpus/train/._T13115.txt\n",
            "LST20_Corpus/train/T13115.txt\n",
            "LST20_Corpus/train/._T11702.txt\n",
            "LST20_Corpus/train/T11702.txt\n",
            "LST20_Corpus/train/._T01511.txt\n",
            "LST20_Corpus/train/T01511.txt\n",
            "LST20_Corpus/train/._T00380.txt\n",
            "LST20_Corpus/train/T00380.txt\n",
            "LST20_Corpus/train/._T10193.txt\n",
            "LST20_Corpus/train/T10193.txt\n",
            "LST20_Corpus/train/._T10839.txt\n",
            "LST20_Corpus/train/T10839.txt\n",
            "LST20_Corpus/train/._T12790.txt\n",
            "LST20_Corpus/train/T12790.txt\n",
            "LST20_Corpus/train/._T12948.txt\n",
            "LST20_Corpus/train/T12948.txt\n",
            "LST20_Corpus/train/._T00394.txt\n",
            "LST20_Corpus/train/T00394.txt\n",
            "LST20_Corpus/train/._T10187.txt\n",
            "LST20_Corpus/train/T10187.txt\n",
            "LST20_Corpus/train/._T11299.txt\n",
            "LST20_Corpus/train/T11299.txt\n",
            "LST20_Corpus/train/._T12960.txt\n",
            "LST20_Corpus/train/T12960.txt\n",
            "LST20_Corpus/train/._T10811.txt\n",
            "LST20_Corpus/train/T10811.txt\n",
            "LST20_Corpus/train/._T10805.txt\n",
            "LST20_Corpus/train/T10805.txt\n",
            "LST20_Corpus/train/._T12974.txt\n",
            "LST20_Corpus/train/T12974.txt\n",
            "LST20_Corpus/train/._T00343.txt\n",
            "LST20_Corpus/train/T00343.txt\n",
            "LST20_Corpus/train/._T10150.txt\n",
            "LST20_Corpus/train/T10150.txt\n",
            "LST20_Corpus/train/._T10636.txt\n",
            "LST20_Corpus/train/T10636.txt\n",
            "LST20_Corpus/train/._T00425.txt\n",
            "LST20_Corpus/train/T00425.txt\n",
            "LST20_Corpus/train/._T11528.txt\n",
            "LST20_Corpus/train/T11528.txt\n",
            "LST20_Corpus/train/._T12021.txt\n",
            "LST20_Corpus/train/T12021.txt\n",
            "LST20_Corpus/train/._T10622.txt\n",
            "LST20_Corpus/train/T10622.txt\n",
            "LST20_Corpus/train/._T00431.txt\n",
            "LST20_Corpus/train/T00431.txt\n",
            "LST20_Corpus/train/._T10144.txt\n",
            "LST20_Corpus/train/T10144.txt\n",
            "LST20_Corpus/train/._T00419.txt\n",
            "LST20_Corpus/train/T00419.txt\n",
            "LST20_Corpus/train/._T01707.txt\n",
            "LST20_Corpus/train/T01707.txt\n",
            "LST20_Corpus/train/._T11514.txt\n",
            "LST20_Corpus/train/T11514.txt\n",
            "LST20_Corpus/train/._T01713.txt\n",
            "LST20_Corpus/train/T01713.txt\n",
            "LST20_Corpus/train/._T11500.txt\n",
            "LST20_Corpus/train/T11500.txt\n",
            "LST20_Corpus/train/._T12009.txt\n",
            "LST20_Corpus/train/T12009.txt\n",
            "LST20_Corpus/train/._T11266.txt\n",
            "LST20_Corpus/train/T11266.txt\n",
            "LST20_Corpus/train/._T10178.txt\n",
            "LST20_Corpus/train/T10178.txt\n",
            "LST20_Corpus/train/._T12828.txt\n",
            "LST20_Corpus/train/T12828.txt\n",
            "LST20_Corpus/train/._T12196.txt\n",
            "LST20_Corpus/train/T12196.txt\n",
            "LST20_Corpus/train/._T00592.txt\n",
            "LST20_Corpus/train/T00592.txt\n",
            "LST20_Corpus/train/._T10781.txt\n",
            "LST20_Corpus/train/T10781.txt\n",
            "LST20_Corpus/train/._T10959.txt\n",
            "LST20_Corpus/train/T10959.txt\n",
            "LST20_Corpus/train/._T00586.txt\n",
            "LST20_Corpus/train/T00586.txt\n",
            "LST20_Corpus/train/._T10795.txt\n",
            "LST20_Corpus/train/T10795.txt\n",
            "LST20_Corpus/train/._T01698.txt\n",
            "LST20_Corpus/train/T01698.txt\n",
            "LST20_Corpus/train/._T12814.txt\n",
            "LST20_Corpus/train/T12814.txt\n",
            "LST20_Corpus/train/._T10965.txt\n",
            "LST20_Corpus/train/T10965.txt\n",
            "LST20_Corpus/train/._T10971.txt\n",
            "LST20_Corpus/train/T10971.txt\n",
            "LST20_Corpus/train/._T10024.txt\n",
            "LST20_Corpus/train/T10024.txt\n",
            "LST20_Corpus/train/._T00237.txt\n",
            "LST20_Corpus/train/T00237.txt\n",
            "LST20_Corpus/train/._T01129.txt\n",
            "LST20_Corpus/train/T01129.txt\n",
            "LST20_Corpus/train/._T00551.txt\n",
            "LST20_Corpus/train/T00551.txt\n",
            "LST20_Corpus/train/._T10742.txt\n",
            "LST20_Corpus/train/T10742.txt\n",
            "LST20_Corpus/train/._T12155.txt\n",
            "LST20_Corpus/train/T12155.txt\n",
            "LST20_Corpus/train/._T11448.txt\n",
            "LST20_Corpus/train/T11448.txt\n",
            "LST20_Corpus/train/._T00545.txt\n",
            "LST20_Corpus/train/T00545.txt\n",
            "LST20_Corpus/train/._T10756.txt\n",
            "LST20_Corpus/train/T10756.txt\n",
            "LST20_Corpus/train/._T10030.txt\n",
            "LST20_Corpus/train/T10030.txt\n",
            "LST20_Corpus/train/._T00223.txt\n",
            "LST20_Corpus/train/T00223.txt\n",
            "LST20_Corpus/train/._T10018.txt\n",
            "LST20_Corpus/train/T10018.txt\n",
            "LST20_Corpus/train/._T11306.txt\n",
            "LST20_Corpus/train/T11306.txt\n",
            "LST20_Corpus/train/._T11460.txt\n",
            "LST20_Corpus/train/T11460.txt\n",
            "LST20_Corpus/train/._T01673.txt\n",
            "LST20_Corpus/train/T01673.txt\n",
            "LST20_Corpus/train/._T11474.txt\n",
            "LST20_Corpus/train/T11474.txt\n",
            "LST20_Corpus/train/._T01667.txt\n",
            "LST20_Corpus/train/T01667.txt\n",
            "LST20_Corpus/train/._T00579.txt\n",
            "LST20_Corpus/train/T00579.txt\n",
            "LST20_Corpus/train/._T11312.txt\n",
            "LST20_Corpus/train/T11312.txt\n",
            "LST20_Corpus/train/._T00948.txt\n",
            "LST20_Corpus/train/T00948.txt\n",
            "LST20_Corpus/train/._T10583.txt\n",
            "LST20_Corpus/train/T10583.txt\n",
            "LST20_Corpus/train/._T00790.txt\n",
            "LST20_Corpus/train/T00790.txt\n",
            "LST20_Corpus/train/._T11689.txt\n",
            "LST20_Corpus/train/T11689.txt\n",
            "LST20_Corpus/train/._T10597.txt\n",
            "LST20_Corpus/train/T10597.txt\n",
            "LST20_Corpus/train/._T11851.txt\n",
            "LST20_Corpus/train/T11851.txt\n",
            "LST20_Corpus/train/._T00784.txt\n",
            "LST20_Corpus/train/T00784.txt\n",
            "LST20_Corpus/train/._T00974.txt\n",
            "LST20_Corpus/train/T00974.txt\n",
            "LST20_Corpus/train/._T11879.txt\n",
            "LST20_Corpus/train/T11879.txt\n",
            "LST20_Corpus/train/._T00960.txt\n",
            "LST20_Corpus/train/T00960.txt\n",
            "LST20_Corpus/train/._T12357.txt\n",
            "LST20_Corpus/train/T12357.txt\n",
            "LST20_Corpus/train/._T13049.txt\n",
            "LST20_Corpus/train/T13049.txt\n",
            "LST20_Corpus/train/._T10540.txt\n",
            "LST20_Corpus/train/T10540.txt\n",
            "LST20_Corpus/train/._T00753.txt\n",
            "LST20_Corpus/train/T00753.txt\n",
            "LST20_Corpus/train/._T11138.txt\n",
            "LST20_Corpus/train/T11138.txt\n",
            "LST20_Corpus/train/._T10226.txt\n",
            "LST20_Corpus/train/T10226.txt\n",
            "LST20_Corpus/train/._T10232.txt\n",
            "LST20_Corpus/train/T10232.txt\n",
            "LST20_Corpus/train/._T10554.txt\n",
            "LST20_Corpus/train/T10554.txt\n",
            "LST20_Corpus/train/._T11892.txt\n",
            "LST20_Corpus/train/T11892.txt\n",
            "LST20_Corpus/train/._T00747.txt\n",
            "LST20_Corpus/train/T00747.txt\n",
            "LST20_Corpus/train/._T01459.txt\n",
            "LST20_Corpus/train/T01459.txt\n",
            "LST20_Corpus/train/._T01471.txt\n",
            "LST20_Corpus/train/T01471.txt\n",
            "LST20_Corpus/train/._T13075.txt\n",
            "LST20_Corpus/train/T13075.txt\n",
            "LST20_Corpus/train/._T01317.txt\n",
            "LST20_Corpus/train/T01317.txt\n",
            "LST20_Corpus/train/._T11110.txt\n",
            "LST20_Corpus/train/T11110.txt\n",
            "LST20_Corpus/train/._T01303.txt\n",
            "LST20_Corpus/train/T01303.txt\n",
            "LST20_Corpus/train/._T12419.txt\n",
            "LST20_Corpus/train/T12419.txt\n",
            "LST20_Corpus/train/._T13061.txt\n",
            "LST20_Corpus/train/T13061.txt\n",
            "LST20_Corpus/train/._T10568.txt\n",
            "LST20_Corpus/train/T10568.txt\n",
            "LST20_Corpus/train/._T01465.txt\n",
            "LST20_Corpus/train/T01465.txt\n",
            "LST20_Corpus/train/._T11676.txt\n",
            "LST20_Corpus/train/T11676.txt\n",
            "LST20_Corpus/train/._T12418.txt\n",
            "LST20_Corpus/train/T12418.txt\n",
            "LST20_Corpus/train/._T01302.txt\n",
            "LST20_Corpus/train/T01302.txt\n",
            "LST20_Corpus/train/._T11111.txt\n",
            "LST20_Corpus/train/T11111.txt\n",
            "LST20_Corpus/train/._T11677.txt\n",
            "LST20_Corpus/train/T11677.txt\n",
            "LST20_Corpus/train/._T01464.txt\n",
            "LST20_Corpus/train/T01464.txt\n",
            "LST20_Corpus/train/._T13060.txt\n",
            "LST20_Corpus/train/T13060.txt\n",
            "LST20_Corpus/train/._T13074.txt\n",
            "LST20_Corpus/train/T13074.txt\n",
            "LST20_Corpus/train/._T11663.txt\n",
            "LST20_Corpus/train/T11663.txt\n",
            "LST20_Corpus/train/._T01470.txt\n",
            "LST20_Corpus/train/T01470.txt\n",
            "LST20_Corpus/train/._T01316.txt\n",
            "LST20_Corpus/train/T01316.txt\n",
            "LST20_Corpus/train/._T11105.txt\n",
            "LST20_Corpus/train/T11105.txt\n",
            "LST20_Corpus/train/._T10233.txt\n",
            "LST20_Corpus/train/T10233.txt\n",
            "LST20_Corpus/train/._T12424.txt\n",
            "LST20_Corpus/train/T12424.txt\n",
            "LST20_Corpus/train/._T01458.txt\n",
            "LST20_Corpus/train/T01458.txt\n",
            "LST20_Corpus/train/._T00746.txt\n",
            "LST20_Corpus/train/T00746.txt\n",
            "LST20_Corpus/train/._T11893.txt\n",
            "LST20_Corpus/train/T11893.txt\n",
            "LST20_Corpus/train/._T10555.txt\n",
            "LST20_Corpus/train/T10555.txt\n",
            "LST20_Corpus/train/._T11887.txt\n",
            "LST20_Corpus/train/T11887.txt\n",
            "LST20_Corpus/train/._T00752.txt\n",
            "LST20_Corpus/train/T00752.txt\n",
            "LST20_Corpus/train/._T13048.txt\n",
            "LST20_Corpus/train/T13048.txt\n",
            "LST20_Corpus/train/._T12356.txt\n",
            "LST20_Corpus/train/T12356.txt\n",
            "LST20_Corpus/train/._T10227.txt\n",
            "LST20_Corpus/train/T10227.txt\n",
            "LST20_Corpus/train/._T11139.txt\n",
            "LST20_Corpus/train/T11139.txt\n",
            "LST20_Corpus/train/._T00961.txt\n",
            "LST20_Corpus/train/T00961.txt\n",
            "LST20_Corpus/train/._T11878.txt\n",
            "LST20_Corpus/train/T11878.txt\n",
            "LST20_Corpus/train/._T00975.txt\n",
            "LST20_Corpus/train/T00975.txt\n",
            "LST20_Corpus/train/._T00785.txt\n",
            "LST20_Corpus/train/T00785.txt\n",
            "LST20_Corpus/train/._T11850.txt\n",
            "LST20_Corpus/train/T11850.txt\n",
            "LST20_Corpus/train/._T10596.txt\n",
            "LST20_Corpus/train/T10596.txt\n",
            "LST20_Corpus/train/._T11688.txt\n",
            "LST20_Corpus/train/T11688.txt\n",
            "LST20_Corpus/train/._T12381.txt\n",
            "LST20_Corpus/train/T12381.txt\n",
            "LST20_Corpus/train/._T00791.txt\n",
            "LST20_Corpus/train/T00791.txt\n",
            "LST20_Corpus/train/._T10582.txt\n",
            "LST20_Corpus/train/T10582.txt\n",
            "LST20_Corpus/train/._T00949.txt\n",
            "LST20_Corpus/train/T00949.txt\n",
            "LST20_Corpus/train/._T00578.txt\n",
            "LST20_Corpus/train/T00578.txt\n",
            "LST20_Corpus/train/._T01666.txt\n",
            "LST20_Corpus/train/T01666.txt\n",
            "LST20_Corpus/train/._T11475.txt\n",
            "LST20_Corpus/train/T11475.txt\n",
            "LST20_Corpus/train/._T11313.txt\n",
            "LST20_Corpus/train/T11313.txt\n",
            "LST20_Corpus/train/._T11307.txt\n",
            "LST20_Corpus/train/T11307.txt\n",
            "LST20_Corpus/train/._T10019.txt\n",
            "LST20_Corpus/train/T10019.txt\n",
            "LST20_Corpus/train/._T01672.txt\n",
            "LST20_Corpus/train/T01672.txt\n",
            "LST20_Corpus/train/._T11461.txt\n",
            "LST20_Corpus/train/T11461.txt\n",
            "LST20_Corpus/train/._T10757.txt\n",
            "LST20_Corpus/train/T10757.txt\n",
            "LST20_Corpus/train/._T00544.txt\n",
            "LST20_Corpus/train/T00544.txt\n",
            "LST20_Corpus/train/._T11449.txt\n",
            "LST20_Corpus/train/T11449.txt\n",
            "LST20_Corpus/train/._T12140.txt\n",
            "LST20_Corpus/train/T12140.txt\n",
            "LST20_Corpus/train/._T00222.txt\n",
            "LST20_Corpus/train/T00222.txt\n",
            "LST20_Corpus/train/._T10031.txt\n",
            "LST20_Corpus/train/T10031.txt\n",
            "LST20_Corpus/train/._T01128.txt\n",
            "LST20_Corpus/train/T01128.txt\n",
            "LST20_Corpus/train/._T00236.txt\n",
            "LST20_Corpus/train/T00236.txt\n",
            "LST20_Corpus/train/._T10025.txt\n",
            "LST20_Corpus/train/T10025.txt\n",
            "LST20_Corpus/train/._T12154.txt\n",
            "LST20_Corpus/train/T12154.txt\n",
            "LST20_Corpus/train/._T10743.txt\n",
            "LST20_Corpus/train/T10743.txt\n",
            "LST20_Corpus/train/._T00550.txt\n",
            "LST20_Corpus/train/T00550.txt\n",
            "LST20_Corpus/train/._T10970.txt\n",
            "LST20_Corpus/train/T10970.txt\n",
            "LST20_Corpus/train/._T12815.txt\n",
            "LST20_Corpus/train/T12815.txt\n",
            "LST20_Corpus/train/._T10964.txt\n",
            "LST20_Corpus/train/T10964.txt\n",
            "LST20_Corpus/train/._T12183.txt\n",
            "LST20_Corpus/train/T12183.txt\n",
            "LST20_Corpus/train/._T01699.txt\n",
            "LST20_Corpus/train/T01699.txt\n",
            "LST20_Corpus/train/._T10794.txt\n",
            "LST20_Corpus/train/T10794.txt\n",
            "LST20_Corpus/train/._T00587.txt\n",
            "LST20_Corpus/train/T00587.txt\n",
            "LST20_Corpus/train/._T12829.txt\n",
            "LST20_Corpus/train/T12829.txt\n",
            "LST20_Corpus/train/._T10958.txt\n",
            "LST20_Corpus/train/T10958.txt\n",
            "LST20_Corpus/train/._T10780.txt\n",
            "LST20_Corpus/train/T10780.txt\n",
            "LST20_Corpus/train/._T00593.txt\n",
            "LST20_Corpus/train/T00593.txt\n",
            "LST20_Corpus/train/._T12197.txt\n",
            "LST20_Corpus/train/T12197.txt\n",
            "LST20_Corpus/train/._T12008.txt\n",
            "LST20_Corpus/train/T12008.txt\n",
            "LST20_Corpus/train/._T11501.txt\n",
            "LST20_Corpus/train/T11501.txt\n",
            "LST20_Corpus/train/._T01712.txt\n",
            "LST20_Corpus/train/T01712.txt\n",
            "LST20_Corpus/train/._T10179.txt\n",
            "LST20_Corpus/train/T10179.txt\n",
            "LST20_Corpus/train/._T11267.txt\n",
            "LST20_Corpus/train/T11267.txt\n",
            "LST20_Corpus/train/._T11273.txt\n",
            "LST20_Corpus/train/T11273.txt\n",
            "LST20_Corpus/train/._T11515.txt\n",
            "LST20_Corpus/train/T11515.txt\n",
            "LST20_Corpus/train/._T01706.txt\n",
            "LST20_Corpus/train/T01706.txt\n",
            "LST20_Corpus/train/._T00418.txt\n",
            "LST20_Corpus/train/T00418.txt\n",
            "LST20_Corpus/train/._T00430.txt\n",
            "LST20_Corpus/train/T00430.txt\n",
            "LST20_Corpus/train/._T10623.txt\n",
            "LST20_Corpus/train/T10623.txt\n",
            "LST20_Corpus/train/._T12034.txt\n",
            "LST20_Corpus/train/T12034.txt\n",
            "LST20_Corpus/train/._T10145.txt\n",
            "LST20_Corpus/train/T10145.txt\n",
            "LST20_Corpus/train/._T00356.txt\n",
            "LST20_Corpus/train/T00356.txt\n",
            "LST20_Corpus/train/._T10151.txt\n",
            "LST20_Corpus/train/T10151.txt\n",
            "LST20_Corpus/train/._T00342.txt\n",
            "LST20_Corpus/train/T00342.txt\n",
            "LST20_Corpus/train/._T12020.txt\n",
            "LST20_Corpus/train/T12020.txt\n",
            "LST20_Corpus/train/._T11529.txt\n",
            "LST20_Corpus/train/T11529.txt\n",
            "LST20_Corpus/train/._T00424.txt\n",
            "LST20_Corpus/train/T00424.txt\n",
            "LST20_Corpus/train/._T10637.txt\n",
            "LST20_Corpus/train/T10637.txt\n",
            "LST20_Corpus/train/._T10804.txt\n",
            "LST20_Corpus/train/T10804.txt\n",
            "LST20_Corpus/train/._T12975.txt\n",
            "LST20_Corpus/train/T12975.txt\n",
            "LST20_Corpus/train/._T10810.txt\n",
            "LST20_Corpus/train/T10810.txt\n",
            "LST20_Corpus/train/._T10838.txt\n",
            "LST20_Corpus/train/T10838.txt\n",
            "LST20_Corpus/train/._T11298.txt\n",
            "LST20_Corpus/train/T11298.txt\n",
            "LST20_Corpus/train/._T10186.txt\n",
            "LST20_Corpus/train/T10186.txt\n",
            "LST20_Corpus/train/._T00395.txt\n",
            "LST20_Corpus/train/T00395.txt\n",
            "LST20_Corpus/train/._T12791.txt\n",
            "LST20_Corpus/train/T12791.txt\n",
            "LST20_Corpus/train/._T10192.txt\n",
            "LST20_Corpus/train/T10192.txt\n",
            "LST20_Corpus/train/._T00381.txt\n",
            "LST20_Corpus/train/T00381.txt\n",
            "LST20_Corpus/train/._T11065.txt\n",
            "LST20_Corpus/train/T11065.txt\n",
            "LST20_Corpus/train/._T01276.txt\n",
            "LST20_Corpus/train/T01276.txt\n",
            "LST20_Corpus/train/._T00168.txt\n",
            "LST20_Corpus/train/T00168.txt\n",
            "LST20_Corpus/train/._T01510.txt\n",
            "LST20_Corpus/train/T01510.txt\n",
            "LST20_Corpus/train/._T11703.txt\n",
            "LST20_Corpus/train/T11703.txt\n",
            "LST20_Corpus/train/._T13114.txt\n",
            "LST20_Corpus/train/T13114.txt\n",
            "LST20_Corpus/train/._T13100.txt\n",
            "LST20_Corpus/train/T13100.txt\n",
            "LST20_Corpus/train/._T10409.txt\n",
            "LST20_Corpus/train/T10409.txt\n",
            "LST20_Corpus/train/._T01504.txt\n",
            "LST20_Corpus/train/T01504.txt\n",
            "LST20_Corpus/train/._T11717.txt\n",
            "LST20_Corpus/train/T11717.txt\n",
            "LST20_Corpus/train/._T11071.txt\n",
            "LST20_Corpus/train/T11071.txt\n",
            "LST20_Corpus/train/._T01262.txt\n",
            "LST20_Corpus/train/T01262.txt\n",
            "LST20_Corpus/train/._T11059.txt\n",
            "LST20_Corpus/train/T11059.txt\n",
            "LST20_Corpus/train/._T00154.txt\n",
            "LST20_Corpus/train/T00154.txt\n",
            "LST20_Corpus/train/._T10347.txt\n",
            "LST20_Corpus/train/T10347.txt\n",
            "LST20_Corpus/train/._T13128.txt\n",
            "LST20_Corpus/train/T13128.txt\n",
            "LST20_Corpus/train/._T10421.txt\n",
            "LST20_Corpus/train/T10421.txt\n",
            "LST20_Corpus/train/._T00632.txt\n",
            "LST20_Corpus/train/T00632.txt\n",
            "LST20_Corpus/train/._T10435.txt\n",
            "LST20_Corpus/train/T10435.txt\n",
            "LST20_Corpus/train/._T00626.txt\n",
            "LST20_Corpus/train/T00626.txt\n",
            "LST20_Corpus/train/._T01538.txt\n",
            "LST20_Corpus/train/T01538.txt\n",
            "LST20_Corpus/train/._T12222.txt\n",
            "LST20_Corpus/train/T12222.txt\n",
            "LST20_Corpus/train/._T00140.txt\n",
            "LST20_Corpus/train/T00140.txt\n",
            "LST20_Corpus/train/._T10353.txt\n",
            "LST20_Corpus/train/T10353.txt\n",
            "LST20_Corpus/train/._T00815.txt\n",
            "LST20_Corpus/train/T00815.txt\n",
            "LST20_Corpus/train/._T11918.txt\n",
            "LST20_Corpus/train/T11918.txt\n",
            "LST20_Corpus/train/._T00801.txt\n",
            "LST20_Corpus/train/T00801.txt\n",
            "LST20_Corpus/train/._T00197.txt\n",
            "LST20_Corpus/train/T00197.txt\n",
            "LST20_Corpus/train/._T10384.txt\n",
            "LST20_Corpus/train/T10384.txt\n",
            "LST20_Corpus/train/._T01289.txt\n",
            "LST20_Corpus/train/T01289.txt\n",
            "LST20_Corpus/train/._T00829.txt\n",
            "LST20_Corpus/train/T00829.txt\n",
            "LST20_Corpus/train/._T11924.txt\n",
            "LST20_Corpus/train/T11924.txt\n",
            "LST20_Corpus/train/._T11930.txt\n",
            "LST20_Corpus/train/T11930.txt\n",
            "LST20_Corpus/train/._T00183.txt\n",
            "LST20_Corpus/train/T00183.txt\n",
            "LST20_Corpus/train/._T10390.txt\n",
            "LST20_Corpus/train/T10390.txt\n",
            "LST20_Corpus/train/._T12587.txt\n",
            "LST20_Corpus/train/T12587.txt\n",
            "LST20_Corpus/train/._T11908.txt\n",
            "LST20_Corpus/train/T11908.txt\n",
            "LST20_Corpus/train/._T00805.txt\n",
            "LST20_Corpus/train/T00805.txt\n",
            "LST20_Corpus/train/._T00811.txt\n",
            "LST20_Corpus/train/T00811.txt\n",
            "LST20_Corpus/train/._T01299.txt\n",
            "LST20_Corpus/train/T01299.txt\n",
            "LST20_Corpus/train/._T00187.txt\n",
            "LST20_Corpus/train/T00187.txt\n",
            "LST20_Corpus/train/._T10394.txt\n",
            "LST20_Corpus/train/T10394.txt\n",
            "LST20_Corpus/train/._T11934.txt\n",
            "LST20_Corpus/train/T11934.txt\n",
            "LST20_Corpus/train/._T00839.txt\n",
            "LST20_Corpus/train/T00839.txt\n",
            "LST20_Corpus/train/._T00193.txt\n",
            "LST20_Corpus/train/T00193.txt\n",
            "LST20_Corpus/train/._T10380.txt\n",
            "LST20_Corpus/train/T10380.txt\n",
            "LST20_Corpus/train/._T00178.txt\n",
            "LST20_Corpus/train/T00178.txt\n",
            "LST20_Corpus/train/._T11075.txt\n",
            "LST20_Corpus/train/T11075.txt\n",
            "LST20_Corpus/train/._T01266.txt\n",
            "LST20_Corpus/train/T01266.txt\n",
            "LST20_Corpus/train/._T01500.txt\n",
            "LST20_Corpus/train/T01500.txt\n",
            "LST20_Corpus/train/._T11713.txt\n",
            "LST20_Corpus/train/T11713.txt\n",
            "LST20_Corpus/train/._T13104.txt\n",
            "LST20_Corpus/train/T13104.txt\n",
            "LST20_Corpus/train/._T13110.txt\n",
            "LST20_Corpus/train/T13110.txt\n",
            "LST20_Corpus/train/._T01514.txt\n",
            "LST20_Corpus/train/T01514.txt\n",
            "LST20_Corpus/train/._T11707.txt\n",
            "LST20_Corpus/train/T11707.txt\n",
            "LST20_Corpus/train/._T10419.txt\n",
            "LST20_Corpus/train/T10419.txt\n",
            "LST20_Corpus/train/._T11061.txt\n",
            "LST20_Corpus/train/T11061.txt\n",
            "LST20_Corpus/train/._T01272.txt\n",
            "LST20_Corpus/train/T01272.txt\n",
            "LST20_Corpus/train/._T12568.txt\n",
            "LST20_Corpus/train/T12568.txt\n",
            "LST20_Corpus/train/._T00144.txt\n",
            "LST20_Corpus/train/T00144.txt\n",
            "LST20_Corpus/train/._T10357.txt\n",
            "LST20_Corpus/train/T10357.txt\n",
            "LST20_Corpus/train/._T11049.txt\n",
            "LST20_Corpus/train/T11049.txt\n",
            "LST20_Corpus/train/._T12540.txt\n",
            "LST20_Corpus/train/T12540.txt\n",
            "LST20_Corpus/train/._T12226.txt\n",
            "LST20_Corpus/train/T12226.txt\n",
            "LST20_Corpus/train/._T10431.txt\n",
            "LST20_Corpus/train/T10431.txt\n",
            "LST20_Corpus/train/._T00622.txt\n",
            "LST20_Corpus/train/T00622.txt\n",
            "LST20_Corpus/train/._T01528.txt\n",
            "LST20_Corpus/train/T01528.txt\n",
            "LST20_Corpus/train/._T00636.txt\n",
            "LST20_Corpus/train/T00636.txt\n",
            "LST20_Corpus/train/._T00150.txt\n",
            "LST20_Corpus/train/T00150.txt\n",
            "LST20_Corpus/train/._T10343.txt\n",
            "LST20_Corpus/train/T10343.txt\n",
            "LST20_Corpus/train/._T10814.txt\n",
            "LST20_Corpus/train/T10814.txt\n",
            "LST20_Corpus/train/._T12965.txt\n",
            "LST20_Corpus/train/T12965.txt\n",
            "LST20_Corpus/train/._T12971.txt\n",
            "LST20_Corpus/train/T12971.txt\n",
            "LST20_Corpus/train/._T10800.txt\n",
            "LST20_Corpus/train/T10800.txt\n",
            "LST20_Corpus/train/._T10828.txt\n",
            "LST20_Corpus/train/T10828.txt\n",
            "LST20_Corpus/train/._T10196.txt\n",
            "LST20_Corpus/train/T10196.txt\n",
            "LST20_Corpus/train/._T00385.txt\n",
            "LST20_Corpus/train/T00385.txt\n",
            "LST20_Corpus/train/._T11288.txt\n",
            "LST20_Corpus/train/T11288.txt\n",
            "LST20_Corpus/train/._T12959.txt\n",
            "LST20_Corpus/train/T12959.txt\n",
            "LST20_Corpus/train/._T10182.txt\n",
            "LST20_Corpus/train/T10182.txt\n",
            "LST20_Corpus/train/._T00391.txt\n",
            "LST20_Corpus/train/T00391.txt\n",
            "LST20_Corpus/train/._T12018.txt\n",
            "LST20_Corpus/train/T12018.txt\n",
            "LST20_Corpus/train/._T11511.txt\n",
            "LST20_Corpus/train/T11511.txt\n",
            "LST20_Corpus/train/._T01702.txt\n",
            "LST20_Corpus/train/T01702.txt\n",
            "LST20_Corpus/train/._T11277.txt\n",
            "LST20_Corpus/train/T11277.txt\n",
            "LST20_Corpus/train/._T10169.txt\n",
            "LST20_Corpus/train/T10169.txt\n",
            "LST20_Corpus/train/._T11263.txt\n",
            "LST20_Corpus/train/T11263.txt\n",
            "LST20_Corpus/train/._T00408.txt\n",
            "LST20_Corpus/train/T00408.txt\n",
            "LST20_Corpus/train/._T11505.txt\n",
            "LST20_Corpus/train/T11505.txt\n",
            "LST20_Corpus/train/._T01716.txt\n",
            "LST20_Corpus/train/T01716.txt\n",
            "LST20_Corpus/train/._T00420.txt\n",
            "LST20_Corpus/train/T00420.txt\n",
            "LST20_Corpus/train/._T10633.txt\n",
            "LST20_Corpus/train/T10633.txt\n",
            "LST20_Corpus/train/._T12024.txt\n",
            "LST20_Corpus/train/T12024.txt\n",
            "LST20_Corpus/train/._T10155.txt\n",
            "LST20_Corpus/train/T10155.txt\n",
            "LST20_Corpus/train/._T00346.txt\n",
            "LST20_Corpus/train/T00346.txt\n",
            "LST20_Corpus/train/._T10141.txt\n",
            "LST20_Corpus/train/T10141.txt\n",
            "LST20_Corpus/train/._T00352.txt\n",
            "LST20_Corpus/train/T00352.txt\n",
            "LST20_Corpus/train/._T00434.txt\n",
            "LST20_Corpus/train/T00434.txt\n",
            "LST20_Corpus/train/._T10627.txt\n",
            "LST20_Corpus/train/T10627.txt\n",
            "LST20_Corpus/train/._T11539.txt\n",
            "LST20_Corpus/train/T11539.txt\n",
            "LST20_Corpus/train/._T10960.txt\n",
            "LST20_Corpus/train/T10960.txt\n",
            "LST20_Corpus/train/._T12811.txt\n",
            "LST20_Corpus/train/T12811.txt\n",
            "LST20_Corpus/train/._T12805.txt\n",
            "LST20_Corpus/train/T12805.txt\n",
            "LST20_Corpus/train/._T10974.txt\n",
            "LST20_Corpus/train/T10974.txt\n",
            "LST20_Corpus/train/._T10784.txt\n",
            "LST20_Corpus/train/T10784.txt\n",
            "LST20_Corpus/train/._T00597.txt\n",
            "LST20_Corpus/train/T00597.txt\n",
            "LST20_Corpus/train/._T01689.txt\n",
            "LST20_Corpus/train/T01689.txt\n",
            "LST20_Corpus/train/._T12839.txt\n",
            "LST20_Corpus/train/T12839.txt\n",
            "LST20_Corpus/train/._T10790.txt\n",
            "LST20_Corpus/train/T10790.txt\n",
            "LST20_Corpus/train/._T00583.txt\n",
            "LST20_Corpus/train/T00583.txt\n",
            "LST20_Corpus/train/._T10948.txt\n",
            "LST20_Corpus/train/T10948.txt\n",
            "LST20_Corpus/train/._T01676.txt\n",
            "LST20_Corpus/train/T01676.txt\n",
            "LST20_Corpus/train/._T11465.txt\n",
            "LST20_Corpus/train/T11465.txt\n",
            "LST20_Corpus/train/._T00568.txt\n",
            "LST20_Corpus/train/T00568.txt\n",
            "LST20_Corpus/train/._T11303.txt\n",
            "LST20_Corpus/train/T11303.txt\n",
            "LST20_Corpus/train/._T10009.txt\n",
            "LST20_Corpus/train/T10009.txt\n",
            "LST20_Corpus/train/._T11317.txt\n",
            "LST20_Corpus/train/T11317.txt\n",
            "LST20_Corpus/train/._T01662.txt\n",
            "LST20_Corpus/train/T01662.txt\n",
            "LST20_Corpus/train/._T11471.txt\n",
            "LST20_Corpus/train/T11471.txt\n",
            "LST20_Corpus/train/._T11459.txt\n",
            "LST20_Corpus/train/T11459.txt\n",
            "LST20_Corpus/train/._T10747.txt\n",
            "LST20_Corpus/train/T10747.txt\n",
            "LST20_Corpus/train/._T00554.txt\n",
            "LST20_Corpus/train/T00554.txt\n",
            "LST20_Corpus/train/._T12150.txt\n",
            "LST20_Corpus/train/T12150.txt\n",
            "LST20_Corpus/train/._T00232.txt\n",
            "LST20_Corpus/train/T00232.txt\n",
            "LST20_Corpus/train/._T10021.txt\n",
            "LST20_Corpus/train/T10021.txt\n",
            "LST20_Corpus/train/._T00226.txt\n",
            "LST20_Corpus/train/T00226.txt\n",
            "LST20_Corpus/train/._T10035.txt\n",
            "LST20_Corpus/train/T10035.txt\n",
            "LST20_Corpus/train/._T01138.txt\n",
            "LST20_Corpus/train/T01138.txt\n",
            "LST20_Corpus/train/._T10753.txt\n",
            "LST20_Corpus/train/T10753.txt\n",
            "LST20_Corpus/train/._T00540.txt\n",
            "LST20_Corpus/train/T00540.txt\n",
            "LST20_Corpus/train/._T00971.txt\n",
            "LST20_Corpus/train/T00971.txt\n",
            "LST20_Corpus/train/._T00965.txt\n",
            "LST20_Corpus/train/T00965.txt\n",
            "LST20_Corpus/train/._T11868.txt\n",
            "LST20_Corpus/train/T11868.txt\n",
            "LST20_Corpus/train/._T11698.txt\n",
            "LST20_Corpus/train/T11698.txt\n",
            "LST20_Corpus/train/._T00795.txt\n",
            "LST20_Corpus/train/T00795.txt\n",
            "LST20_Corpus/train/._T11840.txt\n",
            "LST20_Corpus/train/T11840.txt\n",
            "LST20_Corpus/train/._T10586.txt\n",
            "LST20_Corpus/train/T10586.txt\n",
            "LST20_Corpus/train/._T00959.txt\n",
            "LST20_Corpus/train/T00959.txt\n",
            "LST20_Corpus/train/._T11854.txt\n",
            "LST20_Corpus/train/T11854.txt\n",
            "LST20_Corpus/train/._T00781.txt\n",
            "LST20_Corpus/train/T00781.txt\n",
            "LST20_Corpus/train/._T10592.txt\n",
            "LST20_Corpus/train/T10592.txt\n",
            "LST20_Corpus/train/._T12408.txt\n",
            "LST20_Corpus/train/T12408.txt\n",
            "LST20_Corpus/train/._T01312.txt\n",
            "LST20_Corpus/train/T01312.txt\n",
            "LST20_Corpus/train/._T11101.txt\n",
            "LST20_Corpus/train/T11101.txt\n",
            "LST20_Corpus/train/._T10579.txt\n",
            "LST20_Corpus/train/T10579.txt\n",
            "LST20_Corpus/train/._T11667.txt\n",
            "LST20_Corpus/train/T11667.txt\n",
            "LST20_Corpus/train/._T01474.txt\n",
            "LST20_Corpus/train/T01474.txt\n",
            "LST20_Corpus/train/._T13070.txt\n",
            "LST20_Corpus/train/T13070.txt\n",
            "LST20_Corpus/train/._T11673.txt\n",
            "LST20_Corpus/train/T11673.txt\n",
            "LST20_Corpus/train/._T01460.txt\n",
            "LST20_Corpus/train/T01460.txt\n",
            "LST20_Corpus/train/._T01306.txt\n",
            "LST20_Corpus/train/T01306.txt\n",
            "LST20_Corpus/train/._T11115.txt\n",
            "LST20_Corpus/train/T11115.txt\n",
            "LST20_Corpus/train/._T10223.txt\n",
            "LST20_Corpus/train/T10223.txt\n",
            "LST20_Corpus/train/._T12352.txt\n",
            "LST20_Corpus/train/T12352.txt\n",
            "LST20_Corpus/train/._T00756.txt\n",
            "LST20_Corpus/train/T00756.txt\n",
            "LST20_Corpus/train/._T11883.txt\n",
            "LST20_Corpus/train/T11883.txt\n",
            "LST20_Corpus/train/._T10545.txt\n",
            "LST20_Corpus/train/T10545.txt\n",
            "LST20_Corpus/train/._T01448.txt\n",
            "LST20_Corpus/train/T01448.txt\n",
            "LST20_Corpus/train/._T11897.txt\n",
            "LST20_Corpus/train/T11897.txt\n",
            "LST20_Corpus/train/._T00742.txt\n",
            "LST20_Corpus/train/T00742.txt\n",
            "LST20_Corpus/train/._T10551.txt\n",
            "LST20_Corpus/train/T10551.txt\n",
            "LST20_Corpus/train/._T13058.txt\n",
            "LST20_Corpus/train/T13058.txt\n",
            "LST20_Corpus/train/._T12420.txt\n",
            "LST20_Corpus/train/T12420.txt\n",
            "LST20_Corpus/train/._T11129.txt\n",
            "LST20_Corpus/train/T11129.txt\n",
            "LST20_Corpus/train/._T10237.txt\n",
            "LST20_Corpus/train/T10237.txt\n",
            "LST20_Corpus/train/._T13059.txt\n",
            "LST20_Corpus/train/T13059.txt\n",
            "LST20_Corpus/train/._T10550.txt\n",
            "LST20_Corpus/train/T10550.txt\n",
            "LST20_Corpus/train/._T00743.txt\n",
            "LST20_Corpus/train/T00743.txt\n",
            "LST20_Corpus/train/._T11896.txt\n",
            "LST20_Corpus/train/T11896.txt\n",
            "LST20_Corpus/train/._T10236.txt\n",
            "LST20_Corpus/train/T10236.txt\n",
            "LST20_Corpus/train/._T11128.txt\n",
            "LST20_Corpus/train/T11128.txt\n",
            "LST20_Corpus/train/._T12421.txt\n",
            "LST20_Corpus/train/T12421.txt\n",
            "LST20_Corpus/train/._T12435.txt\n",
            "LST20_Corpus/train/T12435.txt\n",
            "LST20_Corpus/train/._T10222.txt\n",
            "LST20_Corpus/train/T10222.txt\n",
            "LST20_Corpus/train/._T01449.txt\n",
            "LST20_Corpus/train/T01449.txt\n",
            "LST20_Corpus/train/._T10544.txt\n",
            "LST20_Corpus/train/T10544.txt\n",
            "LST20_Corpus/train/._T11882.txt\n",
            "LST20_Corpus/train/T11882.txt\n",
            "LST20_Corpus/train/._T00757.txt\n",
            "LST20_Corpus/train/T00757.txt\n",
            "LST20_Corpus/train/._T12353.txt\n",
            "LST20_Corpus/train/T12353.txt\n",
            "LST20_Corpus/train/._T01461.txt\n",
            "LST20_Corpus/train/T01461.txt\n",
            "LST20_Corpus/train/._T13065.txt\n",
            "LST20_Corpus/train/T13065.txt\n",
            "LST20_Corpus/train/._T11114.txt\n",
            "LST20_Corpus/train/T11114.txt\n",
            "LST20_Corpus/train/._T01307.txt\n",
            "LST20_Corpus/train/T01307.txt\n",
            "LST20_Corpus/train/._T11100.txt\n",
            "LST20_Corpus/train/T11100.txt\n",
            "LST20_Corpus/train/._T12409.txt\n",
            "LST20_Corpus/train/T12409.txt\n",
            "LST20_Corpus/train/._T13071.txt\n",
            "LST20_Corpus/train/T13071.txt\n",
            "LST20_Corpus/train/._T01475.txt\n",
            "LST20_Corpus/train/T01475.txt\n",
            "LST20_Corpus/train/._T11666.txt\n",
            "LST20_Corpus/train/T11666.txt\n",
            "LST20_Corpus/train/._T10578.txt\n",
            "LST20_Corpus/train/T10578.txt\n",
            "LST20_Corpus/train/._T10593.txt\n",
            "LST20_Corpus/train/T10593.txt\n",
            "LST20_Corpus/train/._T00780.txt\n",
            "LST20_Corpus/train/T00780.txt\n",
            "LST20_Corpus/train/._T00958.txt\n",
            "LST20_Corpus/train/T00958.txt\n",
            "LST20_Corpus/train/._T12384.txt\n",
            "LST20_Corpus/train/T12384.txt\n",
            "LST20_Corpus/train/._T10587.txt\n",
            "LST20_Corpus/train/T10587.txt\n",
            "LST20_Corpus/train/._T11841.txt\n",
            "LST20_Corpus/train/T11841.txt\n",
            "LST20_Corpus/train/._T00794.txt\n",
            "LST20_Corpus/train/T00794.txt\n",
            "LST20_Corpus/train/._T11699.txt\n",
            "LST20_Corpus/train/T11699.txt\n",
            "LST20_Corpus/train/._T11869.txt\n",
            "LST20_Corpus/train/T11869.txt\n",
            "LST20_Corpus/train/._T00964.txt\n",
            "LST20_Corpus/train/T00964.txt\n",
            "LST20_Corpus/train/._T00970.txt\n",
            "LST20_Corpus/train/T00970.txt\n",
            "LST20_Corpus/train/._T01139.txt\n",
            "LST20_Corpus/train/T01139.txt\n",
            "LST20_Corpus/train/._T10034.txt\n",
            "LST20_Corpus/train/T10034.txt\n",
            "LST20_Corpus/train/._T00227.txt\n",
            "LST20_Corpus/train/T00227.txt\n",
            "LST20_Corpus/train/._T00541.txt\n",
            "LST20_Corpus/train/T00541.txt\n",
            "LST20_Corpus/train/._T10752.txt\n",
            "LST20_Corpus/train/T10752.txt\n",
            "LST20_Corpus/train/._T12145.txt\n",
            "LST20_Corpus/train/T12145.txt\n",
            "LST20_Corpus/train/._T12151.txt\n",
            "LST20_Corpus/train/T12151.txt\n",
            "LST20_Corpus/train/._T00555.txt\n",
            "LST20_Corpus/train/T00555.txt\n",
            "LST20_Corpus/train/._T10746.txt\n",
            "LST20_Corpus/train/T10746.txt\n",
            "LST20_Corpus/train/._T11458.txt\n",
            "LST20_Corpus/train/T11458.txt\n",
            "LST20_Corpus/train/._T10020.txt\n",
            "LST20_Corpus/train/T10020.txt\n",
            "LST20_Corpus/train/._T00233.txt\n",
            "LST20_Corpus/train/T00233.txt\n",
            "LST20_Corpus/train/._T10008.txt\n",
            "LST20_Corpus/train/T10008.txt\n",
            "LST20_Corpus/train/._T11470.txt\n",
            "LST20_Corpus/train/T11470.txt\n",
            "LST20_Corpus/train/._T01663.txt\n",
            "LST20_Corpus/train/T01663.txt\n",
            "LST20_Corpus/train/._T00569.txt\n",
            "LST20_Corpus/train/T00569.txt\n",
            "LST20_Corpus/train/._T11464.txt\n",
            "LST20_Corpus/train/T11464.txt\n",
            "LST20_Corpus/train/._T01677.txt\n",
            "LST20_Corpus/train/T01677.txt\n",
            "LST20_Corpus/train/._T11302.txt\n",
            "LST20_Corpus/train/T11302.txt\n",
            "LST20_Corpus/train/._T12838.txt\n",
            "LST20_Corpus/train/T12838.txt\n",
            "LST20_Corpus/train/._T10949.txt\n",
            "LST20_Corpus/train/T10949.txt\n",
            "LST20_Corpus/train/._T00582.txt\n",
            "LST20_Corpus/train/T00582.txt\n",
            "LST20_Corpus/train/._T10791.txt\n",
            "LST20_Corpus/train/T10791.txt\n",
            "LST20_Corpus/train/._T01688.txt\n",
            "LST20_Corpus/train/T01688.txt\n",
            "LST20_Corpus/train/._T00596.txt\n",
            "LST20_Corpus/train/T00596.txt\n",
            "LST20_Corpus/train/._T10785.txt\n",
            "LST20_Corpus/train/T10785.txt\n",
            "LST20_Corpus/train/._T12804.txt\n",
            "LST20_Corpus/train/T12804.txt\n",
            "LST20_Corpus/train/._T10975.txt\n",
            "LST20_Corpus/train/T10975.txt\n",
            "LST20_Corpus/train/._T10961.txt\n",
            "LST20_Corpus/train/T10961.txt\n",
            "LST20_Corpus/train/._T12810.txt\n",
            "LST20_Corpus/train/T12810.txt\n",
            "LST20_Corpus/train/._T00353.txt\n",
            "LST20_Corpus/train/T00353.txt\n",
            "LST20_Corpus/train/._T10140.txt\n",
            "LST20_Corpus/train/T10140.txt\n",
            "LST20_Corpus/train/._T11538.txt\n",
            "LST20_Corpus/train/T11538.txt\n",
            "LST20_Corpus/train/._T10626.txt\n",
            "LST20_Corpus/train/T10626.txt\n",
            "LST20_Corpus/train/._T00435.txt\n",
            "LST20_Corpus/train/T00435.txt\n",
            "LST20_Corpus/train/._T10632.txt\n",
            "LST20_Corpus/train/T10632.txt\n",
            "LST20_Corpus/train/._T00421.txt\n",
            "LST20_Corpus/train/T00421.txt\n",
            "LST20_Corpus/train/._T00347.txt\n",
            "LST20_Corpus/train/T00347.txt\n",
            "LST20_Corpus/train/._T10154.txt\n",
            "LST20_Corpus/train/T10154.txt\n",
            "LST20_Corpus/train/._T11262.txt\n",
            "LST20_Corpus/train/T11262.txt\n",
            "LST20_Corpus/train/._T01717.txt\n",
            "LST20_Corpus/train/T01717.txt\n",
            "LST20_Corpus/train/._T11504.txt\n",
            "LST20_Corpus/train/T11504.txt\n",
            "LST20_Corpus/train/._T00409.txt\n",
            "LST20_Corpus/train/T00409.txt\n",
            "LST20_Corpus/train/._T01703.txt\n",
            "LST20_Corpus/train/T01703.txt\n",
            "LST20_Corpus/train/._T12019.txt\n",
            "LST20_Corpus/train/T12019.txt\n",
            "LST20_Corpus/train/._T10168.txt\n",
            "LST20_Corpus/train/T10168.txt\n",
            "LST20_Corpus/train/._T11276.txt\n",
            "LST20_Corpus/train/T11276.txt\n",
            "LST20_Corpus/train/._T00390.txt\n",
            "LST20_Corpus/train/T00390.txt\n",
            "LST20_Corpus/train/._T10183.txt\n",
            "LST20_Corpus/train/T10183.txt\n",
            "LST20_Corpus/train/._T10829.txt\n",
            "LST20_Corpus/train/T10829.txt\n",
            "LST20_Corpus/train/._T12958.txt\n",
            "LST20_Corpus/train/T12958.txt\n",
            "LST20_Corpus/train/._T11289.txt\n",
            "LST20_Corpus/train/T11289.txt\n",
            "LST20_Corpus/train/._T00384.txt\n",
            "LST20_Corpus/train/T00384.txt\n",
            "LST20_Corpus/train/._T10197.txt\n",
            "LST20_Corpus/train/T10197.txt\n",
            "LST20_Corpus/train/._T12970.txt\n",
            "LST20_Corpus/train/T12970.txt\n",
            "LST20_Corpus/train/._T10801.txt\n",
            "LST20_Corpus/train/T10801.txt\n",
            "LST20_Corpus/train/._T10815.txt\n",
            "LST20_Corpus/train/T10815.txt\n",
            "LST20_Corpus/train/._T12964.txt\n",
            "LST20_Corpus/train/T12964.txt\n",
            "LST20_Corpus/train/._T00637.txt\n",
            "LST20_Corpus/train/T00637.txt\n",
            "LST20_Corpus/train/._T10424.txt\n",
            "LST20_Corpus/train/T10424.txt\n",
            "LST20_Corpus/train/._T01529.txt\n",
            "LST20_Corpus/train/T01529.txt\n",
            "LST20_Corpus/train/._T10342.txt\n",
            "LST20_Corpus/train/T10342.txt\n",
            "LST20_Corpus/train/._T00151.txt\n",
            "LST20_Corpus/train/T00151.txt\n",
            "LST20_Corpus/train/._T11048.txt\n",
            "LST20_Corpus/train/T11048.txt\n",
            "LST20_Corpus/train/._T10356.txt\n",
            "LST20_Corpus/train/T10356.txt\n",
            "LST20_Corpus/train/._T00145.txt\n",
            "LST20_Corpus/train/T00145.txt\n",
            "LST20_Corpus/train/._T00623.txt\n",
            "LST20_Corpus/train/T00623.txt\n",
            "LST20_Corpus/train/._T10430.txt\n",
            "LST20_Corpus/train/T10430.txt\n",
            "LST20_Corpus/train/._T12227.txt\n",
            "LST20_Corpus/train/T12227.txt\n",
            "LST20_Corpus/train/._T10418.txt\n",
            "LST20_Corpus/train/T10418.txt\n",
            "LST20_Corpus/train/._T11706.txt\n",
            "LST20_Corpus/train/T11706.txt\n",
            "LST20_Corpus/train/._T01515.txt\n",
            "LST20_Corpus/train/T01515.txt\n",
            "LST20_Corpus/train/._T13111.txt\n",
            "LST20_Corpus/train/T13111.txt\n",
            "LST20_Corpus/train/._T12569.txt\n",
            "LST20_Corpus/train/T12569.txt\n",
            "LST20_Corpus/train/._T01273.txt\n",
            "LST20_Corpus/train/T01273.txt\n",
            "LST20_Corpus/train/._T11060.txt\n",
            "LST20_Corpus/train/T11060.txt\n",
            "LST20_Corpus/train/._T01267.txt\n",
            "LST20_Corpus/train/T01267.txt\n",
            "LST20_Corpus/train/._T11074.txt\n",
            "LST20_Corpus/train/T11074.txt\n",
            "LST20_Corpus/train/._T00179.txt\n",
            "LST20_Corpus/train/T00179.txt\n",
            "LST20_Corpus/train/._T13105.txt\n",
            "LST20_Corpus/train/T13105.txt\n",
            "LST20_Corpus/train/._T11712.txt\n",
            "LST20_Corpus/train/T11712.txt\n",
            "LST20_Corpus/train/._T01501.txt\n",
            "LST20_Corpus/train/T01501.txt\n",
            "LST20_Corpus/train/._T11921.txt\n",
            "LST20_Corpus/train/T11921.txt\n",
            "LST20_Corpus/train/._T10381.txt\n",
            "LST20_Corpus/train/T10381.txt\n",
            "LST20_Corpus/train/._T00192.txt\n",
            "LST20_Corpus/train/T00192.txt\n",
            "LST20_Corpus/train/._T10395.txt\n",
            "LST20_Corpus/train/T10395.txt\n",
            "LST20_Corpus/train/._T00186.txt\n",
            "LST20_Corpus/train/T00186.txt\n",
            "LST20_Corpus/train/._T01298.txt\n",
            "LST20_Corpus/train/T01298.txt\n",
            "LST20_Corpus/train/._T00838.txt\n",
            "LST20_Corpus/train/T00838.txt\n",
            "LST20_Corpus/train/._T11935.txt\n",
            "LST20_Corpus/train/T11935.txt\n",
            "LST20_Corpus/train/._T00810.txt\n",
            "LST20_Corpus/train/T00810.txt\n",
            "LST20_Corpus/train/._T00804.txt\n",
            "LST20_Corpus/train/T00804.txt\n",
            "LST20_Corpus/train/._T11909.txt\n",
            "LST20_Corpus/train/T11909.txt\n",
            "LST20_Corpus/train/._T00812.txt\n",
            "LST20_Corpus/train/T00812.txt\n",
            "LST20_Corpus/train/._T00806.txt\n",
            "LST20_Corpus/train/T00806.txt\n",
            "LST20_Corpus/train/._T00190.txt\n",
            "LST20_Corpus/train/T00190.txt\n",
            "LST20_Corpus/train/._T10383.txt\n",
            "LST20_Corpus/train/T10383.txt\n",
            "LST20_Corpus/train/._T11923.txt\n",
            "LST20_Corpus/train/T11923.txt\n",
            "LST20_Corpus/train/._T11937.txt\n",
            "LST20_Corpus/train/T11937.txt\n",
            "LST20_Corpus/train/._T11089.txt\n",
            "LST20_Corpus/train/T11089.txt\n",
            "LST20_Corpus/train/._T00184.txt\n",
            "LST20_Corpus/train/T00184.txt\n",
            "LST20_Corpus/train/._T10397.txt\n",
            "LST20_Corpus/train/T10397.txt\n",
            "LST20_Corpus/train/._T11062.txt\n",
            "LST20_Corpus/train/T11062.txt\n",
            "LST20_Corpus/train/._T01271.txt\n",
            "LST20_Corpus/train/T01271.txt\n",
            "LST20_Corpus/train/._T13113.txt\n",
            "LST20_Corpus/train/T13113.txt\n",
            "LST20_Corpus/train/._T01517.txt\n",
            "LST20_Corpus/train/T01517.txt\n",
            "LST20_Corpus/train/._T11704.txt\n",
            "LST20_Corpus/train/T11704.txt\n",
            "LST20_Corpus/train/._T00609.txt\n",
            "LST20_Corpus/train/T00609.txt\n",
            "LST20_Corpus/train/._T01503.txt\n",
            "LST20_Corpus/train/T01503.txt\n",
            "LST20_Corpus/train/._T11710.txt\n",
            "LST20_Corpus/train/T11710.txt\n",
            "LST20_Corpus/train/._T13107.txt\n",
            "LST20_Corpus/train/T13107.txt\n",
            "LST20_Corpus/train/._T12219.txt\n",
            "LST20_Corpus/train/T12219.txt\n",
            "LST20_Corpus/train/._T11076.txt\n",
            "LST20_Corpus/train/T11076.txt\n",
            "LST20_Corpus/train/._T01265.txt\n",
            "LST20_Corpus/train/T01265.txt\n",
            "LST20_Corpus/train/._T00153.txt\n",
            "LST20_Corpus/train/T00153.txt\n",
            "LST20_Corpus/train/._T10340.txt\n",
            "LST20_Corpus/train/T10340.txt\n",
            "LST20_Corpus/train/._T11738.txt\n",
            "LST20_Corpus/train/T11738.txt\n",
            "LST20_Corpus/train/._T10426.txt\n",
            "LST20_Corpus/train/T10426.txt\n",
            "LST20_Corpus/train/._T00635.txt\n",
            "LST20_Corpus/train/T00635.txt\n",
            "LST20_Corpus/train/._T12225.txt\n",
            "LST20_Corpus/train/T12225.txt\n",
            "LST20_Corpus/train/._T10432.txt\n",
            "LST20_Corpus/train/T10432.txt\n",
            "LST20_Corpus/train/._T00621.txt\n",
            "LST20_Corpus/train/T00621.txt\n",
            "LST20_Corpus/train/._T00147.txt\n",
            "LST20_Corpus/train/T00147.txt\n",
            "LST20_Corpus/train/._T10354.txt\n",
            "LST20_Corpus/train/T10354.txt\n",
            "LST20_Corpus/train/._T01259.txt\n",
            "LST20_Corpus/train/T01259.txt\n",
            "LST20_Corpus/train/._T10803.txt\n",
            "LST20_Corpus/train/T10803.txt\n",
            "LST20_Corpus/train/._T12972.txt\n",
            "LST20_Corpus/train/T12972.txt\n",
            "LST20_Corpus/train/._T12966.txt\n",
            "LST20_Corpus/train/T12966.txt\n",
            "LST20_Corpus/train/._T10817.txt\n",
            "LST20_Corpus/train/T10817.txt\n",
            "LST20_Corpus/train/._T10181.txt\n",
            "LST20_Corpus/train/T10181.txt\n",
            "LST20_Corpus/train/._T00392.txt\n",
            "LST20_Corpus/train/T00392.txt\n",
            "LST20_Corpus/train/._T10195.txt\n",
            "LST20_Corpus/train/T10195.txt\n",
            "LST20_Corpus/train/._T00386.txt\n",
            "LST20_Corpus/train/T00386.txt\n",
            "LST20_Corpus/train/._T10618.txt\n",
            "LST20_Corpus/train/T10618.txt\n",
            "LST20_Corpus/train/._T11506.txt\n",
            "LST20_Corpus/train/T11506.txt\n",
            "LST20_Corpus/train/._T01715.txt\n",
            "LST20_Corpus/train/T01715.txt\n",
            "LST20_Corpus/train/._T11260.txt\n",
            "LST20_Corpus/train/T11260.txt\n",
            "LST20_Corpus/train/._T11274.txt\n",
            "LST20_Corpus/train/T11274.txt\n",
            "LST20_Corpus/train/._T00379.txt\n",
            "LST20_Corpus/train/T00379.txt\n",
            "LST20_Corpus/train/._T11512.txt\n",
            "LST20_Corpus/train/T11512.txt\n",
            "LST20_Corpus/train/._T01701.txt\n",
            "LST20_Corpus/train/T01701.txt\n",
            "LST20_Corpus/train/._T00437.txt\n",
            "LST20_Corpus/train/T00437.txt\n",
            "LST20_Corpus/train/._T10624.txt\n",
            "LST20_Corpus/train/T10624.txt\n",
            "LST20_Corpus/train/._T01729.txt\n",
            "LST20_Corpus/train/T01729.txt\n",
            "LST20_Corpus/train/._T10142.txt\n",
            "LST20_Corpus/train/T10142.txt\n",
            "LST20_Corpus/train/._T00351.txt\n",
            "LST20_Corpus/train/T00351.txt\n",
            "LST20_Corpus/train/._T12999.txt\n",
            "LST20_Corpus/train/T12999.txt\n",
            "LST20_Corpus/train/._T11248.txt\n",
            "LST20_Corpus/train/T11248.txt\n",
            "LST20_Corpus/train/._T10156.txt\n",
            "LST20_Corpus/train/T10156.txt\n",
            "LST20_Corpus/train/._T00345.txt\n",
            "LST20_Corpus/train/T00345.txt\n",
            "LST20_Corpus/train/._T00423.txt\n",
            "LST20_Corpus/train/T00423.txt\n",
            "LST20_Corpus/train/._T10630.txt\n",
            "LST20_Corpus/train/T10630.txt\n",
            "LST20_Corpus/train/._T10977.txt\n",
            "LST20_Corpus/train/T10977.txt\n",
            "LST20_Corpus/train/._T12806.txt\n",
            "LST20_Corpus/train/T12806.txt\n",
            "LST20_Corpus/train/._T12812.txt\n",
            "LST20_Corpus/train/T12812.txt\n",
            "LST20_Corpus/train/._T10963.txt\n",
            "LST20_Corpus/train/T10963.txt\n",
            "LST20_Corpus/train/._T10793.txt\n",
            "LST20_Corpus/train/T10793.txt\n",
            "LST20_Corpus/train/._T00580.txt\n",
            "LST20_Corpus/train/T00580.txt\n",
            "LST20_Corpus/train/._T10787.txt\n",
            "LST20_Corpus/train/T10787.txt\n",
            "LST20_Corpus/train/._T00594.txt\n",
            "LST20_Corpus/train/T00594.txt\n",
            "LST20_Corpus/train/._T11499.txt\n",
            "LST20_Corpus/train/T11499.txt\n",
            "LST20_Corpus/train/._T01661.txt\n",
            "LST20_Corpus/train/T01661.txt\n",
            "LST20_Corpus/train/._T11472.txt\n",
            "LST20_Corpus/train/T11472.txt\n",
            "LST20_Corpus/train/._T00219.txt\n",
            "LST20_Corpus/train/T00219.txt\n",
            "LST20_Corpus/train/._T11314.txt\n",
            "LST20_Corpus/train/T11314.txt\n",
            "LST20_Corpus/train/._T11300.txt\n",
            "LST20_Corpus/train/T11300.txt\n",
            "LST20_Corpus/train/._T01675.txt\n",
            "LST20_Corpus/train/T01675.txt\n",
            "LST20_Corpus/train/._T11466.txt\n",
            "LST20_Corpus/train/T11466.txt\n",
            "LST20_Corpus/train/._T10778.txt\n",
            "LST20_Corpus/train/T10778.txt\n",
            "LST20_Corpus/train/._T12147.txt\n",
            "LST20_Corpus/train/T12147.txt\n",
            "LST20_Corpus/train/._T10988.txt\n",
            "LST20_Corpus/train/T10988.txt\n",
            "LST20_Corpus/train/._T10750.txt\n",
            "LST20_Corpus/train/T10750.txt\n",
            "LST20_Corpus/train/._T00543.txt\n",
            "LST20_Corpus/train/T00543.txt\n",
            "LST20_Corpus/train/._T00225.txt\n",
            "LST20_Corpus/train/T00225.txt\n",
            "LST20_Corpus/train/._T10036.txt\n",
            "LST20_Corpus/train/T10036.txt\n",
            "LST20_Corpus/train/._T11328.txt\n",
            "LST20_Corpus/train/T11328.txt\n",
            "LST20_Corpus/train/._T00231.txt\n",
            "LST20_Corpus/train/T00231.txt\n",
            "LST20_Corpus/train/._T10022.txt\n",
            "LST20_Corpus/train/T10022.txt\n",
            "LST20_Corpus/train/._T01649.txt\n",
            "LST20_Corpus/train/T01649.txt\n",
            "LST20_Corpus/train/._T10744.txt\n",
            "LST20_Corpus/train/T10744.txt\n",
            "LST20_Corpus/train/._T00557.txt\n",
            "LST20_Corpus/train/T00557.txt\n",
            "LST20_Corpus/train/._T00966.txt\n",
            "LST20_Corpus/train/T00966.txt\n",
            "LST20_Corpus/train/._T00972.txt\n",
            "LST20_Corpus/train/T00972.txt\n",
            "LST20_Corpus/train/._T13098.txt\n",
            "LST20_Corpus/train/T13098.txt\n",
            "LST20_Corpus/train/._T11857.txt\n",
            "LST20_Corpus/train/T11857.txt\n",
            "LST20_Corpus/train/._T00782.txt\n",
            "LST20_Corpus/train/T00782.txt\n",
            "LST20_Corpus/train/._T10591.txt\n",
            "LST20_Corpus/train/T10591.txt\n",
            "LST20_Corpus/train/._T01488.txt\n",
            "LST20_Corpus/train/T01488.txt\n",
            "LST20_Corpus/train/._T00796.txt\n",
            "LST20_Corpus/train/T00796.txt\n",
            "LST20_Corpus/train/._T11843.txt\n",
            "LST20_Corpus/train/T11843.txt\n",
            "LST20_Corpus/train/._T10585.txt\n",
            "LST20_Corpus/train/T10585.txt\n",
            "LST20_Corpus/train/._T01305.txt\n",
            "LST20_Corpus/train/T01305.txt\n",
            "LST20_Corpus/train/._T10208.txt\n",
            "LST20_Corpus/train/T10208.txt\n",
            "LST20_Corpus/train/._T12379.txt\n",
            "LST20_Corpus/train/T12379.txt\n",
            "LST20_Corpus/train/._T13067.txt\n",
            "LST20_Corpus/train/T13067.txt\n",
            "LST20_Corpus/train/._T11670.txt\n",
            "LST20_Corpus/train/T11670.txt\n",
            "LST20_Corpus/train/._T01463.txt\n",
            "LST20_Corpus/train/T01463.txt\n",
            "LST20_Corpus/train/._T00769.txt\n",
            "LST20_Corpus/train/T00769.txt\n",
            "LST20_Corpus/train/._T01477.txt\n",
            "LST20_Corpus/train/T01477.txt\n",
            "LST20_Corpus/train/._T13073.txt\n",
            "LST20_Corpus/train/T13073.txt\n",
            "LST20_Corpus/train/._T01311.txt\n",
            "LST20_Corpus/train/T01311.txt\n",
            "LST20_Corpus/train/._T11102.txt\n",
            "LST20_Corpus/train/T11102.txt\n",
            "LST20_Corpus/train/._T12423.txt\n",
            "LST20_Corpus/train/T12423.txt\n",
            "LST20_Corpus/train/._T01339.txt\n",
            "LST20_Corpus/train/T01339.txt\n",
            "LST20_Corpus/train/._T10234.txt\n",
            "LST20_Corpus/train/T10234.txt\n",
            "LST20_Corpus/train/._T11894.txt\n",
            "LST20_Corpus/train/T11894.txt\n",
            "LST20_Corpus/train/._T00741.txt\n",
            "LST20_Corpus/train/T00741.txt\n",
            "LST20_Corpus/train/._T10552.txt\n",
            "LST20_Corpus/train/T10552.txt\n",
            "LST20_Corpus/train/._T00999.txt\n",
            "LST20_Corpus/train/T00999.txt\n",
            "LST20_Corpus/train/._T12351.txt\n",
            "LST20_Corpus/train/T12351.txt\n",
            "LST20_Corpus/train/._T00755.txt\n",
            "LST20_Corpus/train/T00755.txt\n",
            "LST20_Corpus/train/._T11880.txt\n",
            "LST20_Corpus/train/T11880.txt\n",
            "LST20_Corpus/train/._T10546.txt\n",
            "LST20_Corpus/train/T10546.txt\n",
            "LST20_Corpus/train/._T11658.txt\n",
            "LST20_Corpus/train/T11658.txt\n",
            "LST20_Corpus/train/._T10220.txt\n",
            "LST20_Corpus/train/T10220.txt\n",
            "LST20_Corpus/train/._T11659.txt\n",
            "LST20_Corpus/train/T11659.txt\n",
            "LST20_Corpus/train/._T10547.txt\n",
            "LST20_Corpus/train/T10547.txt\n",
            "LST20_Corpus/train/._T11881.txt\n",
            "LST20_Corpus/train/T11881.txt\n",
            "LST20_Corpus/train/._T00754.txt\n",
            "LST20_Corpus/train/T00754.txt\n",
            "LST20_Corpus/train/._T12350.txt\n",
            "LST20_Corpus/train/T12350.txt\n",
            "LST20_Corpus/train/._T12436.txt\n",
            "LST20_Corpus/train/T12436.txt\n",
            "LST20_Corpus/train/._T10221.txt\n",
            "LST20_Corpus/train/T10221.txt\n",
            "LST20_Corpus/train/._T01338.txt\n",
            "LST20_Corpus/train/T01338.txt\n",
            "LST20_Corpus/train/._T12422.txt\n",
            "LST20_Corpus/train/T12422.txt\n",
            "LST20_Corpus/train/._T00998.txt\n",
            "LST20_Corpus/train/T00998.txt\n",
            "LST20_Corpus/train/._T10553.txt\n",
            "LST20_Corpus/train/T10553.txt\n",
            "LST20_Corpus/train/._T00740.txt\n",
            "LST20_Corpus/train/T00740.txt\n",
            "LST20_Corpus/train/._T11895.txt\n",
            "LST20_Corpus/train/T11895.txt\n",
            "LST20_Corpus/train/._T13072.txt\n",
            "LST20_Corpus/train/T13072.txt\n",
            "LST20_Corpus/train/._T01476.txt\n",
            "LST20_Corpus/train/T01476.txt\n",
            "LST20_Corpus/train/._T00768.txt\n",
            "LST20_Corpus/train/T00768.txt\n",
            "LST20_Corpus/train/._T01310.txt\n",
            "LST20_Corpus/train/T01310.txt\n",
            "LST20_Corpus/train/._T10209.txt\n",
            "LST20_Corpus/train/T10209.txt\n",
            "LST20_Corpus/train/._T11117.txt\n",
            "LST20_Corpus/train/T11117.txt\n",
            "LST20_Corpus/train/._T01304.txt\n",
            "LST20_Corpus/train/T01304.txt\n",
            "LST20_Corpus/train/._T01462.txt\n",
            "LST20_Corpus/train/T01462.txt\n",
            "LST20_Corpus/train/._T11671.txt\n",
            "LST20_Corpus/train/T11671.txt\n",
            "LST20_Corpus/train/._T13066.txt\n",
            "LST20_Corpus/train/T13066.txt\n",
            "LST20_Corpus/train/._T10584.txt\n",
            "LST20_Corpus/train/T10584.txt\n",
            "LST20_Corpus/train/._T11842.txt\n",
            "LST20_Corpus/train/T11842.txt\n",
            "LST20_Corpus/train/._T00797.txt\n",
            "LST20_Corpus/train/T00797.txt\n",
            "LST20_Corpus/train/._T01489.txt\n",
            "LST20_Corpus/train/T01489.txt\n",
            "LST20_Corpus/train/._T10590.txt\n",
            "LST20_Corpus/train/T10590.txt\n",
            "LST20_Corpus/train/._T00783.txt\n",
            "LST20_Corpus/train/T00783.txt\n",
            "LST20_Corpus/train/._T12387.txt\n",
            "LST20_Corpus/train/T12387.txt\n",
            "LST20_Corpus/train/._T13099.txt\n",
            "LST20_Corpus/train/T13099.txt\n",
            "LST20_Corpus/train/._T00973.txt\n",
            "LST20_Corpus/train/T00973.txt\n",
            "LST20_Corpus/train/._T00967.txt\n",
            "LST20_Corpus/train/T00967.txt\n",
            "LST20_Corpus/train/._T10023.txt\n",
            "LST20_Corpus/train/T10023.txt\n",
            "LST20_Corpus/train/._T00230.txt\n",
            "LST20_Corpus/train/T00230.txt\n",
            "LST20_Corpus/train/._T12152.txt\n",
            "LST20_Corpus/train/T12152.txt\n",
            "LST20_Corpus/train/._T00556.txt\n",
            "LST20_Corpus/train/T00556.txt\n",
            "LST20_Corpus/train/._T01648.txt\n",
            "LST20_Corpus/train/T01648.txt\n",
            "LST20_Corpus/train/._T00542.txt\n",
            "LST20_Corpus/train/T00542.txt\n",
            "LST20_Corpus/train/._T10751.txt\n",
            "LST20_Corpus/train/T10751.txt\n",
            "LST20_Corpus/train/._T10989.txt\n",
            "LST20_Corpus/train/T10989.txt\n",
            "LST20_Corpus/train/._T12146.txt\n",
            "LST20_Corpus/train/T12146.txt\n",
            "LST20_Corpus/train/._T11329.txt\n",
            "LST20_Corpus/train/T11329.txt\n",
            "LST20_Corpus/train/._T10037.txt\n",
            "LST20_Corpus/train/T10037.txt\n",
            "LST20_Corpus/train/._T00224.txt\n",
            "LST20_Corpus/train/T00224.txt\n",
            "LST20_Corpus/train/._T11301.txt\n",
            "LST20_Corpus/train/T11301.txt\n",
            "LST20_Corpus/train/._T10779.txt\n",
            "LST20_Corpus/train/T10779.txt\n",
            "LST20_Corpus/train/._T11467.txt\n",
            "LST20_Corpus/train/T11467.txt\n",
            "LST20_Corpus/train/._T01674.txt\n",
            "LST20_Corpus/train/T01674.txt\n",
            "LST20_Corpus/train/._T11473.txt\n",
            "LST20_Corpus/train/T11473.txt\n",
            "LST20_Corpus/train/._T01660.txt\n",
            "LST20_Corpus/train/T01660.txt\n",
            "LST20_Corpus/train/._T11315.txt\n",
            "LST20_Corpus/train/T11315.txt\n",
            "LST20_Corpus/train/._T00218.txt\n",
            "LST20_Corpus/train/T00218.txt\n",
            "LST20_Corpus/train/._T11498.txt\n",
            "LST20_Corpus/train/T11498.txt\n",
            "LST20_Corpus/train/._T00595.txt\n",
            "LST20_Corpus/train/T00595.txt\n",
            "LST20_Corpus/train/._T10786.txt\n",
            "LST20_Corpus/train/T10786.txt\n",
            "LST20_Corpus/train/._T00581.txt\n",
            "LST20_Corpus/train/T00581.txt\n",
            "LST20_Corpus/train/._T10792.txt\n",
            "LST20_Corpus/train/T10792.txt\n",
            "LST20_Corpus/train/._T12813.txt\n",
            "LST20_Corpus/train/T12813.txt\n",
            "LST20_Corpus/train/._T10962.txt\n",
            "LST20_Corpus/train/T10962.txt\n",
            "LST20_Corpus/train/._T10976.txt\n",
            "LST20_Corpus/train/T10976.txt\n",
            "LST20_Corpus/train/._T12807.txt\n",
            "LST20_Corpus/train/T12807.txt\n",
            "LST20_Corpus/train/._T00344.txt\n",
            "LST20_Corpus/train/T00344.txt\n",
            "LST20_Corpus/train/._T10157.txt\n",
            "LST20_Corpus/train/T10157.txt\n",
            "LST20_Corpus/train/._T11249.txt\n",
            "LST20_Corpus/train/T11249.txt\n",
            "LST20_Corpus/train/._T12998.txt\n",
            "LST20_Corpus/train/T12998.txt\n",
            "LST20_Corpus/train/._T12026.txt\n",
            "LST20_Corpus/train/T12026.txt\n",
            "LST20_Corpus/train/._T10631.txt\n",
            "LST20_Corpus/train/T10631.txt\n",
            "LST20_Corpus/train/._T00422.txt\n",
            "LST20_Corpus/train/T00422.txt\n",
            "LST20_Corpus/train/._T01728.txt\n",
            "LST20_Corpus/train/T01728.txt\n",
            "LST20_Corpus/train/._T10625.txt\n",
            "LST20_Corpus/train/T10625.txt\n",
            "LST20_Corpus/train/._T00436.txt\n",
            "LST20_Corpus/train/T00436.txt\n",
            "LST20_Corpus/train/._T00350.txt\n",
            "LST20_Corpus/train/T00350.txt\n",
            "LST20_Corpus/train/._T10143.txt\n",
            "LST20_Corpus/train/T10143.txt\n",
            "LST20_Corpus/train/._T00378.txt\n",
            "LST20_Corpus/train/T00378.txt\n",
            "LST20_Corpus/train/._T11275.txt\n",
            "LST20_Corpus/train/T11275.txt\n",
            "LST20_Corpus/train/._T01700.txt\n",
            "LST20_Corpus/train/T01700.txt\n",
            "LST20_Corpus/train/._T11513.txt\n",
            "LST20_Corpus/train/T11513.txt\n",
            "LST20_Corpus/train/._T01714.txt\n",
            "LST20_Corpus/train/T01714.txt\n",
            "LST20_Corpus/train/._T11507.txt\n",
            "LST20_Corpus/train/T11507.txt\n",
            "LST20_Corpus/train/._T10619.txt\n",
            "LST20_Corpus/train/T10619.txt\n",
            "LST20_Corpus/train/._T11261.txt\n",
            "LST20_Corpus/train/T11261.txt\n",
            "LST20_Corpus/train/._T00387.txt\n",
            "LST20_Corpus/train/T00387.txt\n",
            "LST20_Corpus/train/._T10194.txt\n",
            "LST20_Corpus/train/T10194.txt\n",
            "LST20_Corpus/train/._T00393.txt\n",
            "LST20_Corpus/train/T00393.txt\n",
            "LST20_Corpus/train/._T10180.txt\n",
            "LST20_Corpus/train/T10180.txt\n",
            "LST20_Corpus/train/._T10816.txt\n",
            "LST20_Corpus/train/T10816.txt\n",
            "LST20_Corpus/train/._T10802.txt\n",
            "LST20_Corpus/train/T10802.txt\n",
            "LST20_Corpus/train/._T12973.txt\n",
            "LST20_Corpus/train/T12973.txt\n",
            "LST20_Corpus/train/._T00620.txt\n",
            "LST20_Corpus/train/T00620.txt\n",
            "LST20_Corpus/train/._T10433.txt\n",
            "LST20_Corpus/train/T10433.txt\n",
            "LST20_Corpus/train/._T12224.txt\n",
            "LST20_Corpus/train/T12224.txt\n",
            "LST20_Corpus/train/._T01258.txt\n",
            "LST20_Corpus/train/T01258.txt\n",
            "LST20_Corpus/train/._T10355.txt\n",
            "LST20_Corpus/train/T10355.txt\n",
            "LST20_Corpus/train/._T00146.txt\n",
            "LST20_Corpus/train/T00146.txt\n",
            "LST20_Corpus/train/._T10341.txt\n",
            "LST20_Corpus/train/T10341.txt\n",
            "LST20_Corpus/train/._T00152.txt\n",
            "LST20_Corpus/train/T00152.txt\n",
            "LST20_Corpus/train/._T00634.txt\n",
            "LST20_Corpus/train/T00634.txt\n",
            "LST20_Corpus/train/._T11739.txt\n",
            "LST20_Corpus/train/T11739.txt\n",
            "LST20_Corpus/train/._T12218.txt\n",
            "LST20_Corpus/train/T12218.txt\n",
            "LST20_Corpus/train/._T13106.txt\n",
            "LST20_Corpus/train/T13106.txt\n",
            "LST20_Corpus/train/._T11711.txt\n",
            "LST20_Corpus/train/T11711.txt\n",
            "LST20_Corpus/train/._T01502.txt\n",
            "LST20_Corpus/train/T01502.txt\n",
            "LST20_Corpus/train/._T01264.txt\n",
            "LST20_Corpus/train/T01264.txt\n",
            "LST20_Corpus/train/._T11077.txt\n",
            "LST20_Corpus/train/T11077.txt\n",
            "LST20_Corpus/train/._T10369.txt\n",
            "LST20_Corpus/train/T10369.txt\n",
            "LST20_Corpus/train/._T01270.txt\n",
            "LST20_Corpus/train/T01270.txt\n",
            "LST20_Corpus/train/._T11063.txt\n",
            "LST20_Corpus/train/T11063.txt\n",
            "LST20_Corpus/train/._T00608.txt\n",
            "LST20_Corpus/train/T00608.txt\n",
            "LST20_Corpus/train/._T11705.txt\n",
            "LST20_Corpus/train/T11705.txt\n",
            "LST20_Corpus/train/._T01516.txt\n",
            "LST20_Corpus/train/T01516.txt\n",
            "LST20_Corpus/train/._T13112.txt\n",
            "LST20_Corpus/train/T13112.txt\n",
            "LST20_Corpus/train/._T11936.txt\n",
            "LST20_Corpus/train/T11936.txt\n",
            "LST20_Corpus/train/._T10396.txt\n",
            "LST20_Corpus/train/T10396.txt\n",
            "LST20_Corpus/train/._T00185.txt\n",
            "LST20_Corpus/train/T00185.txt\n",
            "LST20_Corpus/train/._T11088.txt\n",
            "LST20_Corpus/train/T11088.txt\n",
            "LST20_Corpus/train/._T10382.txt\n",
            "LST20_Corpus/train/T10382.txt\n",
            "LST20_Corpus/train/._T00191.txt\n",
            "LST20_Corpus/train/T00191.txt\n",
            "LST20_Corpus/train/._T11922.txt\n",
            "LST20_Corpus/train/T11922.txt\n",
            "LST20_Corpus/train/._T00807.txt\n",
            "LST20_Corpus/train/T00807.txt\n",
            "LST20_Corpus/train/._T00813.txt\n",
            "LST20_Corpus/train/T00813.txt\n",
            "LST20_Corpus/train/._T00690.txt\n",
            "LST20_Corpus/train/T00690.txt\n",
            "LST20_Corpus/train/._T10483.txt\n",
            "LST20_Corpus/train/T10483.txt\n",
            "LST20_Corpus/train/._T00848.txt\n",
            "LST20_Corpus/train/T00848.txt\n",
            "LST20_Corpus/train/._T12280.txt\n",
            "LST20_Corpus/train/T12280.txt\n",
            "LST20_Corpus/train/._T00684.txt\n",
            "LST20_Corpus/train/T00684.txt\n",
            "LST20_Corpus/train/._T11951.txt\n",
            "LST20_Corpus/train/T11951.txt\n",
            "LST20_Corpus/train/._T10497.txt\n",
            "LST20_Corpus/train/T10497.txt\n",
            "LST20_Corpus/train/._T11789.txt\n",
            "LST20_Corpus/train/T11789.txt\n",
            "LST20_Corpus/train/._T00874.txt\n",
            "LST20_Corpus/train/T00874.txt\n",
            "LST20_Corpus/train/._T00860.txt\n",
            "LST20_Corpus/train/T00860.txt\n",
            "LST20_Corpus/train/._T10326.txt\n",
            "LST20_Corpus/train/T10326.txt\n",
            "LST20_Corpus/train/._T00135.txt\n",
            "LST20_Corpus/train/T00135.txt\n",
            "LST20_Corpus/train/._T11038.txt\n",
            "LST20_Corpus/train/T11038.txt\n",
            "LST20_Corpus/train/._T12531.txt\n",
            "LST20_Corpus/train/T12531.txt\n",
            "LST20_Corpus/train/._T11986.txt\n",
            "LST20_Corpus/train/T11986.txt\n",
            "LST20_Corpus/train/._T00653.txt\n",
            "LST20_Corpus/train/T00653.txt\n",
            "LST20_Corpus/train/._T10440.txt\n",
            "LST20_Corpus/train/T10440.txt\n",
            "LST20_Corpus/train/._T01559.txt\n",
            "LST20_Corpus/train/T01559.txt\n",
            "LST20_Corpus/train/._T00647.txt\n",
            "LST20_Corpus/train/T00647.txt\n",
            "LST20_Corpus/train/._T11992.txt\n",
            "LST20_Corpus/train/T11992.txt\n",
            "LST20_Corpus/train/._T10454.txt\n",
            "LST20_Corpus/train/T10454.txt\n",
            "LST20_Corpus/train/._T10332.txt\n",
            "LST20_Corpus/train/T10332.txt\n",
            "LST20_Corpus/train/._T01217.txt\n",
            "LST20_Corpus/train/T01217.txt\n",
            "LST20_Corpus/train/._T11004.txt\n",
            "LST20_Corpus/train/T11004.txt\n",
            "LST20_Corpus/train/._T11762.txt\n",
            "LST20_Corpus/train/T11762.txt\n",
            "LST20_Corpus/train/._T01571.txt\n",
            "LST20_Corpus/train/T01571.txt\n",
            "LST20_Corpus/train/._T11776.txt\n",
            "LST20_Corpus/train/T11776.txt\n",
            "LST20_Corpus/train/._T01565.txt\n",
            "LST20_Corpus/train/T01565.txt\n",
            "LST20_Corpus/train/._T10468.txt\n",
            "LST20_Corpus/train/T10468.txt\n",
            "LST20_Corpus/train/._T11010.txt\n",
            "LST20_Corpus/train/T11010.txt\n",
            "LST20_Corpus/train/._T10681.txt\n",
            "LST20_Corpus/train/T10681.txt\n",
            "LST20_Corpus/train/._T00492.txt\n",
            "LST20_Corpus/train/T00492.txt\n",
            "LST20_Corpus/train/._T12928.txt\n",
            "LST20_Corpus/train/T12928.txt\n",
            "LST20_Corpus/train/._T10695.txt\n",
            "LST20_Corpus/train/T10695.txt\n",
            "LST20_Corpus/train/._T00486.txt\n",
            "LST20_Corpus/train/T00486.txt\n",
            "LST20_Corpus/train/._T12082.txt\n",
            "LST20_Corpus/train/T12082.txt\n",
            "LST20_Corpus/train/._T12914.txt\n",
            "LST20_Corpus/train/T12914.txt\n",
            "LST20_Corpus/train/._T12900.txt\n",
            "LST20_Corpus/train/T12900.txt\n",
            "LST20_Corpus/train/._T10642.txt\n",
            "LST20_Corpus/train/T10642.txt\n",
            "LST20_Corpus/train/._T00451.txt\n",
            "LST20_Corpus/train/T00451.txt\n",
            "LST20_Corpus/train/._T12055.txt\n",
            "LST20_Corpus/train/T12055.txt\n",
            "LST20_Corpus/train/._T00337.txt\n",
            "LST20_Corpus/train/T00337.txt\n",
            "LST20_Corpus/train/._T10124.txt\n",
            "LST20_Corpus/train/T10124.txt\n",
            "LST20_Corpus/train/._T00323.txt\n",
            "LST20_Corpus/train/T00323.txt\n",
            "LST20_Corpus/train/._T10130.txt\n",
            "LST20_Corpus/train/T10130.txt\n",
            "LST20_Corpus/train/._T12041.txt\n",
            "LST20_Corpus/train/T12041.txt\n",
            "LST20_Corpus/train/._T00445.txt\n",
            "LST20_Corpus/train/T00445.txt\n",
            "LST20_Corpus/train/._T11548.txt\n",
            "LST20_Corpus/train/T11548.txt\n",
            "LST20_Corpus/train/._T11560.txt\n",
            "LST20_Corpus/train/T11560.txt\n",
            "LST20_Corpus/train/._T11206.txt\n",
            "LST20_Corpus/train/T11206.txt\n",
            "LST20_Corpus/train/._T10118.txt\n",
            "LST20_Corpus/train/T10118.txt\n",
            "LST20_Corpus/train/._T11212.txt\n",
            "LST20_Corpus/train/T11212.txt\n",
            "LST20_Corpus/train/._T00479.txt\n",
            "LST20_Corpus/train/T00479.txt\n",
            "LST20_Corpus/train/._T11574.txt\n",
            "LST20_Corpus/train/T11574.txt\n",
            "LST20_Corpus/train/._T10093.txt\n",
            "LST20_Corpus/train/T10093.txt\n",
            "LST20_Corpus/train/._T00280.txt\n",
            "LST20_Corpus/train/T00280.txt\n",
            "LST20_Corpus/train/._T11399.txt\n",
            "LST20_Corpus/train/T11399.txt\n",
            "LST20_Corpus/train/._T10087.txt\n",
            "LST20_Corpus/train/T10087.txt\n",
            "LST20_Corpus/train/._T00294.txt\n",
            "LST20_Corpus/train/T00294.txt\n",
            "LST20_Corpus/train/._T10939.txt\n",
            "LST20_Corpus/train/T10939.txt\n",
            "LST20_Corpus/train/._T10911.txt\n",
            "LST20_Corpus/train/T10911.txt\n",
            "LST20_Corpus/train/._T12860.txt\n",
            "LST20_Corpus/train/T12860.txt\n",
            "LST20_Corpus/train/._T12874.txt\n",
            "LST20_Corpus/train/T12874.txt\n",
            "LST20_Corpus/train/._T11428.txt\n",
            "LST20_Corpus/train/T11428.txt\n",
            "LST20_Corpus/train/._T00525.txt\n",
            "LST20_Corpus/train/T00525.txt\n",
            "LST20_Corpus/train/._T10736.txt\n",
            "LST20_Corpus/train/T10736.txt\n",
            "LST20_Corpus/train/._T10050.txt\n",
            "LST20_Corpus/train/T10050.txt\n",
            "LST20_Corpus/train/._T00243.txt\n",
            "LST20_Corpus/train/T00243.txt\n",
            "LST20_Corpus/train/._T10044.txt\n",
            "LST20_Corpus/train/T10044.txt\n",
            "LST20_Corpus/train/._T00257.txt\n",
            "LST20_Corpus/train/T00257.txt\n",
            "LST20_Corpus/train/._T01149.txt\n",
            "LST20_Corpus/train/T01149.txt\n",
            "LST20_Corpus/train/._T00531.txt\n",
            "LST20_Corpus/train/T00531.txt\n",
            "LST20_Corpus/train/._T10722.txt\n",
            "LST20_Corpus/train/T10722.txt\n",
            "LST20_Corpus/train/._T11414.txt\n",
            "LST20_Corpus/train/T11414.txt\n",
            "LST20_Corpus/train/._T01607.txt\n",
            "LST20_Corpus/train/T01607.txt\n",
            "LST20_Corpus/train/._T00519.txt\n",
            "LST20_Corpus/train/T00519.txt\n",
            "LST20_Corpus/train/._T01161.txt\n",
            "LST20_Corpus/train/T01161.txt\n",
            "LST20_Corpus/train/._T11372.txt\n",
            "LST20_Corpus/train/T11372.txt\n",
            "LST20_Corpus/train/._T10078.txt\n",
            "LST20_Corpus/train/T10078.txt\n",
            "LST20_Corpus/train/._T01175.txt\n",
            "LST20_Corpus/train/T01175.txt\n",
            "LST20_Corpus/train/._T11366.txt\n",
            "LST20_Corpus/train/T11366.txt\n",
            "LST20_Corpus/train/._T11400.txt\n",
            "LST20_Corpus/train/T11400.txt\n",
            "LST20_Corpus/train/._T01613.txt\n",
            "LST20_Corpus/train/T01613.txt\n",
            "LST20_Corpus/train/._T10291.txt\n",
            "LST20_Corpus/train/T10291.txt\n",
            "LST20_Corpus/train/._T11831.txt\n",
            "LST20_Corpus/train/T11831.txt\n",
            "LST20_Corpus/train/._T00928.txt\n",
            "LST20_Corpus/train/T00928.txt\n",
            "LST20_Corpus/train/._T11825.txt\n",
            "LST20_Corpus/train/T11825.txt\n",
            "LST20_Corpus/train/._T10285.txt\n",
            "LST20_Corpus/train/T10285.txt\n",
            "LST20_Corpus/train/._T01388.txt\n",
            "LST20_Corpus/train/T01388.txt\n",
            "LST20_Corpus/train/._T00900.txt\n",
            "LST20_Corpus/train/T00900.txt\n",
            "LST20_Corpus/train/._T00914.txt\n",
            "LST20_Corpus/train/T00914.txt\n",
            "LST20_Corpus/train/._T11819.txt\n",
            "LST20_Corpus/train/T11819.txt\n",
            "LST20_Corpus/train/._T10252.txt\n",
            "LST20_Corpus/train/T10252.txt\n",
            "LST20_Corpus/train/._T10534.txt\n",
            "LST20_Corpus/train/T10534.txt\n",
            "LST20_Corpus/train/._T00727.txt\n",
            "LST20_Corpus/train/T00727.txt\n",
            "LST20_Corpus/train/._T01439.txt\n",
            "LST20_Corpus/train/T01439.txt\n",
            "LST20_Corpus/train/._T10520.txt\n",
            "LST20_Corpus/train/T10520.txt\n",
            "LST20_Corpus/train/._T00733.txt\n",
            "LST20_Corpus/train/T00733.txt\n",
            "LST20_Corpus/train/._T13029.txt\n",
            "LST20_Corpus/train/T13029.txt\n",
            "LST20_Corpus/train/._T11158.txt\n",
            "LST20_Corpus/train/T11158.txt\n",
            "LST20_Corpus/train/._T11170.txt\n",
            "LST20_Corpus/train/T11170.txt\n",
            "LST20_Corpus/train/._T01363.txt\n",
            "LST20_Corpus/train/T01363.txt\n",
            "LST20_Corpus/train/._T10508.txt\n",
            "LST20_Corpus/train/T10508.txt\n",
            "LST20_Corpus/train/._T01405.txt\n",
            "LST20_Corpus/train/T01405.txt\n",
            "LST20_Corpus/train/._T11616.txt\n",
            "LST20_Corpus/train/T11616.txt\n",
            "LST20_Corpus/train/._T13001.txt\n",
            "LST20_Corpus/train/T13001.txt\n",
            "LST20_Corpus/train/._T01411.txt\n",
            "LST20_Corpus/train/T01411.txt\n",
            "LST20_Corpus/train/._T11602.txt\n",
            "LST20_Corpus/train/T11602.txt\n",
            "LST20_Corpus/train/._T11164.txt\n",
            "LST20_Corpus/train/T11164.txt\n",
            "LST20_Corpus/train/._T01377.txt\n",
            "LST20_Corpus/train/T01377.txt\n",
            "LST20_Corpus/train/._T11603.txt\n",
            "LST20_Corpus/train/T11603.txt\n",
            "LST20_Corpus/train/._T01410.txt\n",
            "LST20_Corpus/train/T01410.txt\n",
            "LST20_Corpus/train/._T13014.txt\n",
            "LST20_Corpus/train/T13014.txt\n",
            "LST20_Corpus/train/._T01376.txt\n",
            "LST20_Corpus/train/T01376.txt\n",
            "LST20_Corpus/train/._T11165.txt\n",
            "LST20_Corpus/train/T11165.txt\n",
            "LST20_Corpus/train/._T01362.txt\n",
            "LST20_Corpus/train/T01362.txt\n",
            "LST20_Corpus/train/._T11171.txt\n",
            "LST20_Corpus/train/T11171.txt\n",
            "LST20_Corpus/train/._T13000.txt\n",
            "LST20_Corpus/train/T13000.txt\n",
            "LST20_Corpus/train/._T11617.txt\n",
            "LST20_Corpus/train/T11617.txt\n",
            "LST20_Corpus/train/._T01404.txt\n",
            "LST20_Corpus/train/T01404.txt\n",
            "LST20_Corpus/train/._T10509.txt\n",
            "LST20_Corpus/train/T10509.txt\n",
            "LST20_Corpus/train/._T13028.txt\n",
            "LST20_Corpus/train/T13028.txt\n",
            "LST20_Corpus/train/._T00732.txt\n",
            "LST20_Corpus/train/T00732.txt\n",
            "LST20_Corpus/train/._T10521.txt\n",
            "LST20_Corpus/train/T10521.txt\n",
            "LST20_Corpus/train/._T10247.txt\n",
            "LST20_Corpus/train/T10247.txt\n",
            "LST20_Corpus/train/._T11159.txt\n",
            "LST20_Corpus/train/T11159.txt\n",
            "LST20_Corpus/train/._T10253.txt\n",
            "LST20_Corpus/train/T10253.txt\n",
            "LST20_Corpus/train/._T01438.txt\n",
            "LST20_Corpus/train/T01438.txt\n",
            "LST20_Corpus/train/._T00726.txt\n",
            "LST20_Corpus/train/T00726.txt\n",
            "LST20_Corpus/train/._T10535.txt\n",
            "LST20_Corpus/train/T10535.txt\n",
            "LST20_Corpus/train/._T11818.txt\n",
            "LST20_Corpus/train/T11818.txt\n",
            "LST20_Corpus/train/._T00915.txt\n",
            "LST20_Corpus/train/T00915.txt\n",
            "LST20_Corpus/train/._T00901.txt\n",
            "LST20_Corpus/train/T00901.txt\n",
            "LST20_Corpus/train/._T11824.txt\n",
            "LST20_Corpus/train/T11824.txt\n",
            "LST20_Corpus/train/._T00929.txt\n",
            "LST20_Corpus/train/T00929.txt\n",
            "LST20_Corpus/train/._T01389.txt\n",
            "LST20_Corpus/train/T01389.txt\n",
            "LST20_Corpus/train/._T10284.txt\n",
            "LST20_Corpus/train/T10284.txt\n",
            "LST20_Corpus/train/._T10290.txt\n",
            "LST20_Corpus/train/T10290.txt\n",
            "LST20_Corpus/train/._T11830.txt\n",
            "LST20_Corpus/train/T11830.txt\n",
            "LST20_Corpus/train/._T11367.txt\n",
            "LST20_Corpus/train/T11367.txt\n",
            "LST20_Corpus/train/._T01174.txt\n",
            "LST20_Corpus/train/T01174.txt\n",
            "LST20_Corpus/train/._T10079.txt\n",
            "LST20_Corpus/train/T10079.txt\n",
            "LST20_Corpus/train/._T01612.txt\n",
            "LST20_Corpus/train/T01612.txt\n",
            "LST20_Corpus/train/._T11401.txt\n",
            "LST20_Corpus/train/T11401.txt\n",
            "LST20_Corpus/train/._T00518.txt\n",
            "LST20_Corpus/train/T00518.txt\n",
            "LST20_Corpus/train/._T01606.txt\n",
            "LST20_Corpus/train/T01606.txt\n",
            "LST20_Corpus/train/._T11415.txt\n",
            "LST20_Corpus/train/T11415.txt\n",
            "LST20_Corpus/train/._T11373.txt\n",
            "LST20_Corpus/train/T11373.txt\n",
            "LST20_Corpus/train/._T01160.txt\n",
            "LST20_Corpus/train/T01160.txt\n",
            "LST20_Corpus/train/._T01148.txt\n",
            "LST20_Corpus/train/T01148.txt\n",
            "LST20_Corpus/train/._T00256.txt\n",
            "LST20_Corpus/train/T00256.txt\n",
            "LST20_Corpus/train/._T10045.txt\n",
            "LST20_Corpus/train/T10045.txt\n",
            "LST20_Corpus/train/._T10723.txt\n",
            "LST20_Corpus/train/T10723.txt\n",
            "LST20_Corpus/train/._T00530.txt\n",
            "LST20_Corpus/train/T00530.txt\n",
            "LST20_Corpus/train/._T10737.txt\n",
            "LST20_Corpus/train/T10737.txt\n",
            "LST20_Corpus/train/._T00524.txt\n",
            "LST20_Corpus/train/T00524.txt\n",
            "LST20_Corpus/train/._T11429.txt\n",
            "LST20_Corpus/train/T11429.txt\n",
            "LST20_Corpus/train/._T00242.txt\n",
            "LST20_Corpus/train/T00242.txt\n",
            "LST20_Corpus/train/._T10051.txt\n",
            "LST20_Corpus/train/T10051.txt\n",
            "LST20_Corpus/train/._T12875.txt\n",
            "LST20_Corpus/train/T12875.txt\n",
            "LST20_Corpus/train/._T00295.txt\n",
            "LST20_Corpus/train/T00295.txt\n",
            "LST20_Corpus/train/._T10086.txt\n",
            "LST20_Corpus/train/T10086.txt\n",
            "LST20_Corpus/train/._T11398.txt\n",
            "LST20_Corpus/train/T11398.txt\n",
            "LST20_Corpus/train/._T10938.txt\n",
            "LST20_Corpus/train/T10938.txt\n",
            "LST20_Corpus/train/._T00281.txt\n",
            "LST20_Corpus/train/T00281.txt\n",
            "LST20_Corpus/train/._T10092.txt\n",
            "LST20_Corpus/train/T10092.txt\n",
            "LST20_Corpus/train/._T11213.txt\n",
            "LST20_Corpus/train/T11213.txt\n",
            "LST20_Corpus/train/._T11575.txt\n",
            "LST20_Corpus/train/T11575.txt\n",
            "LST20_Corpus/train/._T00478.txt\n",
            "LST20_Corpus/train/T00478.txt\n",
            "LST20_Corpus/train/._T11561.txt\n",
            "LST20_Corpus/train/T11561.txt\n",
            "LST20_Corpus/train/._T12068.txt\n",
            "LST20_Corpus/train/T12068.txt\n",
            "LST20_Corpus/train/._T10119.txt\n",
            "LST20_Corpus/train/T10119.txt\n",
            "LST20_Corpus/train/._T11207.txt\n",
            "LST20_Corpus/train/T11207.txt\n",
            "LST20_Corpus/train/._T10131.txt\n",
            "LST20_Corpus/train/T10131.txt\n",
            "LST20_Corpus/train/._T00322.txt\n",
            "LST20_Corpus/train/T00322.txt\n",
            "LST20_Corpus/train/._T11549.txt\n",
            "LST20_Corpus/train/T11549.txt\n",
            "LST20_Corpus/train/._T00444.txt\n",
            "LST20_Corpus/train/T00444.txt\n",
            "LST20_Corpus/train/._T10657.txt\n",
            "LST20_Corpus/train/T10657.txt\n",
            "LST20_Corpus/train/._T12040.txt\n",
            "LST20_Corpus/train/T12040.txt\n",
            "LST20_Corpus/train/._T00450.txt\n",
            "LST20_Corpus/train/T00450.txt\n",
            "LST20_Corpus/train/._T10643.txt\n",
            "LST20_Corpus/train/T10643.txt\n",
            "LST20_Corpus/train/._T10125.txt\n",
            "LST20_Corpus/train/T10125.txt\n",
            "LST20_Corpus/train/._T00336.txt\n",
            "LST20_Corpus/train/T00336.txt\n",
            "LST20_Corpus/train/._T12901.txt\n",
            "LST20_Corpus/train/T12901.txt\n",
            "LST20_Corpus/train/._T12915.txt\n",
            "LST20_Corpus/train/T12915.txt\n",
            "LST20_Corpus/train/._T00487.txt\n",
            "LST20_Corpus/train/T00487.txt\n",
            "LST20_Corpus/train/._T10694.txt\n",
            "LST20_Corpus/train/T10694.txt\n",
            "LST20_Corpus/train/._T00493.txt\n",
            "LST20_Corpus/train/T00493.txt\n",
            "LST20_Corpus/train/._T10680.txt\n",
            "LST20_Corpus/train/T10680.txt\n",
            "LST20_Corpus/train/._T10858.txt\n",
            "LST20_Corpus/train/T10858.txt\n",
            "LST20_Corpus/train/._T12929.txt\n",
            "LST20_Corpus/train/T12929.txt\n",
            "LST20_Corpus/train/._T10469.txt\n",
            "LST20_Corpus/train/T10469.txt\n",
            "LST20_Corpus/train/._T01564.txt\n",
            "LST20_Corpus/train/T01564.txt\n",
            "LST20_Corpus/train/._T11777.txt\n",
            "LST20_Corpus/train/T11777.txt\n",
            "LST20_Corpus/train/._T11011.txt\n",
            "LST20_Corpus/train/T11011.txt\n",
            "LST20_Corpus/train/._T01202.txt\n",
            "LST20_Corpus/train/T01202.txt\n",
            "LST20_Corpus/train/._T11005.txt\n",
            "LST20_Corpus/train/T11005.txt\n",
            "LST20_Corpus/train/._T01216.txt\n",
            "LST20_Corpus/train/T01216.txt\n",
            "LST20_Corpus/train/._T01570.txt\n",
            "LST20_Corpus/train/T01570.txt\n",
            "LST20_Corpus/train/._T11763.txt\n",
            "LST20_Corpus/train/T11763.txt\n",
            "LST20_Corpus/train/._T10455.txt\n",
            "LST20_Corpus/train/T10455.txt\n",
            "LST20_Corpus/train/._T11993.txt\n",
            "LST20_Corpus/train/T11993.txt\n",
            "LST20_Corpus/train/._T00646.txt\n",
            "LST20_Corpus/train/T00646.txt\n",
            "LST20_Corpus/train/._T01558.txt\n",
            "LST20_Corpus/train/T01558.txt\n",
            "LST20_Corpus/train/._T10333.txt\n",
            "LST20_Corpus/train/T10333.txt\n",
            "LST20_Corpus/train/._T12530.txt\n",
            "LST20_Corpus/train/T12530.txt\n",
            "LST20_Corpus/train/._T11039.txt\n",
            "LST20_Corpus/train/T11039.txt\n",
            "LST20_Corpus/train/._T00134.txt\n",
            "LST20_Corpus/train/T00134.txt\n",
            "LST20_Corpus/train/._T10327.txt\n",
            "LST20_Corpus/train/T10327.txt\n",
            "LST20_Corpus/train/._T10441.txt\n",
            "LST20_Corpus/train/T10441.txt\n",
            "LST20_Corpus/train/._T00652.txt\n",
            "LST20_Corpus/train/T00652.txt\n",
            "LST20_Corpus/train/._T11987.txt\n",
            "LST20_Corpus/train/T11987.txt\n",
            "LST20_Corpus/train/._T00861.txt\n",
            "LST20_Corpus/train/T00861.txt\n",
            "LST20_Corpus/train/._T00875.txt\n",
            "LST20_Corpus/train/T00875.txt\n",
            "LST20_Corpus/train/._T11978.txt\n",
            "LST20_Corpus/train/T11978.txt\n",
            "LST20_Corpus/train/._T11788.txt\n",
            "LST20_Corpus/train/T11788.txt\n",
            "LST20_Corpus/train/._T10496.txt\n",
            "LST20_Corpus/train/T10496.txt\n",
            "LST20_Corpus/train/._T11950.txt\n",
            "LST20_Corpus/train/T11950.txt\n",
            "LST20_Corpus/train/._T00685.txt\n",
            "LST20_Corpus/train/T00685.txt\n",
            "LST20_Corpus/train/._T00849.txt\n",
            "LST20_Corpus/train/T00849.txt\n",
            "LST20_Corpus/train/._T10482.txt\n",
            "LST20_Corpus/train/T10482.txt\n",
            "LST20_Corpus/train/._T00691.txt\n",
            "LST20_Corpus/train/T00691.txt\n",
            "LST20_Corpus/train/._T00687.txt\n",
            "LST20_Corpus/train/T00687.txt\n",
            "LST20_Corpus/train/._T11952.txt\n",
            "LST20_Corpus/train/T11952.txt\n",
            "LST20_Corpus/train/._T10494.txt\n",
            "LST20_Corpus/train/T10494.txt\n",
            "LST20_Corpus/train/._T01599.txt\n",
            "LST20_Corpus/train/T01599.txt\n",
            "LST20_Corpus/train/._T00693.txt\n",
            "LST20_Corpus/train/T00693.txt\n",
            "LST20_Corpus/train/._T10480.txt\n",
            "LST20_Corpus/train/T10480.txt\n",
            "LST20_Corpus/train/._T00863.txt\n",
            "LST20_Corpus/train/T00863.txt\n",
            "LST20_Corpus/train/._T00877.txt\n",
            "LST20_Corpus/train/T00877.txt\n",
            "LST20_Corpus/train/._T10331.txt\n",
            "LST20_Corpus/train/T10331.txt\n",
            "LST20_Corpus/train/._T11749.txt\n",
            "LST20_Corpus/train/T11749.txt\n",
            "LST20_Corpus/train/._T00644.txt\n",
            "LST20_Corpus/train/T00644.txt\n",
            "LST20_Corpus/train/._T11991.txt\n",
            "LST20_Corpus/train/T11991.txt\n",
            "LST20_Corpus/train/._T10457.txt\n",
            "LST20_Corpus/train/T10457.txt\n",
            "LST20_Corpus/train/._T00888.txt\n",
            "LST20_Corpus/train/T00888.txt\n",
            "LST20_Corpus/train/._T11985.txt\n",
            "LST20_Corpus/train/T11985.txt\n",
            "LST20_Corpus/train/._T00650.txt\n",
            "LST20_Corpus/train/T00650.txt\n",
            "LST20_Corpus/train/._T10443.txt\n",
            "LST20_Corpus/train/T10443.txt\n",
            "LST20_Corpus/train/._T10325.txt\n",
            "LST20_Corpus/train/T10325.txt\n",
            "LST20_Corpus/train/._T00136.txt\n",
            "LST20_Corpus/train/T00136.txt\n",
            "LST20_Corpus/train/._T01228.txt\n",
            "LST20_Corpus/train/T01228.txt\n",
            "LST20_Corpus/train/._T12532.txt\n",
            "LST20_Corpus/train/T12532.txt\n",
            "LST20_Corpus/train/._T01200.txt\n",
            "LST20_Corpus/train/T01200.txt\n",
            "LST20_Corpus/train/._T11013.txt\n",
            "LST20_Corpus/train/T11013.txt\n",
            "LST20_Corpus/train/._T11775.txt\n",
            "LST20_Corpus/train/T11775.txt\n",
            "LST20_Corpus/train/._T01566.txt\n",
            "LST20_Corpus/train/T01566.txt\n",
            "LST20_Corpus/train/._T00678.txt\n",
            "LST20_Corpus/train/T00678.txt\n",
            "LST20_Corpus/train/._T11761.txt\n",
            "LST20_Corpus/train/T11761.txt\n",
            "LST20_Corpus/train/._T01572.txt\n",
            "LST20_Corpus/train/T01572.txt\n",
            "LST20_Corpus/train/._T10319.txt\n",
            "LST20_Corpus/train/T10319.txt\n",
            "LST20_Corpus/train/._T01214.txt\n",
            "LST20_Corpus/train/T01214.txt\n",
            "LST20_Corpus/train/._T11007.txt\n",
            "LST20_Corpus/train/T11007.txt\n",
            "LST20_Corpus/train/._T11588.txt\n",
            "LST20_Corpus/train/T11588.txt\n",
            "LST20_Corpus/train/._T10696.txt\n",
            "LST20_Corpus/train/T10696.txt\n",
            "LST20_Corpus/train/._T00485.txt\n",
            "LST20_Corpus/train/T00485.txt\n",
            "LST20_Corpus/train/._T12081.txt\n",
            "LST20_Corpus/train/T12081.txt\n",
            "LST20_Corpus/train/._T10682.txt\n",
            "LST20_Corpus/train/T10682.txt\n",
            "LST20_Corpus/train/._T00491.txt\n",
            "LST20_Corpus/train/T00491.txt\n",
            "LST20_Corpus/train/._T12903.txt\n",
            "LST20_Corpus/train/T12903.txt\n",
            "LST20_Corpus/train/._T12917.txt\n",
            "LST20_Corpus/train/T12917.txt\n",
            "LST20_Corpus/train/._T12042.txt\n",
            "LST20_Corpus/train/T12042.txt\n",
            "LST20_Corpus/train/._T10655.txt\n",
            "LST20_Corpus/train/T10655.txt\n",
            "LST20_Corpus/train/._T00446.txt\n",
            "LST20_Corpus/train/T00446.txt\n",
            "LST20_Corpus/train/._T00320.txt\n",
            "LST20_Corpus/train/T00320.txt\n",
            "LST20_Corpus/train/._T10133.txt\n",
            "LST20_Corpus/train/T10133.txt\n",
            "LST20_Corpus/train/._T11239.txt\n",
            "LST20_Corpus/train/T11239.txt\n",
            "LST20_Corpus/train/._T00334.txt\n",
            "LST20_Corpus/train/T00334.txt\n",
            "LST20_Corpus/train/._T10127.txt\n",
            "LST20_Corpus/train/T10127.txt\n",
            "LST20_Corpus/train/._T10641.txt\n",
            "LST20_Corpus/train/T10641.txt\n",
            "LST20_Corpus/train/._T00452.txt\n",
            "LST20_Corpus/train/T00452.txt\n",
            "LST20_Corpus/train/._T12056.txt\n",
            "LST20_Corpus/train/T12056.txt\n",
            "LST20_Corpus/train/._T10669.txt\n",
            "LST20_Corpus/train/T10669.txt\n",
            "LST20_Corpus/train/._T11577.txt\n",
            "LST20_Corpus/train/T11577.txt\n",
            "LST20_Corpus/train/._T11211.txt\n",
            "LST20_Corpus/train/T11211.txt\n",
            "LST20_Corpus/train/._T11205.txt\n",
            "LST20_Corpus/train/T11205.txt\n",
            "LST20_Corpus/train/._T00308.txt\n",
            "LST20_Corpus/train/T00308.txt\n",
            "LST20_Corpus/train/._T11563.txt\n",
            "LST20_Corpus/train/T11563.txt\n",
            "LST20_Corpus/train/._T01189.txt\n",
            "LST20_Corpus/train/T01189.txt\n",
            "LST20_Corpus/train/._T10084.txt\n",
            "LST20_Corpus/train/T10084.txt\n",
            "LST20_Corpus/train/._T00297.txt\n",
            "LST20_Corpus/train/T00297.txt\n",
            "LST20_Corpus/train/._T10090.txt\n",
            "LST20_Corpus/train/T10090.txt\n",
            "LST20_Corpus/train/._T00283.txt\n",
            "LST20_Corpus/train/T00283.txt\n",
            "LST20_Corpus/train/._T12877.txt\n",
            "LST20_Corpus/train/T12877.txt\n",
            "LST20_Corpus/train/._T12863.txt\n",
            "LST20_Corpus/train/T12863.txt\n",
            "LST20_Corpus/train/._T10912.txt\n",
            "LST20_Corpus/train/T10912.txt\n",
            "LST20_Corpus/train/._T12136.txt\n",
            "LST20_Corpus/train/T12136.txt\n",
            "LST20_Corpus/train/._T00532.txt\n",
            "LST20_Corpus/train/T00532.txt\n",
            "LST20_Corpus/train/._T10721.txt\n",
            "LST20_Corpus/train/T10721.txt\n",
            "LST20_Corpus/train/._T10047.txt\n",
            "LST20_Corpus/train/T10047.txt\n",
            "LST20_Corpus/train/._T00254.txt\n",
            "LST20_Corpus/train/T00254.txt\n",
            "LST20_Corpus/train/._T11359.txt\n",
            "LST20_Corpus/train/T11359.txt\n",
            "LST20_Corpus/train/._T12888.txt\n",
            "LST20_Corpus/train/T12888.txt\n",
            "LST20_Corpus/train/._T10053.txt\n",
            "LST20_Corpus/train/T10053.txt\n",
            "LST20_Corpus/train/._T00240.txt\n",
            "LST20_Corpus/train/T00240.txt\n",
            "LST20_Corpus/train/._T01638.txt\n",
            "LST20_Corpus/train/T01638.txt\n",
            "LST20_Corpus/train/._T00526.txt\n",
            "LST20_Corpus/train/T00526.txt\n",
            "LST20_Corpus/train/._T10735.txt\n",
            "LST20_Corpus/train/T10735.txt\n",
            "LST20_Corpus/train/._T11403.txt\n",
            "LST20_Corpus/train/T11403.txt\n",
            "LST20_Corpus/train/._T01610.txt\n",
            "LST20_Corpus/train/T01610.txt\n",
            "LST20_Corpus/train/._T00268.txt\n",
            "LST20_Corpus/train/T00268.txt\n",
            "LST20_Corpus/train/._T01176.txt\n",
            "LST20_Corpus/train/T01176.txt\n",
            "LST20_Corpus/train/._T11365.txt\n",
            "LST20_Corpus/train/T11365.txt\n",
            "LST20_Corpus/train/._T01162.txt\n",
            "LST20_Corpus/train/T01162.txt\n",
            "LST20_Corpus/train/._T11371.txt\n",
            "LST20_Corpus/train/T11371.txt\n",
            "LST20_Corpus/train/._T11417.txt\n",
            "LST20_Corpus/train/T11417.txt\n",
            "LST20_Corpus/train/._T01604.txt\n",
            "LST20_Corpus/train/T01604.txt\n",
            "LST20_Corpus/train/._T10286.txt\n",
            "LST20_Corpus/train/T10286.txt\n",
            "LST20_Corpus/train/._T11198.txt\n",
            "LST20_Corpus/train/T11198.txt\n",
            "LST20_Corpus/train/._T11826.txt\n",
            "LST20_Corpus/train/T11826.txt\n",
            "LST20_Corpus/train/._T11832.txt\n",
            "LST20_Corpus/train/T11832.txt\n",
            "LST20_Corpus/train/._T10292.txt\n",
            "LST20_Corpus/train/T10292.txt\n",
            "LST20_Corpus/train/._T00917.txt\n",
            "LST20_Corpus/train/T00917.txt\n",
            "LST20_Corpus/train/._T00903.txt\n",
            "LST20_Corpus/train/T00903.txt\n",
            "LST20_Corpus/train/._T01348.txt\n",
            "LST20_Corpus/train/T01348.txt\n",
            "LST20_Corpus/train/._T10245.txt\n",
            "LST20_Corpus/train/T10245.txt\n",
            "LST20_Corpus/train/._T10523.txt\n",
            "LST20_Corpus/train/T10523.txt\n",
            "LST20_Corpus/train/._T00730.txt\n",
            "LST20_Corpus/train/T00730.txt\n",
            "LST20_Corpus/train/._T12320.txt\n",
            "LST20_Corpus/train/T12320.txt\n",
            "LST20_Corpus/train/._T10537.txt\n",
            "LST20_Corpus/train/T10537.txt\n",
            "LST20_Corpus/train/._T00724.txt\n",
            "LST20_Corpus/train/T00724.txt\n",
            "LST20_Corpus/train/._T10251.txt\n",
            "LST20_Corpus/train/T10251.txt\n",
            "LST20_Corpus/train/._T01374.txt\n",
            "LST20_Corpus/train/T01374.txt\n",
            "LST20_Corpus/train/._T10279.txt\n",
            "LST20_Corpus/train/T10279.txt\n",
            "LST20_Corpus/train/._T12308.txt\n",
            "LST20_Corpus/train/T12308.txt\n",
            "LST20_Corpus/train/._T13016.txt\n",
            "LST20_Corpus/train/T13016.txt\n",
            "LST20_Corpus/train/._T01412.txt\n",
            "LST20_Corpus/train/T01412.txt\n",
            "LST20_Corpus/train/._T11601.txt\n",
            "LST20_Corpus/train/T11601.txt\n",
            "LST20_Corpus/train/._T00718.txt\n",
            "LST20_Corpus/train/T00718.txt\n",
            "LST20_Corpus/train/._T01406.txt\n",
            "LST20_Corpus/train/T01406.txt\n",
            "LST20_Corpus/train/._T11615.txt\n",
            "LST20_Corpus/train/T11615.txt\n",
            "LST20_Corpus/train/._T13002.txt\n",
            "LST20_Corpus/train/T13002.txt\n",
            "LST20_Corpus/train/._T11173.txt\n",
            "LST20_Corpus/train/T11173.txt\n",
            "LST20_Corpus/train/._T01360.txt\n",
            "LST20_Corpus/train/T01360.txt\n",
            "LST20_Corpus/train/._T13003.txt\n",
            "LST20_Corpus/train/T13003.txt\n",
            "LST20_Corpus/train/._T11614.txt\n",
            "LST20_Corpus/train/T11614.txt\n",
            "LST20_Corpus/train/._T01407.txt\n",
            "LST20_Corpus/train/T01407.txt\n",
            "LST20_Corpus/train/._T00719.txt\n",
            "LST20_Corpus/train/T00719.txt\n",
            "LST20_Corpus/train/._T01361.txt\n",
            "LST20_Corpus/train/T01361.txt\n",
            "LST20_Corpus/train/._T11172.txt\n",
            "LST20_Corpus/train/T11172.txt\n",
            "LST20_Corpus/train/._T10278.txt\n",
            "LST20_Corpus/train/T10278.txt\n",
            "LST20_Corpus/train/._T01375.txt\n",
            "LST20_Corpus/train/T01375.txt\n",
            "LST20_Corpus/train/._T11166.txt\n",
            "LST20_Corpus/train/T11166.txt\n",
            "LST20_Corpus/train/._T11600.txt\n",
            "LST20_Corpus/train/T11600.txt\n",
            "LST20_Corpus/train/._T01413.txt\n",
            "LST20_Corpus/train/T01413.txt\n",
            "LST20_Corpus/train/._T13017.txt\n",
            "LST20_Corpus/train/T13017.txt\n",
            "LST20_Corpus/train/._T12309.txt\n",
            "LST20_Corpus/train/T12309.txt\n",
            "LST20_Corpus/train/._T11628.txt\n",
            "LST20_Corpus/train/T11628.txt\n",
            "LST20_Corpus/train/._T00725.txt\n",
            "LST20_Corpus/train/T00725.txt\n",
            "LST20_Corpus/train/._T10536.txt\n",
            "LST20_Corpus/train/T10536.txt\n",
            "LST20_Corpus/train/._T10250.txt\n",
            "LST20_Corpus/train/T10250.txt\n",
            "LST20_Corpus/train/._T10244.txt\n",
            "LST20_Corpus/train/T10244.txt\n",
            "LST20_Corpus/train/._T01349.txt\n",
            "LST20_Corpus/train/T01349.txt\n",
            "LST20_Corpus/train/._T00731.txt\n",
            "LST20_Corpus/train/T00731.txt\n",
            "LST20_Corpus/train/._T10522.txt\n",
            "LST20_Corpus/train/T10522.txt\n",
            "LST20_Corpus/train/._T00902.txt\n",
            "LST20_Corpus/train/T00902.txt\n",
            "LST20_Corpus/train/._T00916.txt\n",
            "LST20_Corpus/train/T00916.txt\n",
            "LST20_Corpus/train/._T11833.txt\n",
            "LST20_Corpus/train/T11833.txt\n",
            "LST20_Corpus/train/._T10293.txt\n",
            "LST20_Corpus/train/T10293.txt\n",
            "LST20_Corpus/train/._T11199.txt\n",
            "LST20_Corpus/train/T11199.txt\n",
            "LST20_Corpus/train/._T10287.txt\n",
            "LST20_Corpus/train/T10287.txt\n",
            "LST20_Corpus/train/._T11827.txt\n",
            "LST20_Corpus/train/T11827.txt\n",
            "LST20_Corpus/train/._T11370.txt\n",
            "LST20_Corpus/train/T11370.txt\n",
            "LST20_Corpus/train/._T01163.txt\n",
            "LST20_Corpus/train/T01163.txt\n",
            "LST20_Corpus/train/._T10708.txt\n",
            "LST20_Corpus/train/T10708.txt\n",
            "LST20_Corpus/train/._T01605.txt\n",
            "LST20_Corpus/train/T01605.txt\n",
            "LST20_Corpus/train/._T11416.txt\n",
            "LST20_Corpus/train/T11416.txt\n",
            "LST20_Corpus/train/._T01611.txt\n",
            "LST20_Corpus/train/T01611.txt\n",
            "LST20_Corpus/train/._T11402.txt\n",
            "LST20_Corpus/train/T11402.txt\n",
            "LST20_Corpus/train/._T11364.txt\n",
            "LST20_Corpus/train/T11364.txt\n",
            "LST20_Corpus/train/._T01177.txt\n",
            "LST20_Corpus/train/T01177.txt\n",
            "LST20_Corpus/train/._T00269.txt\n",
            "LST20_Corpus/train/T00269.txt\n",
            "LST20_Corpus/train/._T00241.txt\n",
            "LST20_Corpus/train/T00241.txt\n",
            "LST20_Corpus/train/._T10052.txt\n",
            "LST20_Corpus/train/T10052.txt\n",
            "LST20_Corpus/train/._T10734.txt\n",
            "LST20_Corpus/train/T10734.txt\n",
            "LST20_Corpus/train/._T00527.txt\n",
            "LST20_Corpus/train/T00527.txt\n",
            "LST20_Corpus/train/._T01639.txt\n",
            "LST20_Corpus/train/T01639.txt\n",
            "LST20_Corpus/train/._T10720.txt\n",
            "LST20_Corpus/train/T10720.txt\n",
            "LST20_Corpus/train/._T00533.txt\n",
            "LST20_Corpus/train/T00533.txt\n",
            "LST20_Corpus/train/._T12137.txt\n",
            "LST20_Corpus/train/T12137.txt\n",
            "LST20_Corpus/train/._T12889.txt\n",
            "LST20_Corpus/train/T12889.txt\n",
            "LST20_Corpus/train/._T11358.txt\n",
            "LST20_Corpus/train/T11358.txt\n",
            "LST20_Corpus/train/._T00255.txt\n",
            "LST20_Corpus/train/T00255.txt\n",
            "LST20_Corpus/train/._T10046.txt\n",
            "LST20_Corpus/train/T10046.txt\n",
            "LST20_Corpus/train/._T12862.txt\n",
            "LST20_Corpus/train/T12862.txt\n",
            "LST20_Corpus/train/._T10913.txt\n",
            "LST20_Corpus/train/T10913.txt\n",
            "LST20_Corpus/train/._T12876.txt\n",
            "LST20_Corpus/train/T12876.txt\n",
            "LST20_Corpus/train/._T00282.txt\n",
            "LST20_Corpus/train/T00282.txt\n",
            "LST20_Corpus/train/._T10091.txt\n",
            "LST20_Corpus/train/T10091.txt\n",
            "LST20_Corpus/train/._T00296.txt\n",
            "LST20_Corpus/train/T00296.txt\n",
            "LST20_Corpus/train/._T10085.txt\n",
            "LST20_Corpus/train/T10085.txt\n",
            "LST20_Corpus/train/._T01188.txt\n",
            "LST20_Corpus/train/T01188.txt\n",
            "LST20_Corpus/train/._T00309.txt\n",
            "LST20_Corpus/train/T00309.txt\n",
            "LST20_Corpus/train/._T11204.txt\n",
            "LST20_Corpus/train/T11204.txt\n",
            "LST20_Corpus/train/._T11562.txt\n",
            "LST20_Corpus/train/T11562.txt\n",
            "LST20_Corpus/train/._T11576.txt\n",
            "LST20_Corpus/train/T11576.txt\n",
            "LST20_Corpus/train/._T10668.txt\n",
            "LST20_Corpus/train/T10668.txt\n",
            "LST20_Corpus/train/._T11210.txt\n",
            "LST20_Corpus/train/T11210.txt\n",
            "LST20_Corpus/train/._T10126.txt\n",
            "LST20_Corpus/train/T10126.txt\n",
            "LST20_Corpus/train/._T00335.txt\n",
            "LST20_Corpus/train/T00335.txt\n",
            "LST20_Corpus/train/._T11238.txt\n",
            "LST20_Corpus/train/T11238.txt\n",
            "LST20_Corpus/train/._T12057.txt\n",
            "LST20_Corpus/train/T12057.txt\n",
            "LST20_Corpus/train/._T00453.txt\n",
            "LST20_Corpus/train/T00453.txt\n",
            "LST20_Corpus/train/._T10640.txt\n",
            "LST20_Corpus/train/T10640.txt\n",
            "LST20_Corpus/train/._T00447.txt\n",
            "LST20_Corpus/train/T00447.txt\n",
            "LST20_Corpus/train/._T10654.txt\n",
            "LST20_Corpus/train/T10654.txt\n",
            "LST20_Corpus/train/._T12043.txt\n",
            "LST20_Corpus/train/T12043.txt\n",
            "LST20_Corpus/train/._T10132.txt\n",
            "LST20_Corpus/train/T10132.txt\n",
            "LST20_Corpus/train/._T00321.txt\n",
            "LST20_Corpus/train/T00321.txt\n",
            "LST20_Corpus/train/._T12916.txt\n",
            "LST20_Corpus/train/T12916.txt\n",
            "LST20_Corpus/train/._T12902.txt\n",
            "LST20_Corpus/train/T12902.txt\n",
            "LST20_Corpus/train/._T00490.txt\n",
            "LST20_Corpus/train/T00490.txt\n",
            "LST20_Corpus/train/._T10683.txt\n",
            "LST20_Corpus/train/T10683.txt\n",
            "LST20_Corpus/train/._T12080.txt\n",
            "LST20_Corpus/train/T12080.txt\n",
            "LST20_Corpus/train/._T00484.txt\n",
            "LST20_Corpus/train/T00484.txt\n",
            "LST20_Corpus/train/._T10697.txt\n",
            "LST20_Corpus/train/T10697.txt\n",
            "LST20_Corpus/train/._T11589.txt\n",
            "LST20_Corpus/train/T11589.txt\n",
            "LST20_Corpus/train/._T01573.txt\n",
            "LST20_Corpus/train/T01573.txt\n",
            "LST20_Corpus/train/._T11760.txt\n",
            "LST20_Corpus/train/T11760.txt\n",
            "LST20_Corpus/train/._T11006.txt\n",
            "LST20_Corpus/train/T11006.txt\n",
            "LST20_Corpus/train/._T01215.txt\n",
            "LST20_Corpus/train/T01215.txt\n",
            "LST20_Corpus/train/._T10318.txt\n",
            "LST20_Corpus/train/T10318.txt\n",
            "LST20_Corpus/train/._T11012.txt\n",
            "LST20_Corpus/train/T11012.txt\n",
            "LST20_Corpus/train/._T01201.txt\n",
            "LST20_Corpus/train/T01201.txt\n",
            "LST20_Corpus/train/._T00679.txt\n",
            "LST20_Corpus/train/T00679.txt\n",
            "LST20_Corpus/train/._T01567.txt\n",
            "LST20_Corpus/train/T01567.txt\n",
            "LST20_Corpus/train/._T11774.txt\n",
            "LST20_Corpus/train/T11774.txt\n",
            "LST20_Corpus/train/._T10442.txt\n",
            "LST20_Corpus/train/T10442.txt\n",
            "LST20_Corpus/train/._T00651.txt\n",
            "LST20_Corpus/train/T00651.txt\n",
            "LST20_Corpus/train/._T00889.txt\n",
            "LST20_Corpus/train/T00889.txt\n",
            "LST20_Corpus/train/._T01229.txt\n",
            "LST20_Corpus/train/T01229.txt\n",
            "LST20_Corpus/train/._T00137.txt\n",
            "LST20_Corpus/train/T00137.txt\n",
            "LST20_Corpus/train/._T10324.txt\n",
            "LST20_Corpus/train/T10324.txt\n",
            "LST20_Corpus/train/._T10330.txt\n",
            "LST20_Corpus/train/T10330.txt\n",
            "LST20_Corpus/train/._T10456.txt\n",
            "LST20_Corpus/train/T10456.txt\n",
            "LST20_Corpus/train/._T11990.txt\n",
            "LST20_Corpus/train/T11990.txt\n",
            "LST20_Corpus/train/._T00645.txt\n",
            "LST20_Corpus/train/T00645.txt\n",
            "LST20_Corpus/train/._T11748.txt\n",
            "LST20_Corpus/train/T11748.txt\n",
            "LST20_Corpus/train/._T00876.txt\n",
            "LST20_Corpus/train/T00876.txt\n",
            "LST20_Corpus/train/._T00862.txt\n",
            "LST20_Corpus/train/T00862.txt\n",
            "LST20_Corpus/train/._T10481.txt\n",
            "LST20_Corpus/train/T10481.txt\n",
            "LST20_Corpus/train/._T00692.txt\n",
            "LST20_Corpus/train/T00692.txt\n",
            "LST20_Corpus/train/._T11947.txt\n",
            "LST20_Corpus/train/T11947.txt\n",
            "LST20_Corpus/train/._T01598.txt\n",
            "LST20_Corpus/train/T01598.txt\n",
            "LST20_Corpus/train/._T10495.txt\n",
            "LST20_Corpus/train/T10495.txt\n",
            "LST20_Corpus/train/._T11953.txt\n",
            "LST20_Corpus/train/T11953.txt\n",
            "LST20_Corpus/train/._T00686.txt\n",
            "LST20_Corpus/train/T00686.txt\n",
            "LST20_Corpus/train/._T00866.txt\n",
            "LST20_Corpus/train/T00866.txt\n",
            "LST20_Corpus/train/._T00872.txt\n",
            "LST20_Corpus/train/T00872.txt\n",
            "LST20_Corpus/train/._T10491.txt\n",
            "LST20_Corpus/train/T10491.txt\n",
            "LST20_Corpus/train/._T00682.txt\n",
            "LST20_Corpus/train/T00682.txt\n",
            "LST20_Corpus/train/._T11957.txt\n",
            "LST20_Corpus/train/T11957.txt\n",
            "LST20_Corpus/train/._T10485.txt\n",
            "LST20_Corpus/train/T10485.txt\n",
            "LST20_Corpus/train/._T00696.txt\n",
            "LST20_Corpus/train/T00696.txt\n",
            "LST20_Corpus/train/._T01588.txt\n",
            "LST20_Corpus/train/T01588.txt\n",
            "LST20_Corpus/train/._T12279.txt\n",
            "LST20_Corpus/train/T12279.txt\n",
            "LST20_Corpus/train/._T01563.txt\n",
            "LST20_Corpus/train/T01563.txt\n",
            "LST20_Corpus/train/._T11770.txt\n",
            "LST20_Corpus/train/T11770.txt\n",
            "LST20_Corpus/train/._T10308.txt\n",
            "LST20_Corpus/train/T10308.txt\n",
            "LST20_Corpus/train/._T11016.txt\n",
            "LST20_Corpus/train/T11016.txt\n",
            "LST20_Corpus/train/._T01205.txt\n",
            "LST20_Corpus/train/T01205.txt\n",
            "LST20_Corpus/train/._T11002.txt\n",
            "LST20_Corpus/train/T11002.txt\n",
            "LST20_Corpus/train/._T01211.txt\n",
            "LST20_Corpus/train/T01211.txt\n",
            "LST20_Corpus/train/._T01577.txt\n",
            "LST20_Corpus/train/T01577.txt\n",
            "LST20_Corpus/train/._T11764.txt\n",
            "LST20_Corpus/train/T11764.txt\n",
            "LST20_Corpus/train/._T00669.txt\n",
            "LST20_Corpus/train/T00669.txt\n",
            "LST20_Corpus/train/._T00899.txt\n",
            "LST20_Corpus/train/T00899.txt\n",
            "LST20_Corpus/train/._T10452.txt\n",
            "LST20_Corpus/train/T10452.txt\n",
            "LST20_Corpus/train/._T00641.txt\n",
            "LST20_Corpus/train/T00641.txt\n",
            "LST20_Corpus/train/._T11994.txt\n",
            "LST20_Corpus/train/T11994.txt\n",
            "LST20_Corpus/train/._T12245.txt\n",
            "LST20_Corpus/train/T12245.txt\n",
            "LST20_Corpus/train/._T00127.txt\n",
            "LST20_Corpus/train/T00127.txt\n",
            "LST20_Corpus/train/._T10334.txt\n",
            "LST20_Corpus/train/T10334.txt\n",
            "LST20_Corpus/train/._T01239.txt\n",
            "LST20_Corpus/train/T01239.txt\n",
            "LST20_Corpus/train/._T00133.txt\n",
            "LST20_Corpus/train/T00133.txt\n",
            "LST20_Corpus/train/._T10320.txt\n",
            "LST20_Corpus/train/T10320.txt\n",
            "LST20_Corpus/train/._T12251.txt\n",
            "LST20_Corpus/train/T12251.txt\n",
            "LST20_Corpus/train/._T10446.txt\n",
            "LST20_Corpus/train/T10446.txt\n",
            "LST20_Corpus/train/._T11980.txt\n",
            "LST20_Corpus/train/T11980.txt\n",
            "LST20_Corpus/train/._T00655.txt\n",
            "LST20_Corpus/train/T00655.txt\n",
            "LST20_Corpus/train/._T12906.txt\n",
            "LST20_Corpus/train/T12906.txt\n",
            "LST20_Corpus/train/._T00480.txt\n",
            "LST20_Corpus/train/T00480.txt\n",
            "LST20_Corpus/train/._T10693.txt\n",
            "LST20_Corpus/train/T10693.txt\n",
            "LST20_Corpus/train/._T11599.txt\n",
            "LST20_Corpus/train/T11599.txt\n",
            "LST20_Corpus/train/._T00494.txt\n",
            "LST20_Corpus/train/T00494.txt\n",
            "LST20_Corpus/train/._T10687.txt\n",
            "LST20_Corpus/train/T10687.txt\n",
            "LST20_Corpus/train/._T11214.txt\n",
            "LST20_Corpus/train/T11214.txt\n",
            "LST20_Corpus/train/._T00319.txt\n",
            "LST20_Corpus/train/T00319.txt\n",
            "LST20_Corpus/train/._T11572.txt\n",
            "LST20_Corpus/train/T11572.txt\n",
            "LST20_Corpus/train/._T10678.txt\n",
            "LST20_Corpus/train/T10678.txt\n",
            "LST20_Corpus/train/._T11566.txt\n",
            "LST20_Corpus/train/T11566.txt\n",
            "LST20_Corpus/train/._T11200.txt\n",
            "LST20_Corpus/train/T11200.txt\n",
            "LST20_Corpus/train/._T11228.txt\n",
            "LST20_Corpus/train/T11228.txt\n",
            "LST20_Corpus/train/._T10136.txt\n",
            "LST20_Corpus/train/T10136.txt\n",
            "LST20_Corpus/train/._T00325.txt\n",
            "LST20_Corpus/train/T00325.txt\n",
            "LST20_Corpus/train/._T12047.txt\n",
            "LST20_Corpus/train/T12047.txt\n",
            "LST20_Corpus/train/._T00443.txt\n",
            "LST20_Corpus/train/T00443.txt\n",
            "LST20_Corpus/train/._T10650.txt\n",
            "LST20_Corpus/train/T10650.txt\n",
            "LST20_Corpus/train/._T00457.txt\n",
            "LST20_Corpus/train/T00457.txt\n",
            "LST20_Corpus/train/._T10644.txt\n",
            "LST20_Corpus/train/T10644.txt\n",
            "LST20_Corpus/train/._T10122.txt\n",
            "LST20_Corpus/train/T10122.txt\n",
            "LST20_Corpus/train/._T00331.txt\n",
            "LST20_Corpus/train/T00331.txt\n",
            "LST20_Corpus/train/._T12872.txt\n",
            "LST20_Corpus/train/T12872.txt\n",
            "LST20_Corpus/train/._T10917.txt\n",
            "LST20_Corpus/train/T10917.txt\n",
            "LST20_Corpus/train/._T12866.txt\n",
            "LST20_Corpus/train/T12866.txt\n",
            "LST20_Corpus/train/._T00292.txt\n",
            "LST20_Corpus/train/T00292.txt\n",
            "LST20_Corpus/train/._T10081.txt\n",
            "LST20_Corpus/train/T10081.txt\n",
            "LST20_Corpus/train/._T01198.txt\n",
            "LST20_Corpus/train/T01198.txt\n",
            "LST20_Corpus/train/._T00286.txt\n",
            "LST20_Corpus/train/T00286.txt\n",
            "LST20_Corpus/train/._T10095.txt\n",
            "LST20_Corpus/train/T10095.txt\n",
            "LST20_Corpus/train/._T11360.txt\n",
            "LST20_Corpus/train/T11360.txt\n",
            "LST20_Corpus/train/._T01173.txt\n",
            "LST20_Corpus/train/T01173.txt\n",
            "LST20_Corpus/train/._T01615.txt\n",
            "LST20_Corpus/train/T01615.txt\n",
            "LST20_Corpus/train/._T11406.txt\n",
            "LST20_Corpus/train/T11406.txt\n",
            "LST20_Corpus/train/._T01601.txt\n",
            "LST20_Corpus/train/T01601.txt\n",
            "LST20_Corpus/train/._T11412.txt\n",
            "LST20_Corpus/train/T11412.txt\n",
            "LST20_Corpus/train/._T00279.txt\n",
            "LST20_Corpus/train/T00279.txt\n",
            "LST20_Corpus/train/._T11374.txt\n",
            "LST20_Corpus/train/T11374.txt\n",
            "LST20_Corpus/train/._T01167.txt\n",
            "LST20_Corpus/train/T01167.txt\n",
            "LST20_Corpus/train/._T00251.txt\n",
            "LST20_Corpus/train/T00251.txt\n",
            "LST20_Corpus/train/._T01629.txt\n",
            "LST20_Corpus/train/T01629.txt\n",
            "LST20_Corpus/train/._T10724.txt\n",
            "LST20_Corpus/train/T10724.txt\n",
            "LST20_Corpus/train/._T00537.txt\n",
            "LST20_Corpus/train/T00537.txt\n",
            "LST20_Corpus/train/._T10730.txt\n",
            "LST20_Corpus/train/T10730.txt\n",
            "LST20_Corpus/train/._T00523.txt\n",
            "LST20_Corpus/train/T00523.txt\n",
            "LST20_Corpus/train/._T12641.txt\n",
            "LST20_Corpus/train/T12641.txt\n",
            "LST20_Corpus/train/._T12899.txt\n",
            "LST20_Corpus/train/T12899.txt\n",
            "LST20_Corpus/train/._T00245.txt\n",
            "LST20_Corpus/train/T00245.txt\n",
            "LST20_Corpus/train/._T10056.txt\n",
            "LST20_Corpus/train/T10056.txt\n",
            "LST20_Corpus/train/._T11348.txt\n",
            "LST20_Corpus/train/T11348.txt\n",
            "LST20_Corpus/train/._T00912.txt\n",
            "LST20_Corpus/train/T00912.txt\n",
            "LST20_Corpus/train/._T00906.txt\n",
            "LST20_Corpus/train/T00906.txt\n",
            "LST20_Corpus/train/._T11823.txt\n",
            "LST20_Corpus/train/T11823.txt\n",
            "LST20_Corpus/train/._T10283.txt\n",
            "LST20_Corpus/train/T10283.txt\n",
            "LST20_Corpus/train/._T12494.txt\n",
            "LST20_Corpus/train/T12494.txt\n",
            "LST20_Corpus/train/._T10297.txt\n",
            "LST20_Corpus/train/T10297.txt\n",
            "LST20_Corpus/train/._T11189.txt\n",
            "LST20_Corpus/train/T11189.txt\n",
            "LST20_Corpus/train/._T13013.txt\n",
            "LST20_Corpus/train/T13013.txt\n",
            "LST20_Corpus/train/._T00709.txt\n",
            "LST20_Corpus/train/T00709.txt\n",
            "LST20_Corpus/train/._T11604.txt\n",
            "LST20_Corpus/train/T11604.txt\n",
            "LST20_Corpus/train/._T01417.txt\n",
            "LST20_Corpus/train/T01417.txt\n",
            "LST20_Corpus/train/._T01371.txt\n",
            "LST20_Corpus/train/T01371.txt\n",
            "LST20_Corpus/train/._T11162.txt\n",
            "LST20_Corpus/train/T11162.txt\n",
            "LST20_Corpus/train/._T01365.txt\n",
            "LST20_Corpus/train/T01365.txt\n",
            "LST20_Corpus/train/._T11176.txt\n",
            "LST20_Corpus/train/T11176.txt\n",
            "LST20_Corpus/train/._T10268.txt\n",
            "LST20_Corpus/train/T10268.txt\n",
            "LST20_Corpus/train/._T11610.txt\n",
            "LST20_Corpus/train/T11610.txt\n",
            "LST20_Corpus/train/._T01403.txt\n",
            "LST20_Corpus/train/T01403.txt\n",
            "LST20_Corpus/train/._T13007.txt\n",
            "LST20_Corpus/train/T13007.txt\n",
            "LST20_Corpus/train/._T00735.txt\n",
            "LST20_Corpus/train/T00735.txt\n",
            "LST20_Corpus/train/._T10526.txt\n",
            "LST20_Corpus/train/T10526.txt\n",
            "LST20_Corpus/train/._T11638.txt\n",
            "LST20_Corpus/train/T11638.txt\n",
            "LST20_Corpus/train/._T10240.txt\n",
            "LST20_Corpus/train/T10240.txt\n",
            "LST20_Corpus/train/._T01359.txt\n",
            "LST20_Corpus/train/T01359.txt\n",
            "LST20_Corpus/train/._T10254.txt\n",
            "LST20_Corpus/train/T10254.txt\n",
            "LST20_Corpus/train/._T00721.txt\n",
            "LST20_Corpus/train/T00721.txt\n",
            "LST20_Corpus/train/._T10532.txt\n",
            "LST20_Corpus/train/T10532.txt\n",
            "LST20_Corpus/train/._T10255.txt\n",
            "LST20_Corpus/train/T10255.txt\n",
            "LST20_Corpus/train/._T01358.txt\n",
            "LST20_Corpus/train/T01358.txt\n",
            "LST20_Corpus/train/._T10533.txt\n",
            "LST20_Corpus/train/T10533.txt\n",
            "LST20_Corpus/train/._T00720.txt\n",
            "LST20_Corpus/train/T00720.txt\n",
            "LST20_Corpus/train/._T11639.txt\n",
            "LST20_Corpus/train/T11639.txt\n",
            "LST20_Corpus/train/._T10527.txt\n",
            "LST20_Corpus/train/T10527.txt\n",
            "LST20_Corpus/train/._T00734.txt\n",
            "LST20_Corpus/train/T00734.txt\n",
            "LST20_Corpus/train/._T10241.txt\n",
            "LST20_Corpus/train/T10241.txt\n",
            "LST20_Corpus/train/._T10269.txt\n",
            "LST20_Corpus/train/T10269.txt\n",
            "LST20_Corpus/train/._T11177.txt\n",
            "LST20_Corpus/train/T11177.txt\n",
            "LST20_Corpus/train/._T01364.txt\n",
            "LST20_Corpus/train/T01364.txt\n",
            "LST20_Corpus/train/._T13006.txt\n",
            "LST20_Corpus/train/T13006.txt\n",
            "LST20_Corpus/train/._T01402.txt\n",
            "LST20_Corpus/train/T01402.txt\n",
            "LST20_Corpus/train/._T11611.txt\n",
            "LST20_Corpus/train/T11611.txt\n",
            "LST20_Corpus/train/._T01416.txt\n",
            "LST20_Corpus/train/T01416.txt\n",
            "LST20_Corpus/train/._T11605.txt\n",
            "LST20_Corpus/train/T11605.txt\n",
            "LST20_Corpus/train/._T00708.txt\n",
            "LST20_Corpus/train/T00708.txt\n",
            "LST20_Corpus/train/._T13012.txt\n",
            "LST20_Corpus/train/T13012.txt\n",
            "LST20_Corpus/train/._T11163.txt\n",
            "LST20_Corpus/train/T11163.txt\n",
            "LST20_Corpus/train/._T01370.txt\n",
            "LST20_Corpus/train/T01370.txt\n",
            "LST20_Corpus/train/._T11188.txt\n",
            "LST20_Corpus/train/T11188.txt\n",
            "LST20_Corpus/train/._T10296.txt\n",
            "LST20_Corpus/train/T10296.txt\n",
            "LST20_Corpus/train/._T11836.txt\n",
            "LST20_Corpus/train/T11836.txt\n",
            "LST20_Corpus/train/._T11822.txt\n",
            "LST20_Corpus/train/T11822.txt\n",
            "LST20_Corpus/train/._T12495.txt\n",
            "LST20_Corpus/train/T12495.txt\n",
            "LST20_Corpus/train/._T10282.txt\n",
            "LST20_Corpus/train/T10282.txt\n",
            "LST20_Corpus/train/._T00907.txt\n",
            "LST20_Corpus/train/T00907.txt\n",
            "LST20_Corpus/train/._T00913.txt\n",
            "LST20_Corpus/train/T00913.txt\n",
            "LST20_Corpus/train/._T00522.txt\n",
            "LST20_Corpus/train/T00522.txt\n",
            "LST20_Corpus/train/._T10731.txt\n",
            "LST20_Corpus/train/T10731.txt\n",
            "LST20_Corpus/train/._T11349.txt\n",
            "LST20_Corpus/train/T11349.txt\n",
            "LST20_Corpus/train/._T10057.txt\n",
            "LST20_Corpus/train/T10057.txt\n",
            "LST20_Corpus/train/._T00244.txt\n",
            "LST20_Corpus/train/T00244.txt\n",
            "LST20_Corpus/train/._T12898.txt\n",
            "LST20_Corpus/train/T12898.txt\n",
            "LST20_Corpus/train/._T10043.txt\n",
            "LST20_Corpus/train/T10043.txt\n",
            "LST20_Corpus/train/._T00250.txt\n",
            "LST20_Corpus/train/T00250.txt\n",
            "LST20_Corpus/train/._T00536.txt\n",
            "LST20_Corpus/train/T00536.txt\n",
            "LST20_Corpus/train/._T10725.txt\n",
            "LST20_Corpus/train/T10725.txt\n",
            "LST20_Corpus/train/._T01628.txt\n",
            "LST20_Corpus/train/T01628.txt\n",
            "LST20_Corpus/train/._T12132.txt\n",
            "LST20_Corpus/train/T12132.txt\n",
            "LST20_Corpus/train/._T11413.txt\n",
            "LST20_Corpus/train/T11413.txt\n",
            "LST20_Corpus/train/._T01600.txt\n",
            "LST20_Corpus/train/T01600.txt\n",
            "LST20_Corpus/train/._T01166.txt\n",
            "LST20_Corpus/train/T01166.txt\n",
            "LST20_Corpus/train/._T11375.txt\n",
            "LST20_Corpus/train/T11375.txt\n",
            "LST20_Corpus/train/._T00278.txt\n",
            "LST20_Corpus/train/T00278.txt\n",
            "LST20_Corpus/train/._T01172.txt\n",
            "LST20_Corpus/train/T01172.txt\n",
            "LST20_Corpus/train/._T11361.txt\n",
            "LST20_Corpus/train/T11361.txt\n",
            "LST20_Corpus/train/._T10719.txt\n",
            "LST20_Corpus/train/T10719.txt\n",
            "LST20_Corpus/train/._T11407.txt\n",
            "LST20_Corpus/train/T11407.txt\n",
            "LST20_Corpus/train/._T01614.txt\n",
            "LST20_Corpus/train/T01614.txt\n",
            "LST20_Corpus/train/._T10094.txt\n",
            "LST20_Corpus/train/T10094.txt\n",
            "LST20_Corpus/train/._T00287.txt\n",
            "LST20_Corpus/train/T00287.txt\n",
            "LST20_Corpus/train/._T01199.txt\n",
            "LST20_Corpus/train/T01199.txt\n",
            "LST20_Corpus/train/._T10080.txt\n",
            "LST20_Corpus/train/T10080.txt\n",
            "LST20_Corpus/train/._T00293.txt\n",
            "LST20_Corpus/train/T00293.txt\n",
            "LST20_Corpus/train/._T12873.txt\n",
            "LST20_Corpus/train/T12873.txt\n",
            "LST20_Corpus/train/._T12052.txt\n",
            "LST20_Corpus/train/T12052.txt\n",
            "LST20_Corpus/train/._T00456.txt\n",
            "LST20_Corpus/train/T00456.txt\n",
            "LST20_Corpus/train/._T00330.txt\n",
            "LST20_Corpus/train/T00330.txt\n",
            "LST20_Corpus/train/._T10123.txt\n",
            "LST20_Corpus/train/T10123.txt\n",
            "LST20_Corpus/train/._T00324.txt\n",
            "LST20_Corpus/train/T00324.txt\n",
            "LST20_Corpus/train/._T10137.txt\n",
            "LST20_Corpus/train/T10137.txt\n",
            "LST20_Corpus/train/._T11229.txt\n",
            "LST20_Corpus/train/T11229.txt\n",
            "LST20_Corpus/train/._T10651.txt\n",
            "LST20_Corpus/train/T10651.txt\n",
            "LST20_Corpus/train/._T00442.txt\n",
            "LST20_Corpus/train/T00442.txt\n",
            "LST20_Corpus/train/._T12046.txt\n",
            "LST20_Corpus/train/T12046.txt\n",
            "LST20_Corpus/train/._T11567.txt\n",
            "LST20_Corpus/train/T11567.txt\n",
            "LST20_Corpus/train/._T10679.txt\n",
            "LST20_Corpus/train/T10679.txt\n",
            "LST20_Corpus/train/._T11201.txt\n",
            "LST20_Corpus/train/T11201.txt\n",
            "LST20_Corpus/train/._T00318.txt\n",
            "LST20_Corpus/train/T00318.txt\n",
            "LST20_Corpus/train/._T11215.txt\n",
            "LST20_Corpus/train/T11215.txt\n",
            "LST20_Corpus/train/._T11573.txt\n",
            "LST20_Corpus/train/T11573.txt\n",
            "LST20_Corpus/train/._T10686.txt\n",
            "LST20_Corpus/train/T10686.txt\n",
            "LST20_Corpus/train/._T00495.txt\n",
            "LST20_Corpus/train/T00495.txt\n",
            "LST20_Corpus/train/._T11598.txt\n",
            "LST20_Corpus/train/T11598.txt\n",
            "LST20_Corpus/train/._T10692.txt\n",
            "LST20_Corpus/train/T10692.txt\n",
            "LST20_Corpus/train/._T00481.txt\n",
            "LST20_Corpus/train/T00481.txt\n",
            "LST20_Corpus/train/._T12913.txt\n",
            "LST20_Corpus/train/T12913.txt\n",
            "LST20_Corpus/train/._T12907.txt\n",
            "LST20_Corpus/train/T12907.txt\n",
            "LST20_Corpus/train/._T10321.txt\n",
            "LST20_Corpus/train/T10321.txt\n",
            "LST20_Corpus/train/._T00132.txt\n",
            "LST20_Corpus/train/T00132.txt\n",
            "LST20_Corpus/train/._T00654.txt\n",
            "LST20_Corpus/train/T00654.txt\n",
            "LST20_Corpus/train/._T11981.txt\n",
            "LST20_Corpus/train/T11981.txt\n",
            "LST20_Corpus/train/._T10447.txt\n",
            "LST20_Corpus/train/T10447.txt\n",
            "LST20_Corpus/train/._T11759.txt\n",
            "LST20_Corpus/train/T11759.txt\n",
            "LST20_Corpus/train/._T12250.txt\n",
            "LST20_Corpus/train/T12250.txt\n",
            "LST20_Corpus/train/._T12244.txt\n",
            "LST20_Corpus/train/T12244.txt\n",
            "LST20_Corpus/train/._T11995.txt\n",
            "LST20_Corpus/train/T11995.txt\n",
            "LST20_Corpus/train/._T00640.txt\n",
            "LST20_Corpus/train/T00640.txt\n",
            "LST20_Corpus/train/._T10453.txt\n",
            "LST20_Corpus/train/T10453.txt\n",
            "LST20_Corpus/train/._T00898.txt\n",
            "LST20_Corpus/train/T00898.txt\n",
            "LST20_Corpus/train/._T01238.txt\n",
            "LST20_Corpus/train/T01238.txt\n",
            "LST20_Corpus/train/._T10335.txt\n",
            "LST20_Corpus/train/T10335.txt\n",
            "LST20_Corpus/train/._T00126.txt\n",
            "LST20_Corpus/train/T00126.txt\n",
            "LST20_Corpus/train/._T01210.txt\n",
            "LST20_Corpus/train/T01210.txt\n",
            "LST20_Corpus/train/._T11003.txt\n",
            "LST20_Corpus/train/T11003.txt\n",
            "LST20_Corpus/train/._T00668.txt\n",
            "LST20_Corpus/train/T00668.txt\n",
            "LST20_Corpus/train/._T11765.txt\n",
            "LST20_Corpus/train/T11765.txt\n",
            "LST20_Corpus/train/._T01576.txt\n",
            "LST20_Corpus/train/T01576.txt\n",
            "LST20_Corpus/train/._T11771.txt\n",
            "LST20_Corpus/train/T11771.txt\n",
            "LST20_Corpus/train/._T01562.txt\n",
            "LST20_Corpus/train/T01562.txt\n",
            "LST20_Corpus/train/._T12278.txt\n",
            "LST20_Corpus/train/T12278.txt\n",
            "LST20_Corpus/train/._T01204.txt\n",
            "LST20_Corpus/train/T01204.txt\n",
            "LST20_Corpus/train/._T11017.txt\n",
            "LST20_Corpus/train/T11017.txt\n",
            "LST20_Corpus/train/._T10309.txt\n",
            "LST20_Corpus/train/T10309.txt\n",
            "LST20_Corpus/train/._T01589.txt\n",
            "LST20_Corpus/train/T01589.txt\n",
            "LST20_Corpus/train/._T00697.txt\n",
            "LST20_Corpus/train/T00697.txt\n",
            "LST20_Corpus/train/._T10484.txt\n",
            "LST20_Corpus/train/T10484.txt\n",
            "LST20_Corpus/train/._T00683.txt\n",
            "LST20_Corpus/train/T00683.txt\n",
            "LST20_Corpus/train/._T10490.txt\n",
            "LST20_Corpus/train/T10490.txt\n",
            "LST20_Corpus/train/._T00873.txt\n",
            "LST20_Corpus/train/T00873.txt\n",
            "LST20_Corpus/train/._T00867.txt\n",
            "LST20_Corpus/train/T00867.txt\n",
            "LST20_Corpus/train/._T00871.txt\n",
            "LST20_Corpus/train/T00871.txt\n",
            "LST20_Corpus/train/._T11968.txt\n",
            "LST20_Corpus/train/T11968.txt\n",
            "LST20_Corpus/train/._T00865.txt\n",
            "LST20_Corpus/train/T00865.txt\n",
            "LST20_Corpus/train/._T10486.txt\n",
            "LST20_Corpus/train/T10486.txt\n",
            "LST20_Corpus/train/._T00695.txt\n",
            "LST20_Corpus/train/T00695.txt\n",
            "LST20_Corpus/train/._T11798.txt\n",
            "LST20_Corpus/train/T11798.txt\n",
            "LST20_Corpus/train/._T10492.txt\n",
            "LST20_Corpus/train/T10492.txt\n",
            "LST20_Corpus/train/._T00681.txt\n",
            "LST20_Corpus/train/T00681.txt\n",
            "LST20_Corpus/train/._T11954.txt\n",
            "LST20_Corpus/train/T11954.txt\n",
            "LST20_Corpus/train/._T00859.txt\n",
            "LST20_Corpus/train/T00859.txt\n",
            "LST20_Corpus/train/._T01574.txt\n",
            "LST20_Corpus/train/T01574.txt\n",
            "LST20_Corpus/train/._T11767.txt\n",
            "LST20_Corpus/train/T11767.txt\n",
            "LST20_Corpus/train/._T10479.txt\n",
            "LST20_Corpus/train/T10479.txt\n",
            "LST20_Corpus/train/._T11001.txt\n",
            "LST20_Corpus/train/T11001.txt\n",
            "LST20_Corpus/train/._T11015.txt\n",
            "LST20_Corpus/train/T11015.txt\n",
            "LST20_Corpus/train/._T01206.txt\n",
            "LST20_Corpus/train/T01206.txt\n",
            "LST20_Corpus/train/._T01560.txt\n",
            "LST20_Corpus/train/T01560.txt\n",
            "LST20_Corpus/train/._T11773.txt\n",
            "LST20_Corpus/train/T11773.txt\n",
            "LST20_Corpus/train/._T01548.txt\n",
            "LST20_Corpus/train/T01548.txt\n",
            "LST20_Corpus/train/._T10445.txt\n",
            "LST20_Corpus/train/T10445.txt\n",
            "LST20_Corpus/train/._T11983.txt\n",
            "LST20_Corpus/train/T11983.txt\n",
            "LST20_Corpus/train/._T00656.txt\n",
            "LST20_Corpus/train/T00656.txt\n",
            "LST20_Corpus/train/._T00130.txt\n",
            "LST20_Corpus/train/T00130.txt\n",
            "LST20_Corpus/train/._T10323.txt\n",
            "LST20_Corpus/train/T10323.txt\n",
            "LST20_Corpus/train/._T10337.txt\n",
            "LST20_Corpus/train/T10337.txt\n",
            "LST20_Corpus/train/._T11029.txt\n",
            "LST20_Corpus/train/T11029.txt\n",
            "LST20_Corpus/train/._T10451.txt\n",
            "LST20_Corpus/train/T10451.txt\n",
            "LST20_Corpus/train/._T00642.txt\n",
            "LST20_Corpus/train/T00642.txt\n",
            "LST20_Corpus/train/._T11997.txt\n",
            "LST20_Corpus/train/T11997.txt\n",
            "LST20_Corpus/train/._T12911.txt\n",
            "LST20_Corpus/train/T12911.txt\n",
            "LST20_Corpus/train/._T12905.txt\n",
            "LST20_Corpus/train/T12905.txt\n",
            "LST20_Corpus/train/._T00497.txt\n",
            "LST20_Corpus/train/T00497.txt\n",
            "LST20_Corpus/train/._T10848.txt\n",
            "LST20_Corpus/train/T10848.txt\n",
            "LST20_Corpus/train/._T00483.txt\n",
            "LST20_Corpus/train/T00483.txt\n",
            "LST20_Corpus/train/._T10690.txt\n",
            "LST20_Corpus/train/T10690.txt\n",
            "LST20_Corpus/train/._T12939.txt\n",
            "LST20_Corpus/train/T12939.txt\n",
            "LST20_Corpus/train/._T11203.txt\n",
            "LST20_Corpus/train/T11203.txt\n",
            "LST20_Corpus/train/._T00468.txt\n",
            "LST20_Corpus/train/T00468.txt\n",
            "LST20_Corpus/train/._T11565.txt\n",
            "LST20_Corpus/train/T11565.txt\n",
            "LST20_Corpus/train/._T11571.txt\n",
            "LST20_Corpus/train/T11571.txt\n",
            "LST20_Corpus/train/._T12078.txt\n",
            "LST20_Corpus/train/T12078.txt\n",
            "LST20_Corpus/train/._T11217.txt\n",
            "LST20_Corpus/train/T11217.txt\n",
            "LST20_Corpus/train/._T10109.txt\n",
            "LST20_Corpus/train/T10109.txt\n",
            "LST20_Corpus/train/._T10121.txt\n",
            "LST20_Corpus/train/T10121.txt\n",
            "LST20_Corpus/train/._T00332.txt\n",
            "LST20_Corpus/train/T00332.txt\n",
            "LST20_Corpus/train/._T00454.txt\n",
            "LST20_Corpus/train/T00454.txt\n",
            "LST20_Corpus/train/._T10647.txt\n",
            "LST20_Corpus/train/T10647.txt\n",
            "LST20_Corpus/train/._T11559.txt\n",
            "LST20_Corpus/train/T11559.txt\n",
            "LST20_Corpus/train/._T12050.txt\n",
            "LST20_Corpus/train/T12050.txt\n",
            "LST20_Corpus/train/._T00440.txt\n",
            "LST20_Corpus/train/T00440.txt\n",
            "LST20_Corpus/train/._T10653.txt\n",
            "LST20_Corpus/train/T10653.txt\n",
            "LST20_Corpus/train/._T10135.txt\n",
            "LST20_Corpus/train/T10135.txt\n",
            "LST20_Corpus/train/._T00326.txt\n",
            "LST20_Corpus/train/T00326.txt\n",
            "LST20_Corpus/train/._T12865.txt\n",
            "LST20_Corpus/train/T12865.txt\n",
            "LST20_Corpus/train/._T10914.txt\n",
            "LST20_Corpus/train/T10914.txt\n",
            "LST20_Corpus/train/._T11388.txt\n",
            "LST20_Corpus/train/T11388.txt\n",
            "LST20_Corpus/train/._T00285.txt\n",
            "LST20_Corpus/train/T00285.txt\n",
            "LST20_Corpus/train/._T10096.txt\n",
            "LST20_Corpus/train/T10096.txt\n",
            "LST20_Corpus/train/._T12859.txt\n",
            "LST20_Corpus/train/T12859.txt\n",
            "LST20_Corpus/train/._T10928.txt\n",
            "LST20_Corpus/train/T10928.txt\n",
            "LST20_Corpus/train/._T00291.txt\n",
            "LST20_Corpus/train/T00291.txt\n",
            "LST20_Corpus/train/._T10082.txt\n",
            "LST20_Corpus/train/T10082.txt\n",
            "LST20_Corpus/train/._T10069.txt\n",
            "LST20_Corpus/train/T10069.txt\n",
            "LST20_Corpus/train/._T11377.txt\n",
            "LST20_Corpus/train/T11377.txt\n",
            "LST20_Corpus/train/._T01164.txt\n",
            "LST20_Corpus/train/T01164.txt\n",
            "LST20_Corpus/train/._T01602.txt\n",
            "LST20_Corpus/train/T01602.txt\n",
            "LST20_Corpus/train/._T11411.txt\n",
            "LST20_Corpus/train/T11411.txt\n",
            "LST20_Corpus/train/._T01616.txt\n",
            "LST20_Corpus/train/T01616.txt\n",
            "LST20_Corpus/train/._T11405.txt\n",
            "LST20_Corpus/train/T11405.txt\n",
            "LST20_Corpus/train/._T00508.txt\n",
            "LST20_Corpus/train/T00508.txt\n",
            "LST20_Corpus/train/._T11363.txt\n",
            "LST20_Corpus/train/T11363.txt\n",
            "LST20_Corpus/train/._T01170.txt\n",
            "LST20_Corpus/train/T01170.txt\n",
            "LST20_Corpus/train/._T00246.txt\n",
            "LST20_Corpus/train/T00246.txt\n",
            "LST20_Corpus/train/._T10055.txt\n",
            "LST20_Corpus/train/T10055.txt\n",
            "LST20_Corpus/train/._T01158.txt\n",
            "LST20_Corpus/train/T01158.txt\n",
            "LST20_Corpus/train/._T10733.txt\n",
            "LST20_Corpus/train/T10733.txt\n",
            "LST20_Corpus/train/._T00520.txt\n",
            "LST20_Corpus/train/T00520.txt\n",
            "LST20_Corpus/train/._T12130.txt\n",
            "LST20_Corpus/train/T12130.txt\n",
            "LST20_Corpus/train/._T11439.txt\n",
            "LST20_Corpus/train/T11439.txt\n",
            "LST20_Corpus/train/._T10727.txt\n",
            "LST20_Corpus/train/T10727.txt\n",
            "LST20_Corpus/train/._T00534.txt\n",
            "LST20_Corpus/train/T00534.txt\n",
            "LST20_Corpus/train/._T00252.txt\n",
            "LST20_Corpus/train/T00252.txt\n",
            "LST20_Corpus/train/._T10041.txt\n",
            "LST20_Corpus/train/T10041.txt\n",
            "LST20_Corpus/train/._T00905.txt\n",
            "LST20_Corpus/train/T00905.txt\n",
            "LST20_Corpus/train/._T11808.txt\n",
            "LST20_Corpus/train/T11808.txt\n",
            "LST20_Corpus/train/._T00911.txt\n",
            "LST20_Corpus/train/T00911.txt\n",
            "LST20_Corpus/train/._T00939.txt\n",
            "LST20_Corpus/train/T00939.txt\n",
            "LST20_Corpus/train/._T11834.txt\n",
            "LST20_Corpus/train/T11834.txt\n",
            "LST20_Corpus/train/._T10294.txt\n",
            "LST20_Corpus/train/T10294.txt\n",
            "LST20_Corpus/train/._T01399.txt\n",
            "LST20_Corpus/train/T01399.txt\n",
            "LST20_Corpus/train/._T10280.txt\n",
            "LST20_Corpus/train/T10280.txt\n",
            "LST20_Corpus/train/._T11820.txt\n",
            "LST20_Corpus/train/T11820.txt\n",
            "LST20_Corpus/train/._T11613.txt\n",
            "LST20_Corpus/train/T11613.txt\n",
            "LST20_Corpus/train/._T01400.txt\n",
            "LST20_Corpus/train/T01400.txt\n",
            "LST20_Corpus/train/._T13004.txt\n",
            "LST20_Corpus/train/T13004.txt\n",
            "LST20_Corpus/train/._T01366.txt\n",
            "LST20_Corpus/train/T01366.txt\n",
            "LST20_Corpus/train/._T11175.txt\n",
            "LST20_Corpus/train/T11175.txt\n",
            "LST20_Corpus/train/._T01372.txt\n",
            "LST20_Corpus/train/T01372.txt\n",
            "LST20_Corpus/train/._T11161.txt\n",
            "LST20_Corpus/train/T11161.txt\n",
            "LST20_Corpus/train/._T13010.txt\n",
            "LST20_Corpus/train/T13010.txt\n",
            "LST20_Corpus/train/._T10519.txt\n",
            "LST20_Corpus/train/T10519.txt\n",
            "LST20_Corpus/train/._T11607.txt\n",
            "LST20_Corpus/train/T11607.txt\n",
            "LST20_Corpus/train/._T01414.txt\n",
            "LST20_Corpus/train/T01414.txt\n",
            "LST20_Corpus/train/._T13038.txt\n",
            "LST20_Corpus/train/T13038.txt\n",
            "LST20_Corpus/train/._T00722.txt\n",
            "LST20_Corpus/train/T00722.txt\n",
            "LST20_Corpus/train/._T10531.txt\n",
            "LST20_Corpus/train/T10531.txt\n",
            "LST20_Corpus/train/._T11149.txt\n",
            "LST20_Corpus/train/T11149.txt\n",
            "LST20_Corpus/train/._T10257.txt\n",
            "LST20_Corpus/train/T10257.txt\n",
            "LST20_Corpus/train/._T12440.txt\n",
            "LST20_Corpus/train/T12440.txt\n",
            "LST20_Corpus/train/._T10243.txt\n",
            "LST20_Corpus/train/T10243.txt\n",
            "LST20_Corpus/train/._T00736.txt\n",
            "LST20_Corpus/train/T00736.txt\n",
            "LST20_Corpus/train/._T10525.txt\n",
            "LST20_Corpus/train/T10525.txt\n",
            "LST20_Corpus/train/._T01428.txt\n",
            "LST20_Corpus/train/T01428.txt\n",
            "LST20_Corpus/train/._T10242.txt\n",
            "LST20_Corpus/train/T10242.txt\n",
            "LST20_Corpus/train/._T01429.txt\n",
            "LST20_Corpus/train/T01429.txt\n",
            "LST20_Corpus/train/._T10524.txt\n",
            "LST20_Corpus/train/T10524.txt\n",
            "LST20_Corpus/train/._T00737.txt\n",
            "LST20_Corpus/train/T00737.txt\n",
            "LST20_Corpus/train/._T10530.txt\n",
            "LST20_Corpus/train/T10530.txt\n",
            "LST20_Corpus/train/._T00723.txt\n",
            "LST20_Corpus/train/T00723.txt\n",
            "LST20_Corpus/train/._T13039.txt\n",
            "LST20_Corpus/train/T13039.txt\n",
            "LST20_Corpus/train/._T10256.txt\n",
            "LST20_Corpus/train/T10256.txt\n",
            "LST20_Corpus/train/._T11148.txt\n",
            "LST20_Corpus/train/T11148.txt\n",
            "LST20_Corpus/train/._T11160.txt\n",
            "LST20_Corpus/train/T11160.txt\n",
            "LST20_Corpus/train/._T01373.txt\n",
            "LST20_Corpus/train/T01373.txt\n",
            "LST20_Corpus/train/._T01415.txt\n",
            "LST20_Corpus/train/T01415.txt\n",
            "LST20_Corpus/train/._T11606.txt\n",
            "LST20_Corpus/train/T11606.txt\n",
            "LST20_Corpus/train/._T10518.txt\n",
            "LST20_Corpus/train/T10518.txt\n",
            "LST20_Corpus/train/._T13011.txt\n",
            "LST20_Corpus/train/T13011.txt\n",
            "LST20_Corpus/train/._T13005.txt\n",
            "LST20_Corpus/train/T13005.txt\n",
            "LST20_Corpus/train/._T01401.txt\n",
            "LST20_Corpus/train/T01401.txt\n",
            "LST20_Corpus/train/._T11612.txt\n",
            "LST20_Corpus/train/T11612.txt\n",
            "LST20_Corpus/train/._T11174.txt\n",
            "LST20_Corpus/train/T11174.txt\n",
            "LST20_Corpus/train/._T01367.txt\n",
            "LST20_Corpus/train/T01367.txt\n",
            "LST20_Corpus/train/._T12496.txt\n",
            "LST20_Corpus/train/T12496.txt\n",
            "LST20_Corpus/train/._T10281.txt\n",
            "LST20_Corpus/train/T10281.txt\n",
            "LST20_Corpus/train/._T11821.txt\n",
            "LST20_Corpus/train/T11821.txt\n",
            "LST20_Corpus/train/._T11835.txt\n",
            "LST20_Corpus/train/T11835.txt\n",
            "LST20_Corpus/train/._T00938.txt\n",
            "LST20_Corpus/train/T00938.txt\n",
            "LST20_Corpus/train/._T01398.txt\n",
            "LST20_Corpus/train/T01398.txt\n",
            "LST20_Corpus/train/._T10295.txt\n",
            "LST20_Corpus/train/T10295.txt\n",
            "LST20_Corpus/train/._T00910.txt\n",
            "LST20_Corpus/train/T00910.txt\n",
            "LST20_Corpus/train/._T11809.txt\n",
            "LST20_Corpus/train/T11809.txt\n",
            "LST20_Corpus/train/._T00904.txt\n",
            "LST20_Corpus/train/T00904.txt\n",
            "LST20_Corpus/train/._T00535.txt\n",
            "LST20_Corpus/train/T00535.txt\n",
            "LST20_Corpus/train/._T10726.txt\n",
            "LST20_Corpus/train/T10726.txt\n",
            "LST20_Corpus/train/._T11438.txt\n",
            "LST20_Corpus/train/T11438.txt\n",
            "LST20_Corpus/train/._T12131.txt\n",
            "LST20_Corpus/train/T12131.txt\n",
            "LST20_Corpus/train/._T10040.txt\n",
            "LST20_Corpus/train/T10040.txt\n",
            "LST20_Corpus/train/._T00253.txt\n",
            "LST20_Corpus/train/T00253.txt\n",
            "LST20_Corpus/train/._T01159.txt\n",
            "LST20_Corpus/train/T01159.txt\n",
            "LST20_Corpus/train/._T10054.txt\n",
            "LST20_Corpus/train/T10054.txt\n",
            "LST20_Corpus/train/._T00247.txt\n",
            "LST20_Corpus/train/T00247.txt\n",
            "LST20_Corpus/train/._T00521.txt\n",
            "LST20_Corpus/train/T00521.txt\n",
            "LST20_Corpus/train/._T10732.txt\n",
            "LST20_Corpus/train/T10732.txt\n",
            "LST20_Corpus/train/._T00509.txt\n",
            "LST20_Corpus/train/T00509.txt\n",
            "LST20_Corpus/train/._T11404.txt\n",
            "LST20_Corpus/train/T11404.txt\n",
            "LST20_Corpus/train/._T01617.txt\n",
            "LST20_Corpus/train/T01617.txt\n",
            "LST20_Corpus/train/._T01171.txt\n",
            "LST20_Corpus/train/T01171.txt\n",
            "LST20_Corpus/train/._T11362.txt\n",
            "LST20_Corpus/train/T11362.txt\n",
            "LST20_Corpus/train/._T01165.txt\n",
            "LST20_Corpus/train/T01165.txt\n",
            "LST20_Corpus/train/._T11376.txt\n",
            "LST20_Corpus/train/T11376.txt\n",
            "LST20_Corpus/train/._T10068.txt\n",
            "LST20_Corpus/train/T10068.txt\n",
            "LST20_Corpus/train/._T11410.txt\n",
            "LST20_Corpus/train/T11410.txt\n",
            "LST20_Corpus/train/._T01603.txt\n",
            "LST20_Corpus/train/T01603.txt\n",
            "LST20_Corpus/train/._T10083.txt\n",
            "LST20_Corpus/train/T10083.txt\n",
            "LST20_Corpus/train/._T00290.txt\n",
            "LST20_Corpus/train/T00290.txt\n",
            "LST20_Corpus/train/._T12858.txt\n",
            "LST20_Corpus/train/T12858.txt\n",
            "LST20_Corpus/train/._T10097.txt\n",
            "LST20_Corpus/train/T10097.txt\n",
            "LST20_Corpus/train/._T00284.txt\n",
            "LST20_Corpus/train/T00284.txt\n",
            "LST20_Corpus/train/._T10929.txt\n",
            "LST20_Corpus/train/T10929.txt\n",
            "LST20_Corpus/train/._T12870.txt\n",
            "LST20_Corpus/train/T12870.txt\n",
            "LST20_Corpus/train/._T10915.txt\n",
            "LST20_Corpus/train/T10915.txt\n",
            "LST20_Corpus/train/._T10652.txt\n",
            "LST20_Corpus/train/T10652.txt\n",
            "LST20_Corpus/train/._T00441.txt\n",
            "LST20_Corpus/train/T00441.txt\n",
            "LST20_Corpus/train/._T00327.txt\n",
            "LST20_Corpus/train/T00327.txt\n",
            "LST20_Corpus/train/._T10134.txt\n",
            "LST20_Corpus/train/T10134.txt\n",
            "LST20_Corpus/train/._T00333.txt\n",
            "LST20_Corpus/train/T00333.txt\n",
            "LST20_Corpus/train/._T10120.txt\n",
            "LST20_Corpus/train/T10120.txt\n",
            "LST20_Corpus/train/._T12051.txt\n",
            "LST20_Corpus/train/T12051.txt\n",
            "LST20_Corpus/train/._T11558.txt\n",
            "LST20_Corpus/train/T11558.txt\n",
            "LST20_Corpus/train/._T10646.txt\n",
            "LST20_Corpus/train/T10646.txt\n",
            "LST20_Corpus/train/._T00455.txt\n",
            "LST20_Corpus/train/T00455.txt\n",
            "LST20_Corpus/train/._T10108.txt\n",
            "LST20_Corpus/train/T10108.txt\n",
            "LST20_Corpus/train/._T11216.txt\n",
            "LST20_Corpus/train/T11216.txt\n",
            "LST20_Corpus/train/._T11202.txt\n",
            "LST20_Corpus/train/T11202.txt\n",
            "LST20_Corpus/train/._T11564.txt\n",
            "LST20_Corpus/train/T11564.txt\n",
            "LST20_Corpus/train/._T00469.txt\n",
            "LST20_Corpus/train/T00469.txt\n",
            "LST20_Corpus/train/._T10691.txt\n",
            "LST20_Corpus/train/T10691.txt\n",
            "LST20_Corpus/train/._T00482.txt\n",
            "LST20_Corpus/train/T00482.txt\n",
            "LST20_Corpus/train/._T10849.txt\n",
            "LST20_Corpus/train/T10849.txt\n",
            "LST20_Corpus/train/._T12938.txt\n",
            "LST20_Corpus/train/T12938.txt\n",
            "LST20_Corpus/train/._T10685.txt\n",
            "LST20_Corpus/train/T10685.txt\n",
            "LST20_Corpus/train/._T00496.txt\n",
            "LST20_Corpus/train/T00496.txt\n",
            "LST20_Corpus/train/._T12904.txt\n",
            "LST20_Corpus/train/T12904.txt\n",
            "LST20_Corpus/train/._T12910.txt\n",
            "LST20_Corpus/train/T12910.txt\n",
            "LST20_Corpus/train/._T11028.txt\n",
            "LST20_Corpus/train/T11028.txt\n",
            "LST20_Corpus/train/._T10336.txt\n",
            "LST20_Corpus/train/T10336.txt\n",
            "LST20_Corpus/train/._T12247.txt\n",
            "LST20_Corpus/train/T12247.txt\n",
            "LST20_Corpus/train/._T11996.txt\n",
            "LST20_Corpus/train/T11996.txt\n",
            "LST20_Corpus/train/._T00643.txt\n",
            "LST20_Corpus/train/T00643.txt\n",
            "LST20_Corpus/train/._T10450.txt\n",
            "LST20_Corpus/train/T10450.txt\n",
            "LST20_Corpus/train/._T00657.txt\n",
            "LST20_Corpus/train/T00657.txt\n",
            "LST20_Corpus/train/._T11982.txt\n",
            "LST20_Corpus/train/T11982.txt\n",
            "LST20_Corpus/train/._T10444.txt\n",
            "LST20_Corpus/train/T10444.txt\n",
            "LST20_Corpus/train/._T01549.txt\n",
            "LST20_Corpus/train/T01549.txt\n",
            "LST20_Corpus/train/._T10322.txt\n",
            "LST20_Corpus/train/T10322.txt\n",
            "LST20_Corpus/train/._T00131.txt\n",
            "LST20_Corpus/train/T00131.txt\n",
            "LST20_Corpus/train/._T01207.txt\n",
            "LST20_Corpus/train/T01207.txt\n",
            "LST20_Corpus/train/._T11014.txt\n",
            "LST20_Corpus/train/T11014.txt\n",
            "LST20_Corpus/train/._T11772.txt\n",
            "LST20_Corpus/train/T11772.txt\n",
            "LST20_Corpus/train/._T01561.txt\n",
            "LST20_Corpus/train/T01561.txt\n",
            "LST20_Corpus/train/._T10478.txt\n",
            "LST20_Corpus/train/T10478.txt\n",
            "LST20_Corpus/train/._T11766.txt\n",
            "LST20_Corpus/train/T11766.txt\n",
            "LST20_Corpus/train/._T01575.txt\n",
            "LST20_Corpus/train/T01575.txt\n",
            "LST20_Corpus/train/._T01213.txt\n",
            "LST20_Corpus/train/T01213.txt\n",
            "LST20_Corpus/train/._T11000.txt\n",
            "LST20_Corpus/train/T11000.txt\n",
            "LST20_Corpus/train/._T00858.txt\n",
            "LST20_Corpus/train/T00858.txt\n",
            "LST20_Corpus/train/._T00680.txt\n",
            "LST20_Corpus/train/T00680.txt\n",
            "LST20_Corpus/train/._T10493.txt\n",
            "LST20_Corpus/train/T10493.txt\n",
            "LST20_Corpus/train/._T00694.txt\n",
            "LST20_Corpus/train/T00694.txt\n",
            "LST20_Corpus/train/._T10487.txt\n",
            "LST20_Corpus/train/T10487.txt\n",
            "LST20_Corpus/train/._T00864.txt\n",
            "LST20_Corpus/train/T00864.txt\n",
            "LST20_Corpus/train/._T11969.txt\n",
            "LST20_Corpus/train/T11969.txt\n",
            "LST20_Corpus/train/._T00870.txt\n",
            "LST20_Corpus/train/T00870.txt\n",
            "LST20_Corpus/test/._T13395.txt\n",
            "LST20_Corpus/test/T13395.txt\n",
            "LST20_Corpus/test/._T13381.txt\n",
            "LST20_Corpus/test/T13381.txt\n",
            "LST20_Corpus/test/._T12712.txt\n",
            "LST20_Corpus/test/T12712.txt\n",
            "LST20_Corpus/test/._T13418.txt\n",
            "LST20_Corpus/test/T13418.txt\n",
            "LST20_Corpus/test/._T13356.txt\n",
            "LST20_Corpus/test/T13356.txt\n",
            "LST20_Corpus/test/._T13430.txt\n",
            "LST20_Corpus/test/T13430.txt\n",
            "LST20_Corpus/test/._T13424.txt\n",
            "LST20_Corpus/test/T13424.txt\n",
            "LST20_Corpus/test/._T13342.txt\n",
            "LST20_Corpus/test/T13342.txt\n",
            "LST20_Corpus/test/._T12841.txt\n",
            "LST20_Corpus/test/T12841.txt\n",
            "LST20_Corpus/test/._T12699.txt\n",
            "LST20_Corpus/test/T12699.txt\n",
            "LST20_Corpus/test/._T12666.txt\n",
            "LST20_Corpus/test/T12666.txt\n",
            "LST20_Corpus/test/._T12672.txt\n",
            "LST20_Corpus/test/T12672.txt\n",
            "LST20_Corpus/test/._T12316.txt\n",
            "LST20_Corpus/test/T12316.txt\n",
            "LST20_Corpus/test/._T13034.txt\n",
            "LST20_Corpus/test/T13034.txt\n",
            "LST20_Corpus/test/._T12459.txt\n",
            "LST20_Corpus/test/T12459.txt\n",
            "LST20_Corpus/test/._T12317.txt\n",
            "LST20_Corpus/test/T12317.txt\n",
            "LST20_Corpus/test/._T12897.txt\n",
            "LST20_Corpus/test/T12897.txt\n",
            "LST20_Corpus/test/._T12673.txt\n",
            "LST20_Corpus/test/T12673.txt\n",
            "LST20_Corpus/test/._T12667.txt\n",
            "LST20_Corpus/test/T12667.txt\n",
            "LST20_Corpus/test/._T13425.txt\n",
            "LST20_Corpus/test/T13425.txt\n",
            "LST20_Corpus/test/._T13343.txt\n",
            "LST20_Corpus/test/T13343.txt\n",
            "LST20_Corpus/test/._T13357.txt\n",
            "LST20_Corpus/test/T13357.txt\n",
            "LST20_Corpus/test/._T13431.txt\n",
            "LST20_Corpus/test/T13431.txt\n",
            "LST20_Corpus/test/._T12707.txt\n",
            "LST20_Corpus/test/T12707.txt\n",
            "LST20_Corpus/test/._T13419.txt\n",
            "LST20_Corpus/test/T13419.txt\n",
            "LST20_Corpus/test/._T12713.txt\n",
            "LST20_Corpus/test/T12713.txt\n",
            "LST20_Corpus/test/._T13380.txt\n",
            "LST20_Corpus/test/T13380.txt\n",
            "LST20_Corpus/test/._T13394.txt\n",
            "LST20_Corpus/test/T13394.txt\n",
            "LST20_Corpus/test/._T11973.txt\n",
            "LST20_Corpus/test/T11973.txt\n",
            "LST20_Corpus/test/._T13382.txt\n",
            "LST20_Corpus/test/T13382.txt\n",
            "LST20_Corpus/test/._T13396.txt\n",
            "LST20_Corpus/test/T13396.txt\n",
            "LST20_Corpus/test/._T12063.txt\n",
            "LST20_Corpus/test/T12063.txt\n",
            "LST20_Corpus/test/._T13369.txt\n",
            "LST20_Corpus/test/T13369.txt\n",
            "LST20_Corpus/test/._T13341.txt\n",
            "LST20_Corpus/test/T13341.txt\n",
            "LST20_Corpus/test/._T13427.txt\n",
            "LST20_Corpus/test/T13427.txt\n",
            "LST20_Corpus/test/._T12739.txt\n",
            "LST20_Corpus/test/T12739.txt\n",
            "LST20_Corpus/test/._T13433.txt\n",
            "LST20_Corpus/test/T13433.txt\n",
            "LST20_Corpus/test/._T13355.txt\n",
            "LST20_Corpus/test/T13355.txt\n",
            "LST20_Corpus/test/._T12665.txt\n",
            "LST20_Corpus/test/T12665.txt\n",
            "LST20_Corpus/test/._T12659.txt\n",
            "LST20_Corpus/test/T12659.txt\n",
            "LST20_Corpus/test/._T12498.txt\n",
            "LST20_Corpus/test/T12498.txt\n",
            "LST20_Corpus/test/._T12315.txt\n",
            "LST20_Corpus/test/T12315.txt\n",
            "LST20_Corpus/test/._T11608.txt\n",
            "LST20_Corpus/test/T11608.txt\n",
            "LST20_Corpus/test/._T13037.txt\n",
            "LST20_Corpus/test/T13037.txt\n",
            "LST20_Corpus/test/._T12314.txt\n",
            "LST20_Corpus/test/T12314.txt\n",
            "LST20_Corpus/test/._T12658.txt\n",
            "LST20_Corpus/test/T12658.txt\n",
            "LST20_Corpus/test/._T12894.txt\n",
            "LST20_Corpus/test/T12894.txt\n",
            "LST20_Corpus/test/._T12664.txt\n",
            "LST20_Corpus/test/T12664.txt\n",
            "LST20_Corpus/test/._T11225.txt\n",
            "LST20_Corpus/test/T11225.txt\n",
            "LST20_Corpus/test/._T13432.txt\n",
            "LST20_Corpus/test/T13432.txt\n",
            "LST20_Corpus/test/._T13340.txt\n",
            "LST20_Corpus/test/T13340.txt\n",
            "LST20_Corpus/test/._T12738.txt\n",
            "LST20_Corpus/test/T12738.txt\n",
            "LST20_Corpus/test/._T13426.txt\n",
            "LST20_Corpus/test/T13426.txt\n",
            "LST20_Corpus/test/._T12710.txt\n",
            "LST20_Corpus/test/T12710.txt\n",
            "LST20_Corpus/test/._T13368.txt\n",
            "LST20_Corpus/test/T13368.txt\n",
            "LST20_Corpus/test/._T12704.txt\n",
            "LST20_Corpus/test/T12704.txt\n",
            "LST20_Corpus/test/._T13383.txt\n",
            "LST20_Corpus/test/T13383.txt\n",
            "LST20_Corpus/test/._T11972.txt\n",
            "LST20_Corpus/test/T11972.txt\n",
            "LST20_Corpus/test/._T12516.txt\n",
            "LST20_Corpus/test/T12516.txt\n",
            "LST20_Corpus/test/._T13387.txt\n",
            "LST20_Corpus/test/T13387.txt\n",
            "LST20_Corpus/test/._T13393.txt\n",
            "LST20_Corpus/test/T13393.txt\n",
            "LST20_Corpus/test/._T13422.txt\n",
            "LST20_Corpus/test/T13422.txt\n",
            "LST20_Corpus/test/._T13350.txt\n",
            "LST20_Corpus/test/T13350.txt\n",
            "LST20_Corpus/test/._T13436.txt\n",
            "LST20_Corpus/test/T13436.txt\n",
            "LST20_Corpus/test/._T12728.txt\n",
            "LST20_Corpus/test/T12728.txt\n",
            "LST20_Corpus/test/._T12700.txt\n",
            "LST20_Corpus/test/T12700.txt\n",
            "LST20_Corpus/test/._T12066.txt\n",
            "LST20_Corpus/test/T12066.txt\n",
            "LST20_Corpus/test/._T13378.txt\n",
            "LST20_Corpus/test/T13378.txt\n",
            "LST20_Corpus/test/._T12072.txt\n",
            "LST20_Corpus/test/T12072.txt\n",
            "LST20_Corpus/test/._T12714.txt\n",
            "LST20_Corpus/test/T12714.txt\n",
            "LST20_Corpus/test/._T12847.txt\n",
            "LST20_Corpus/test/T12847.txt\n",
            "LST20_Corpus/test/._T12648.txt\n",
            "LST20_Corpus/test/T12648.txt\n",
            "LST20_Corpus/test/._T12660.txt\n",
            "LST20_Corpus/test/T12660.txt\n",
            "LST20_Corpus/test/._T12489.txt\n",
            "LST20_Corpus/test/T12489.txt\n",
            "LST20_Corpus/test/._T12476.txt\n",
            "LST20_Corpus/test/T12476.txt\n",
            "LST20_Corpus/test/._T12477.txt\n",
            "LST20_Corpus/test/T12477.txt\n",
            "LST20_Corpus/test/._T12675.txt\n",
            "LST20_Corpus/test/T12675.txt\n",
            "LST20_Corpus/test/._T12649.txt\n",
            "LST20_Corpus/test/T12649.txt\n",
            "LST20_Corpus/test/._T12073.txt\n",
            "LST20_Corpus/test/T12073.txt\n",
            "LST20_Corpus/test/._T12715.txt\n",
            "LST20_Corpus/test/T12715.txt\n",
            "LST20_Corpus/test/._T13379.txt\n",
            "LST20_Corpus/test/T13379.txt\n",
            "LST20_Corpus/test/._T13351.txt\n",
            "LST20_Corpus/test/T13351.txt\n",
            "LST20_Corpus/test/._T12729.txt\n",
            "LST20_Corpus/test/T12729.txt\n",
            "LST20_Corpus/test/._T13437.txt\n",
            "LST20_Corpus/test/T13437.txt\n",
            "LST20_Corpus/test/._T13423.txt\n",
            "LST20_Corpus/test/T13423.txt\n",
            "LST20_Corpus/test/._T13345.txt\n",
            "LST20_Corpus/test/T13345.txt\n",
            "LST20_Corpus/test/._T13392.txt\n",
            "LST20_Corpus/test/T13392.txt\n",
            "LST20_Corpus/test/._T13186.txt\n",
            "LST20_Corpus/test/T13186.txt\n",
            "LST20_Corpus/test/._T12515.txt\n",
            "LST20_Corpus/test/T12515.txt\n",
            "LST20_Corpus/test/._T12267.txt\n",
            "LST20_Corpus/test/T12267.txt\n",
            "LST20_Corpus/test/._T12930.txt\n",
            "LST20_Corpus/test/T12930.txt\n",
            "LST20_Corpus/test/._T13390.txt\n",
            "LST20_Corpus/test/T13390.txt\n",
            "LST20_Corpus/test/._T13384.txt\n",
            "LST20_Corpus/test/T13384.txt\n",
            "LST20_Corpus/test/._T13435.txt\n",
            "LST20_Corpus/test/T13435.txt\n",
            "LST20_Corpus/test/._T13353.txt\n",
            "LST20_Corpus/test/T13353.txt\n",
            "LST20_Corpus/test/._T13347.txt\n",
            "LST20_Corpus/test/T13347.txt\n",
            "LST20_Corpus/test/._T13421.txt\n",
            "LST20_Corpus/test/T13421.txt\n",
            "LST20_Corpus/test/._T13409.txt\n",
            "LST20_Corpus/test/T13409.txt\n",
            "LST20_Corpus/test/._T12717.txt\n",
            "LST20_Corpus/test/T12717.txt\n",
            "LST20_Corpus/test/._T12703.txt\n",
            "LST20_Corpus/test/T12703.txt\n",
            "LST20_Corpus/test/._T12688.txt\n",
            "LST20_Corpus/test/T12688.txt\n",
            "LST20_Corpus/test/._T12663.txt\n",
            "LST20_Corpus/test/T12663.txt\n",
            "LST20_Corpus/test/._T12313.txt\n",
            "LST20_Corpus/test/T12313.txt\n",
            "LST20_Corpus/test/._T12312.txt\n",
            "LST20_Corpus/test/T12312.txt\n",
            "LST20_Corpus/test/._T12448.txt\n",
            "LST20_Corpus/test/T12448.txt\n",
            "LST20_Corpus/test/._T12662.txt\n",
            "LST20_Corpus/test/T12662.txt\n",
            "LST20_Corpus/test/._T12892.txt\n",
            "LST20_Corpus/test/T12892.txt\n",
            "LST20_Corpus/test/._T12689.txt\n",
            "LST20_Corpus/test/T12689.txt\n",
            "LST20_Corpus/test/._T12064.txt\n",
            "LST20_Corpus/test/T12064.txt\n",
            "LST20_Corpus/test/._T12702.txt\n",
            "LST20_Corpus/test/T12702.txt\n",
            "LST20_Corpus/test/._T12716.txt\n",
            "LST20_Corpus/test/T12716.txt\n",
            "LST20_Corpus/test/._T13408.txt\n",
            "LST20_Corpus/test/T13408.txt\n",
            "LST20_Corpus/test/._T13346.txt\n",
            "LST20_Corpus/test/T13346.txt\n",
            "LST20_Corpus/test/._T13420.txt\n",
            "LST20_Corpus/test/T13420.txt\n",
            "LST20_Corpus/test/._T13434.txt\n",
            "LST20_Corpus/test/T13434.txt\n",
            "LST20_Corpus/test/._T13385.txt\n",
            "LST20_Corpus/test/T13385.txt\n",
            "LST20_Corpus/test/._T13391.txt\n",
            "LST20_Corpus/test/T13391.txt\n",
            "LST20_Corpus/test/._T13150.txt\n",
            "LST20_Corpus/test/T13150.txt\n",
            "LST20_Corpus/test/._T12598.txt\n",
            "LST20_Corpus/test/T12598.txt\n",
            "LST20_Corpus/test/._T12573.txt\n",
            "LST20_Corpus/test/T12573.txt\n",
            "LST20_Corpus/test/._T11046.txt\n",
            "LST20_Corpus/test/T11046.txt\n",
            "LST20_Corpus/test/._T12942.txt\n",
            "LST20_Corpus/test/T12942.txt\n",
            "LST20_Corpus/test/._T12771.txt\n",
            "LST20_Corpus/test/T12771.txt\n",
            "LST20_Corpus/test/._T13309.txt\n",
            "LST20_Corpus/test/T13309.txt\n",
            "LST20_Corpus/test/._T12003.txt\n",
            "LST20_Corpus/test/T12003.txt\n",
            "LST20_Corpus/test/._T12765.txt\n",
            "LST20_Corpus/test/T12765.txt\n",
            "LST20_Corpus/test/._T13453.txt\n",
            "LST20_Corpus/test/T13453.txt\n",
            "LST20_Corpus/test/._T13335.txt\n",
            "LST20_Corpus/test/T13335.txt\n",
            "LST20_Corpus/test/._T13321.txt\n",
            "LST20_Corpus/test/T13321.txt\n",
            "LST20_Corpus/test/._T13447.txt\n",
            "LST20_Corpus/test/T13447.txt\n",
            "LST20_Corpus/test/._T12759.txt\n",
            "LST20_Corpus/test/T12759.txt\n",
            "LST20_Corpus/test/._T13282.txt\n",
            "LST20_Corpus/test/T13282.txt\n",
            "LST20_Corpus/test/._T12836.txt\n",
            "LST20_Corpus/test/T12836.txt\n",
            "LST20_Corpus/test/._T12611.txt\n",
            "LST20_Corpus/test/T12611.txt\n",
            "LST20_Corpus/test/._T13094.txt\n",
            "LST20_Corpus/test/T13094.txt\n",
            "LST20_Corpus/test/._T12361.txt\n",
            "LST20_Corpus/test/T12361.txt\n",
            "LST20_Corpus/test/._T11668.txt\n",
            "LST20_Corpus/test/T11668.txt\n",
            "LST20_Corpus/test/._T12360.txt\n",
            "LST20_Corpus/test/T12360.txt\n",
            "LST20_Corpus/test/._T13095.txt\n",
            "LST20_Corpus/test/T13095.txt\n",
            "LST20_Corpus/test/._T12638.txt\n",
            "LST20_Corpus/test/T12638.txt\n",
            "LST20_Corpus/test/._T12610.txt\n",
            "LST20_Corpus/test/T12610.txt\n",
            "LST20_Corpus/test/._T13320.txt\n",
            "LST20_Corpus/test/T13320.txt\n",
            "LST20_Corpus/test/._T13446.txt\n",
            "LST20_Corpus/test/T13446.txt\n",
            "LST20_Corpus/test/._T13452.txt\n",
            "LST20_Corpus/test/T13452.txt\n",
            "LST20_Corpus/test/._T13334.txt\n",
            "LST20_Corpus/test/T13334.txt\n",
            "LST20_Corpus/test/._T12764.txt\n",
            "LST20_Corpus/test/T12764.txt\n",
            "LST20_Corpus/test/._T12770.txt\n",
            "LST20_Corpus/test/T12770.txt\n",
            "LST20_Corpus/test/._T12572.txt\n",
            "LST20_Corpus/test/T12572.txt\n",
            "LST20_Corpus/test/._T12599.txt\n",
            "LST20_Corpus/test/T12599.txt\n",
            "LST20_Corpus/test/._T12564.txt\n",
            "LST20_Corpus/test/T12564.txt\n",
            "LST20_Corpus/test/._T13134.txt\n",
            "LST20_Corpus/test/T13134.txt\n",
            "LST20_Corpus/test/._T12799.txt\n",
            "LST20_Corpus/test/T12799.txt\n",
            "LST20_Corpus/test/._T12955.txt\n",
            "LST20_Corpus/test/T12955.txt\n",
            "LST20_Corpus/test/._T12766.txt\n",
            "LST20_Corpus/test/T12766.txt\n",
            "LST20_Corpus/test/._T12772.txt\n",
            "LST20_Corpus/test/T12772.txt\n",
            "LST20_Corpus/test/._T13444.txt\n",
            "LST20_Corpus/test/T13444.txt\n",
            "LST20_Corpus/test/._T12982.txt\n",
            "LST20_Corpus/test/T12982.txt\n",
            "LST20_Corpus/test/._T13322.txt\n",
            "LST20_Corpus/test/T13322.txt\n",
            "LST20_Corpus/test/._T13336.txt\n",
            "LST20_Corpus/test/T13336.txt\n",
            "LST20_Corpus/test/._T13450.txt\n",
            "LST20_Corpus/test/T13450.txt\n",
            "LST20_Corpus/test/._T12612.txt\n",
            "LST20_Corpus/test/T12612.txt\n",
            "LST20_Corpus/test/._T12606.txt\n",
            "LST20_Corpus/test/T12606.txt\n",
            "LST20_Corpus/test/._T13068.txt\n",
            "LST20_Corpus/test/T13068.txt\n",
            "LST20_Corpus/test/._T12362.txt\n",
            "LST20_Corpus/test/T12362.txt\n",
            "LST20_Corpus/test/._T12363.txt\n",
            "LST20_Corpus/test/T12363.txt\n",
            "LST20_Corpus/test/._T12607.txt\n",
            "LST20_Corpus/test/T12607.txt\n",
            "LST20_Corpus/test/._T12613.txt\n",
            "LST20_Corpus/test/T12613.txt\n",
            "LST20_Corpus/test/._T12808.txt\n",
            "LST20_Corpus/test/T12808.txt\n",
            "LST20_Corpus/test/._T13337.txt\n",
            "LST20_Corpus/test/T13337.txt\n",
            "LST20_Corpus/test/._T13451.txt\n",
            "LST20_Corpus/test/T13451.txt\n",
            "LST20_Corpus/test/._T13323.txt\n",
            "LST20_Corpus/test/T13323.txt\n",
            "LST20_Corpus/test/._T12773.txt\n",
            "LST20_Corpus/test/T12773.txt\n",
            "LST20_Corpus/test/._T12767.txt\n",
            "LST20_Corpus/test/T12767.txt\n",
            "LST20_Corpus/test/._T12954.txt\n",
            "LST20_Corpus/test/T12954.txt\n",
            "LST20_Corpus/test/._T12940.txt\n",
            "LST20_Corpus/test/T12940.txt\n",
            "LST20_Corpus/test/._T12798.txt\n",
            "LST20_Corpus/test/T12798.txt\n",
            "LST20_Corpus/test/._T13135.txt\n",
            "LST20_Corpus/test/T13135.txt\n",
            "LST20_Corpus/test/._T12559.txt\n",
            "LST20_Corpus/test/T12559.txt\n",
            "LST20_Corpus/test/._T12571.txt\n",
            "LST20_Corpus/test/T12571.txt\n",
            "LST20_Corpus/test/._T12565.txt\n",
            "LST20_Corpus/test/T12565.txt\n",
            "LST20_Corpus/test/._T12561.txt\n",
            "LST20_Corpus/test/T12561.txt\n",
            "LST20_Corpus/test/._T13327.txt\n",
            "LST20_Corpus/test/T13327.txt\n",
            "LST20_Corpus/test/._T13441.txt\n",
            "LST20_Corpus/test/T13441.txt\n",
            "LST20_Corpus/test/._T13455.txt\n",
            "LST20_Corpus/test/T13455.txt\n",
            "LST20_Corpus/test/._T13333.txt\n",
            "LST20_Corpus/test/T13333.txt\n",
            "LST20_Corpus/test/._T12763.txt\n",
            "LST20_Corpus/test/T12763.txt\n",
            "LST20_Corpus/test/._T13469.txt\n",
            "LST20_Corpus/test/T13469.txt\n",
            "LST20_Corpus/test/._T12777.txt\n",
            "LST20_Corpus/test/T12777.txt\n",
            "LST20_Corpus/test/._T12617.txt\n",
            "LST20_Corpus/test/T12617.txt\n",
            "LST20_Corpus/test/._T12603.txt\n",
            "LST20_Corpus/test/T12603.txt\n",
            "LST20_Corpus/test/._T11652.txt\n",
            "LST20_Corpus/test/T11652.txt\n",
            "LST20_Corpus/test/._T12367.txt\n",
            "LST20_Corpus/test/T12367.txt\n",
            "LST20_Corpus/test/._T12401.txt\n",
            "LST20_Corpus/test/T12401.txt\n",
            "LST20_Corpus/test/._T12366.txt\n",
            "LST20_Corpus/test/T12366.txt\n",
            "LST20_Corpus/test/._T12602.txt\n",
            "LST20_Corpus/test/T12602.txt\n",
            "LST20_Corpus/test/._T12616.txt\n",
            "LST20_Corpus/test/T12616.txt\n",
            "LST20_Corpus/test/._T12776.txt\n",
            "LST20_Corpus/test/T12776.txt\n",
            "LST20_Corpus/test/._T13468.txt\n",
            "LST20_Corpus/test/T13468.txt\n",
            "LST20_Corpus/test/._T12004.txt\n",
            "LST20_Corpus/test/T12004.txt\n",
            "LST20_Corpus/test/._T12762.txt\n",
            "LST20_Corpus/test/T12762.txt\n",
            "LST20_Corpus/test/._T13454.txt\n",
            "LST20_Corpus/test/T13454.txt\n",
            "LST20_Corpus/test/._T13332.txt\n",
            "LST20_Corpus/test/T13332.txt\n",
            "LST20_Corpus/test/._T13326.txt\n",
            "LST20_Corpus/test/T13326.txt\n",
            "LST20_Corpus/test/._T13440.txt\n",
            "LST20_Corpus/test/T13440.txt\n",
            "LST20_Corpus/test/._T12789.txt\n",
            "LST20_Corpus/test/T12789.txt\n",
            "LST20_Corpus/test/._T12574.txt\n",
            "LST20_Corpus/test/T12574.txt\n",
            "LST20_Corpus/test/._T12560.txt\n",
            "LST20_Corpus/test/T12560.txt\n",
            "LST20_Corpus/test/._T12589.txt\n",
            "LST20_Corpus/test/T12589.txt\n",
            "LST20_Corpus/test/._T12562.txt\n",
            "LST20_Corpus/test/T12562.txt\n",
            "LST20_Corpus/test/._T13330.txt\n",
            "LST20_Corpus/test/T13330.txt\n",
            "LST20_Corpus/test/._T13456.txt\n",
            "LST20_Corpus/test/T13456.txt\n",
            "LST20_Corpus/test/._T13442.txt\n",
            "LST20_Corpus/test/T13442.txt\n",
            "LST20_Corpus/test/._T13324.txt\n",
            "LST20_Corpus/test/T13324.txt\n",
            "LST20_Corpus/test/._T12774.txt\n",
            "LST20_Corpus/test/T12774.txt\n",
            "LST20_Corpus/test/._T12628.txt\n",
            "LST20_Corpus/test/T12628.txt\n",
            "LST20_Corpus/test/._T12600.txt\n",
            "LST20_Corpus/test/T12600.txt\n",
            "LST20_Corpus/test/._T12614.txt\n",
            "LST20_Corpus/test/T12614.txt\n",
            "LST20_Corpus/test/._T12172.txt\n",
            "LST20_Corpus/test/T12172.txt\n",
            "LST20_Corpus/test/._T12364.txt\n",
            "LST20_Corpus/test/T12364.txt\n",
            "LST20_Corpus/test/._T12365.txt\n",
            "LST20_Corpus/test/T12365.txt\n",
            "LST20_Corpus/test/._T12615.txt\n",
            "LST20_Corpus/test/T12615.txt\n",
            "LST20_Corpus/test/._T12601.txt\n",
            "LST20_Corpus/test/T12601.txt\n",
            "LST20_Corpus/test/._T12629.txt\n",
            "LST20_Corpus/test/T12629.txt\n",
            "LST20_Corpus/test/._T12761.txt\n",
            "LST20_Corpus/test/T12761.txt\n",
            "LST20_Corpus/test/._T13319.txt\n",
            "LST20_Corpus/test/T13319.txt\n",
            "LST20_Corpus/test/._T12775.txt\n",
            "LST20_Corpus/test/T12775.txt\n",
            "LST20_Corpus/test/._T13443.txt\n",
            "LST20_Corpus/test/T13443.txt\n",
            "LST20_Corpus/test/._T13325.txt\n",
            "LST20_Corpus/test/T13325.txt\n",
            "LST20_Corpus/test/._T13331.txt\n",
            "LST20_Corpus/test/T13331.txt\n",
            "LST20_Corpus/test/._T12749.txt\n",
            "LST20_Corpus/test/T12749.txt\n",
            "LST20_Corpus/test/._T13457.txt\n",
            "LST20_Corpus/test/T13457.txt\n",
            "LST20_Corpus/test/._T12946.txt\n",
            "LST20_Corpus/test/T12946.txt\n",
            "LST20_Corpus/test/._T12563.txt\n",
            "LST20_Corpus/test/T12563.txt\n",
            "LST20_Corpus/test/._T12546.txt\n",
            "LST20_Corpus/test/T12546.txt\n",
            "LST20_Corpus/test/._T12787.txt\n",
            "LST20_Corpus/test/T12787.txt\n",
            "LST20_Corpus/test/._T12750.txt\n",
            "LST20_Corpus/test/T12750.txt\n",
            "LST20_Corpus/test/._T13328.txt\n",
            "LST20_Corpus/test/T13328.txt\n",
            "LST20_Corpus/test/._T12744.txt\n",
            "LST20_Corpus/test/T12744.txt\n",
            "LST20_Corpus/test/._T13472.txt\n",
            "LST20_Corpus/test/T13472.txt\n",
            "LST20_Corpus/test/._T13314.txt\n",
            "LST20_Corpus/test/T13314.txt\n",
            "LST20_Corpus/test/._T13466.txt\n",
            "LST20_Corpus/test/T13466.txt\n",
            "LST20_Corpus/test/._T12778.txt\n",
            "LST20_Corpus/test/T12778.txt\n",
            "LST20_Corpus/test/._T12624.txt\n",
            "LST20_Corpus/test/T12624.txt\n",
            "LST20_Corpus/test/._T13248.txt\n",
            "LST20_Corpus/test/T13248.txt\n",
            "LST20_Corpus/test/._T12630.txt\n",
            "LST20_Corpus/test/T12630.txt\n",
            "LST20_Corpus/test/._T12618.txt\n",
            "LST20_Corpus/test/T12618.txt\n",
            "LST20_Corpus/test/._T12619.txt\n",
            "LST20_Corpus/test/T12619.txt\n",
            "LST20_Corpus/test/._T12625.txt\n",
            "LST20_Corpus/test/T12625.txt\n",
            "LST20_Corpus/test/._T12802.txt\n",
            "LST20_Corpus/test/T12802.txt\n",
            "LST20_Corpus/test/._T13301.txt\n",
            "LST20_Corpus/test/T13301.txt\n",
            "LST20_Corpus/test/._T12779.txt\n",
            "LST20_Corpus/test/T12779.txt\n",
            "LST20_Corpus/test/._T13467.txt\n",
            "LST20_Corpus/test/T13467.txt\n",
            "LST20_Corpus/test/._T13473.txt\n",
            "LST20_Corpus/test/T13473.txt\n",
            "LST20_Corpus/test/._T13315.txt\n",
            "LST20_Corpus/test/T13315.txt\n",
            "LST20_Corpus/test/._T12745.txt\n",
            "LST20_Corpus/test/T12745.txt\n",
            "LST20_Corpus/test/._T13329.txt\n",
            "LST20_Corpus/test/T13329.txt\n",
            "LST20_Corpus/test/._T12786.txt\n",
            "LST20_Corpus/test/T12786.txt\n",
            "LST20_Corpus/test/._T12792.txt\n",
            "LST20_Corpus/test/T12792.txt\n",
            "LST20_Corpus/test/._T12592.txt\n",
            "LST20_Corpus/test/T12592.txt\n",
            "LST20_Corpus/test/._T12223.txt\n",
            "LST20_Corpus/test/T12223.txt\n",
            "LST20_Corpus/test/._T12545.txt\n",
            "LST20_Corpus/test/T12545.txt\n",
            "LST20_Corpus/test/._T11058.txt\n",
            "LST20_Corpus/test/T11058.txt\n",
            "LST20_Corpus/test/._T12784.txt\n",
            "LST20_Corpus/test/T12784.txt\n",
            "LST20_Corpus/test/._T13459.txt\n",
            "LST20_Corpus/test/T13459.txt\n",
            "LST20_Corpus/test/._T12747.txt\n",
            "LST20_Corpus/test/T12747.txt\n",
            "LST20_Corpus/test/._T12035.txt\n",
            "LST20_Corpus/test/T12035.txt\n",
            "LST20_Corpus/test/._T12753.txt\n",
            "LST20_Corpus/test/T12753.txt\n",
            "LST20_Corpus/test/._T13465.txt\n",
            "LST20_Corpus/test/T13465.txt\n",
            "LST20_Corpus/test/._T13317.txt\n",
            "LST20_Corpus/test/T13317.txt\n",
            "LST20_Corpus/test/._T13471.txt\n",
            "LST20_Corpus/test/T13471.txt\n",
            "LST20_Corpus/test/._T12800.txt\n",
            "LST20_Corpus/test/T12800.txt\n",
            "LST20_Corpus/test/._T12633.txt\n",
            "LST20_Corpus/test/T12633.txt\n",
            "LST20_Corpus/test/._T12627.txt\n",
            "LST20_Corpus/test/T12627.txt\n",
            "LST20_Corpus/test/._T12425.txt\n",
            "LST20_Corpus/test/T12425.txt\n",
            "LST20_Corpus/test/._T12342.txt\n",
            "LST20_Corpus/test/T12342.txt\n",
            "LST20_Corpus/test/._T12626.txt\n",
            "LST20_Corpus/test/T12626.txt\n",
            "LST20_Corpus/test/._T12632.txt\n",
            "LST20_Corpus/test/T12632.txt\n",
            "LST20_Corpus/test/._T12801.txt\n",
            "LST20_Corpus/test/T12801.txt\n",
            "LST20_Corpus/test/._T13316.txt\n",
            "LST20_Corpus/test/T13316.txt\n",
            "LST20_Corpus/test/._T13470.txt\n",
            "LST20_Corpus/test/T13470.txt\n",
            "LST20_Corpus/test/._T13464.txt\n",
            "LST20_Corpus/test/T13464.txt\n",
            "LST20_Corpus/test/._T12746.txt\n",
            "LST20_Corpus/test/T12746.txt\n",
            "LST20_Corpus/test/._T13458.txt\n",
            "LST20_Corpus/test/T13458.txt\n",
            "LST20_Corpus/test/._T12949.txt\n",
            "LST20_Corpus/test/T12949.txt\n",
            "LST20_Corpus/test/._T12785.txt\n",
            "LST20_Corpus/test/T12785.txt\n",
            "LST20_Corpus/test/._T12544.txt\n",
            "LST20_Corpus/test/T12544.txt\n",
            "LST20_Corpus/test/._T12593.txt\n",
            "LST20_Corpus/test/T12593.txt\n",
            "LST20_Corpus/test/._T12583.txt\n",
            "LST20_Corpus/test/T12583.txt\n",
            "LST20_Corpus/test/._T12597.txt\n",
            "LST20_Corpus/test/T12597.txt\n",
            "LST20_Corpus/test/._T13138.txt\n",
            "LST20_Corpus/test/T13138.txt\n",
            "LST20_Corpus/test/._T12781.txt\n",
            "LST20_Corpus/test/T12781.txt\n",
            "LST20_Corpus/test/._T12795.txt\n",
            "LST20_Corpus/test/T12795.txt\n",
            "LST20_Corpus/test/._T13460.txt\n",
            "LST20_Corpus/test/T13460.txt\n",
            "LST20_Corpus/test/._T13474.txt\n",
            "LST20_Corpus/test/T13474.txt\n",
            "LST20_Corpus/test/._T13312.txt\n",
            "LST20_Corpus/test/T13312.txt\n",
            "LST20_Corpus/test/._T12742.txt\n",
            "LST20_Corpus/test/T12742.txt\n",
            "LST20_Corpus/test/._T13448.txt\n",
            "LST20_Corpus/test/T13448.txt\n",
            "LST20_Corpus/test/._T12756.txt\n",
            "LST20_Corpus/test/T12756.txt\n",
            "LST20_Corpus/test/._T12030.txt\n",
            "LST20_Corpus/test/T12030.txt\n",
            "LST20_Corpus/test/._T12193.txt\n",
            "LST20_Corpus/test/T12193.txt\n",
            "LST20_Corpus/test/._T13299.txt\n",
            "LST20_Corpus/test/T13299.txt\n",
            "LST20_Corpus/test/._T12622.txt\n",
            "LST20_Corpus/test/T12622.txt\n",
            "LST20_Corpus/test/._T13064.txt\n",
            "LST20_Corpus/test/T13064.txt\n",
            "LST20_Corpus/test/._T12347.txt\n",
            "LST20_Corpus/test/T12347.txt\n",
            "LST20_Corpus/test/._T12623.txt\n",
            "LST20_Corpus/test/T12623.txt\n",
            "LST20_Corpus/test/._T13267.txt\n",
            "LST20_Corpus/test/T13267.txt\n",
            "LST20_Corpus/test/._T12192.txt\n",
            "LST20_Corpus/test/T12192.txt\n",
            "LST20_Corpus/test/._T12757.txt\n",
            "LST20_Corpus/test/T12757.txt\n",
            "LST20_Corpus/test/._T13449.txt\n",
            "LST20_Corpus/test/T13449.txt\n",
            "LST20_Corpus/test/._T12031.txt\n",
            "LST20_Corpus/test/T12031.txt\n",
            "LST20_Corpus/test/._T12025.txt\n",
            "LST20_Corpus/test/T12025.txt\n",
            "LST20_Corpus/test/._T12743.txt\n",
            "LST20_Corpus/test/T12743.txt\n",
            "LST20_Corpus/test/._T13475.txt\n",
            "LST20_Corpus/test/T13475.txt\n",
            "LST20_Corpus/test/._T13313.txt\n",
            "LST20_Corpus/test/T13313.txt\n",
            "LST20_Corpus/test/._T13307.txt\n",
            "LST20_Corpus/test/T13307.txt\n",
            "LST20_Corpus/test/._T13461.txt\n",
            "LST20_Corpus/test/T13461.txt\n",
            "LST20_Corpus/test/._T12780.txt\n",
            "LST20_Corpus/test/T12780.txt\n",
            "LST20_Corpus/test/._T12596.txt\n",
            "LST20_Corpus/test/T12596.txt\n",
            "LST20_Corpus/test/._T12594.txt\n",
            "LST20_Corpus/test/T12594.txt\n",
            "LST20_Corpus/test/._T12543.txt\n",
            "LST20_Corpus/test/T12543.txt\n",
            "LST20_Corpus/test/._T12796.txt\n",
            "LST20_Corpus/test/T12796.txt\n",
            "LST20_Corpus/test/._T12782.txt\n",
            "LST20_Corpus/test/T12782.txt\n",
            "LST20_Corpus/test/._T13311.txt\n",
            "LST20_Corpus/test/T13311.txt\n",
            "LST20_Corpus/test/._T13463.txt\n",
            "LST20_Corpus/test/T13463.txt\n",
            "LST20_Corpus/test/._T12033.txt\n",
            "LST20_Corpus/test/T12033.txt\n",
            "LST20_Corpus/test/._T12755.txt\n",
            "LST20_Corpus/test/T12755.txt\n",
            "LST20_Corpus/test/._T12741.txt\n",
            "LST20_Corpus/test/T12741.txt\n",
            "LST20_Corpus/test/._T12027.txt\n",
            "LST20_Corpus/test/T12027.txt\n",
            "LST20_Corpus/test/._T13339.txt\n",
            "LST20_Corpus/test/T13339.txt\n",
            "LST20_Corpus/test/._T12190.txt\n",
            "LST20_Corpus/test/T12190.txt\n",
            "LST20_Corpus/test/._T12609.txt\n",
            "LST20_Corpus/test/T12609.txt\n",
            "LST20_Corpus/test/._T12621.txt\n",
            "LST20_Corpus/test/T12621.txt\n",
            "LST20_Corpus/test/._T12634.txt\n",
            "LST20_Corpus/test/T12634.txt\n",
            "LST20_Corpus/test/._T12620.txt\n",
            "LST20_Corpus/test/T12620.txt\n",
            "LST20_Corpus/test/._T12608.txt\n",
            "LST20_Corpus/test/T12608.txt\n",
            "LST20_Corpus/test/._T12191.txt\n",
            "LST20_Corpus/test/T12191.txt\n",
            "LST20_Corpus/test/._T12740.txt\n",
            "LST20_Corpus/test/T12740.txt\n",
            "LST20_Corpus/test/._T13338.txt\n",
            "LST20_Corpus/test/T13338.txt\n",
            "LST20_Corpus/test/._T12754.txt\n",
            "LST20_Corpus/test/T12754.txt\n",
            "LST20_Corpus/test/._T13462.txt\n",
            "LST20_Corpus/test/T13462.txt\n",
            "LST20_Corpus/test/._T13310.txt\n",
            "LST20_Corpus/test/T13310.txt\n",
            "LST20_Corpus/test/._T12768.txt\n",
            "LST20_Corpus/test/T12768.txt\n",
            "LST20_Corpus/test/._T13476.txt\n",
            "LST20_Corpus/test/T13476.txt\n",
            "LST20_Corpus/test/._T12783.txt\n",
            "LST20_Corpus/test/T12783.txt\n",
            "LST20_Corpus/test/._T12797.txt\n",
            "LST20_Corpus/test/T12797.txt\n",
            "LST20_Corpus/test/._T12556.txt\n",
            "LST20_Corpus/test/T12556.txt\n",
            "LST20_Corpus/test/._T12595.txt\n",
            "LST20_Corpus/test/T12595.txt\n",
            "LST20_Corpus/test/._T11979.txt\n",
            "LST20_Corpus/test/T11979.txt\n",
            "LST20_Corpus/test/._T12243.txt\n",
            "LST20_Corpus/test/T12243.txt\n",
            "LST20_Corpus/test/._T12525.txt\n",
            "LST20_Corpus/test/T12525.txt\n",
            "LST20_Corpus/test/._T12519.txt\n",
            "LST20_Corpus/test/T12519.txt\n",
            "LST20_Corpus/test/._T13388.txt\n",
            "LST20_Corpus/test/T13388.txt\n",
            "LST20_Corpus/test/._T12733.txt\n",
            "LST20_Corpus/test/T12733.txt\n",
            "LST20_Corpus/test/._T13439.txt\n",
            "LST20_Corpus/test/T13439.txt\n",
            "LST20_Corpus/test/._T12727.txt\n",
            "LST20_Corpus/test/T12727.txt\n",
            "LST20_Corpus/test/._T13377.txt\n",
            "LST20_Corpus/test/T13377.txt\n",
            "LST20_Corpus/test/._T13411.txt\n",
            "LST20_Corpus/test/T13411.txt\n",
            "LST20_Corpus/test/._T13405.txt\n",
            "LST20_Corpus/test/T13405.txt\n",
            "LST20_Corpus/test/._T13363.txt\n",
            "LST20_Corpus/test/T13363.txt\n",
            "LST20_Corpus/test/._T12684.txt\n",
            "LST20_Corpus/test/T12684.txt\n",
            "LST20_Corpus/test/._T12690.txt\n",
            "LST20_Corpus/test/T12690.txt\n",
            "LST20_Corpus/test/._T12647.txt\n",
            "LST20_Corpus/test/T12647.txt\n",
            "LST20_Corpus/test/._T12653.txt\n",
            "LST20_Corpus/test/T12653.txt\n",
            "LST20_Corpus/test/._T12135.txt\n",
            "LST20_Corpus/test/T12135.txt\n",
            "LST20_Corpus/test/._T12492.txt\n",
            "LST20_Corpus/test/T12492.txt\n",
            "LST20_Corpus/test/._T12479.txt\n",
            "LST20_Corpus/test/T12479.txt\n",
            "LST20_Corpus/test/._T13015.txt\n",
            "LST20_Corpus/test/T13015.txt\n",
            "LST20_Corpus/test/._T12478.txt\n",
            "LST20_Corpus/test/T12478.txt\n",
            "LST20_Corpus/test/._T12493.txt\n",
            "LST20_Corpus/test/T12493.txt\n",
            "LST20_Corpus/test/._T12487.txt\n",
            "LST20_Corpus/test/T12487.txt\n",
            "LST20_Corpus/test/._T12652.txt\n",
            "LST20_Corpus/test/T12652.txt\n",
            "LST20_Corpus/test/._T12134.txt\n",
            "LST20_Corpus/test/T12134.txt\n",
            "LST20_Corpus/test/._T12861.txt\n",
            "LST20_Corpus/test/T12861.txt\n",
            "LST20_Corpus/test/._T12691.txt\n",
            "LST20_Corpus/test/T12691.txt\n",
            "LST20_Corpus/test/._T12849.txt\n",
            "LST20_Corpus/test/T12849.txt\n",
            "LST20_Corpus/test/._T12685.txt\n",
            "LST20_Corpus/test/T12685.txt\n",
            "LST20_Corpus/test/._T13404.txt\n",
            "LST20_Corpus/test/T13404.txt\n",
            "LST20_Corpus/test/._T13362.txt\n",
            "LST20_Corpus/test/T13362.txt\n",
            "LST20_Corpus/test/._T13376.txt\n",
            "LST20_Corpus/test/T13376.txt\n",
            "LST20_Corpus/test/._T13410.txt\n",
            "LST20_Corpus/test/T13410.txt\n",
            "LST20_Corpus/test/._T12726.txt\n",
            "LST20_Corpus/test/T12726.txt\n",
            "LST20_Corpus/test/._T13438.txt\n",
            "LST20_Corpus/test/T13438.txt\n",
            "LST20_Corpus/test/._T12732.txt\n",
            "LST20_Corpus/test/T12732.txt\n",
            "LST20_Corpus/test/._T13389.txt\n",
            "LST20_Corpus/test/T13389.txt\n",
            "LST20_Corpus/test/._T12518.txt\n",
            "LST20_Corpus/test/T12518.txt\n",
            "LST20_Corpus/test/._T12524.txt\n",
            "LST20_Corpus/test/T12524.txt\n",
            "LST20_Corpus/test/._T12526.txt\n",
            "LST20_Corpus/test/T12526.txt\n",
            "LST20_Corpus/test/._T12268.txt\n",
            "LST20_Corpus/test/T12268.txt\n",
            "LST20_Corpus/test/._T12724.txt\n",
            "LST20_Corpus/test/T12724.txt\n",
            "LST20_Corpus/test/._T12730.txt\n",
            "LST20_Corpus/test/T12730.txt\n",
            "LST20_Corpus/test/._T13348.txt\n",
            "LST20_Corpus/test/T13348.txt\n",
            "LST20_Corpus/test/._T13360.txt\n",
            "LST20_Corpus/test/T13360.txt\n",
            "LST20_Corpus/test/._T13406.txt\n",
            "LST20_Corpus/test/T13406.txt\n",
            "LST20_Corpus/test/._T12718.txt\n",
            "LST20_Corpus/test/T12718.txt\n",
            "LST20_Corpus/test/._T13412.txt\n",
            "LST20_Corpus/test/T13412.txt\n",
            "LST20_Corpus/test/._T13374.txt\n",
            "LST20_Corpus/test/T13374.txt\n",
            "LST20_Corpus/test/._T12693.txt\n",
            "LST20_Corpus/test/T12693.txt\n",
            "LST20_Corpus/test/._T12687.txt\n",
            "LST20_Corpus/test/T12687.txt\n",
            "LST20_Corpus/test/._T12650.txt\n",
            "LST20_Corpus/test/T12650.txt\n",
            "LST20_Corpus/test/._T13214.txt\n",
            "LST20_Corpus/test/T13214.txt\n",
            "LST20_Corpus/test/._T12678.txt\n",
            "LST20_Corpus/test/T12678.txt\n",
            "LST20_Corpus/test/._T12491.txt\n",
            "LST20_Corpus/test/T12491.txt\n",
            "LST20_Corpus/test/._T12485.txt\n",
            "LST20_Corpus/test/T12485.txt\n",
            "LST20_Corpus/test/._T12484.txt\n",
            "LST20_Corpus/test/T12484.txt\n",
            "LST20_Corpus/test/._T12679.txt\n",
            "LST20_Corpus/test/T12679.txt\n",
            "LST20_Corpus/test/._T12651.txt\n",
            "LST20_Corpus/test/T12651.txt\n",
            "LST20_Corpus/test/._T12686.txt\n",
            "LST20_Corpus/test/T12686.txt\n",
            "LST20_Corpus/test/._T12692.txt\n",
            "LST20_Corpus/test/T12692.txt\n",
            "LST20_Corpus/test/._T13413.txt\n",
            "LST20_Corpus/test/T13413.txt\n",
            "LST20_Corpus/test/._T13375.txt\n",
            "LST20_Corpus/test/T13375.txt\n",
            "LST20_Corpus/test/._T13361.txt\n",
            "LST20_Corpus/test/T13361.txt\n",
            "LST20_Corpus/test/._T12719.txt\n",
            "LST20_Corpus/test/T12719.txt\n",
            "LST20_Corpus/test/._T13407.txt\n",
            "LST20_Corpus/test/T13407.txt\n",
            "LST20_Corpus/test/._T12731.txt\n",
            "LST20_Corpus/test/T12731.txt\n",
            "LST20_Corpus/test/._T13349.txt\n",
            "LST20_Corpus/test/T13349.txt\n",
            "LST20_Corpus/test/._T12725.txt\n",
            "LST20_Corpus/test/T12725.txt\n",
            "LST20_Corpus/test/._T12269.txt\n",
            "LST20_Corpus/test/T12269.txt\n",
            "LST20_Corpus/test/._T12296.txt\n",
            "LST20_Corpus/test/T12296.txt\n",
            "LST20_Corpus/test/._T12292.txt\n",
            "LST20_Corpus/test/T12292.txt\n",
            "LST20_Corpus/test/._T12523.txt\n",
            "LST20_Corpus/test/T12523.txt\n",
            "LST20_Corpus/test/._T12537.txt\n",
            "LST20_Corpus/test/T12537.txt\n",
            "LST20_Corpus/test/._T13403.txt\n",
            "LST20_Corpus/test/T13403.txt\n",
            "LST20_Corpus/test/._T13365.txt\n",
            "LST20_Corpus/test/T13365.txt\n",
            "LST20_Corpus/test/._T13371.txt\n",
            "LST20_Corpus/test/T13371.txt\n",
            "LST20_Corpus/test/._T13417.txt\n",
            "LST20_Corpus/test/T13417.txt\n",
            "LST20_Corpus/test/._T12721.txt\n",
            "LST20_Corpus/test/T12721.txt\n",
            "LST20_Corpus/test/._T12735.txt\n",
            "LST20_Corpus/test/T12735.txt\n",
            "LST20_Corpus/test/._T12696.txt\n",
            "LST20_Corpus/test/T12696.txt\n",
            "LST20_Corpus/test/._T12682.txt\n",
            "LST20_Corpus/test/T12682.txt\n",
            "LST20_Corpus/test/._T12669.txt\n",
            "LST20_Corpus/test/T12669.txt\n",
            "LST20_Corpus/test/._T13205.txt\n",
            "LST20_Corpus/test/T13205.txt\n",
            "LST20_Corpus/test/._T12655.txt\n",
            "LST20_Corpus/test/T12655.txt\n",
            "LST20_Corpus/test/._T12133.txt\n",
            "LST20_Corpus/test/T12133.txt\n",
            "LST20_Corpus/test/._T12480.txt\n",
            "LST20_Corpus/test/T12480.txt\n",
            "LST20_Corpus/test/._T12319.txt\n",
            "LST20_Corpus/test/T12319.txt\n",
            "LST20_Corpus/test/._T12318.txt\n",
            "LST20_Corpus/test/T12318.txt\n",
            "LST20_Corpus/test/._T12481.txt\n",
            "LST20_Corpus/test/T12481.txt\n",
            "LST20_Corpus/test/._T12126.txt\n",
            "LST20_Corpus/test/T12126.txt\n",
            "LST20_Corpus/test/._T13238.txt\n",
            "LST20_Corpus/test/T13238.txt\n",
            "LST20_Corpus/test/._T12640.txt\n",
            "LST20_Corpus/test/T12640.txt\n",
            "LST20_Corpus/test/._T12654.txt\n",
            "LST20_Corpus/test/T12654.txt\n",
            "LST20_Corpus/test/._T12668.txt\n",
            "LST20_Corpus/test/T12668.txt\n",
            "LST20_Corpus/test/._T12683.txt\n",
            "LST20_Corpus/test/T12683.txt\n",
            "LST20_Corpus/test/._T12697.txt\n",
            "LST20_Corpus/test/T12697.txt\n",
            "LST20_Corpus/test/._T12867.txt\n",
            "LST20_Corpus/test/T12867.txt\n",
            "LST20_Corpus/test/._T12734.txt\n",
            "LST20_Corpus/test/T12734.txt\n",
            "LST20_Corpus/test/._T12720.txt\n",
            "LST20_Corpus/test/T12720.txt\n",
            "LST20_Corpus/test/._T13358.txt\n",
            "LST20_Corpus/test/T13358.txt\n",
            "LST20_Corpus/test/._T13370.txt\n",
            "LST20_Corpus/test/T13370.txt\n",
            "LST20_Corpus/test/._T12708.txt\n",
            "LST20_Corpus/test/T12708.txt\n",
            "LST20_Corpus/test/._T13416.txt\n",
            "LST20_Corpus/test/T13416.txt\n",
            "LST20_Corpus/test/._T13402.txt\n",
            "LST20_Corpus/test/T13402.txt\n",
            "LST20_Corpus/test/._T13364.txt\n",
            "LST20_Corpus/test/T13364.txt\n",
            "LST20_Corpus/test/._T12522.txt\n",
            "LST20_Corpus/test/T12522.txt\n",
            "LST20_Corpus/test/._T12293.txt\n",
            "LST20_Corpus/test/T12293.txt\n",
            "LST20_Corpus/test/._T12291.txt\n",
            "LST20_Corpus/test/T12291.txt\n",
            "LST20_Corpus/test/._T12520.txt\n",
            "LST20_Corpus/test/T12520.txt\n",
            "LST20_Corpus/test/._T13399.txt\n",
            "LST20_Corpus/test/T13399.txt\n",
            "LST20_Corpus/test/._T13414.txt\n",
            "LST20_Corpus/test/T13414.txt\n",
            "LST20_Corpus/test/._T13366.txt\n",
            "LST20_Corpus/test/T13366.txt\n",
            "LST20_Corpus/test/._T13400.txt\n",
            "LST20_Corpus/test/T13400.txt\n",
            "LST20_Corpus/test/._T13428.txt\n",
            "LST20_Corpus/test/T13428.txt\n",
            "LST20_Corpus/test/._T12736.txt\n",
            "LST20_Corpus/test/T12736.txt\n",
            "LST20_Corpus/test/._T12722.txt\n",
            "LST20_Corpus/test/T12722.txt\n",
            "LST20_Corpus/test/._T12681.txt\n",
            "LST20_Corpus/test/T12681.txt\n",
            "LST20_Corpus/test/._T12695.txt\n",
            "LST20_Corpus/test/T12695.txt\n",
            "LST20_Corpus/test/._T12642.txt\n",
            "LST20_Corpus/test/T12642.txt\n",
            "LST20_Corpus/test/._T12656.txt\n",
            "LST20_Corpus/test/T12656.txt\n",
            "LST20_Corpus/test/._T12483.txt\n",
            "LST20_Corpus/test/T12483.txt\n",
            "LST20_Corpus/test/._T12497.txt\n",
            "LST20_Corpus/test/T12497.txt\n",
            "LST20_Corpus/test/._T12455.txt\n",
            "LST20_Corpus/test/T12455.txt\n",
            "LST20_Corpus/test/._T12482.txt\n",
            "LST20_Corpus/test/T12482.txt\n",
            "LST20_Corpus/test/._T12657.txt\n",
            "LST20_Corpus/test/T12657.txt\n",
            "LST20_Corpus/test/._T12694.txt\n",
            "LST20_Corpus/test/T12694.txt\n",
            "LST20_Corpus/test/._T12723.txt\n",
            "LST20_Corpus/test/T12723.txt\n",
            "LST20_Corpus/test/._T12737.txt\n",
            "LST20_Corpus/test/T12737.txt\n",
            "LST20_Corpus/test/._T13429.txt\n",
            "LST20_Corpus/test/T13429.txt\n",
            "LST20_Corpus/test/._T13367.txt\n",
            "LST20_Corpus/test/T13367.txt\n",
            "LST20_Corpus/test/._T13401.txt\n",
            "LST20_Corpus/test/T13401.txt\n",
            "LST20_Corpus/test/._T13415.txt\n",
            "LST20_Corpus/test/T13415.txt\n",
            "LST20_Corpus/test/._T13373.txt\n",
            "LST20_Corpus/test/T13373.txt\n",
            "LST20_Corpus/test/._T13398.txt\n",
            "LST20_Corpus/test/T13398.txt\n",
            "LST20_Corpus/test/._T12521.txt\n",
            "LST20_Corpus/test/T12521.txt\n"
          ]
        }
      ]
    },
    {
      "cell_type": "code",
      "source": [
        "!head -n 20 LST20_Corpus/eval/T01608.txt"
      ],
      "metadata": {
        "id": "Zpq4MkaVB-qt",
        "colab": {
          "base_uri": "https://localhost:8080/"
        },
        "outputId": "71a19afc-95d2-42be-9c50-c302c867570a"
      },
      "execution_count": null,
      "outputs": [
        {
          "output_type": "stream",
          "name": "stdout",
          "text": [
            "สลด\tVV\tO\tB_CLS\n",
            "ผัว\tNN\tO\tI_CLS\n",
            "เมีย\tNN\tO\tI_CLS\n",
            "เฒ่า\tNN\tO\tI_CLS\n",
            "ถูก\tAX\tO\tI_CLS\n",
            "ไฟ\tNN\tO\tI_CLS\n",
            "ช็อต\tVV\tO\tI_CLS\n",
            "กอด\tVV\tO\tI_CLS\n",
            "กัน\tAV\tO\tI_CLS\n",
            "ตาย\tVV\tO\tI_CLS\n",
            "_\tPU\tO\tI_CLS\n",
            "สังเวย\tVV\tO\tI_CLS\n",
            "ฝน\tNN\tO\tI_CLS\n",
            "ตก\tVV\tO\tI_CLS\n",
            "-\tPU\tO\tI_CLS\n",
            "น้ำ\tNN\tO\tI_CLS\n",
            "ท่วม\tVV\tO\tE_CLS\n",
            "\n",
            "สอง\tNU\tO\tB_CLS\n",
            "สามี\tNN\tO\tI_CLS\n"
          ]
        }
      ]
    },
    {
      "cell_type": "code",
      "source": [
        "def clean_data(fname):\n",
        "    with open(fname.replace(\".txt\",\"_clean.txt\"),\"w\") as fw:\n",
        "        with open(fname) as fp:\n",
        "            lines = fp.readlines()\n",
        "\n",
        "            for line in lines:\n",
        "                #print(line)\n",
        "\n",
        "                if line.strip()==\"\":\n",
        "                    fw.write(\"\\n\")\n",
        "                else:\n",
        "                    #print(line.split(\"\\t\"))\n",
        "                    if len(line.split(\"\\t\"))==4:\n",
        "                        fw.write(line)"
      ],
      "metadata": {
        "id": "DZyzjg_LCdc_"
      },
      "execution_count": null,
      "outputs": []
    },
    {
      "cell_type": "code",
      "source": [
        "#create train/test/val data\n",
        "!cat LST20_Corpus/train/T*.txt > LST20_Corpus/train.txt\n",
        "!cat LST20_Corpus/eval/T*.txt > LST20_Corpus/val.txt\n",
        "!cat LST20_Corpus/test/T*.txt > LST20_Corpus/test.txt\n"
      ],
      "metadata": {
        "id": "3pB6SAMvCPZj"
      },
      "execution_count": null,
      "outputs": []
    },
    {
      "cell_type": "code",
      "source": [
        "clean_data(\"LST20_Corpus/train.txt\")\n",
        "clean_data(\"LST20_Corpus/val.txt\")\n",
        "clean_data(\"LST20_Corpus/test.txt\")"
      ],
      "metadata": {
        "id": "pI_xi9CVDDPw"
      },
      "execution_count": null,
      "outputs": []
    },
    {
      "cell_type": "code",
      "source": [
        "!head -n 10 LST20_Corpus/train_clean.txt"
      ],
      "metadata": {
        "id": "q2ifFH08DsMC",
        "colab": {
          "base_uri": "https://localhost:8080/"
        },
        "outputId": "771a4e2d-e076-4295-fd05-d9a4d50c849c"
      },
      "execution_count": null,
      "outputs": [
        {
          "output_type": "stream",
          "name": "stdout",
          "text": [
            "สุรยุทธ์\tNN\tB_PER\tB_CLS\n",
            "ยัน\tVV\tO\tI_CLS\n",
            "ปฏิเสธ\tVV\tO\tI_CLS\n",
            "ลงนาม\tVV\tO\tI_CLS\n",
            "_\tPU\tO\tI_CLS\n",
            "MOU\tNN\tO\tI_CLS\n",
            "_\tPU\tO\tI_CLS\n",
            "กับ\tPS\tO\tI_CLS\n",
            "อียู\tNN\tB_ORG\tI_CLS\n",
            "ไม่\tNG\tO\tI_CLS\n"
          ]
        }
      ]
    },
    {
      "cell_type": "markdown",
      "source": [
        "# CRF-based Thai NER\n",
        "\n",
        "ในส่วนนี้เราจะสร้างแบบจำลอง NER สำหรับภาษาไทยโดยใช้คลังข้อมูล LST20 กัน\n",
        "\n",
        "โดยจะอาศัยตัวอย่างโค้ดจาก\n",
        "\n",
        "https://albertauyeung.github.io/2017/06/17/python-sequence-labelling-with-crf.html/"
      ],
      "metadata": {
        "id": "3igVu14L2OPP"
      }
    },
    {
      "cell_type": "code",
      "source": [
        "!pip install python-crfsuite"
      ],
      "metadata": {
        "id": "N5WNHmv85kO6",
        "colab": {
          "base_uri": "https://localhost:8080/"
        },
        "outputId": "fdbf4291-1d3d-4996-c3c0-7932c7c21f24"
      },
      "execution_count": null,
      "outputs": [
        {
          "output_type": "stream",
          "name": "stdout",
          "text": [
            "Collecting python-crfsuite\n",
            "  Downloading python_crfsuite-0.9.10-cp310-cp310-manylinux_2_17_x86_64.manylinux2014_x86_64.whl (1.1 MB)\n",
            "\u001b[2K     \u001b[90m━━━━━━━━━━━━━━━━━━━━━━━━━━━━━━━━━━━━━━━━\u001b[0m \u001b[32m1.1/1.1 MB\u001b[0m \u001b[31m8.2 MB/s\u001b[0m eta \u001b[36m0:00:00\u001b[0m\n",
            "\u001b[?25hInstalling collected packages: python-crfsuite\n",
            "Successfully installed python-crfsuite-0.9.10\n"
          ]
        }
      ]
    },
    {
      "cell_type": "markdown",
      "source": [
        "## เตรียมข้อมูล\n",
        "\n",
        "โหลดข้อมูลให้ตรงตามรูปแบบ โดยแต่ละประโยคจะมีหน้าตา ดังนี้ [(w, pos, label),(w, pos, label),...]"
      ],
      "metadata": {
        "id": "vRJKZ7Qr4OD7"
      }
    },
    {
      "cell_type": "code",
      "source": [
        "#[[('##', '##'),('The', 'AT'),('Fulton', 'NP-TL'),('&&', '&&')],[]]\n",
        "def load_data(fname):\n",
        "  data = []\n",
        "  with open(fname) as fp:\n",
        "      lines = fp.readlines()\n",
        "      tmp_sen = []\n",
        "      for line in lines:\n",
        "\n",
        "          if line.strip()==\"\":\n",
        "              if len(tmp_sen) > 0:\n",
        "                  #tmp_sen.insert(0,('##','##'))\n",
        "                  #tmp_sen.append(('&&','&&'))\n",
        "                  data.append(tmp_sen)\n",
        "                  tmp_sen = []\n",
        "\n",
        "              continue\n",
        "\n",
        "          _x = line.split('\\t')\n",
        "\n",
        "          tmp_sen.append((_x[0],_x[1],_x[2]))\n",
        "  return data"
      ],
      "metadata": {
        "id": "_Mfqc70KMNzm"
      },
      "execution_count": null,
      "outputs": []
    },
    {
      "cell_type": "code",
      "source": [
        "train_data=load_data('/content/LST20_Corpus/train_clean.txt')\n",
        "test_data=load_data('/content/LST20_Corpus/test_clean.txt')"
      ],
      "metadata": {
        "id": "KPkRdEyBnQhh"
      },
      "execution_count": null,
      "outputs": []
    },
    {
      "cell_type": "code",
      "source": [
        "train_data[:2]"
      ],
      "metadata": {
        "id": "fMCMlzkm4CtZ",
        "colab": {
          "base_uri": "https://localhost:8080/"
        },
        "outputId": "a5c19151-1d89-4f4b-b8a8-cdd9af7adbc9"
      },
      "execution_count": null,
      "outputs": [
        {
          "output_type": "execute_result",
          "data": {
            "text/plain": [
              "[[('สุรยุทธ์', 'NN', 'B_PER'),\n",
              "  ('ยัน', 'VV', 'O'),\n",
              "  ('ปฏิเสธ', 'VV', 'O'),\n",
              "  ('ลงนาม', 'VV', 'O'),\n",
              "  ('_', 'PU', 'O'),\n",
              "  ('MOU', 'NN', 'O'),\n",
              "  ('_', 'PU', 'O'),\n",
              "  ('กับ', 'PS', 'O'),\n",
              "  ('อียู', 'NN', 'B_ORG'),\n",
              "  ('ไม่', 'NG', 'O'),\n",
              "  ('กระทบ', 'VV', 'O'),\n",
              "  ('สัมพันธ์', 'NN', 'O')],\n",
              " [('1', 'NU', 'B_DTM'),\n",
              "  ('_', 'PU', 'I_DTM'),\n",
              "  ('กันยายน', 'NN', 'I_DTM'),\n",
              "  ('_', 'PU', 'I_DTM'),\n",
              "  ('2550', 'NU', 'E_DTM'),\n",
              "  ('_', 'PU', 'O'),\n",
              "  ('12:21', 'NU', 'B_DTM'),\n",
              "  ('_', 'PU', 'I_DTM'),\n",
              "  ('น.', 'CL', 'E_DTM')]]"
            ]
          },
          "metadata": {},
          "execution_count": 12
        }
      ]
    },
    {
      "cell_type": "markdown",
      "source": [
        "## สร้าง Feature\n",
        "\n",
        "โดยเราจะใช้ Feature ประมาณนี้\n",
        "\n",
        "\n",
        "*   The word w itself (converted to lowercase for normalisation)\n",
        "*   The prefix/suffix of w (e.g. -ion)\n",
        "*   The words surrounding w, such as the previous and the next word\n",
        "*   Whether w is in uppercase or lowercase\n",
        "*   Whether w is a number, or contains digits\n",
        "*   The POS tag of w, and those of the surrounding words\n",
        "*   Whether w is or contains a special character (e.g. hypen, dollar sign)\n"
      ],
      "metadata": {
        "id": "kmvL2MdE4gwI"
      }
    },
    {
      "cell_type": "code",
      "source": [
        "def word2features(doc, i):\n",
        "    word = doc[i][0]\n",
        "    postag = doc[i][1]\n",
        "\n",
        "    # Common features for all words\n",
        "    features = [\n",
        "        'bias',\n",
        "        'word.lower=' + word.lower(),\n",
        "        'word.isupper=%s' % word.isupper(),\n",
        "        'word.istitle=%s' % word.istitle(),\n",
        "        'word.isdigit=%s' % word.isdigit(),\n",
        "    ]\n",
        "\n",
        "    # Features for words that are not\n",
        "    # at the beginning of a document\n",
        "    if i > 0:\n",
        "        word1 = doc[i-1][0]\n",
        "        postag1 = doc[i-1][1]\n",
        "\n",
        "        features.extend([\n",
        "            'prev_word.lower=' + word1.lower(),\n",
        "            'prev_word.isupper=%s' % word1.isupper(),\n",
        "            'prev_word.istitle=%s' % word1.istitle(),\n",
        "            'prev_word.isdigit=%s' % word1.isdigit(),\n",
        "        ])\n",
        "    else:\n",
        "        # Indicate that it is the 'beginning of a document'\n",
        "        features.append('BOS')\n",
        "\n",
        "    # Features for words that are not\n",
        "    # at the end of a document\n",
        "    if i < len(doc)-1:\n",
        "        word1 = doc[i+1][0]\n",
        "        postag1 = doc[i+1][1]\n",
        "        #features.extend([])\n",
        "        features.extend([\n",
        "            'next_word.lower=' + word1.lower(),\n",
        "            'next_word.isupper=%s' % word1.isupper(),\n",
        "            'next_word.istitle=%s' % word1.istitle(),\n",
        "            'next_word.isdigit=%s' % word1.isdigit(),\n",
        "        ])\n",
        "    else:\n",
        "        # Indicate that it is the 'end of a document'\n",
        "        features.append('EOS')\n",
        "\n",
        "    return features"
      ],
      "metadata": {
        "id": "kqrjzayI5G00"
      },
      "execution_count": null,
      "outputs": []
    },
    {
      "cell_type": "code",
      "source": [
        "from sklearn.model_selection import train_test_split\n",
        "\n",
        "# A function for extracting features in documents\n",
        "def extract_features(doc):\n",
        "    return [word2features(doc, i) for i in range(len(doc))]\n",
        "\n",
        "# A function fo generating the list of labels for each document\n",
        "def get_labels(doc):\n",
        "    return [label for (token, postag, label) in doc]\n",
        "\n",
        "X_train = [extract_features(doc) for doc in train_data]\n",
        "y_train = [get_labels(doc) for doc in train_data]\n",
        "\n",
        "#X_train, X_test, y_train, y_test = train_test_split(X, y, test_size=0.2)"
      ],
      "metadata": {
        "id": "QiNq6E3F5XVH"
      },
      "execution_count": null,
      "outputs": []
    },
    {
      "cell_type": "code",
      "source": [
        "X_test = [extract_features(doc) for doc in test_data]\n",
        "y_test = [get_labels(doc) for doc in test_data]"
      ],
      "metadata": {
        "id": "K1cwEXhloD3l"
      },
      "execution_count": null,
      "outputs": []
    },
    {
      "cell_type": "code",
      "source": [
        "type(X_train)"
      ],
      "metadata": {
        "colab": {
          "base_uri": "https://localhost:8080/"
        },
        "id": "aMBUO5fEnk6n",
        "outputId": "3c6cdba7-3520-46c2-c81b-68cc5744d353"
      },
      "execution_count": null,
      "outputs": [
        {
          "output_type": "execute_result",
          "data": {
            "text/plain": [
              "list"
            ]
          },
          "metadata": {},
          "execution_count": 29
        }
      ]
    },
    {
      "cell_type": "code",
      "source": [
        "import pycrfsuite\n",
        "trainer = pycrfsuite.Trainer(verbose=True)\n",
        "\n",
        "# Submit training data to the trainer\n",
        "for xseq, yseq in zip(X_train, y_train):\n",
        "    trainer.append(xseq, yseq)\n",
        "\n",
        "# Set the parameters of the model\n",
        "trainer.set_params({\n",
        "    # coefficient for L1 penalty\n",
        "    'c1': 0.1,\n",
        "\n",
        "    # coefficient for L2 penalty\n",
        "    'c2': 0.01,\n",
        "\n",
        "    # maximum number of iterations\n",
        "    'max_iterations': 50,\n",
        "\n",
        "    # whether to include transitions that\n",
        "    # are possible, but not observed\n",
        "    'feature.possible_transitions': True\n",
        "})\n",
        "\n",
        "# Provide a file name as a parameter to the train function, such that\n",
        "# the model will be saved to the file when training is finished\n",
        "trainer.train('crf_ner.model')"
      ],
      "metadata": {
        "id": "LbM-v3fP5aAd",
        "colab": {
          "base_uri": "https://localhost:8080/",
          "height": 1000
        },
        "outputId": "6cb9d014-60e4-46db-c291-b1d59d4131ff"
      },
      "execution_count": null,
      "outputs": [
        {
          "output_type": "stream",
          "name": "stdout",
          "text": [
            "Feature generation\n",
            "type: CRF1d\n",
            "feature.minfreq: 0.000000\n",
            "feature.possible_states: 0\n",
            "feature.possible_transitions: 1\n",
            "0....1....2....3....4....5....6....7....8....9....10\n",
            "Number of features: 204799\n",
            "Seconds required: 4.965\n",
            "\n",
            "L-BFGS optimization\n",
            "c1: 0.100000\n",
            "c2: 0.010000\n",
            "num_memories: 6\n",
            "max_iterations: 50\n",
            "epsilon: 0.000010\n",
            "stop: 10\n",
            "delta: 0.000010\n",
            "linesearch: MoreThuente\n",
            "linesearch.max_iterations: 20\n",
            "\n",
            "***** Iteration #1 *****\n",
            "Loss: 3798291.811847\n",
            "Feature norm: 1.000000\n",
            "Error norm: 4011398.515198\n",
            "Active features: 203948\n",
            "Line search trials: 1\n",
            "Line search step: 0.000000\n",
            "Seconds required for this iteration: 26.483\n",
            "\n",
            "***** Iteration #2 *****\n",
            "Loss: 3557007.392080\n",
            "Feature norm: 2.303659\n",
            "Error norm: 1492466.345310\n",
            "Active features: 196339\n",
            "Line search trials: 1\n",
            "Line search step: 1.000000\n",
            "Seconds required for this iteration: 13.292\n",
            "\n",
            "***** Iteration #3 *****\n",
            "Loss: 3082290.760307\n",
            "Feature norm: 1.972976\n",
            "Error norm: 1266194.125857\n",
            "Active features: 199096\n",
            "Line search trials: 1\n",
            "Line search step: 1.000000\n",
            "Seconds required for this iteration: 13.368\n",
            "\n",
            "***** Iteration #4 *****\n",
            "Loss: 2699087.430720\n",
            "Feature norm: 1.558734\n",
            "Error norm: 336156.074512\n",
            "Active features: 199067\n",
            "Line search trials: 3\n",
            "Line search step: 0.250000\n",
            "Seconds required for this iteration: 40.802\n",
            "\n",
            "***** Iteration #5 *****\n",
            "Loss: 2652487.630568\n",
            "Feature norm: 1.586832\n",
            "Error norm: 342770.864357\n",
            "Active features: 203079\n",
            "Line search trials: 1\n",
            "Line search step: 1.000000\n",
            "Seconds required for this iteration: 13.504\n",
            "\n",
            "***** Iteration #6 *****\n",
            "Loss: 2296836.533346\n",
            "Feature norm: 4.032410\n",
            "Error norm: 477563.230339\n",
            "Active features: 201207\n",
            "Line search trials: 1\n",
            "Line search step: 1.000000\n",
            "Seconds required for this iteration: 13.390\n",
            "\n"
          ]
        },
        {
          "output_type": "error",
          "ename": "KeyboardInterrupt",
          "evalue": "",
          "traceback": [
            "\u001b[0;31m---------------------------------------------------------------------------\u001b[0m",
            "\u001b[0;31mKeyboardInterrupt\u001b[0m                         Traceback (most recent call last)",
            "\u001b[0;32m<ipython-input-16-5a965bc11ccb>\u001b[0m in \u001b[0;36m<cell line: 26>\u001b[0;34m()\u001b[0m\n\u001b[1;32m     24\u001b[0m \u001b[0;31m# Provide a file name as a parameter to the train function, such that\u001b[0m\u001b[0;34m\u001b[0m\u001b[0;34m\u001b[0m\u001b[0m\n\u001b[1;32m     25\u001b[0m \u001b[0;31m# the model will be saved to the file when training is finished\u001b[0m\u001b[0;34m\u001b[0m\u001b[0;34m\u001b[0m\u001b[0m\n\u001b[0;32m---> 26\u001b[0;31m \u001b[0mtrainer\u001b[0m\u001b[0;34m.\u001b[0m\u001b[0mtrain\u001b[0m\u001b[0;34m(\u001b[0m\u001b[0;34m'crf_ner.model'\u001b[0m\u001b[0;34m)\u001b[0m\u001b[0;34m\u001b[0m\u001b[0;34m\u001b[0m\u001b[0m\n\u001b[0m",
            "\u001b[0;32mpycrfsuite/_pycrfsuite.pyx\u001b[0m in \u001b[0;36mpycrfsuite._pycrfsuite.BaseTrainer.train\u001b[0;34m()\u001b[0m\n",
            "\u001b[0;32mpycrfsuite/_pycrfsuite.pyx\u001b[0m in \u001b[0;36mpycrfsuite._pycrfsuite.BaseTrainer._on_message\u001b[0;34m()\u001b[0m\n",
            "\u001b[0;32mpycrfsuite/_pycrfsuite.pyx\u001b[0m in \u001b[0;36mpycrfsuite._pycrfsuite.Trainer.message\u001b[0;34m()\u001b[0m\n",
            "\u001b[0;32m/usr/local/lib/python3.10/dist-packages/pycrfsuite/_logparser.py\u001b[0m in \u001b[0;36mfeed\u001b[0;34m(self, line)\u001b[0m\n\u001b[1;32m     23\u001b[0m         \u001b[0mself\u001b[0m\u001b[0;34m.\u001b[0m\u001b[0mevents\u001b[0m \u001b[0;34m=\u001b[0m \u001b[0;34m[\u001b[0m\u001b[0;34m]\u001b[0m\u001b[0;34m\u001b[0m\u001b[0;34m\u001b[0m\u001b[0m\n\u001b[1;32m     24\u001b[0m \u001b[0;34m\u001b[0m\u001b[0m\n\u001b[0;32m---> 25\u001b[0;31m     \u001b[0;32mdef\u001b[0m \u001b[0mfeed\u001b[0m\u001b[0;34m(\u001b[0m\u001b[0mself\u001b[0m\u001b[0;34m,\u001b[0m \u001b[0mline\u001b[0m\u001b[0;34m)\u001b[0m\u001b[0;34m:\u001b[0m\u001b[0;34m\u001b[0m\u001b[0;34m\u001b[0m\u001b[0m\n\u001b[0m\u001b[1;32m     26\u001b[0m         \u001b[0;31m# if line != '\\n':\u001b[0m\u001b[0;34m\u001b[0m\u001b[0;34m\u001b[0m\u001b[0m\n\u001b[1;32m     27\u001b[0m         \u001b[0mself\u001b[0m\u001b[0;34m.\u001b[0m\u001b[0mlog\u001b[0m\u001b[0;34m.\u001b[0m\u001b[0mappend\u001b[0m\u001b[0;34m(\u001b[0m\u001b[0mline\u001b[0m\u001b[0;34m)\u001b[0m\u001b[0;34m\u001b[0m\u001b[0;34m\u001b[0m\u001b[0m\n",
            "\u001b[0;31mKeyboardInterrupt\u001b[0m: "
          ]
        }
      ]
    },
    {
      "cell_type": "markdown",
      "source": [
        "## ทดสอบและวัดประสิทธิภาพ"
      ],
      "metadata": {
        "id": "vV00Fd7F5uhA"
      }
    },
    {
      "cell_type": "code",
      "source": [
        "tagger = pycrfsuite.Tagger()\n",
        "tagger.open('crf_ner.model')\n",
        "y_pred = [tagger.tag(xseq) for xseq in X_test]\n",
        "\n",
        "# Let's take a look at a random sample in the testing set\n",
        "i = 12\n",
        "for x, y in zip(y_pred[i], [x[1].split(\"=\")[1] for x in X_test[i]]):\n",
        "    print(\"%s (%s)\" % (y, x))\n",
        "\n",
        "'''\n",
        "The following will be printed:\n",
        "\n",
        "sci-med (N)\n",
        "life (N)\n",
        "systems (N)\n",
        "inc (N)\n",
        "said (I)\n",
        "its (I)\n",
        "directors (I)\n",
        "approved (I)\n",
        "a (I)\n",
        "previously (I)\n",
        "...\n",
        "'''"
      ],
      "metadata": {
        "id": "CgDy4GIv5yaB"
      },
      "execution_count": null,
      "outputs": []
    },
    {
      "cell_type": "code",
      "source": [
        "import numpy as np\n",
        "from sklearn.metrics import classification_report\n",
        "\n",
        "# Convert the sequences of tags into a 1-dimensional array\n",
        "_predictions = [tag for row in y_pred for tag in row]\n",
        "_truths = [tag for row in y_test for tag in row]\n",
        "\n",
        "\n",
        "except_tag = ['O'] #ไม่เอา tag \"O\""
      ],
      "metadata": {
        "id": "cw9Om949oXWO"
      },
      "execution_count": null,
      "outputs": []
    },
    {
      "cell_type": "code",
      "source": [
        "truths = []\n",
        "predictions = []\n",
        "for x,y in zip(_truths,_predictions):\n",
        "  if x not in except_tag:\n",
        "    truths.append(x)\n",
        "    predictions.append(y)"
      ],
      "metadata": {
        "id": "5ijL2zicodUK"
      },
      "execution_count": null,
      "outputs": []
    },
    {
      "cell_type": "code",
      "source": [
        "import numpy as np\n",
        "from sklearn.metrics import classification_report\n",
        "\n",
        "# Print out the classification report\n",
        "print(classification_report(\n",
        "    truths, predictions))"
      ],
      "metadata": {
        "id": "T2uJ67CZ5t6b"
      },
      "execution_count": null,
      "outputs": []
    },
    {
      "cell_type": "markdown",
      "source": [
        "## RNN-based NER model\n",
        "\n",
        "ในส่วนนี้เราจะเรียนรู้จากตัวอย่างโค้ดจาก\n",
        "https://notebook.community/sameersingh/uci-statnlp/tutorials/rnn_examples\n",
        "\n",
        "โดยจะลองรันชุดข้อมูลภาษาอังกฤษก่อน และลอง ปรับชุดข้อมูลเป็นภาษาไทย (LST20)"
      ],
      "metadata": {
        "id": "ifOm5ABa6vk7"
      }
    },
    {
      "cell_type": "code",
      "source": [
        "!wget https://raw.githubusercontent.com/foxik/UD_English/master/en-ud-dev.conllu\n",
        "!wget https://raw.githubusercontent.com/foxik/UD_English/master/en-ud-test.conllu\n",
        "!wget https://raw.githubusercontent.com/foxik/UD_English/master/en-ud-train.conllu"
      ],
      "metadata": {
        "colab": {
          "base_uri": "https://localhost:8080/"
        },
        "id": "pRw0mg6K6vEs",
        "outputId": "011ca4fd-0c8c-4e6f-d08b-edf2a76ba0b6"
      },
      "execution_count": null,
      "outputs": [
        {
          "output_type": "stream",
          "name": "stdout",
          "text": [
            "--2024-01-26 07:44:49--  https://raw.githubusercontent.com/foxik/UD_English/master/en-ud-dev.conllu\n",
            "Resolving raw.githubusercontent.com (raw.githubusercontent.com)... 185.199.111.133, 185.199.110.133, 185.199.109.133, ...\n",
            "Connecting to raw.githubusercontent.com (raw.githubusercontent.com)|185.199.111.133|:443... connected.\n",
            "HTTP request sent, awaiting response... 200 OK\n",
            "Length: 1191722 (1.1M) [text/plain]\n",
            "Saving to: ‘en-ud-dev.conllu’\n",
            "\n",
            "\ren-ud-dev.conllu      0%[                    ]       0  --.-KB/s               \ren-ud-dev.conllu    100%[===================>]   1.14M  --.-KB/s    in 0.03s   \n",
            "\n",
            "2024-01-26 07:44:49 (35.1 MB/s) - ‘en-ud-dev.conllu’ saved [1191722/1191722]\n",
            "\n",
            "--2024-01-26 07:44:49--  https://raw.githubusercontent.com/foxik/UD_English/master/en-ud-test.conllu\n",
            "Resolving raw.githubusercontent.com (raw.githubusercontent.com)... 185.199.108.133, 185.199.109.133, 185.199.110.133, ...\n",
            "Connecting to raw.githubusercontent.com (raw.githubusercontent.com)|185.199.108.133|:443... connected.\n",
            "HTTP request sent, awaiting response... 200 OK\n",
            "Length: 1183830 (1.1M) [text/plain]\n",
            "Saving to: ‘en-ud-test.conllu’\n",
            "\n",
            "en-ud-test.conllu   100%[===================>]   1.13M  --.-KB/s    in 0.04s   \n",
            "\n",
            "2024-01-26 07:44:50 (28.1 MB/s) - ‘en-ud-test.conllu’ saved [1183830/1183830]\n",
            "\n",
            "--2024-01-26 07:44:50--  https://raw.githubusercontent.com/foxik/UD_English/master/en-ud-train.conllu\n",
            "Resolving raw.githubusercontent.com (raw.githubusercontent.com)... 185.199.108.133, 185.199.109.133, 185.199.110.133, ...\n",
            "Connecting to raw.githubusercontent.com (raw.githubusercontent.com)|185.199.108.133|:443... connected.\n",
            "HTTP request sent, awaiting response... 200 OK\n",
            "Length: 9720040 (9.3M) [text/plain]\n",
            "Saving to: ‘en-ud-train.conllu’\n",
            "\n",
            "en-ud-train.conllu  100%[===================>]   9.27M  --.-KB/s    in 0.05s   \n",
            "\n",
            "2024-01-26 07:44:50 (177 MB/s) - ‘en-ud-train.conllu’ saved [9720040/9720040]\n",
            "\n"
          ]
        }
      ]
    },
    {
      "cell_type": "code",
      "source": [
        "!head -n 5 en-ud-dev.conllu"
      ],
      "metadata": {
        "colab": {
          "base_uri": "https://localhost:8080/"
        },
        "id": "WGH1CrEMsHTp",
        "outputId": "a37e2e03-7eb1-4e0e-ba95-582d65e9ba53"
      },
      "execution_count": null,
      "outputs": [
        {
          "output_type": "stream",
          "name": "stdout",
          "text": [
            "head: cannot open 'en-ud-dev.conllu' for reading: No such file or directory\n"
          ]
        }
      ]
    },
    {
      "cell_type": "code",
      "source": [
        "#โค้ดส่วนนี้จะใช้สำหรับแปลง คำ ให้เป็น id\n",
        "\n",
        "from collections import Counter\n",
        "\n",
        "class Vocab(object):\n",
        "    def __init__(self, iter, max_size=None, sos_token=None, eos_token=None, unk_token=None):\n",
        "        \"\"\"Initialize the vocabulary.\n",
        "        Args:\n",
        "            iter: An iterable which produces sequences of tokens used to update\n",
        "                the vocabulary.\n",
        "            max_size: (Optional) Maximum number of tokens in the vocabulary.\n",
        "            sos_token: (Optional) Token denoting the start of a sequence.\n",
        "            eos_token: (Optional) Token denoting the end of a sequence.\n",
        "            unk_token: (Optional) Token denoting an unknown element in a\n",
        "                sequence.\n",
        "        \"\"\"\n",
        "        self.max_size = max_size\n",
        "        self.pad_token = '<pad>'\n",
        "        self.sos_token = sos_token\n",
        "        self.eos_token = eos_token\n",
        "        self.unk_token = unk_token\n",
        "\n",
        "        # Add special tokens.\n",
        "        id2word = [self.pad_token]\n",
        "        if sos_token is not None:\n",
        "            id2word.append(self.sos_token)\n",
        "        if eos_token is not None:\n",
        "            id2word.append(self.eos_token)\n",
        "        if unk_token is not None:\n",
        "            id2word.append(self.unk_token)\n",
        "\n",
        "        # Update counter with token counts.\n",
        "        counter = Counter()\n",
        "        for x in iter:\n",
        "            counter.update(x)\n",
        "\n",
        "        # Extract lookup tables.\n",
        "        if max_size is not None:\n",
        "            counts = counter.most_common(max_size)\n",
        "        else:\n",
        "            counts = counter.items()\n",
        "            counts = sorted(counts, key=lambda x: x[1], reverse=True)\n",
        "        words = [x[0] for x in counts]\n",
        "        id2word.extend(words)\n",
        "        word2id = {x: i for i, x in enumerate(id2word)}\n",
        "\n",
        "        self._id2word = id2word\n",
        "        self._word2id = word2id\n",
        "\n",
        "    def __len__(self):\n",
        "        return len(self._id2word)\n",
        "\n",
        "    def word2id(self, word):\n",
        "        \"\"\"Map a word in the vocabulary to its unique integer id.\n",
        "        Args:\n",
        "            word: Word to lookup.\n",
        "        Returns:\n",
        "            id: The integer id of the word being looked up.\n",
        "        \"\"\"\n",
        "        if word in self._word2id:\n",
        "            return self._word2id[word]\n",
        "        elif self.unk_token is not None:\n",
        "            return self._word2id[self.unk_token]\n",
        "        else:\n",
        "            raise KeyError('Word \"%s\" not in vocabulary.' % word)\n",
        "\n",
        "    def id2word(self, id):\n",
        "        \"\"\"Map an integer id to its corresponding word in the vocabulary.\n",
        "        Args:\n",
        "            id: Integer id of the word being looked up.\n",
        "        Returns:\n",
        "            word: The corresponding word.\n",
        "        \"\"\"\n",
        "        return self._id2word[id]"
      ],
      "metadata": {
        "id": "FNPdkp_2sN6f"
      },
      "execution_count": null,
      "outputs": []
    },
    {
      "cell_type": "code",
      "source": [
        "import re\n",
        "from torch.utils.data import Dataset\n",
        "\n",
        "\n",
        "class Annotation(object):\n",
        "    def __init__(self):\n",
        "        \"\"\"A helper object for storing annotation data.\"\"\"\n",
        "        self.tokens = []\n",
        "        self.tags = []\n",
        "\n",
        "\n",
        "class CoNLLDataset(Dataset):\n",
        "    def __init__(self, fname):\n",
        "        \"\"\"Initializes the CoNLLDataset.\n",
        "        Args:\n",
        "            fname: The .conllu file to load data from.\n",
        "        \"\"\"\n",
        "        self.fname = fname\n",
        "        self.annotations = self.process_conll_file(fname)\n",
        "        self.token_vocab = Vocab([x.tokens for x in self.annotations],\n",
        "                                 unk_token='<unk>')\n",
        "        self.pos_vocab = Vocab([x.tags for x in self.annotations],unk_token='<unk>')\n",
        "\n",
        "    def __len__(self):\n",
        "        return len(self.annotations)\n",
        "\n",
        "    def __getitem__(self, idx):\n",
        "        annotation = self.annotations[idx]\n",
        "        input = [self.token_vocab.word2id(x) for x in annotation.tokens]\n",
        "        target = [self.pos_vocab.word2id(x) for x in annotation.tags]\n",
        "        return input, target\n",
        "\n",
        "    def process_conll_file(self, fname):\n",
        "        # Read the entire file.\n",
        "        with open(fname, 'r') as f:\n",
        "            raw_text = f.read()\n",
        "        # Split into chunks on blank lines.\n",
        "        chunks = re.split(r'^\\n', raw_text, flags=re.MULTILINE)\n",
        "        # Process each chunk into an annotation.\n",
        "        annotations = []\n",
        "        for chunk in chunks:\n",
        "            annotation = Annotation()\n",
        "            lines = chunk.split('\\n')\n",
        "            # Iterate over all lines in the chunk.\n",
        "            for line in lines:\n",
        "                # If line is empty ignore it.\n",
        "                if len(line)==0:\n",
        "                    continue\n",
        "                # If line is a commend ignore it.\n",
        "                if line[0] == '#':\n",
        "                    continue\n",
        "                # Otherwise split on tabs and retrieve the token and the\n",
        "                # POS tag fields.\n",
        "                fields = line.split('\\t')\n",
        "                annotation.tokens.append(fields[1])  #<------ input ของโมเดล\n",
        "                annotation.tags.append(fields[3])    #<------ output ของโมเดล อยากให้ทำนายอะไร\n",
        "\n",
        "            if (len(annotation.tokens) > 0) and (len(annotation.tags) > 0):\n",
        "                annotations.append(annotation)\n",
        "        return annotations"
      ],
      "metadata": {
        "id": "cmlOjYq0sRdf"
      },
      "execution_count": null,
      "outputs": []
    },
    {
      "cell_type": "code",
      "source": [
        "dataset = CoNLLDataset('en-ud-train.conllu')"
      ],
      "metadata": {
        "id": "sMMttXsRs4o_"
      },
      "execution_count": null,
      "outputs": []
    },
    {
      "cell_type": "code",
      "source": [
        "#ลองดูหน้าตาของข้อมูล\n",
        "\n",
        "input, target = dataset[0]\n",
        "print('Example input: %s\\n' % input)\n",
        "print('Example target: %s\\n' % target)\n",
        "print('Translated input: %s\\n' % ' '.join(dataset.token_vocab.id2word(x) for x in input))\n",
        "print('Translated target: %s\\n' % ' '.join(dataset.pos_vocab.id2word(x) for x in target))"
      ],
      "metadata": {
        "colab": {
          "base_uri": "https://localhost:8080/"
        },
        "id": "E8uyOv1Ls7si",
        "outputId": "b0484fa0-b250-4d9d-9bb4-6d1c51371cf9"
      },
      "execution_count": null,
      "outputs": [
        {
          "output_type": "stream",
          "name": "stdout",
          "text": [
            "Example input: [262, 16, 5139, 45, 289, 689, 1123, 4138, 9863, 582, 16, 9864, 4, 3, 6722, 35, 3, 6723, 10, 3, 486, 8, 6724, 4, 740, 3, 2174, 1569, 2]\n",
            "\n",
            "Example target: [7, 3, 7, 3, 8, 1, 2, 7, 7, 7, 3, 7, 3, 5, 1, 4, 5, 1, 4, 5, 1, 4, 7, 3, 4, 5, 8, 1, 3]\n",
            "\n",
            "Translated input: Al - Zaman : American forces killed Shaikh Abdullah al - Ani , the preacher at the mosque in the town of Qaim , near the Syrian border .\n",
            "\n",
            "Translated target: PROPN PUNCT PROPN PUNCT ADJ NOUN VERB PROPN PROPN PROPN PUNCT PROPN PUNCT DET NOUN ADP DET NOUN ADP DET NOUN ADP PROPN PUNCT ADP DET ADJ NOUN PUNCT\n",
            "\n"
          ]
        }
      ]
    },
    {
      "cell_type": "markdown",
      "source": [],
      "metadata": {
        "id": "9jU8Bh5q1-pE"
      }
    },
    {
      "cell_type": "code",
      "source": [
        "import torch\n",
        "from torch.autograd import Variable\n",
        "\n",
        "\n",
        "def pad(sequences, max_length, pad_value=0):\n",
        "    \"\"\"Pads a list of sequences.\n",
        "    Args:\n",
        "        sequences: A list of sequences to be padded.\n",
        "        max_length: The length to pad to.\n",
        "        pad_value: The value used for padding.\n",
        "    Returns:\n",
        "        A list of padded sequences.\n",
        "    \"\"\"\n",
        "    out = []\n",
        "    for sequence in sequences:\n",
        "        padded = sequence + [0]*(max_length - len(sequence))\n",
        "        out.append(padded)\n",
        "    return out\n",
        "\n",
        "\n",
        "def collate_annotations(batch):\n",
        "    \"\"\"Function used to collate data returned by CoNLLDataset.\"\"\"\n",
        "    # Get inputs, targets, and lengths.\n",
        "    inputs, targets = zip(*batch)\n",
        "    lengths = [len(x) for x in inputs]\n",
        "    # Sort by length.\n",
        "    sort = sorted(zip(inputs, targets, lengths),\n",
        "                  key=lambda x: x[2],\n",
        "                  reverse=True)\n",
        "    inputs, targets, lengths = zip(*sort)\n",
        "    # Pad.\n",
        "    max_length = max(lengths)\n",
        "    inputs = pad(inputs, max_length)\n",
        "    targets = pad(targets, max_length)\n",
        "    # Transpose.\n",
        "    inputs = list(map(list, zip(*inputs)))\n",
        "    targets = list(map(list, zip(*targets)))\n",
        "    # Convert to PyTorch variables.\n",
        "    inputs = Variable(torch.LongTensor(inputs))\n",
        "    targets = Variable(torch.LongTensor(targets))\n",
        "    lengths = Variable(torch.LongTensor(lengths))\n",
        "    if torch.cuda.is_available():\n",
        "        inputs = inputs.cuda()\n",
        "        targets = targets.cuda()\n",
        "        lengths = lengths.cuda()\n",
        "    return inputs, targets, lengths"
      ],
      "metadata": {
        "id": "cDp-DyG318uU"
      },
      "execution_count": null,
      "outputs": []
    },
    {
      "cell_type": "code",
      "source": [
        "from torch.utils.data import DataLoader\n",
        "\n",
        "\n",
        "for inputs, targets, lengths in DataLoader(dataset, batch_size=16, collate_fn=collate_annotations):\n",
        "    print(inputs.shape)\n",
        "    print(targets.data.shape)\n",
        "    print(lengths.data.shape)\n",
        "\n",
        "    # Usually we'd keep sampling batches, but here we'll just break\n",
        "    break"
      ],
      "metadata": {
        "colab": {
          "base_uri": "https://localhost:8080/"
        },
        "id": "UyflYeq_2JvW",
        "outputId": "76323734-07fe-4b6d-f149-190855b7820d"
      },
      "execution_count": null,
      "outputs": [
        {
          "output_type": "stream",
          "name": "stdout",
          "text": [
            "torch.Size([36, 16])\n",
            "torch.Size([36, 16])\n",
            "torch.Size([16])\n"
          ]
        }
      ]
    },
    {
      "cell_type": "code",
      "source": [
        "from torch import nn\n",
        "from torch.nn.utils.rnn import pack_padded_sequence, pad_packed_sequence\n",
        "\n",
        "class Tagger(nn.Module):\n",
        "    def __init__(self,\n",
        "                 input_vocab_size,\n",
        "                 output_vocab_size,\n",
        "                 embedding_dim=64,\n",
        "                 hidden_size=64,\n",
        "                 bidirectional=True,num_layers=2):\n",
        "        \"\"\"Initializes the tagger.\n",
        "\n",
        "        Args:\n",
        "            input_vocab_size: Size of the input vocabulary.\n",
        "            output_vocab_size: Size of the output vocabulary.\n",
        "            embedding_dim: Dimension of the word embeddings.\n",
        "            hidden_size: Number of units in each LSTM hidden layer.\n",
        "            bidirectional: Whether or not to use a bidirectional rnn.\n",
        "        \"\"\"\n",
        "        # Always do this!!!\n",
        "        super(Tagger, self).__init__()\n",
        "\n",
        "        # Store parameters\n",
        "        self.input_vocab_size = input_vocab_size\n",
        "        self.output_vocab_size = output_vocab_size\n",
        "        self.embedding_dim = embedding_dim\n",
        "        self.hidden_size = hidden_size\n",
        "        self.bidirectional = bidirectional\n",
        "        self.num_layers = num_layers\n",
        "        # Define layers\n",
        "        self.word_embeddings = nn.Embedding(input_vocab_size, embedding_dim,\n",
        "                                            padding_idx=0)\n",
        "        self.rnn = nn.GRU(embedding_dim, hidden_size,\n",
        "                          bidirectional=bidirectional,num_layers=num_layers,\n",
        "                          dropout=0.9)\n",
        "        if bidirectional:\n",
        "            self.fc = nn.Linear(2*hidden_size, output_vocab_size)\n",
        "        else:\n",
        "            self.fc = nn.Linear(hidden_size, output_vocab_size)\n",
        "        self.activation = nn.LogSoftmax(dim=2)\n",
        "\n",
        "    def forward(self, x, lengths=None, hidden=None):\n",
        "        \"\"\"Computes a forward pass of the language model.\n",
        "\n",
        "        Args:\n",
        "            x: A LongTensor w/ dimension [seq_len, batch_size].\n",
        "            lengths: The lengths of the sequences in x.\n",
        "            hidden: Hidden state to be fed into the lstm.\n",
        "\n",
        "        Returns:\n",
        "            net: Probability of the next word in the sequence.\n",
        "            hidden: Hidden state of the lstm.\n",
        "        \"\"\"\n",
        "        seq_len, batch_size = x.size()\n",
        "\n",
        "        # If no hidden state is provided, then default to zeros.\n",
        "        if hidden is None:\n",
        "            if self.bidirectional:\n",
        "                num_directions = 2\n",
        "            else:\n",
        "                num_directions = 1\n",
        "            hidden = Variable(torch.zeros(num_directions*self.num_layers, batch_size, self.hidden_size))\n",
        "            if torch.cuda.is_available():\n",
        "                hidden = hidden.cuda()\n",
        "\n",
        "        net = self.word_embeddings(x)\n",
        "        # Pack before feeding into the RNN.\n",
        "        if lengths is not None:\n",
        "            lengths = lengths.data.view(-1).tolist()\n",
        "            net = pack_padded_sequence(net, lengths)\n",
        "        net, hidden = self.rnn(net, hidden)\n",
        "        # Unpack after\n",
        "        if lengths is not None:\n",
        "            net, _ = pad_packed_sequence(net)\n",
        "        net = self.fc(net)\n",
        "        net = self.activation(net)\n",
        "\n",
        "        return net, hidden"
      ],
      "metadata": {
        "id": "BknpDBAN2Nsu"
      },
      "execution_count": null,
      "outputs": []
    },
    {
      "cell_type": "code",
      "source": [
        "import numpy as np\n",
        "\n",
        "# Load datasets.\n",
        "train_dataset = CoNLLDataset('en-ud-train.conllu')\n",
        "dev_dataset = CoNLLDataset('en-ud-dev.conllu')\n",
        "\n",
        "dev_dataset.token_vocab = train_dataset.token_vocab\n",
        "dev_dataset.pos_vocab = train_dataset.pos_vocab\n",
        "\n",
        "# Hyperparameters / constants.\n",
        "input_vocab_size = len(train_dataset.token_vocab)\n",
        "output_vocab_size = len(train_dataset.pos_vocab)\n",
        "batch_size = 16\n",
        "epochs = 5"
      ],
      "metadata": {
        "id": "D5cUu6k-3c3v"
      },
      "execution_count": null,
      "outputs": []
    },
    {
      "cell_type": "code",
      "source": [
        "print(input_vocab_size,output_vocab_size)"
      ],
      "metadata": {
        "colab": {
          "base_uri": "https://localhost:8080/"
        },
        "id": "YgqiXMkYxR-X",
        "outputId": "70a2ff71-6ea8-4485-eb7e-188406c0edb1"
      },
      "execution_count": null,
      "outputs": [
        {
          "output_type": "stream",
          "name": "stdout",
          "text": [
            "19654 18\n"
          ]
        }
      ]
    },
    {
      "cell_type": "code",
      "source": [
        "# Initialize the model.\n",
        "model = Tagger(input_vocab_size, output_vocab_size)\n",
        "if torch.cuda.is_available():\n",
        "    model = model.cuda()\n",
        "\n",
        "# Loss function weights.\n",
        "weight = torch.ones(output_vocab_size)\n",
        "weight[0] = 0\n",
        "if torch.cuda.is_available():\n",
        "    weight = weight.cuda()\n",
        "\n",
        "# Initialize loss function and optimizer.\n",
        "loss_function = torch.nn.NLLLoss(weight)\n",
        "optimizer = torch.optim.Adam(model.parameters())\n",
        "\n",
        "# Main training loop.\n",
        "data_loader = DataLoader(train_dataset, batch_size=batch_size, shuffle=True,\n",
        "                         collate_fn=collate_annotations)\n",
        "dev_loader = DataLoader(dev_dataset, batch_size=batch_size, shuffle=False,\n",
        "                        collate_fn=collate_annotations)\n",
        "losses = []\n",
        "i = 0\n",
        "min_losses = float('inf')\n",
        "from tqdm import tqdm\n",
        "for epoch in range(epochs):\n",
        "    #print('epoch',epoch)\n",
        "    for inputs, targets, lengths in tqdm(data_loader):\n",
        "        optimizer.zero_grad()\n",
        "        outputs, _ = model(inputs, lengths=lengths)\n",
        "\n",
        "        outputs = outputs.view(-1, output_vocab_size)\n",
        "        targets = targets.view(-1)\n",
        "\n",
        "        loss = loss_function(outputs, targets)\n",
        "        loss.backward()\n",
        "        optimizer.step()\n",
        "\n",
        "        losses.append(loss.item())\n",
        "        if (i % 1) == 0:\n",
        "            # Compute dev loss over entire dev set.\n",
        "            # NOTE: This is expensive. In your work you may want to only use a\n",
        "            # subset of the dev set.\n",
        "            dev_losses = []\n",
        "            for inputs, targets, lengths in dev_loader:\n",
        "                outputs, _ = model(inputs, lengths=lengths)\n",
        "                outputs = outputs.view(-1, output_vocab_size)\n",
        "                targets = targets.view(-1)\n",
        "                loss = loss_function(outputs, targets)\n",
        "                dev_losses.append(loss.item())\n",
        "            avg_train_loss = np.mean(losses)\n",
        "            avg_dev_loss = np.mean(dev_losses)\n",
        "            losses = []\n",
        "            #print('Iteration %i - Train Loss: %0.6f - Dev Loss: %0.6f' % (i, avg_train_loss, avg_dev_loss), end='\\r')\n",
        "\n",
        "            #เพิ่มโค้ด เพื่อให้บันทึกโมเดลรอบที่ loss ต่ำสุด\n",
        "            print(avg_dev_loss)\n",
        "            if avg_dev_loss < min_losses:\n",
        "              torch.save(model, 'pos_tragger_best.pt')\n",
        "              min_losses = avg_dev_loss\n",
        "\n",
        "            torch.save(model, 'pos_tagger.pt')\n",
        "        i += 1\n",
        "\n",
        "torch.save(model, 'pos_tagger.final.pt')"
      ],
      "metadata": {
        "colab": {
          "base_uri": "https://localhost:8080/",
          "height": 407
        },
        "id": "-BBH5Bna2jFu",
        "outputId": "340e9eb3-bcf1-49ad-d716-bde42f14bcd7"
      },
      "execution_count": null,
      "outputs": [
        {
          "output_type": "stream",
          "name": "stderr",
          "text": [
            "  0%|          | 0/6 [00:00<?, ?it/s]\n"
          ]
        },
        {
          "output_type": "error",
          "ename": "KeyError",
          "evalue": "'Word \"B_COMMENT_NEG\" not in vocabulary.'",
          "traceback": [
            "\u001b[0;31m---------------------------------------------------------------------------\u001b[0m",
            "\u001b[0;31mKeyError\u001b[0m                                  Traceback (most recent call last)",
            "\u001b[0;32m<ipython-input-87-f87ff4663bfe>\u001b[0m in \u001b[0;36m<cell line: 25>\u001b[0;34m()\u001b[0m\n\u001b[1;32m     42\u001b[0m             \u001b[0;31m# subset of the dev set.\u001b[0m\u001b[0;34m\u001b[0m\u001b[0;34m\u001b[0m\u001b[0m\n\u001b[1;32m     43\u001b[0m             \u001b[0mdev_losses\u001b[0m \u001b[0;34m=\u001b[0m \u001b[0;34m[\u001b[0m\u001b[0;34m]\u001b[0m\u001b[0;34m\u001b[0m\u001b[0;34m\u001b[0m\u001b[0m\n\u001b[0;32m---> 44\u001b[0;31m             \u001b[0;32mfor\u001b[0m \u001b[0minputs\u001b[0m\u001b[0;34m,\u001b[0m \u001b[0mtargets\u001b[0m\u001b[0;34m,\u001b[0m \u001b[0mlengths\u001b[0m \u001b[0;32min\u001b[0m \u001b[0mdev_loader\u001b[0m\u001b[0;34m:\u001b[0m\u001b[0;34m\u001b[0m\u001b[0;34m\u001b[0m\u001b[0m\n\u001b[0m\u001b[1;32m     45\u001b[0m                 \u001b[0moutputs\u001b[0m\u001b[0;34m,\u001b[0m \u001b[0m_\u001b[0m \u001b[0;34m=\u001b[0m \u001b[0mmodel\u001b[0m\u001b[0;34m(\u001b[0m\u001b[0minputs\u001b[0m\u001b[0;34m,\u001b[0m \u001b[0mlengths\u001b[0m\u001b[0;34m=\u001b[0m\u001b[0mlengths\u001b[0m\u001b[0;34m)\u001b[0m\u001b[0;34m\u001b[0m\u001b[0;34m\u001b[0m\u001b[0m\n\u001b[1;32m     46\u001b[0m                 \u001b[0moutputs\u001b[0m \u001b[0;34m=\u001b[0m \u001b[0moutputs\u001b[0m\u001b[0;34m.\u001b[0m\u001b[0mview\u001b[0m\u001b[0;34m(\u001b[0m\u001b[0;34m-\u001b[0m\u001b[0;36m1\u001b[0m\u001b[0;34m,\u001b[0m \u001b[0moutput_vocab_size\u001b[0m\u001b[0;34m)\u001b[0m\u001b[0;34m\u001b[0m\u001b[0;34m\u001b[0m\u001b[0m\n",
            "\u001b[0;32m/usr/local/lib/python3.10/dist-packages/torch/utils/data/dataloader.py\u001b[0m in \u001b[0;36m__next__\u001b[0;34m(self)\u001b[0m\n\u001b[1;32m    628\u001b[0m                 \u001b[0;31m# TODO(https://github.com/pytorch/pytorch/issues/76750)\u001b[0m\u001b[0;34m\u001b[0m\u001b[0;34m\u001b[0m\u001b[0m\n\u001b[1;32m    629\u001b[0m                 \u001b[0mself\u001b[0m\u001b[0;34m.\u001b[0m\u001b[0m_reset\u001b[0m\u001b[0;34m(\u001b[0m\u001b[0;34m)\u001b[0m  \u001b[0;31m# type: ignore[call-arg]\u001b[0m\u001b[0;34m\u001b[0m\u001b[0;34m\u001b[0m\u001b[0m\n\u001b[0;32m--> 630\u001b[0;31m             \u001b[0mdata\u001b[0m \u001b[0;34m=\u001b[0m \u001b[0mself\u001b[0m\u001b[0;34m.\u001b[0m\u001b[0m_next_data\u001b[0m\u001b[0;34m(\u001b[0m\u001b[0;34m)\u001b[0m\u001b[0;34m\u001b[0m\u001b[0;34m\u001b[0m\u001b[0m\n\u001b[0m\u001b[1;32m    631\u001b[0m             \u001b[0mself\u001b[0m\u001b[0;34m.\u001b[0m\u001b[0m_num_yielded\u001b[0m \u001b[0;34m+=\u001b[0m \u001b[0;36m1\u001b[0m\u001b[0;34m\u001b[0m\u001b[0;34m\u001b[0m\u001b[0m\n\u001b[1;32m    632\u001b[0m             \u001b[0;32mif\u001b[0m \u001b[0mself\u001b[0m\u001b[0;34m.\u001b[0m\u001b[0m_dataset_kind\u001b[0m \u001b[0;34m==\u001b[0m \u001b[0m_DatasetKind\u001b[0m\u001b[0;34m.\u001b[0m\u001b[0mIterable\u001b[0m \u001b[0;32mand\u001b[0m\u001b[0;31m \u001b[0m\u001b[0;31m\\\u001b[0m\u001b[0;34m\u001b[0m\u001b[0;34m\u001b[0m\u001b[0m\n",
            "\u001b[0;32m/usr/local/lib/python3.10/dist-packages/torch/utils/data/dataloader.py\u001b[0m in \u001b[0;36m_next_data\u001b[0;34m(self)\u001b[0m\n\u001b[1;32m    672\u001b[0m     \u001b[0;32mdef\u001b[0m \u001b[0m_next_data\u001b[0m\u001b[0;34m(\u001b[0m\u001b[0mself\u001b[0m\u001b[0;34m)\u001b[0m\u001b[0;34m:\u001b[0m\u001b[0;34m\u001b[0m\u001b[0;34m\u001b[0m\u001b[0m\n\u001b[1;32m    673\u001b[0m         \u001b[0mindex\u001b[0m \u001b[0;34m=\u001b[0m \u001b[0mself\u001b[0m\u001b[0;34m.\u001b[0m\u001b[0m_next_index\u001b[0m\u001b[0;34m(\u001b[0m\u001b[0;34m)\u001b[0m  \u001b[0;31m# may raise StopIteration\u001b[0m\u001b[0;34m\u001b[0m\u001b[0;34m\u001b[0m\u001b[0m\n\u001b[0;32m--> 674\u001b[0;31m         \u001b[0mdata\u001b[0m \u001b[0;34m=\u001b[0m \u001b[0mself\u001b[0m\u001b[0;34m.\u001b[0m\u001b[0m_dataset_fetcher\u001b[0m\u001b[0;34m.\u001b[0m\u001b[0mfetch\u001b[0m\u001b[0;34m(\u001b[0m\u001b[0mindex\u001b[0m\u001b[0;34m)\u001b[0m  \u001b[0;31m# may raise StopIteration\u001b[0m\u001b[0;34m\u001b[0m\u001b[0;34m\u001b[0m\u001b[0m\n\u001b[0m\u001b[1;32m    675\u001b[0m         \u001b[0;32mif\u001b[0m \u001b[0mself\u001b[0m\u001b[0;34m.\u001b[0m\u001b[0m_pin_memory\u001b[0m\u001b[0;34m:\u001b[0m\u001b[0;34m\u001b[0m\u001b[0;34m\u001b[0m\u001b[0m\n\u001b[1;32m    676\u001b[0m             \u001b[0mdata\u001b[0m \u001b[0;34m=\u001b[0m \u001b[0m_utils\u001b[0m\u001b[0;34m.\u001b[0m\u001b[0mpin_memory\u001b[0m\u001b[0;34m.\u001b[0m\u001b[0mpin_memory\u001b[0m\u001b[0;34m(\u001b[0m\u001b[0mdata\u001b[0m\u001b[0;34m,\u001b[0m \u001b[0mself\u001b[0m\u001b[0;34m.\u001b[0m\u001b[0m_pin_memory_device\u001b[0m\u001b[0;34m)\u001b[0m\u001b[0;34m\u001b[0m\u001b[0;34m\u001b[0m\u001b[0m\n",
            "\u001b[0;32m/usr/local/lib/python3.10/dist-packages/torch/utils/data/_utils/fetch.py\u001b[0m in \u001b[0;36mfetch\u001b[0;34m(self, possibly_batched_index)\u001b[0m\n\u001b[1;32m     49\u001b[0m                 \u001b[0mdata\u001b[0m \u001b[0;34m=\u001b[0m \u001b[0mself\u001b[0m\u001b[0;34m.\u001b[0m\u001b[0mdataset\u001b[0m\u001b[0;34m.\u001b[0m\u001b[0m__getitems__\u001b[0m\u001b[0;34m(\u001b[0m\u001b[0mpossibly_batched_index\u001b[0m\u001b[0;34m)\u001b[0m\u001b[0;34m\u001b[0m\u001b[0;34m\u001b[0m\u001b[0m\n\u001b[1;32m     50\u001b[0m             \u001b[0;32melse\u001b[0m\u001b[0;34m:\u001b[0m\u001b[0;34m\u001b[0m\u001b[0;34m\u001b[0m\u001b[0m\n\u001b[0;32m---> 51\u001b[0;31m                 \u001b[0mdata\u001b[0m \u001b[0;34m=\u001b[0m \u001b[0;34m[\u001b[0m\u001b[0mself\u001b[0m\u001b[0;34m.\u001b[0m\u001b[0mdataset\u001b[0m\u001b[0;34m[\u001b[0m\u001b[0midx\u001b[0m\u001b[0;34m]\u001b[0m \u001b[0;32mfor\u001b[0m \u001b[0midx\u001b[0m \u001b[0;32min\u001b[0m \u001b[0mpossibly_batched_index\u001b[0m\u001b[0;34m]\u001b[0m\u001b[0;34m\u001b[0m\u001b[0;34m\u001b[0m\u001b[0m\n\u001b[0m\u001b[1;32m     52\u001b[0m         \u001b[0;32melse\u001b[0m\u001b[0;34m:\u001b[0m\u001b[0;34m\u001b[0m\u001b[0;34m\u001b[0m\u001b[0m\n\u001b[1;32m     53\u001b[0m             \u001b[0mdata\u001b[0m \u001b[0;34m=\u001b[0m \u001b[0mself\u001b[0m\u001b[0;34m.\u001b[0m\u001b[0mdataset\u001b[0m\u001b[0;34m[\u001b[0m\u001b[0mpossibly_batched_index\u001b[0m\u001b[0;34m]\u001b[0m\u001b[0;34m\u001b[0m\u001b[0;34m\u001b[0m\u001b[0m\n",
            "\u001b[0;32m/usr/local/lib/python3.10/dist-packages/torch/utils/data/_utils/fetch.py\u001b[0m in \u001b[0;36m<listcomp>\u001b[0;34m(.0)\u001b[0m\n\u001b[1;32m     49\u001b[0m                 \u001b[0mdata\u001b[0m \u001b[0;34m=\u001b[0m \u001b[0mself\u001b[0m\u001b[0;34m.\u001b[0m\u001b[0mdataset\u001b[0m\u001b[0;34m.\u001b[0m\u001b[0m__getitems__\u001b[0m\u001b[0;34m(\u001b[0m\u001b[0mpossibly_batched_index\u001b[0m\u001b[0;34m)\u001b[0m\u001b[0;34m\u001b[0m\u001b[0;34m\u001b[0m\u001b[0m\n\u001b[1;32m     50\u001b[0m             \u001b[0;32melse\u001b[0m\u001b[0;34m:\u001b[0m\u001b[0;34m\u001b[0m\u001b[0;34m\u001b[0m\u001b[0m\n\u001b[0;32m---> 51\u001b[0;31m                 \u001b[0mdata\u001b[0m \u001b[0;34m=\u001b[0m \u001b[0;34m[\u001b[0m\u001b[0mself\u001b[0m\u001b[0;34m.\u001b[0m\u001b[0mdataset\u001b[0m\u001b[0;34m[\u001b[0m\u001b[0midx\u001b[0m\u001b[0;34m]\u001b[0m \u001b[0;32mfor\u001b[0m \u001b[0midx\u001b[0m \u001b[0;32min\u001b[0m \u001b[0mpossibly_batched_index\u001b[0m\u001b[0;34m]\u001b[0m\u001b[0;34m\u001b[0m\u001b[0;34m\u001b[0m\u001b[0m\n\u001b[0m\u001b[1;32m     52\u001b[0m         \u001b[0;32melse\u001b[0m\u001b[0;34m:\u001b[0m\u001b[0;34m\u001b[0m\u001b[0;34m\u001b[0m\u001b[0m\n\u001b[1;32m     53\u001b[0m             \u001b[0mdata\u001b[0m \u001b[0;34m=\u001b[0m \u001b[0mself\u001b[0m\u001b[0;34m.\u001b[0m\u001b[0mdataset\u001b[0m\u001b[0;34m[\u001b[0m\u001b[0mpossibly_batched_index\u001b[0m\u001b[0;34m]\u001b[0m\u001b[0;34m\u001b[0m\u001b[0;34m\u001b[0m\u001b[0m\n",
            "\u001b[0;32m<ipython-input-83-3a453f62f303>\u001b[0m in \u001b[0;36m__getitem__\u001b[0;34m(self, idx)\u001b[0m\n\u001b[1;32m     28\u001b[0m         \u001b[0mannotation\u001b[0m \u001b[0;34m=\u001b[0m \u001b[0mself\u001b[0m\u001b[0;34m.\u001b[0m\u001b[0mannotations\u001b[0m\u001b[0;34m[\u001b[0m\u001b[0midx\u001b[0m\u001b[0;34m]\u001b[0m\u001b[0;34m\u001b[0m\u001b[0;34m\u001b[0m\u001b[0m\n\u001b[1;32m     29\u001b[0m         \u001b[0minput\u001b[0m \u001b[0;34m=\u001b[0m \u001b[0;34m[\u001b[0m\u001b[0mself\u001b[0m\u001b[0;34m.\u001b[0m\u001b[0mtoken_vocab\u001b[0m\u001b[0;34m.\u001b[0m\u001b[0mword2id\u001b[0m\u001b[0;34m(\u001b[0m\u001b[0mx\u001b[0m\u001b[0;34m)\u001b[0m \u001b[0;32mfor\u001b[0m \u001b[0mx\u001b[0m \u001b[0;32min\u001b[0m \u001b[0mannotation\u001b[0m\u001b[0;34m.\u001b[0m\u001b[0mtokens\u001b[0m\u001b[0;34m]\u001b[0m\u001b[0;34m\u001b[0m\u001b[0;34m\u001b[0m\u001b[0m\n\u001b[0;32m---> 30\u001b[0;31m         \u001b[0mtarget\u001b[0m \u001b[0;34m=\u001b[0m \u001b[0;34m[\u001b[0m\u001b[0mself\u001b[0m\u001b[0;34m.\u001b[0m\u001b[0mpos_vocab\u001b[0m\u001b[0;34m.\u001b[0m\u001b[0mword2id\u001b[0m\u001b[0;34m(\u001b[0m\u001b[0mx\u001b[0m\u001b[0;34m)\u001b[0m \u001b[0;32mfor\u001b[0m \u001b[0mx\u001b[0m \u001b[0;32min\u001b[0m \u001b[0mannotation\u001b[0m\u001b[0;34m.\u001b[0m\u001b[0mtags\u001b[0m\u001b[0;34m]\u001b[0m\u001b[0;34m\u001b[0m\u001b[0;34m\u001b[0m\u001b[0m\n\u001b[0m\u001b[1;32m     31\u001b[0m         \u001b[0;32mreturn\u001b[0m \u001b[0minput\u001b[0m\u001b[0;34m,\u001b[0m \u001b[0mtarget\u001b[0m\u001b[0;34m\u001b[0m\u001b[0;34m\u001b[0m\u001b[0m\n\u001b[1;32m     32\u001b[0m \u001b[0;34m\u001b[0m\u001b[0m\n",
            "\u001b[0;32m<ipython-input-83-3a453f62f303>\u001b[0m in \u001b[0;36m<listcomp>\u001b[0;34m(.0)\u001b[0m\n\u001b[1;32m     28\u001b[0m         \u001b[0mannotation\u001b[0m \u001b[0;34m=\u001b[0m \u001b[0mself\u001b[0m\u001b[0;34m.\u001b[0m\u001b[0mannotations\u001b[0m\u001b[0;34m[\u001b[0m\u001b[0midx\u001b[0m\u001b[0;34m]\u001b[0m\u001b[0;34m\u001b[0m\u001b[0;34m\u001b[0m\u001b[0m\n\u001b[1;32m     29\u001b[0m         \u001b[0minput\u001b[0m \u001b[0;34m=\u001b[0m \u001b[0;34m[\u001b[0m\u001b[0mself\u001b[0m\u001b[0;34m.\u001b[0m\u001b[0mtoken_vocab\u001b[0m\u001b[0;34m.\u001b[0m\u001b[0mword2id\u001b[0m\u001b[0;34m(\u001b[0m\u001b[0mx\u001b[0m\u001b[0;34m)\u001b[0m \u001b[0;32mfor\u001b[0m \u001b[0mx\u001b[0m \u001b[0;32min\u001b[0m \u001b[0mannotation\u001b[0m\u001b[0;34m.\u001b[0m\u001b[0mtokens\u001b[0m\u001b[0;34m]\u001b[0m\u001b[0;34m\u001b[0m\u001b[0;34m\u001b[0m\u001b[0m\n\u001b[0;32m---> 30\u001b[0;31m         \u001b[0mtarget\u001b[0m \u001b[0;34m=\u001b[0m \u001b[0;34m[\u001b[0m\u001b[0mself\u001b[0m\u001b[0;34m.\u001b[0m\u001b[0mpos_vocab\u001b[0m\u001b[0;34m.\u001b[0m\u001b[0mword2id\u001b[0m\u001b[0;34m(\u001b[0m\u001b[0mx\u001b[0m\u001b[0;34m)\u001b[0m \u001b[0;32mfor\u001b[0m \u001b[0mx\u001b[0m \u001b[0;32min\u001b[0m \u001b[0mannotation\u001b[0m\u001b[0;34m.\u001b[0m\u001b[0mtags\u001b[0m\u001b[0;34m]\u001b[0m\u001b[0;34m\u001b[0m\u001b[0;34m\u001b[0m\u001b[0m\n\u001b[0m\u001b[1;32m     31\u001b[0m         \u001b[0;32mreturn\u001b[0m \u001b[0minput\u001b[0m\u001b[0;34m,\u001b[0m \u001b[0mtarget\u001b[0m\u001b[0;34m\u001b[0m\u001b[0;34m\u001b[0m\u001b[0m\n\u001b[1;32m     32\u001b[0m \u001b[0;34m\u001b[0m\u001b[0m\n",
            "\u001b[0;32m<ipython-input-3-a5bc64efe0ac>\u001b[0m in \u001b[0;36mword2id\u001b[0;34m(self, word)\u001b[0m\n\u001b[1;32m     63\u001b[0m             \u001b[0;32mreturn\u001b[0m \u001b[0mself\u001b[0m\u001b[0;34m.\u001b[0m\u001b[0m_word2id\u001b[0m\u001b[0;34m[\u001b[0m\u001b[0mself\u001b[0m\u001b[0;34m.\u001b[0m\u001b[0munk_token\u001b[0m\u001b[0;34m]\u001b[0m\u001b[0;34m\u001b[0m\u001b[0;34m\u001b[0m\u001b[0m\n\u001b[1;32m     64\u001b[0m         \u001b[0;32melse\u001b[0m\u001b[0;34m:\u001b[0m\u001b[0;34m\u001b[0m\u001b[0;34m\u001b[0m\u001b[0m\n\u001b[0;32m---> 65\u001b[0;31m             \u001b[0;32mraise\u001b[0m \u001b[0mKeyError\u001b[0m\u001b[0;34m(\u001b[0m\u001b[0;34m'Word \"%s\" not in vocabulary.'\u001b[0m \u001b[0;34m%\u001b[0m \u001b[0mword\u001b[0m\u001b[0;34m)\u001b[0m\u001b[0;34m\u001b[0m\u001b[0;34m\u001b[0m\u001b[0m\n\u001b[0m\u001b[1;32m     66\u001b[0m \u001b[0;34m\u001b[0m\u001b[0m\n\u001b[1;32m     67\u001b[0m     \u001b[0;32mdef\u001b[0m \u001b[0mid2word\u001b[0m\u001b[0;34m(\u001b[0m\u001b[0mself\u001b[0m\u001b[0;34m,\u001b[0m \u001b[0mid\u001b[0m\u001b[0;34m)\u001b[0m\u001b[0;34m:\u001b[0m\u001b[0;34m\u001b[0m\u001b[0;34m\u001b[0m\u001b[0m\n",
            "\u001b[0;31mKeyError\u001b[0m: 'Word \"B_COMMENT_NEG\" not in vocabulary.'"
          ]
        }
      ]
    },
    {
      "cell_type": "code",
      "source": [],
      "metadata": {
        "id": "MZuFKsk23LTH"
      },
      "execution_count": null,
      "outputs": []
    },
    {
      "cell_type": "markdown",
      "source": [
        "### Model Evaluation"
      ],
      "metadata": {
        "id": "-K5vlDfI26yC"
      }
    },
    {
      "cell_type": "code",
      "source": [],
      "metadata": {
        "id": "2qs_DTsK1Of3"
      },
      "execution_count": null,
      "outputs": []
    },
    {
      "cell_type": "code",
      "source": [
        "state_dict = torch.load('pos_tagger.pt', map_location=torch.device('cpu'))\n",
        "\n",
        "#create model for inference\n",
        "model = Tagger(input_vocab_size, output_vocab_size)\n",
        "model.load_state_dict(state_dict.state_dict())\n",
        "model.eval()"
      ],
      "metadata": {
        "id": "j8O-JD4IHJXU"
      },
      "execution_count": null,
      "outputs": []
    },
    {
      "cell_type": "code",
      "source": [
        "print(model)"
      ],
      "metadata": {
        "id": "qaJystaq1cfm"
      },
      "execution_count": null,
      "outputs": []
    },
    {
      "cell_type": "code",
      "source": [
        "model.cuda()"
      ],
      "metadata": {
        "id": "FtUb9KxN15vo"
      },
      "execution_count": null,
      "outputs": []
    },
    {
      "cell_type": "code",
      "source": [
        "y_true = []\n",
        "y_pred = []\n",
        "\n",
        "for inputs, targets, lengths in test_loader:\n",
        "    outputs, _ = model(inputs, lengths=lengths)\n",
        "    _, preds = torch.max(outputs, dim=2)\n",
        "    targets = targets.view(-1)\n",
        "    preds = preds.view(-1)\n",
        "    if torch.cuda.is_available():\n",
        "        targets = targets.cpu()\n",
        "        preds = preds.cpu()\n",
        "    y_true.append(targets.data.numpy())\n",
        "    y_pred.append(preds.data.numpy())\n",
        "\n",
        "# Stack into numpy arrays\n",
        "y_true = np.concatenate(y_true)\n",
        "y_pred = np.concatenate(y_pred)\n",
        "\n",
        "# Compute accuracy\n",
        "acc = np.mean(y_true[y_true != 0] == y_pred[y_true != 0])\n",
        "print('Accuracy - %0.6f\\n' % acc)\n",
        "\n",
        "# Evaluate f1-score\n",
        "from sklearn.metrics import f1_score\n",
        "score = f1_score(y_true, y_pred, average=None)\n",
        "print('F1-scores:\\n')\n",
        "for label, score in zip(dev_dataset.pos_vocab._id2word[1:], score[1:]):\n",
        "    print('%s - %0.6f' % (label, score))"
      ],
      "metadata": {
        "id": "VcB9W39P25uk",
        "colab": {
          "base_uri": "https://localhost:8080/"
        },
        "outputId": "b9e16e25-0e30-4d48-9116-270c17b6bbd5"
      },
      "execution_count": null,
      "outputs": [
        {
          "output_type": "stream",
          "name": "stdout",
          "text": [
            "Accuracy - 0.303151\n",
            "\n",
            "F1-scores:\n",
            "\n",
            "<unk> - 0.482930\n",
            "O - 0.162791\n",
            "I_PRODUCTQUALITY_POS - 0.008230\n",
            "I_APPEARANCE_POS - 0.000000\n",
            "I_DELIVERYTIME_POS - 0.000000\n",
            "I_PRODUCTQUALITY_NEG - 0.027397\n",
            "I_PACKAGING_POS - 0.000000\n",
            "I_STORESERVICE_POS - 0.000000\n",
            "I_PRICE_POS - 0.000000\n",
            "I_DELIVERYSERVICE_POS - 0.000000\n",
            "I_PACKAGING_NEG - 0.000000\n",
            "I_APPEARANCE_NEG - 0.000000\n",
            "B_PRODUCTQUALITY_POS - 0.000000\n",
            "I_STORESERVICE_NEG - 0.000000\n",
            "B_DELIVERYTIME_POS - 0.000000\n",
            "B_APPEARANCE_POS - 0.000000\n",
            "I_DELIVERYTIME_NEG - 0.000000\n",
            "I_DELIVERYSERVICE_NEG - 0.000000\n",
            "B_PRICE_POS - 0.000000\n",
            "B_PRODUCTQUALITY_NEG - 0.000000\n",
            "B_PACKAGING_POS - 0.000000\n",
            "I_IMPRESSED_NEG - 0.000000\n",
            "B_STORESERVICE_POS - 0.000000\n",
            "B_DELIVERYSERVICE_POS - 0.000000\n",
            "B_APPEARANCE_NEG - 0.000000\n",
            "I_IMPRESSED_POS - 0.000000\n",
            "I_PRICE_NEG - 0.000000\n",
            "B_STORESERVICE_NEG - 0.000000\n",
            "I_DELIVERY_SERVICE_NEG - 0.000000\n",
            "B_PACKAGING_NEG - 0.000000\n",
            "I_DELIVERY_SERVICE_POS - 0.000000\n",
            "B_DELIVERYTIME_NEG - 0.000000\n",
            "B_DELIVERYSERVICE_NEG - 0.000000\n",
            "I_PROMOTION_POS - 0.000000\n",
            "I_FEEL_POS - 0.000000\n",
            "I_PRICEPRODUCT_POS - 0.000000\n",
            "B_IMPRESSED_NEG - 0.000000\n",
            "B_IMPRESSED_POS - 0.000000\n",
            "I_DISCOUNT_POS - 0.000000\n"
          ]
        }
      ]
    },
    {
      "cell_type": "markdown",
      "source": [
        "# Assignment\n",
        "\n",
        "1) ให้สร้างแบบจำลองสำหรับทำ Aspect sentiment Analysis จากข้อมูลที่นีกศึกษาช่วยกันรวมตั้งแต่ต้นเทอม\n",
        "Aspect sentiment Analysis เป็นการกำกับว่าช่วงไหนของข้อความที่่เกี่ยวข้องกับประเด็นต่างๆ เช่น ราคาสินค้า การจัดส่ง เป็นต้น โดนนักศึกษาจะต้องสร้างโมเดลดังนี้\n",
        "\n",
        "  **Model 1:** GRU 128*1L\n",
        "\n",
        "  **Model 2:** GRU 128*3L\n",
        "\n",
        "\n",
        "\n",
        "\n",
        "2) ให้ทำการวัดผลแสดงค่า Precision Recall F1-score แล้วทำการอภิปรายผลลัพธ์\n"
      ],
      "metadata": {
        "id": "PUA3JnWWO5Pd"
      }
    },
    {
      "cell_type": "markdown",
      "source": [
        "### Data Preparation"
      ],
      "metadata": {
        "id": "9L2jGnBT2_X3"
      }
    },
    {
      "cell_type": "code",
      "source": [
        "#https://drive.google.com/file/d/1Ee6pfAaleE3NOZA4lB96-gI7Rh9ngzFc/view?usp=sharing\n",
        "!gdown 1Ee6pfAaleE3NOZA4lB96-gI7Rh9ngzFc\n",
        "#https://drive.google.com/file/d/1-H8wHcD54QjFlHsOZnW9Ad7rB3-87Cb3/view?usp=sharing\n",
        "!gdown 1-H8wHcD54QjFlHsOZnW9Ad7rB3-87Cb3\n",
        "\n",
        "#https://drive.google.com/file/d/1-Awk_LoTYD4rrclerMFBogbC8jH6GPU-/view?usp=sharing\n",
        "!gdown 1-Awk_LoTYD4rrclerMFBogbC8jH6GPU-"
      ],
      "metadata": {
        "colab": {
          "base_uri": "https://localhost:8080/"
        },
        "id": "OI5HiaHR2-yU",
        "outputId": "4cb22318-8582-49e8-94f4-dc1030457d34"
      },
      "execution_count": null,
      "outputs": [
        {
          "output_type": "stream",
          "name": "stdout",
          "text": [
            "Downloading...\n",
            "From: https://drive.google.com/uc?id=1Ee6pfAaleE3NOZA4lB96-gI7Rh9ngzFc\n",
            "To: /content/train.txt\n",
            "100% 297k/297k [00:00<00:00, 3.79MB/s]\n",
            "Downloading...\n",
            "From: https://drive.google.com/uc?id=1-H8wHcD54QjFlHsOZnW9Ad7rB3-87Cb3\n",
            "To: /content/test.txt\n",
            "100% 36.0k/36.0k [00:00<00:00, 93.5MB/s]\n",
            "Downloading...\n",
            "From: https://drive.google.com/uc?id=1-Awk_LoTYD4rrclerMFBogbC8jH6GPU-\n",
            "To: /content/valid.txt\n",
            "100% 37.3k/37.3k [00:00<00:00, 79.4MB/s]\n"
          ]
        }
      ]
    },
    {
      "cell_type": "markdown",
      "source": [
        "### Create Dataset in CoNLL format"
      ],
      "metadata": {
        "id": "Wrnb4VZmHtn0"
      }
    },
    {
      "cell_type": "code",
      "source": [
        "def write_conll_file(sentences, file_path):\n",
        "    with open(file_path, 'w', encoding='utf-8') as file:\n",
        "        for sentence in sentences:\n",
        "            for word, label in sentence:\n",
        "                file.write(f\"{word}\\t{label}\\n\")\n",
        "            file.write('\\n')"
      ],
      "metadata": {
        "id": "2kJp2HeVJni8"
      },
      "execution_count": null,
      "outputs": []
    },
    {
      "cell_type": "code",
      "source": [
        "!pip install pythainlp"
      ],
      "metadata": {
        "colab": {
          "base_uri": "https://localhost:8080/"
        },
        "id": "Dh9oRoCSKQ3a",
        "outputId": "f8165646-ec28-49af-95c3-3b5016379340"
      },
      "execution_count": null,
      "outputs": [
        {
          "output_type": "stream",
          "name": "stdout",
          "text": [
            "Requirement already satisfied: pythainlp in /usr/local/lib/python3.10/dist-packages (4.0.2)\n",
            "Requirement already satisfied: requests>=2.22.0 in /usr/local/lib/python3.10/dist-packages (from pythainlp) (2.31.0)\n",
            "Requirement already satisfied: charset-normalizer<4,>=2 in /usr/local/lib/python3.10/dist-packages (from requests>=2.22.0->pythainlp) (3.3.2)\n",
            "Requirement already satisfied: idna<4,>=2.5 in /usr/local/lib/python3.10/dist-packages (from requests>=2.22.0->pythainlp) (3.6)\n",
            "Requirement already satisfied: urllib3<3,>=1.21.1 in /usr/local/lib/python3.10/dist-packages (from requests>=2.22.0->pythainlp) (2.0.7)\n",
            "Requirement already satisfied: certifi>=2017.4.17 in /usr/local/lib/python3.10/dist-packages (from requests>=2.22.0->pythainlp) (2023.11.17)\n"
          ]
        }
      ]
    },
    {
      "cell_type": "code",
      "source": [
        "from pythainlp.tokenize import word_tokenize\n",
        "import re\n",
        "\n",
        "def parse_data(input_file,output_file):\n",
        "    sentences = []\n",
        "    current_sentence = []\n",
        "\n",
        "    with open(input_file, 'r', encoding='utf-8') as file:\n",
        "        for line in file:\n",
        "            line = line.strip()\n",
        "            if not line:  # Empty line indicates the end of a sentence\n",
        "                if current_sentence:\n",
        "                    sentences.append(current_sentence)\n",
        "                    current_sentence = []\n",
        "            else:\n",
        "                parts = line.strip().split('\\t')\n",
        "                if len(parts) >= 2:  # Ensure the line has at least two columns (word and label)\n",
        "                    word = word_tokenize(parts[0])\n",
        "                    if parts[1]=='O':\n",
        "                      label = [\"O\"]*len(word)\n",
        "                    else:\n",
        "                      label = [\"I_\"+parts[1]]*len(word)\n",
        "                    if label[0]!='O':\n",
        "                      label[0] = 'B_'+parts[1]\n",
        "\n",
        "                    for w,label in zip(word,label):\n",
        "                      current_sentence.append([w.strip() if w.strip()!='' else '_', label])\n",
        "\n",
        "\n",
        "    if current_sentence:\n",
        "        sentences.append(current_sentence)\n",
        "\n",
        "    write_conll_file(sentences, output_file)\n",
        "    #print(sentences[0])\n"
      ],
      "metadata": {
        "id": "poqka8OIGPVz"
      },
      "execution_count": null,
      "outputs": []
    },
    {
      "cell_type": "code",
      "source": [
        "parse_data('train.txt','train.conllu')\n",
        "parse_data('test.txt','test.conllu')\n",
        "parse_data('valid.txt','valid.conllu')"
      ],
      "metadata": {
        "id": "hxe1F_TSPVQQ"
      },
      "execution_count": null,
      "outputs": []
    },
    {
      "cell_type": "code",
      "source": [
        "!head -n 100 'train.conllu'\n",
        "!head -n 100 'test.conllu'\n",
        "!head -n 100 'valid.conllu'"
      ],
      "metadata": {
        "id": "NZMOjjqcQJPu"
      },
      "execution_count": null,
      "outputs": []
    },
    {
      "cell_type": "code",
      "source": [
        "import re\n",
        "from torch.utils.data import Dataset\n",
        "\n",
        "\n",
        "class Annotation(object):\n",
        "    def __init__(self):\n",
        "        \"\"\"A helper object for storing annotation data.\"\"\"\n",
        "        self.tokens = []\n",
        "        self.tags = []\n",
        "\n",
        "\n",
        "class CoNLLDataset(Dataset):\n",
        "    def __init__(self, fname):\n",
        "        \"\"\"Initializes the CoNLLDataset.\n",
        "        Args:\n",
        "            fname: The .conllu file to load data from.\n",
        "        \"\"\"\n",
        "        self.fname = fname\n",
        "        self.annotations = self.process_conll_file(fname)\n",
        "        self.token_vocab = Vocab([x.tokens for x in self.annotations],\n",
        "                                 unk_token='<unk>')\n",
        "        self.pos_vocab = Vocab([x.tags for x in self.annotations],\n",
        "                               unk_token='<unk>')\n",
        "\n",
        "    def __len__(self):\n",
        "        return len(self.annotations)\n",
        "\n",
        "    def __getitem__(self, idx):\n",
        "        annotation = self.annotations[idx]\n",
        "        input = [self.token_vocab.word2id(x) for x in annotation.tokens]\n",
        "        target = [self.pos_vocab.word2id(x) for x in annotation.tags]\n",
        "        return input, target\n",
        "\n",
        "    def process_conll_file(self, fname):\n",
        "        # Read the entire file.\n",
        "        with open(fname, 'r') as f:\n",
        "            raw_text = f.read()\n",
        "        # Split into chunks on blank lines.\n",
        "        chunks = re.split(r'^\\n', raw_text, flags=re.MULTILINE)\n",
        "        # Process each chunk into an annotation.\n",
        "        annotations = []\n",
        "        for chunk in chunks:\n",
        "            annotation = Annotation()\n",
        "            lines = chunk.split('\\n')\n",
        "            # Iterate over all lines in the chunk.\n",
        "            for line in lines:\n",
        "                # If line is empty ignore it.\n",
        "                if len(line)==0:\n",
        "                    continue\n",
        "                # If line is a commend ignore it.\n",
        "                if line[0] == '#':\n",
        "                    continue\n",
        "                # Otherwise split on tabs and retrieve the token and the\n",
        "                # POS tag fields.\n",
        "                fields = line.split('\\t')\n",
        "                annotation.tokens.append(fields[0])  #<------ input ของโมเดล\n",
        "                annotation.tags.append(fields[1])    #<------ output ของโมเดล อยากให้ทำนายอะไร\n",
        "\n",
        "            if (len(annotation.tokens) > 0) and (len(annotation.tags) > 0):\n",
        "                annotations.append(annotation)\n",
        "        return annotations"
      ],
      "metadata": {
        "id": "PrhWLanh86PC"
      },
      "execution_count": null,
      "outputs": []
    },
    {
      "cell_type": "code",
      "source": [
        "import numpy as np\n",
        "\n",
        "# Load datasets.\n",
        "train_dataset = CoNLLDataset('train.conllu')\n",
        "dev_dataset = CoNLLDataset('valid.conllu')\n",
        "test_dataset = CoNLLDataset('test.conllu')\n",
        "\n",
        "dev_dataset.token_vocab = train_dataset.token_vocab\n",
        "dev_dataset.pos_vocab = train_dataset.pos_vocab\n",
        "\n",
        "test_dataset.token_vocab = train_dataset.token_vocab\n",
        "test_dataset.pos_vocab = train_dataset.pos_vocab\n",
        "\n",
        "# Hyperparameters / constants.\n",
        "input_vocab_size = len(train_dataset.token_vocab)\n",
        "output_vocab_size = len(train_dataset.pos_vocab)\n",
        "batch_size = 128\n",
        "epochs = 100"
      ],
      "metadata": {
        "id": "2JXLkWDG5Wsg"
      },
      "execution_count": null,
      "outputs": []
    },
    {
      "cell_type": "code",
      "source": [
        "# Initialize the model.\n",
        "model = Tagger(input_vocab_size, output_vocab_size,num_layers=1,hidden_size=128)\n",
        "if torch.cuda.is_available():\n",
        "    model = model.cuda()\n",
        "\n",
        "# Loss function weights.\n",
        "weight = torch.ones(output_vocab_size)\n",
        "weight[0] = 0\n",
        "if torch.cuda.is_available():\n",
        "    weight = weight.cuda()\n",
        "\n",
        "# Initialize loss function and optimizer.\n",
        "loss_function = torch.nn.NLLLoss(weight)\n",
        "optimizer = torch.optim.Adam(model.parameters())\n",
        "\n",
        "# Main training loop.\n",
        "data_loader = DataLoader(train_dataset, batch_size=batch_size, shuffle=True,\n",
        "                         collate_fn=collate_annotations)\n",
        "dev_loader = DataLoader(dev_dataset, batch_size=batch_size, shuffle=False,\n",
        "                        collate_fn=collate_annotations)\n",
        "\n",
        "test_loader = DataLoader(train_dataset, batch_size=batch_size, shuffle=True,\n",
        "                         collate_fn=collate_annotations)\n",
        "test_loader = DataLoader(dev_dataset, batch_size=batch_size, shuffle=False,\n",
        "                        collate_fn=collate_annotations)\n",
        "\n",
        "\n",
        "losses = []\n",
        "i = 0\n",
        "min_losses = float('inf')\n",
        "from tqdm import tqdm\n",
        "for epoch in range(epochs):\n",
        "    print('epoch',epoch)\n",
        "    for inputs, targets, lengths in tqdm(data_loader):\n",
        "        optimizer.zero_grad()\n",
        "        outputs, _ = model(inputs, lengths=lengths)\n",
        "\n",
        "        outputs = outputs.view(-1, output_vocab_size)\n",
        "        targets = targets.view(-1)\n",
        "\n",
        "        loss = loss_function(outputs, targets)\n",
        "        loss.backward()\n",
        "        optimizer.step()\n",
        "\n",
        "        losses.append(loss.item())\n",
        "        if (i % 1) == 0:\n",
        "            # Compute dev loss over entire dev set.\n",
        "            # NOTE: This is expensive. In your work you may want to only use a\n",
        "            # subset of the dev set.\n",
        "            dev_losses = []\n",
        "            for inputs, targets, lengths in dev_loader:\n",
        "                outputs, _ = model(inputs, lengths=lengths)\n",
        "                outputs = outputs.view(-1, output_vocab_size)\n",
        "                targets = targets.view(-1)\n",
        "                loss = loss_function(outputs, targets)\n",
        "                dev_losses.append(loss.item())\n",
        "            avg_train_loss = np.mean(losses)\n",
        "            avg_dev_loss = np.mean(dev_losses)\n",
        "            losses = []\n",
        "            print('Iteration %i - Train Loss: %0.6f - Dev Loss: %0.6f' % (i, avg_train_loss, avg_dev_loss), end='\\r')\n",
        "\n",
        "            #เพิ่มโค้ด เพื่อให้บันทึกโมเดลรอบที่ loss ต่ำสุด\n",
        "            print(avg_dev_loss)\n",
        "            if avg_dev_loss < min_losses:\n",
        "              torch.save(model, 'pos_tragger_best.pt')\n",
        "              min_losses = avg_dev_loss\n",
        "\n",
        "            torch.save(model, 'pos_tagger.pt')\n",
        "        i += 1\n",
        "\n",
        "torch.save(model, 'pos_tagger.final.pt')"
      ],
      "metadata": {
        "colab": {
          "base_uri": "https://localhost:8080/"
        },
        "id": "QIKftU4A45A5",
        "outputId": "618576a0-262a-4505-fbbe-27b81b45bba1"
      },
      "execution_count": null,
      "outputs": [
        {
          "output_type": "stream",
          "name": "stderr",
          "text": [
            "/usr/local/lib/python3.10/dist-packages/torch/nn/modules/rnn.py:82: UserWarning: dropout option adds dropout after all but last recurrent layer, so non-zero dropout expects num_layers greater than 1, but got dropout=0.9 and num_layers=1\n",
            "  warnings.warn(\"dropout option adds dropout after all but last \"\n"
          ]
        },
        {
          "output_type": "stream",
          "name": "stdout",
          "text": [
            "epoch 0\n"
          ]
        },
        {
          "output_type": "stream",
          "name": "stderr",
          "text": [
            " 17%|█▋        | 1/6 [00:00<00:00,  8.83it/s]"
          ]
        },
        {
          "output_type": "stream",
          "name": "stdout",
          "text": [
            "Iteration 0 - Train Loss: 4.241901 - Dev Loss: 4.186506\r4.186506271362305\n",
            "Iteration 1 - Train Loss: 4.195524 - Dev Loss: 4.139052\r4.139051914215088\n"
          ]
        },
        {
          "output_type": "stream",
          "name": "stderr",
          "text": [
            "\r 50%|█████     | 3/6 [00:00<00:00, 12.78it/s]"
          ]
        },
        {
          "output_type": "stream",
          "name": "stdout",
          "text": [
            "Iteration 2 - Train Loss: 4.144992 - Dev Loss: 4.089890\r4.0898895263671875\n",
            "Iteration 3 - Train Loss: 4.081098 - Dev Loss: 4.038158\r4.038157939910889\n"
          ]
        },
        {
          "output_type": "stream",
          "name": "stderr",
          "text": [
            "100%|██████████| 6/6 [00:00<00:00, 14.48it/s]\n"
          ]
        },
        {
          "output_type": "stream",
          "name": "stdout",
          "text": [
            "Iteration 4 - Train Loss: 4.016846 - Dev Loss: 3.982014\r3.9820144176483154\n",
            "Iteration 5 - Train Loss: 3.995559 - Dev Loss: 3.921343\r3.9213430881500244\n",
            "epoch 1\n"
          ]
        },
        {
          "output_type": "stream",
          "name": "stderr",
          "text": [
            " 33%|███▎      | 2/6 [00:00<00:00, 18.96it/s]"
          ]
        },
        {
          "output_type": "stream",
          "name": "stdout",
          "text": [
            "Iteration 6 - Train Loss: 3.903325 - Dev Loss: 3.853628\r3.853628158569336\n",
            "Iteration 7 - Train Loss: 3.848583 - Dev Loss: 3.777931\r3.777930974960327\n"
          ]
        },
        {
          "output_type": "stream",
          "name": "stderr",
          "text": [
            "\r 67%|██████▋   | 4/6 [00:00<00:00, 17.96it/s]"
          ]
        },
        {
          "output_type": "stream",
          "name": "stdout",
          "text": [
            "Iteration 8 - Train Loss: 3.695705 - Dev Loss: 3.693419\r3.6934187412261963\n",
            "Iteration 9 - Train Loss: 3.625823 - Dev Loss: 3.598234\r3.598233699798584\n"
          ]
        },
        {
          "output_type": "stream",
          "name": "stderr",
          "text": [
            "\r100%|██████████| 6/6 [00:00<00:00, 19.02it/s]\n"
          ]
        },
        {
          "output_type": "stream",
          "name": "stdout",
          "text": [
            "Iteration 10 - Train Loss: 3.616507 - Dev Loss: 3.492487\r3.4924869537353516\n",
            "Iteration 11 - Train Loss: 3.275523 - Dev Loss: 3.377482\r3.377481698989868\n",
            "epoch 2\n"
          ]
        },
        {
          "output_type": "stream",
          "name": "stderr",
          "text": [
            " 33%|███▎      | 2/6 [00:00<00:00, 17.33it/s]"
          ]
        },
        {
          "output_type": "stream",
          "name": "stdout",
          "text": [
            "Iteration 12 - Train Loss: 3.255370 - Dev Loss: 3.256435\r3.256434679031372\n",
            "Iteration 13 - Train Loss: 3.146181 - Dev Loss: 3.139228\r3.139228343963623\n"
          ]
        },
        {
          "output_type": "stream",
          "name": "stderr",
          "text": [
            "\r 67%|██████▋   | 4/6 [00:00<00:00, 16.96it/s]"
          ]
        },
        {
          "output_type": "stream",
          "name": "stdout",
          "text": [
            "Iteration 14 - Train Loss: 2.997395 - Dev Loss: 3.048404\r3.048403739929199\n",
            "Iteration 15 - Train Loss: 2.873447 - Dev Loss: 3.012134\r3.0121335983276367\n"
          ]
        },
        {
          "output_type": "stream",
          "name": "stderr",
          "text": [
            "\r100%|██████████| 6/6 [00:00<00:00, 19.39it/s]\n"
          ]
        },
        {
          "output_type": "stream",
          "name": "stdout",
          "text": [
            "Iteration 16 - Train Loss: 3.099055 - Dev Loss: 3.012192\r3.012192487716675\n",
            "Iteration 17 - Train Loss: 2.857133 - Dev Loss: 3.012199\r3.0121994018554688\n",
            "epoch 3\n"
          ]
        },
        {
          "output_type": "stream",
          "name": "stderr",
          "text": [
            "\r  0%|          | 0/6 [00:00<?, ?it/s]"
          ]
        },
        {
          "output_type": "stream",
          "name": "stdout",
          "text": [
            "Iteration 18 - Train Loss: 3.092195 - Dev Loss: 2.977021\r2.9770212173461914\n"
          ]
        },
        {
          "output_type": "stream",
          "name": "stderr",
          "text": [
            "\r 33%|███▎      | 2/6 [00:00<00:00, 19.07it/s]"
          ]
        },
        {
          "output_type": "stream",
          "name": "stdout",
          "text": [
            "Iteration 19 - Train Loss: 2.570601 - Dev Loss: 2.931334\r2.9313337802886963\n",
            "Iteration 20 - Train Loss: 2.694790 - Dev Loss: 2.885377\r2.8853769302368164\n"
          ]
        },
        {
          "output_type": "stream",
          "name": "stderr",
          "text": [
            "\r 67%|██████▋   | 4/6 [00:00<00:00, 15.56it/s]"
          ]
        },
        {
          "output_type": "stream",
          "name": "stdout",
          "text": [
            "Iteration 21 - Train Loss: 2.627712 - Dev Loss: 2.850486\r2.8504858016967773\n"
          ]
        },
        {
          "output_type": "stream",
          "name": "stderr",
          "text": [
            "100%|██████████| 6/6 [00:00<00:00, 15.13it/s]\n"
          ]
        },
        {
          "output_type": "stream",
          "name": "stdout",
          "text": [
            "Iteration 22 - Train Loss: 2.668943 - Dev Loss: 2.830505\r2.83050537109375\n",
            "Iteration 23 - Train Loss: 3.378371 - Dev Loss: 2.819605\r2.8196051120758057\n",
            "epoch 4\n"
          ]
        },
        {
          "output_type": "stream",
          "name": "stderr",
          "text": [
            "\r  0%|          | 0/6 [00:00<?, ?it/s]"
          ]
        },
        {
          "output_type": "stream",
          "name": "stdout",
          "text": [
            "Iteration 24 - Train Loss: 2.769308 - Dev Loss: 2.816340\r2.816340208053589\n"
          ]
        },
        {
          "output_type": "stream",
          "name": "stderr",
          "text": [
            "\r 33%|███▎      | 2/6 [00:00<00:00, 12.41it/s]"
          ]
        },
        {
          "output_type": "stream",
          "name": "stdout",
          "text": [
            "Iteration 25 - Train Loss: 2.780370 - Dev Loss: 2.817681\r2.817681074142456\n",
            "Iteration 26 - Train Loss: 2.701875 - Dev Loss: 2.818424\r2.8184235095977783\n"
          ]
        },
        {
          "output_type": "stream",
          "name": "stderr",
          "text": [
            "\r 67%|██████▋   | 4/6 [00:00<00:00, 12.50it/s]"
          ]
        },
        {
          "output_type": "stream",
          "name": "stdout",
          "text": [
            "Iteration 27 - Train Loss: 2.579744 - Dev Loss: 2.816756\r2.816755771636963\n"
          ]
        },
        {
          "output_type": "stream",
          "name": "stderr",
          "text": [
            "100%|██████████| 6/6 [00:00<00:00, 13.10it/s]\n"
          ]
        },
        {
          "output_type": "stream",
          "name": "stdout",
          "text": [
            "Iteration 28 - Train Loss: 2.634693 - Dev Loss: 2.812504\r2.8125038146972656\n",
            "Iteration 29 - Train Loss: 2.360667 - Dev Loss: 2.804548\r2.8045475482940674\n",
            "epoch 5\n"
          ]
        },
        {
          "output_type": "stream",
          "name": "stderr",
          "text": [
            "\r  0%|          | 0/6 [00:00<?, ?it/s]"
          ]
        },
        {
          "output_type": "stream",
          "name": "stdout",
          "text": [
            "Iteration 30 - Train Loss: 2.705409 - Dev Loss: 2.795538\r2.7955377101898193\n"
          ]
        },
        {
          "output_type": "stream",
          "name": "stderr",
          "text": [
            "\r 33%|███▎      | 2/6 [00:00<00:00, 11.95it/s]"
          ]
        },
        {
          "output_type": "stream",
          "name": "stdout",
          "text": [
            "Iteration 31 - Train Loss: 2.670284 - Dev Loss: 2.786693\r2.7866926193237305\n",
            "Iteration 32 - Train Loss: 2.532878 - Dev Loss: 2.776535\r2.7765345573425293\n"
          ]
        },
        {
          "output_type": "stream",
          "name": "stderr",
          "text": [
            "\r 67%|██████▋   | 4/6 [00:00<00:00, 11.66it/s]"
          ]
        },
        {
          "output_type": "stream",
          "name": "stdout",
          "text": [
            "Iteration 33 - Train Loss: 2.572629 - Dev Loss: 2.766653\r2.766653299331665\n"
          ]
        },
        {
          "output_type": "stream",
          "name": "stderr",
          "text": [
            "100%|██████████| 6/6 [00:00<00:00, 11.87it/s]\n"
          ]
        },
        {
          "output_type": "stream",
          "name": "stdout",
          "text": [
            "Iteration 34 - Train Loss: 2.602533 - Dev Loss: 2.759168\r2.7591683864593506\n",
            "Iteration 35 - Train Loss: 2.454958 - Dev Loss: 2.752301\r2.7523012161254883\n",
            "epoch 6\n"
          ]
        },
        {
          "output_type": "stream",
          "name": "stderr",
          "text": [
            "\r  0%|          | 0/6 [00:00<?, ?it/s]"
          ]
        },
        {
          "output_type": "stream",
          "name": "stdout",
          "text": [
            "Iteration 36 - Train Loss: 2.648247 - Dev Loss: 2.748900\r2.7488999366760254\n"
          ]
        },
        {
          "output_type": "stream",
          "name": "stderr",
          "text": [
            "\r 33%|███▎      | 2/6 [00:00<00:00, 11.71it/s]"
          ]
        },
        {
          "output_type": "stream",
          "name": "stdout",
          "text": [
            "Iteration 37 - Train Loss: 2.547726 - Dev Loss: 2.745046\r2.745046377182007\n",
            "Iteration 38 - Train Loss: 2.615038 - Dev Loss: 2.741666\r2.7416656017303467\n"
          ]
        },
        {
          "output_type": "stream",
          "name": "stderr",
          "text": [
            "\r 67%|██████▋   | 4/6 [00:00<00:00, 12.05it/s]"
          ]
        },
        {
          "output_type": "stream",
          "name": "stdout",
          "text": [
            "Iteration 39 - Train Loss: 2.367872 - Dev Loss: 2.738285\r2.7382850646972656\n"
          ]
        },
        {
          "output_type": "stream",
          "name": "stderr",
          "text": [
            "100%|██████████| 6/6 [00:00<00:00, 11.99it/s]\n"
          ]
        },
        {
          "output_type": "stream",
          "name": "stdout",
          "text": [
            "Iteration 40 - Train Loss: 2.449646 - Dev Loss: 2.733245\r2.7332451343536377\n",
            "Iteration 41 - Train Loss: 2.694315 - Dev Loss: 2.725853\r2.7258529663085938\n",
            "epoch 7\n"
          ]
        },
        {
          "output_type": "stream",
          "name": "stderr",
          "text": [
            "\r  0%|          | 0/6 [00:00<?, ?it/s]"
          ]
        },
        {
          "output_type": "stream",
          "name": "stdout",
          "text": [
            "Iteration 42 - Train Loss: 2.639991 - Dev Loss: 2.715332\r2.715331792831421\n"
          ]
        },
        {
          "output_type": "stream",
          "name": "stderr",
          "text": [
            "\r 33%|███▎      | 2/6 [00:00<00:00, 14.08it/s]"
          ]
        },
        {
          "output_type": "stream",
          "name": "stdout",
          "text": [
            "Iteration 43 - Train Loss: 2.446371 - Dev Loss: 2.704392\r2.704392433166504\n",
            "Iteration 44 - Train Loss: 2.458846 - Dev Loss: 2.692744\r2.692744255065918\n",
            "Iteration 45 - Train Loss: 2.485485 - Dev Loss: 2.681208\r2.6812078952789307\n"
          ]
        },
        {
          "output_type": "stream",
          "name": "stderr",
          "text": [
            "100%|██████████| 6/6 [00:00<00:00, 18.10it/s]"
          ]
        },
        {
          "output_type": "stream",
          "name": "stdout",
          "text": [
            "Iteration 46 - Train Loss: 2.496303 - Dev Loss: 2.670306\r2.6703062057495117\n",
            "Iteration 47 - Train Loss: 2.349955 - Dev Loss: 2.659158\r2.6591575145721436\n"
          ]
        },
        {
          "output_type": "stream",
          "name": "stderr",
          "text": [
            "\n"
          ]
        },
        {
          "output_type": "stream",
          "name": "stdout",
          "text": [
            "epoch 8\n"
          ]
        },
        {
          "output_type": "stream",
          "name": "stderr",
          "text": [
            " 33%|███▎      | 2/6 [00:00<00:00, 18.92it/s]"
          ]
        },
        {
          "output_type": "stream",
          "name": "stdout",
          "text": [
            "Iteration 48 - Train Loss: 2.454672 - Dev Loss: 2.650015\r2.650014877319336\n",
            "Iteration 49 - Train Loss: 2.350013 - Dev Loss: 2.642073\r2.642072916030884\n",
            "2.634603500366211\n",
            "2.6278913021087646\n"
          ]
        },
        {
          "output_type": "stream",
          "name": "stderr",
          "text": [
            "100%|██████████| 6/6 [00:00<00:00, 20.06it/s]\n"
          ]
        },
        {
          "output_type": "stream",
          "name": "stdout",
          "text": [
            "Iteration 52 - Train Loss: 2.561095 - Dev Loss: 2.621816\r2.6218161582946777\n",
            "Iteration 53 - Train Loss: 2.166957 - Dev Loss: 2.614723\r2.614722728729248\n",
            "epoch 9\n"
          ]
        },
        {
          "output_type": "stream",
          "name": "stderr",
          "text": [
            "\r  0%|          | 0/6 [00:00<?, ?it/s]"
          ]
        },
        {
          "output_type": "stream",
          "name": "stdout",
          "text": [
            "Iteration 54 - Train Loss: 2.544007 - Dev Loss: 2.608216\r2.6082162857055664\n",
            "Iteration 55 - Train Loss: 2.299632 - Dev Loss: 2.602048\r2.6020476818084717\n"
          ]
        },
        {
          "output_type": "stream",
          "name": "stderr",
          "text": [
            "\r 50%|█████     | 3/6 [00:00<00:00, 21.06it/s]"
          ]
        },
        {
          "output_type": "stream",
          "name": "stdout",
          "text": [
            "2.596968412399292\n",
            "2.5912857055664062\n",
            "2.5854880809783936\n"
          ]
        },
        {
          "output_type": "stream",
          "name": "stderr",
          "text": [
            "100%|██████████| 6/6 [00:00<00:00, 20.69it/s]\n"
          ]
        },
        {
          "output_type": "stream",
          "name": "stdout",
          "text": [
            "Iteration 59 - Train Loss: 2.190767 - Dev Loss: 2.579916\r2.5799155235290527\n",
            "epoch 10\n"
          ]
        },
        {
          "output_type": "stream",
          "name": "stderr",
          "text": [
            "\r  0%|          | 0/6 [00:00<?, ?it/s]"
          ]
        },
        {
          "output_type": "stream",
          "name": "stdout",
          "text": [
            "Iteration 60 - Train Loss: 2.263324 - Dev Loss: 2.574639\r2.574639081954956\n"
          ]
        },
        {
          "output_type": "stream",
          "name": "stderr",
          "text": [
            "\r 33%|███▎      | 2/6 [00:00<00:00, 17.94it/s]"
          ]
        },
        {
          "output_type": "stream",
          "name": "stdout",
          "text": [
            "Iteration 61 - Train Loss: 2.463361 - Dev Loss: 2.569374\r2.569373846054077\n",
            "Iteration 62 - Train Loss: 2.364884 - Dev Loss: 2.562841\r2.5628409385681152\n"
          ]
        },
        {
          "output_type": "stream",
          "name": "stderr",
          "text": [
            "\r 67%|██████▋   | 4/6 [00:00<00:00, 18.05it/s]"
          ]
        },
        {
          "output_type": "stream",
          "name": "stdout",
          "text": [
            "2.557138204574585\n",
            "2.5517094135284424\n"
          ]
        },
        {
          "output_type": "stream",
          "name": "stderr",
          "text": [
            "\r100%|██████████| 6/6 [00:00<00:00, 19.03it/s]\n"
          ]
        },
        {
          "output_type": "stream",
          "name": "stdout",
          "text": [
            "Iteration 65 - Train Loss: 2.281529 - Dev Loss: 2.545806\r2.545806407928467\n",
            "epoch 11\n"
          ]
        },
        {
          "output_type": "stream",
          "name": "stderr",
          "text": [
            "\r  0%|          | 0/6 [00:00<?, ?it/s]"
          ]
        },
        {
          "output_type": "stream",
          "name": "stdout",
          "text": [
            "Iteration 66 - Train Loss: 2.204427 - Dev Loss: 2.539050\r2.5390498638153076\n",
            "Iteration 67 - Train Loss: 2.472915 - Dev Loss: 2.532306\r2.5323057174682617\n"
          ]
        },
        {
          "output_type": "stream",
          "name": "stderr",
          "text": [
            "\r 33%|███▎      | 2/6 [00:00<00:00, 18.55it/s]"
          ]
        },
        {
          "output_type": "stream",
          "name": "stdout",
          "text": [
            "Iteration 68 - Train Loss: 2.279163 - Dev Loss: 2.525512\r2.5255115032196045\n"
          ]
        },
        {
          "output_type": "stream",
          "name": "stderr",
          "text": [
            "\r 67%|██████▋   | 4/6 [00:00<00:00, 18.50it/s]"
          ]
        },
        {
          "output_type": "stream",
          "name": "stdout",
          "text": [
            "Iteration 69 - Train Loss: 2.269885 - Dev Loss: 2.517898\r2.517897605895996\n"
          ]
        },
        {
          "output_type": "stream",
          "name": "stderr",
          "text": [
            "\r100%|██████████| 6/6 [00:00<00:00, 19.11it/s]\n"
          ]
        },
        {
          "output_type": "stream",
          "name": "stdout",
          "text": [
            "Iteration 70 - Train Loss: 2.214821 - Dev Loss: 2.511011\r2.5110113620758057\n",
            "Iteration 71 - Train Loss: 2.494374 - Dev Loss: 2.503466\r2.5034656524658203\n",
            "epoch 12\n"
          ]
        },
        {
          "output_type": "stream",
          "name": "stderr",
          "text": [
            "\r  0%|          | 0/6 [00:00<?, ?it/s]"
          ]
        },
        {
          "output_type": "stream",
          "name": "stdout",
          "text": [
            "Iteration 72 - Train Loss: 2.265344 - Dev Loss: 2.496686\r2.4966859817504883\n"
          ]
        },
        {
          "output_type": "stream",
          "name": "stderr",
          "text": [
            "\r 33%|███▎      | 2/6 [00:00<00:00, 19.64it/s]"
          ]
        },
        {
          "output_type": "stream",
          "name": "stdout",
          "text": [
            "Iteration 73 - Train Loss: 2.259518 - Dev Loss: 2.490053\r2.490053415298462\n",
            "Iteration 74 - Train Loss: 2.264045 - Dev Loss: 2.483351\r2.483351469039917\n"
          ]
        },
        {
          "output_type": "stream",
          "name": "stderr",
          "text": [
            "\r 67%|██████▋   | 4/6 [00:00<00:00, 18.45it/s]"
          ]
        },
        {
          "output_type": "stream",
          "name": "stdout",
          "text": [
            "Iteration 75 - Train Loss: 2.338888 - Dev Loss: 2.477719\r2.4777188301086426\n",
            "Iteration 76 - Train Loss: 2.069183 - Dev Loss: 2.472119\r2.4721193313598633\n"
          ]
        },
        {
          "output_type": "stream",
          "name": "stderr",
          "text": [
            "\r100%|██████████| 6/6 [00:00<00:00, 19.72it/s]\n"
          ]
        },
        {
          "output_type": "stream",
          "name": "stdout",
          "text": [
            "Iteration 77 - Train Loss: 2.289961 - Dev Loss: 2.465370\r2.4653701782226562\n",
            "epoch 13\n"
          ]
        },
        {
          "output_type": "stream",
          "name": "stderr",
          "text": [
            "\r  0%|          | 0/6 [00:00<?, ?it/s]"
          ]
        },
        {
          "output_type": "stream",
          "name": "stdout",
          "text": [
            "Iteration 78 - Train Loss: 2.138906 - Dev Loss: 2.458912\r2.4589121341705322\n"
          ]
        },
        {
          "output_type": "stream",
          "name": "stderr",
          "text": [
            "\r 33%|███▎      | 2/6 [00:00<00:00, 12.38it/s]"
          ]
        },
        {
          "output_type": "stream",
          "name": "stdout",
          "text": [
            "2.4534144401550293\n",
            "2.448065757751465\n"
          ]
        },
        {
          "output_type": "stream",
          "name": "stderr",
          "text": [
            "\r 67%|██████▋   | 4/6 [00:00<00:00, 12.26it/s]"
          ]
        },
        {
          "output_type": "stream",
          "name": "stdout",
          "text": [
            "2.442796230316162\n",
            "2.4370477199554443\n"
          ]
        },
        {
          "output_type": "stream",
          "name": "stderr",
          "text": [
            "100%|██████████| 6/6 [00:00<00:00, 12.75it/s]\n"
          ]
        },
        {
          "output_type": "stream",
          "name": "stdout",
          "text": [
            "Iteration 83 - Train Loss: 2.104837 - Dev Loss: 2.427071\r2.4270710945129395\n",
            "epoch 14\n"
          ]
        },
        {
          "output_type": "stream",
          "name": "stderr",
          "text": [
            "\r  0%|          | 0/6 [00:00<?, ?it/s]"
          ]
        },
        {
          "output_type": "stream",
          "name": "stdout",
          "text": [
            "Iteration 84 - Train Loss: 2.148886 - Dev Loss: 2.418486\r2.4184858798980713\n"
          ]
        },
        {
          "output_type": "stream",
          "name": "stderr",
          "text": [
            "\r 33%|███▎      | 2/6 [00:00<00:00, 14.17it/s]"
          ]
        },
        {
          "output_type": "stream",
          "name": "stdout",
          "text": [
            "2.4107377529144287\n",
            "2.4025120735168457\n"
          ]
        },
        {
          "output_type": "stream",
          "name": "stderr",
          "text": [
            "\r 67%|██████▋   | 4/6 [00:00<00:00, 13.86it/s]"
          ]
        },
        {
          "output_type": "stream",
          "name": "stdout",
          "text": [
            "2.3958041667938232\n",
            "2.390970230102539\n",
            "2.383068084716797\n"
          ]
        },
        {
          "output_type": "stream",
          "name": "stderr",
          "text": [
            "100%|██████████| 6/6 [00:00<00:00, 14.23it/s]\n"
          ]
        },
        {
          "output_type": "stream",
          "name": "stdout",
          "text": [
            "epoch 15\n"
          ]
        },
        {
          "output_type": "stream",
          "name": "stderr",
          "text": [
            "\r  0%|          | 0/6 [00:00<?, ?it/s]"
          ]
        },
        {
          "output_type": "stream",
          "name": "stdout",
          "text": [
            "Iteration 90 - Train Loss: 2.024464 - Dev Loss: 2.376602\r2.3766021728515625\n",
            "Iteration 91 - Train Loss: 2.097512 - Dev Loss: 2.371078\r2.3710777759552\n"
          ]
        },
        {
          "output_type": "stream",
          "name": "stderr",
          "text": [
            "\r 33%|███▎      | 2/6 [00:00<00:00, 14.85it/s]"
          ]
        },
        {
          "output_type": "stream",
          "name": "stdout",
          "text": [
            "Iteration 92 - Train Loss: 2.211342 - Dev Loss: 2.367589\r2.367588758468628\n"
          ]
        },
        {
          "output_type": "stream",
          "name": "stderr",
          "text": [
            "\r 67%|██████▋   | 4/6 [00:00<00:00, 13.64it/s]"
          ]
        },
        {
          "output_type": "stream",
          "name": "stdout",
          "text": [
            "Iteration 93 - Train Loss: 2.006745 - Dev Loss: 2.365387\r2.365386724472046\n",
            "Iteration 94 - Train Loss: 2.007938 - Dev Loss: 2.362408\r2.362408399581909\n"
          ]
        },
        {
          "output_type": "stream",
          "name": "stderr",
          "text": [
            "100%|██████████| 6/6 [00:00<00:00, 14.16it/s]\n"
          ]
        },
        {
          "output_type": "stream",
          "name": "stdout",
          "text": [
            "Iteration 95 - Train Loss: 2.013232 - Dev Loss: 2.358157\r2.3581573963165283\n",
            "epoch 16\n"
          ]
        },
        {
          "output_type": "stream",
          "name": "stderr",
          "text": [
            " 33%|███▎      | 2/6 [00:00<00:00, 13.60it/s]"
          ]
        },
        {
          "output_type": "stream",
          "name": "stdout",
          "text": [
            "Iteration 96 - Train Loss: 1.990707 - Dev Loss: 2.357598\r2.357597827911377\n",
            "2.358194351196289\n",
            "2.357959270477295\n"
          ]
        },
        {
          "output_type": "stream",
          "name": "stderr",
          "text": [
            "\r 67%|██████▋   | 4/6 [00:00<00:00, 13.44it/s]"
          ]
        },
        {
          "output_type": "stream",
          "name": "stdout",
          "text": [
            "Iteration 99 - Train Loss: 2.123288 - Dev Loss: 2.354392\r2.354391574859619\n",
            "Iteration 100 - Train Loss: 1.995703 - Dev Loss: 2.347687\r2.347687005996704\n"
          ]
        },
        {
          "output_type": "stream",
          "name": "stderr",
          "text": [
            "100%|██████████| 6/6 [00:00<00:00, 13.50it/s]\n"
          ]
        },
        {
          "output_type": "stream",
          "name": "stdout",
          "text": [
            "Iteration 101 - Train Loss: 1.873000 - Dev Loss: 2.336545\r2.336545467376709\n",
            "epoch 17\n"
          ]
        },
        {
          "output_type": "stream",
          "name": "stderr",
          "text": [
            " 33%|███▎      | 2/6 [00:00<00:00, 13.59it/s]"
          ]
        },
        {
          "output_type": "stream",
          "name": "stdout",
          "text": [
            "Iteration 102 - Train Loss: 1.923517 - Dev Loss: 2.328371\r2.3283708095550537\n",
            "2.3232107162475586\n",
            "2.319074869155884\n",
            "2.3164589405059814\n"
          ]
        },
        {
          "output_type": "stream",
          "name": "stderr",
          "text": [
            "100%|██████████| 6/6 [00:00<00:00, 16.68it/s]\n"
          ]
        },
        {
          "output_type": "stream",
          "name": "stdout",
          "text": [
            "Iteration 106 - Train Loss: 1.924864 - Dev Loss: 2.309744\r2.309744119644165\n",
            "Iteration 107 - Train Loss: 1.991116 - Dev Loss: 2.304487\r2.3044867515563965\n",
            "epoch 18\n"
          ]
        },
        {
          "output_type": "stream",
          "name": "stderr",
          "text": [
            " 33%|███▎      | 2/6 [00:00<00:00, 16.53it/s]"
          ]
        },
        {
          "output_type": "stream",
          "name": "stdout",
          "text": [
            "Iteration 108 - Train Loss: 1.939912 - Dev Loss: 2.302022\r2.3020215034484863\n",
            "2.298617362976074\n",
            "2.2962143421173096\n",
            "2.293989419937134\n"
          ]
        },
        {
          "output_type": "stream",
          "name": "stderr",
          "text": [
            "100%|██████████| 6/6 [00:00<00:00, 19.81it/s]\n"
          ]
        },
        {
          "output_type": "stream",
          "name": "stdout",
          "text": [
            "Iteration 112 - Train Loss: 1.858797 - Dev Loss: 2.292765\r2.2927651405334473\n",
            "Iteration 113 - Train Loss: 1.975859 - Dev Loss: 2.291342\r2.291341543197632\n",
            "epoch 19\n"
          ]
        },
        {
          "output_type": "stream",
          "name": "stderr",
          "text": [
            "\r  0%|          | 0/6 [00:00<?, ?it/s]"
          ]
        },
        {
          "output_type": "stream",
          "name": "stdout",
          "text": [
            "Iteration 114 - Train Loss: 1.805476 - Dev Loss: 2.289319\r2.289318799972534\n"
          ]
        },
        {
          "output_type": "stream",
          "name": "stderr",
          "text": [
            "\r 33%|███▎      | 2/6 [00:00<00:00, 19.62it/s]"
          ]
        },
        {
          "output_type": "stream",
          "name": "stdout",
          "text": [
            "Iteration 115 - Train Loss: 1.812892 - Dev Loss: 2.286778\r2.286777973175049\n",
            "Iteration 116 - Train Loss: 1.890247 - Dev Loss: 2.283194\r2.283194065093994\n"
          ]
        },
        {
          "output_type": "stream",
          "name": "stderr",
          "text": [
            "\r 67%|██████▋   | 4/6 [00:00<00:00, 18.57it/s]"
          ]
        },
        {
          "output_type": "stream",
          "name": "stdout",
          "text": [
            "Iteration 117 - Train Loss: 1.814762 - Dev Loss: 2.283099\r2.283099412918091\n"
          ]
        },
        {
          "output_type": "stream",
          "name": "stderr",
          "text": [
            "\r100%|██████████| 6/6 [00:00<00:00, 20.01it/s]"
          ]
        },
        {
          "output_type": "stream",
          "name": "stdout",
          "text": [
            "Iteration 118 - Train Loss: 1.961634 - Dev Loss: 2.282566\r2.2825660705566406\n",
            "Iteration 119 - Train Loss: 1.860728 - Dev Loss: 2.274647\r2.2746469974517822\n"
          ]
        },
        {
          "output_type": "stream",
          "name": "stderr",
          "text": [
            "\n"
          ]
        },
        {
          "output_type": "stream",
          "name": "stdout",
          "text": [
            "epoch 20\n"
          ]
        },
        {
          "output_type": "stream",
          "name": "stderr",
          "text": [
            "\r  0%|          | 0/6 [00:00<?, ?it/s]"
          ]
        },
        {
          "output_type": "stream",
          "name": "stdout",
          "text": [
            "Iteration 120 - Train Loss: 1.794149 - Dev Loss: 2.273997\r2.2739968299865723\n",
            "Iteration 121 - Train Loss: 1.784894 - Dev Loss: 2.276198\r2.276198148727417\n"
          ]
        },
        {
          "output_type": "stream",
          "name": "stderr",
          "text": [
            "\r 50%|█████     | 3/6 [00:00<00:00, 19.67it/s]"
          ]
        },
        {
          "output_type": "stream",
          "name": "stdout",
          "text": [
            "2.2767510414123535\n",
            "2.2882156372070312\n",
            "2.3050808906555176\n"
          ]
        },
        {
          "output_type": "stream",
          "name": "stderr",
          "text": [
            "100%|██████████| 6/6 [00:00<00:00, 21.63it/s]\n"
          ]
        },
        {
          "output_type": "stream",
          "name": "stdout",
          "text": [
            "Iteration 125 - Train Loss: 1.812910 - Dev Loss: 2.316655\r2.316655397415161\n",
            "epoch 21\n"
          ]
        },
        {
          "output_type": "stream",
          "name": "stderr",
          "text": [
            "\r  0%|          | 0/6 [00:00<?, ?it/s]"
          ]
        },
        {
          "output_type": "stream",
          "name": "stdout",
          "text": [
            "2.314967393875122\n",
            "2.3048391342163086\n"
          ]
        },
        {
          "output_type": "stream",
          "name": "stderr",
          "text": [
            "\r 50%|█████     | 3/6 [00:00<00:00, 21.72it/s]"
          ]
        },
        {
          "output_type": "stream",
          "name": "stdout",
          "text": [
            "Iteration 128 - Train Loss: 1.680076 - Dev Loss: 2.288728\r2.2887279987335205\n",
            "2.270321846008301\n",
            "2.255326986312866\n"
          ]
        },
        {
          "output_type": "stream",
          "name": "stderr",
          "text": [
            "100%|██████████| 6/6 [00:00<00:00, 19.77it/s]"
          ]
        },
        {
          "output_type": "stream",
          "name": "stdout",
          "text": [
            "Iteration 131 - Train Loss: 1.804854 - Dev Loss: 2.248332\r2.2483317852020264\n"
          ]
        },
        {
          "output_type": "stream",
          "name": "stderr",
          "text": [
            "\n"
          ]
        },
        {
          "output_type": "stream",
          "name": "stdout",
          "text": [
            "epoch 22\n"
          ]
        },
        {
          "output_type": "stream",
          "name": "stderr",
          "text": [
            " 33%|███▎      | 2/6 [00:00<00:00, 19.97it/s]"
          ]
        },
        {
          "output_type": "stream",
          "name": "stdout",
          "text": [
            "Iteration 132 - Train Loss: 1.814854 - Dev Loss: 2.246016\r2.246016025543213\n",
            "Iteration 133 - Train Loss: 1.732136 - Dev Loss: 2.244635\r2.2446353435516357\n",
            "2.2452237606048584\n",
            "2.249232769012451\n"
          ]
        },
        {
          "output_type": "stream",
          "name": "stderr",
          "text": [
            "\r 83%|████████▎ | 5/6 [00:00<00:00, 20.32it/s]"
          ]
        },
        {
          "output_type": "stream",
          "name": "stdout",
          "text": [
            "Iteration 136 - Train Loss: 1.647865 - Dev Loss: 2.254267\r2.2542669773101807\n"
          ]
        },
        {
          "output_type": "stream",
          "name": "stderr",
          "text": [
            "\r100%|██████████| 6/6 [00:00<00:00, 21.53it/s]\n"
          ]
        },
        {
          "output_type": "stream",
          "name": "stdout",
          "text": [
            "Iteration 137 - Train Loss: 1.589268 - Dev Loss: 2.260182\r2.2601816654205322\n",
            "epoch 23\n"
          ]
        },
        {
          "output_type": "stream",
          "name": "stderr",
          "text": [
            "\r  0%|          | 0/6 [00:00<?, ?it/s]"
          ]
        },
        {
          "output_type": "stream",
          "name": "stdout",
          "text": [
            "Iteration 138 - Train Loss: 1.646784 - Dev Loss: 2.265656\r2.2656564712524414\n",
            "Iteration 139 - Train Loss: 1.662089 - Dev Loss: 2.259300\r2.2592995166778564\n"
          ]
        },
        {
          "output_type": "stream",
          "name": "stderr",
          "text": [
            "\r 50%|█████     | 3/6 [00:00<00:00, 21.44it/s]"
          ]
        },
        {
          "output_type": "stream",
          "name": "stdout",
          "text": [
            "2.2498724460601807\n",
            "2.2371208667755127\n",
            "2.2258994579315186\n"
          ]
        },
        {
          "output_type": "stream",
          "name": "stderr",
          "text": [
            "100%|██████████| 6/6 [00:00<00:00, 21.13it/s]\n"
          ]
        },
        {
          "output_type": "stream",
          "name": "stdout",
          "text": [
            "Iteration 143 - Train Loss: 1.956792 - Dev Loss: 2.221601\r2.2216007709503174\n",
            "epoch 24\n"
          ]
        },
        {
          "output_type": "stream",
          "name": "stderr",
          "text": [
            "\r  0%|          | 0/6 [00:00<?, ?it/s]"
          ]
        },
        {
          "output_type": "stream",
          "name": "stdout",
          "text": [
            "Iteration 144 - Train Loss: 1.648325 - Dev Loss: 2.223970\r2.2239699363708496\n",
            "Iteration 145 - Train Loss: 1.642359 - Dev Loss: 2.221385\r2.2213847637176514\n"
          ]
        },
        {
          "output_type": "stream",
          "name": "stderr",
          "text": [
            "\r 33%|███▎      | 2/6 [00:00<00:00, 17.09it/s]"
          ]
        },
        {
          "output_type": "stream",
          "name": "stdout",
          "text": [
            "Iteration 146 - Train Loss: 1.613821 - Dev Loss: 2.219683\r2.2196831703186035\n"
          ]
        },
        {
          "output_type": "stream",
          "name": "stderr",
          "text": [
            "\r 83%|████████▎ | 5/6 [00:00<00:00, 20.43it/s]"
          ]
        },
        {
          "output_type": "stream",
          "name": "stdout",
          "text": [
            "Iteration 147 - Train Loss: 1.674632 - Dev Loss: 2.224231\r2.224231481552124\n",
            "Iteration 148 - Train Loss: 1.620729 - Dev Loss: 2.231719\r2.231719493865967\n"
          ]
        },
        {
          "output_type": "stream",
          "name": "stderr",
          "text": [
            "\r100%|██████████| 6/6 [00:00<00:00, 20.82it/s]\n"
          ]
        },
        {
          "output_type": "stream",
          "name": "stdout",
          "text": [
            "Iteration 149 - Train Loss: 1.579803 - Dev Loss: 2.238678\r2.238677501678467\n",
            "epoch 25\n"
          ]
        },
        {
          "output_type": "stream",
          "name": "stderr",
          "text": [
            "\r  0%|          | 0/6 [00:00<?, ?it/s]"
          ]
        },
        {
          "output_type": "stream",
          "name": "stdout",
          "text": [
            "Iteration 150 - Train Loss: 1.554975 - Dev Loss: 2.235805\r2.235805034637451\n"
          ]
        },
        {
          "output_type": "stream",
          "name": "stderr",
          "text": [
            "\r 33%|███▎      | 2/6 [00:00<00:00, 18.89it/s]"
          ]
        },
        {
          "output_type": "stream",
          "name": "stdout",
          "text": [
            "2.2308599948883057\n",
            "2.2278060913085938\n"
          ]
        },
        {
          "output_type": "stream",
          "name": "stderr",
          "text": [
            "\r 83%|████████▎ | 5/6 [00:00<00:00, 20.36it/s]"
          ]
        },
        {
          "output_type": "stream",
          "name": "stdout",
          "text": [
            "Iteration 153 - Train Loss: 1.583655 - Dev Loss: 2.226650\r2.2266504764556885\n",
            "Iteration 154 - Train Loss: 1.487796 - Dev Loss: 2.224088\r2.224088191986084\n"
          ]
        },
        {
          "output_type": "stream",
          "name": "stderr",
          "text": [
            "\r100%|██████████| 6/6 [00:00<00:00, 21.19it/s]\n"
          ]
        },
        {
          "output_type": "stream",
          "name": "stdout",
          "text": [
            "Iteration 155 - Train Loss: 1.536195 - Dev Loss: 2.223989\r2.2239890098571777\n",
            "epoch 26\n"
          ]
        },
        {
          "output_type": "stream",
          "name": "stderr",
          "text": [
            "\r  0%|          | 0/6 [00:00<?, ?it/s]"
          ]
        },
        {
          "output_type": "stream",
          "name": "stdout",
          "text": [
            "2.2274246215820312\n",
            "2.2322256565093994\n"
          ]
        },
        {
          "output_type": "stream",
          "name": "stderr",
          "text": [
            "\r 50%|█████     | 3/6 [00:00<00:00, 19.42it/s]"
          ]
        },
        {
          "output_type": "stream",
          "name": "stdout",
          "text": [
            "2.2336533069610596\n",
            "2.2321581840515137\n",
            "2.232123613357544\n"
          ]
        },
        {
          "output_type": "stream",
          "name": "stderr",
          "text": [
            "100%|██████████| 6/6 [00:00<00:00, 21.20it/s]\n"
          ]
        },
        {
          "output_type": "stream",
          "name": "stdout",
          "text": [
            "Iteration 161 - Train Loss: 1.545558 - Dev Loss: 2.229259\r2.2292590141296387\n",
            "epoch 27\n"
          ]
        },
        {
          "output_type": "stream",
          "name": "stderr",
          "text": [
            "\r  0%|          | 0/6 [00:00<?, ?it/s]"
          ]
        },
        {
          "output_type": "stream",
          "name": "stdout",
          "text": [
            "Iteration 162 - Train Loss: 1.458288 - Dev Loss: 2.234261\r2.2342605590820312\n"
          ]
        },
        {
          "output_type": "stream",
          "name": "stderr",
          "text": [
            "\r 33%|███▎      | 2/6 [00:00<00:00, 19.87it/s]"
          ]
        },
        {
          "output_type": "stream",
          "name": "stdout",
          "text": [
            "2.236213207244873\n",
            "2.233769655227661\n"
          ]
        },
        {
          "output_type": "stream",
          "name": "stderr",
          "text": [
            "\r 67%|██████▋   | 4/6 [00:00<00:00, 19.57it/s]"
          ]
        },
        {
          "output_type": "stream",
          "name": "stdout",
          "text": [
            "Iteration 165 - Train Loss: 1.493254 - Dev Loss: 2.229129\r2.2291293144226074\n",
            "Iteration 166 - Train Loss: 1.550480 - Dev Loss: 2.224621\r2.224621057510376\n"
          ]
        },
        {
          "output_type": "stream",
          "name": "stderr",
          "text": [
            "\r100%|██████████| 6/6 [00:00<00:00, 20.99it/s]\n"
          ]
        },
        {
          "output_type": "stream",
          "name": "stdout",
          "text": [
            "Iteration 167 - Train Loss: 1.668340 - Dev Loss: 2.233075\r2.2330753803253174\n",
            "epoch 28\n"
          ]
        },
        {
          "output_type": "stream",
          "name": "stderr",
          "text": [
            "\r  0%|          | 0/6 [00:00<?, ?it/s]"
          ]
        },
        {
          "output_type": "stream",
          "name": "stdout",
          "text": [
            "Iteration 168 - Train Loss: 1.477841 - Dev Loss: 2.237042\r2.237042188644409\n"
          ]
        },
        {
          "output_type": "stream",
          "name": "stderr",
          "text": [
            "\r 33%|███▎      | 2/6 [00:00<00:00, 18.15it/s]"
          ]
        },
        {
          "output_type": "stream",
          "name": "stdout",
          "text": [
            "2.231511354446411\n",
            "2.2272586822509766\n"
          ]
        },
        {
          "output_type": "stream",
          "name": "stderr",
          "text": [
            "\r 67%|██████▋   | 4/6 [00:00<00:00, 18.45it/s]"
          ]
        },
        {
          "output_type": "stream",
          "name": "stdout",
          "text": [
            "Iteration 171 - Train Loss: 1.421620 - Dev Loss: 2.227728\r2.2277278900146484\n"
          ]
        },
        {
          "output_type": "stream",
          "name": "stderr",
          "text": [
            "\r100%|██████████| 6/6 [00:00<00:00, 19.88it/s]\n"
          ]
        },
        {
          "output_type": "stream",
          "name": "stdout",
          "text": [
            "Iteration 172 - Train Loss: 1.410805 - Dev Loss: 2.237104\r2.2371039390563965\n",
            "Iteration 173 - Train Loss: 1.440306 - Dev Loss: 2.246257\r2.2462570667266846\n",
            "epoch 29\n"
          ]
        },
        {
          "output_type": "stream",
          "name": "stderr",
          "text": [
            "\r  0%|          | 0/6 [00:00<?, ?it/s]"
          ]
        },
        {
          "output_type": "stream",
          "name": "stdout",
          "text": [
            "2.2494606971740723\n",
            "2.253143787384033\n"
          ]
        },
        {
          "output_type": "stream",
          "name": "stderr",
          "text": [
            "\r 50%|█████     | 3/6 [00:00<00:00, 20.97it/s]"
          ]
        },
        {
          "output_type": "stream",
          "name": "stdout",
          "text": [
            "2.2560067176818848\n",
            "2.2520179748535156\n",
            "2.2488577365875244\n"
          ]
        },
        {
          "output_type": "stream",
          "name": "stderr",
          "text": [
            "100%|██████████| 6/6 [00:00<00:00, 21.90it/s]\n"
          ]
        },
        {
          "output_type": "stream",
          "name": "stdout",
          "text": [
            "Iteration 179 - Train Loss: 1.426380 - Dev Loss: 2.239200\r2.2392003536224365\n",
            "epoch 30\n"
          ]
        },
        {
          "output_type": "stream",
          "name": "stderr",
          "text": [
            "\r  0%|          | 0/6 [00:00<?, ?it/s]"
          ]
        },
        {
          "output_type": "stream",
          "name": "stdout",
          "text": [
            "2.234872817993164\n",
            "2.2336058616638184\n"
          ]
        },
        {
          "output_type": "stream",
          "name": "stderr",
          "text": [
            "\r 50%|█████     | 3/6 [00:00<00:00, 24.04it/s]"
          ]
        },
        {
          "output_type": "stream",
          "name": "stdout",
          "text": [
            "Iteration 182 - Train Loss: 1.380552 - Dev Loss: 2.228531\r2.2285306453704834\n",
            "2.2310595512390137\n",
            "2.245309352874756\n"
          ]
        },
        {
          "output_type": "stream",
          "name": "stderr",
          "text": [
            "100%|██████████| 6/6 [00:00<00:00, 22.82it/s]\n"
          ]
        },
        {
          "output_type": "stream",
          "name": "stdout",
          "text": [
            "Iteration 185 - Train Loss: 1.344447 - Dev Loss: 2.247932\r2.247932195663452\n",
            "epoch 31\n"
          ]
        },
        {
          "output_type": "stream",
          "name": "stderr",
          "text": [
            "\r  0%|          | 0/6 [00:00<?, ?it/s]"
          ]
        },
        {
          "output_type": "stream",
          "name": "stdout",
          "text": [
            "Iteration 186 - Train Loss: 1.245320 - Dev Loss: 2.243779\r2.243779182434082\n"
          ]
        },
        {
          "output_type": "stream",
          "name": "stderr",
          "text": [
            "\r 33%|███▎      | 2/6 [00:00<00:00, 18.48it/s]"
          ]
        },
        {
          "output_type": "stream",
          "name": "stdout",
          "text": [
            "Iteration 187 - Train Loss: 1.344831 - Dev Loss: 2.239281\r2.239281415939331\n",
            "Iteration 188 - Train Loss: 1.424717 - Dev Loss: 2.239668\r2.239668130874634\n"
          ]
        },
        {
          "output_type": "stream",
          "name": "stderr",
          "text": [
            "\r 83%|████████▎ | 5/6 [00:00<00:00, 20.47it/s]"
          ]
        },
        {
          "output_type": "stream",
          "name": "stdout",
          "text": [
            "Iteration 189 - Train Loss: 1.334096 - Dev Loss: 2.240528\r2.2405283451080322\n",
            "Iteration 190 - Train Loss: 1.385900 - Dev Loss: 2.242653\r2.2426531314849854\n"
          ]
        },
        {
          "output_type": "stream",
          "name": "stderr",
          "text": [
            "\r100%|██████████| 6/6 [00:00<00:00, 20.91it/s]\n"
          ]
        },
        {
          "output_type": "stream",
          "name": "stdout",
          "text": [
            "Iteration 191 - Train Loss: 1.390014 - Dev Loss: 2.252106\r2.252105712890625\n",
            "epoch 32\n"
          ]
        },
        {
          "output_type": "stream",
          "name": "stderr",
          "text": [
            " 33%|███▎      | 2/6 [00:00<00:00, 19.12it/s]"
          ]
        },
        {
          "output_type": "stream",
          "name": "stdout",
          "text": [
            "Iteration 192 - Train Loss: 1.250951 - Dev Loss: 2.265558\r2.2655584812164307\n",
            "2.2685375213623047\n",
            "2.2682933807373047\n"
          ]
        },
        {
          "output_type": "stream",
          "name": "stderr",
          "text": [
            "\r 83%|████████▎ | 5/6 [00:00<00:00, 19.68it/s]"
          ]
        },
        {
          "output_type": "stream",
          "name": "stdout",
          "text": [
            "Iteration 195 - Train Loss: 1.242606 - Dev Loss: 2.264507\r2.2645070552825928\n",
            "Iteration 196 - Train Loss: 1.272952 - Dev Loss: 2.263179\r2.263178825378418\n"
          ]
        },
        {
          "output_type": "stream",
          "name": "stderr",
          "text": [
            "\r100%|██████████| 6/6 [00:00<00:00, 20.82it/s]\n"
          ]
        },
        {
          "output_type": "stream",
          "name": "stdout",
          "text": [
            "Iteration 197 - Train Loss: 1.315964 - Dev Loss: 2.265922\r2.2659215927124023\n",
            "epoch 33\n"
          ]
        },
        {
          "output_type": "stream",
          "name": "stderr",
          "text": [
            "\r  0%|          | 0/6 [00:00<?, ?it/s]"
          ]
        },
        {
          "output_type": "stream",
          "name": "stdout",
          "text": [
            "Iteration 198 - Train Loss: 1.230700 - Dev Loss: 2.268233\r2.268233299255371\n"
          ]
        },
        {
          "output_type": "stream",
          "name": "stderr",
          "text": [
            "\r 33%|███▎      | 2/6 [00:00<00:00, 18.98it/s]"
          ]
        },
        {
          "output_type": "stream",
          "name": "stdout",
          "text": [
            "2.2743818759918213\n",
            "2.283719539642334\n"
          ]
        },
        {
          "output_type": "stream",
          "name": "stderr",
          "text": [
            "\r 67%|██████▋   | 4/6 [00:00<00:00, 19.53it/s]"
          ]
        },
        {
          "output_type": "stream",
          "name": "stdout",
          "text": [
            "Iteration 201 - Train Loss: 1.250503 - Dev Loss: 2.286114\r2.2861135005950928\n"
          ]
        },
        {
          "output_type": "stream",
          "name": "stderr",
          "text": [
            "\r100%|██████████| 6/6 [00:00<00:00, 20.86it/s]\n"
          ]
        },
        {
          "output_type": "stream",
          "name": "stdout",
          "text": [
            "Iteration 202 - Train Loss: 1.322064 - Dev Loss: 2.276481\r2.2764813899993896\n",
            "Iteration 203 - Train Loss: 1.362234 - Dev Loss: 2.273052\r2.273052453994751\n",
            "epoch 34\n"
          ]
        },
        {
          "output_type": "stream",
          "name": "stderr",
          "text": [
            "\r  0%|          | 0/6 [00:00<?, ?it/s]"
          ]
        },
        {
          "output_type": "stream",
          "name": "stdout",
          "text": [
            "Iteration 204 - Train Loss: 1.205348 - Dev Loss: 2.271114\r2.2711143493652344\n"
          ]
        },
        {
          "output_type": "stream",
          "name": "stderr",
          "text": [
            "\r 33%|███▎      | 2/6 [00:00<00:00, 19.08it/s]"
          ]
        },
        {
          "output_type": "stream",
          "name": "stdout",
          "text": [
            "2.2682178020477295\n",
            "2.2679083347320557\n"
          ]
        },
        {
          "output_type": "stream",
          "name": "stderr",
          "text": [
            "\r 83%|████████▎ | 5/6 [00:00<00:00, 20.56it/s]"
          ]
        },
        {
          "output_type": "stream",
          "name": "stdout",
          "text": [
            "Iteration 207 - Train Loss: 1.288546 - Dev Loss: 2.278129\r2.2781288623809814\n",
            "Iteration 208 - Train Loss: 1.223425 - Dev Loss: 2.280905\r2.280904769897461\n"
          ]
        },
        {
          "output_type": "stream",
          "name": "stderr",
          "text": [
            "\r100%|██████████| 6/6 [00:00<00:00, 21.44it/s]\n"
          ]
        },
        {
          "output_type": "stream",
          "name": "stdout",
          "text": [
            "Iteration 209 - Train Loss: 1.203025 - Dev Loss: 2.278699\r2.2786991596221924\n",
            "epoch 35\n"
          ]
        },
        {
          "output_type": "stream",
          "name": "stderr",
          "text": [
            "\r  0%|          | 0/6 [00:00<?, ?it/s]"
          ]
        },
        {
          "output_type": "stream",
          "name": "stdout",
          "text": [
            "2.278535842895508\n",
            "2.286926746368408\n"
          ]
        },
        {
          "output_type": "stream",
          "name": "stderr",
          "text": [
            "\r 50%|█████     | 3/6 [00:00<00:00, 22.51it/s]"
          ]
        },
        {
          "output_type": "stream",
          "name": "stdout",
          "text": [
            "Iteration 212 - Train Loss: 1.143832 - Dev Loss: 2.297555\r2.297555446624756\n",
            "2.3063201904296875\n",
            "2.320256233215332\n"
          ]
        },
        {
          "output_type": "stream",
          "name": "stderr",
          "text": [
            "100%|██████████| 6/6 [00:00<00:00, 21.83it/s]\n"
          ]
        },
        {
          "output_type": "stream",
          "name": "stdout",
          "text": [
            "Iteration 215 - Train Loss: 1.309203 - Dev Loss: 2.337977\r2.3379769325256348\n",
            "epoch 36\n"
          ]
        },
        {
          "output_type": "stream",
          "name": "stderr",
          "text": [
            "\r  0%|          | 0/6 [00:00<?, ?it/s]"
          ]
        },
        {
          "output_type": "stream",
          "name": "stdout",
          "text": [
            "Iteration 216 - Train Loss: 1.185011 - Dev Loss: 2.331526\r2.331526279449463\n"
          ]
        },
        {
          "output_type": "stream",
          "name": "stderr",
          "text": [
            "\r 50%|█████     | 3/6 [00:00<00:00, 20.19it/s]"
          ]
        },
        {
          "output_type": "stream",
          "name": "stdout",
          "text": [
            "Iteration 217 - Train Loss: 1.227681 - Dev Loss: 2.312762\r2.3127620220184326\n",
            "2.304239511489868\n",
            "2.3107521533966064\n",
            "2.311591386795044\n"
          ]
        },
        {
          "output_type": "stream",
          "name": "stderr",
          "text": [
            "100%|██████████| 6/6 [00:00<00:00, 21.09it/s]\n"
          ]
        },
        {
          "output_type": "stream",
          "name": "stdout",
          "text": [
            "Iteration 221 - Train Loss: 1.103556 - Dev Loss: 2.317501\r2.3175013065338135\n",
            "epoch 37\n"
          ]
        },
        {
          "output_type": "stream",
          "name": "stderr",
          "text": [
            " 33%|███▎      | 2/6 [00:00<00:00, 19.85it/s]"
          ]
        },
        {
          "output_type": "stream",
          "name": "stdout",
          "text": [
            "Iteration 222 - Train Loss: 1.205501 - Dev Loss: 2.324584\r2.324584484100342\n",
            "2.3257272243499756\n",
            "2.323857307434082\n"
          ]
        },
        {
          "output_type": "stream",
          "name": "stderr",
          "text": [
            "\r 67%|██████▋   | 4/6 [00:00<00:00, 19.55it/s]"
          ]
        },
        {
          "output_type": "stream",
          "name": "stdout",
          "text": [
            "Iteration 225 - Train Loss: 1.094135 - Dev Loss: 2.312156\r2.3121562004089355\n",
            "Iteration 226 - Train Loss: 1.100325 - Dev Loss: 2.305009\r2.30500864982605\n"
          ]
        },
        {
          "output_type": "stream",
          "name": "stderr",
          "text": [
            "\r100%|██████████| 6/6 [00:00<00:00, 21.50it/s]\n"
          ]
        },
        {
          "output_type": "stream",
          "name": "stdout",
          "text": [
            "Iteration 227 - Train Loss: 1.052269 - Dev Loss: 2.305524\r2.3055241107940674\n",
            "epoch 38\n"
          ]
        },
        {
          "output_type": "stream",
          "name": "stderr",
          "text": [
            "\r  0%|          | 0/6 [00:00<?, ?it/s]"
          ]
        },
        {
          "output_type": "stream",
          "name": "stdout",
          "text": [
            "2.309603452682495\n",
            "2.3222715854644775\n"
          ]
        },
        {
          "output_type": "stream",
          "name": "stderr",
          "text": [
            "\r 50%|█████     | 3/6 [00:00<00:00, 21.48it/s]"
          ]
        },
        {
          "output_type": "stream",
          "name": "stdout",
          "text": [
            "Iteration 230 - Train Loss: 1.076161 - Dev Loss: 2.341882\r2.3418824672698975\n",
            "Iteration 231 - Train Loss: 1.019568 - Dev Loss: 2.363227\r2.363226890563965\n"
          ]
        },
        {
          "output_type": "stream",
          "name": "stderr",
          "text": [
            "\r100%|██████████| 6/6 [00:00<00:00, 22.80it/s]"
          ]
        },
        {
          "output_type": "stream",
          "name": "stdout",
          "text": [
            "Iteration 232 - Train Loss: 1.088461 - Dev Loss: 2.362513\r2.3625125885009766\n",
            "Iteration 233 - Train Loss: 1.101475 - Dev Loss: 2.352831\r2.3528311252593994\n"
          ]
        },
        {
          "output_type": "stream",
          "name": "stderr",
          "text": [
            "\r100%|██████████| 6/6 [00:00<00:00, 22.47it/s]\n"
          ]
        },
        {
          "output_type": "stream",
          "name": "stdout",
          "text": [
            "epoch 39\n"
          ]
        },
        {
          "output_type": "stream",
          "name": "stderr",
          "text": [
            "\r  0%|          | 0/6 [00:00<?, ?it/s]"
          ]
        },
        {
          "output_type": "stream",
          "name": "stdout",
          "text": [
            "Iteration 234 - Train Loss: 1.084721 - Dev Loss: 2.341274\r2.3412742614746094\n"
          ]
        },
        {
          "output_type": "stream",
          "name": "stderr",
          "text": [
            "\r 33%|███▎      | 2/6 [00:00<00:00, 18.21it/s]"
          ]
        },
        {
          "output_type": "stream",
          "name": "stdout",
          "text": [
            "2.3372514247894287\n",
            "2.34043025970459\n"
          ]
        },
        {
          "output_type": "stream",
          "name": "stderr",
          "text": [
            "\r 67%|██████▋   | 4/6 [00:00<00:00, 18.50it/s]"
          ]
        },
        {
          "output_type": "stream",
          "name": "stdout",
          "text": [
            "Iteration 237 - Train Loss: 1.140263 - Dev Loss: 2.348112\r2.348112106323242\n"
          ]
        },
        {
          "output_type": "stream",
          "name": "stderr",
          "text": [
            "\r100%|██████████| 6/6 [00:00<00:00, 20.28it/s]\n"
          ]
        },
        {
          "output_type": "stream",
          "name": "stdout",
          "text": [
            "Iteration 238 - Train Loss: 0.968381 - Dev Loss: 2.357590\r2.3575899600982666\n",
            "Iteration 239 - Train Loss: 1.197868 - Dev Loss: 2.365498\r2.365497589111328\n",
            "epoch 40\n"
          ]
        },
        {
          "output_type": "stream",
          "name": "stderr",
          "text": [
            "\r  0%|          | 0/6 [00:00<?, ?it/s]"
          ]
        },
        {
          "output_type": "stream",
          "name": "stdout",
          "text": [
            "Iteration 240 - Train Loss: 0.949905 - Dev Loss: 2.375777\r2.37577748298645\n"
          ]
        },
        {
          "output_type": "stream",
          "name": "stderr",
          "text": [
            "\r 33%|███▎      | 2/6 [00:00<00:00, 19.82it/s]"
          ]
        },
        {
          "output_type": "stream",
          "name": "stdout",
          "text": [
            "2.385916233062744\n",
            "2.3949642181396484\n"
          ]
        },
        {
          "output_type": "stream",
          "name": "stderr",
          "text": [
            "\r 67%|██████▋   | 4/6 [00:00<00:00, 18.88it/s]"
          ]
        },
        {
          "output_type": "stream",
          "name": "stdout",
          "text": [
            "Iteration 243 - Train Loss: 1.009388 - Dev Loss: 2.402974\r2.4029741287231445\n",
            "Iteration 244 - Train Loss: 1.044988 - Dev Loss: 2.408237\r2.4082374572753906\n"
          ]
        },
        {
          "output_type": "stream",
          "name": "stderr",
          "text": [
            "\r100%|██████████| 6/6 [00:00<00:00, 20.82it/s]\n"
          ]
        },
        {
          "output_type": "stream",
          "name": "stdout",
          "text": [
            "Iteration 245 - Train Loss: 0.952507 - Dev Loss: 2.423194\r2.423194408416748\n",
            "epoch 41\n"
          ]
        },
        {
          "output_type": "stream",
          "name": "stderr",
          "text": [
            "\r  0%|          | 0/6 [00:00<?, ?it/s]"
          ]
        },
        {
          "output_type": "stream",
          "name": "stdout",
          "text": [
            "2.4227030277252197\n",
            "2.4063498973846436\n"
          ]
        },
        {
          "output_type": "stream",
          "name": "stderr",
          "text": [
            "\r 50%|█████     | 3/6 [00:00<00:00, 20.11it/s]"
          ]
        },
        {
          "output_type": "stream",
          "name": "stdout",
          "text": [
            "Iteration 248 - Train Loss: 0.942689 - Dev Loss: 2.391802\r2.391801595687866\n",
            "2.3939931392669678\n",
            "2.4003353118896484\n"
          ]
        },
        {
          "output_type": "stream",
          "name": "stderr",
          "text": [
            "100%|██████████| 6/6 [00:00<00:00, 21.81it/s]\n"
          ]
        },
        {
          "output_type": "stream",
          "name": "stdout",
          "text": [
            "Iteration 251 - Train Loss: 1.079337 - Dev Loss: 2.415495\r2.415494680404663\n",
            "epoch 42\n"
          ]
        },
        {
          "output_type": "stream",
          "name": "stderr",
          "text": [
            "\r  0%|          | 0/6 [00:00<?, ?it/s]"
          ]
        },
        {
          "output_type": "stream",
          "name": "stdout",
          "text": [
            "Iteration 252 - Train Loss: 0.956415 - Dev Loss: 2.444604\r2.4446043968200684\n"
          ]
        },
        {
          "output_type": "stream",
          "name": "stderr",
          "text": [
            "\r 50%|█████     | 3/6 [00:00<00:00, 23.13it/s]"
          ]
        },
        {
          "output_type": "stream",
          "name": "stdout",
          "text": [
            "Iteration 253 - Train Loss: 0.904810 - Dev Loss: 2.466417\r2.4664173126220703\n",
            "2.4724819660186768\n",
            "2.455827474594116\n",
            "2.4374406337738037\n"
          ]
        },
        {
          "output_type": "stream",
          "name": "stderr",
          "text": [
            "100%|██████████| 6/6 [00:00<00:00, 21.51it/s]\n"
          ]
        },
        {
          "output_type": "stream",
          "name": "stdout",
          "text": [
            "Iteration 257 - Train Loss: 1.222028 - Dev Loss: 2.442052\r2.4420523643493652\n",
            "epoch 43\n"
          ]
        },
        {
          "output_type": "stream",
          "name": "stderr",
          "text": [
            "\r  0%|          | 0/6 [00:00<?, ?it/s]"
          ]
        },
        {
          "output_type": "stream",
          "name": "stdout",
          "text": [
            "Iteration 258 - Train Loss: 0.926643 - Dev Loss: 2.446616\r2.4466159343719482\n",
            "Iteration 259 - Train Loss: 0.949323 - Dev Loss: 2.454516\r2.4545164108276367\n"
          ]
        },
        {
          "output_type": "stream",
          "name": "stderr",
          "text": [
            "\r 50%|█████     | 3/6 [00:00<00:00, 21.54it/s]"
          ]
        },
        {
          "output_type": "stream",
          "name": "stdout",
          "text": [
            "2.4670417308807373\n",
            "2.467676877975464\n",
            "2.457794427871704\n"
          ]
        },
        {
          "output_type": "stream",
          "name": "stderr",
          "text": [
            "100%|██████████| 6/6 [00:00<00:00, 21.42it/s]\n"
          ]
        },
        {
          "output_type": "stream",
          "name": "stdout",
          "text": [
            "Iteration 263 - Train Loss: 0.940757 - Dev Loss: 2.436268\r2.436267852783203\n",
            "epoch 44\n"
          ]
        },
        {
          "output_type": "stream",
          "name": "stderr",
          "text": [
            "\r  0%|          | 0/6 [00:00<?, ?it/s]"
          ]
        },
        {
          "output_type": "stream",
          "name": "stdout",
          "text": [
            "2.425841808319092\n",
            "2.42271089553833\n"
          ]
        },
        {
          "output_type": "stream",
          "name": "stderr",
          "text": [
            "\r 50%|█████     | 3/6 [00:00<00:00, 19.92it/s]"
          ]
        },
        {
          "output_type": "stream",
          "name": "stdout",
          "text": [
            "Iteration 266 - Train Loss: 0.897524 - Dev Loss: 2.423333\r2.423332929611206\n"
          ]
        },
        {
          "output_type": "stream",
          "name": "stderr",
          "text": [
            "\r 83%|████████▎ | 5/6 [00:00<00:00, 19.78it/s]"
          ]
        },
        {
          "output_type": "stream",
          "name": "stdout",
          "text": [
            "Iteration 267 - Train Loss: 0.954110 - Dev Loss: 2.434525\r2.434525489807129\n",
            "Iteration 268 - Train Loss: 0.959837 - Dev Loss: 2.458446\r2.4584455490112305\n"
          ]
        },
        {
          "output_type": "stream",
          "name": "stderr",
          "text": [
            "\r100%|██████████| 6/6 [00:00<00:00, 20.73it/s]\n"
          ]
        },
        {
          "output_type": "stream",
          "name": "stdout",
          "text": [
            "Iteration 269 - Train Loss: 0.886157 - Dev Loss: 2.481835\r2.481835126876831\n",
            "epoch 45\n"
          ]
        },
        {
          "output_type": "stream",
          "name": "stderr",
          "text": [
            "\r  0%|          | 0/6 [00:00<?, ?it/s]"
          ]
        },
        {
          "output_type": "stream",
          "name": "stdout",
          "text": [
            "2.484724760055542\n",
            "2.4734859466552734\n"
          ]
        },
        {
          "output_type": "stream",
          "name": "stderr",
          "text": [
            "\r 50%|█████     | 3/6 [00:00<00:00, 22.27it/s]"
          ]
        },
        {
          "output_type": "stream",
          "name": "stdout",
          "text": [
            "Iteration 272 - Train Loss: 0.894000 - Dev Loss: 2.462495\r2.4624948501586914\n",
            "2.4573802947998047\n",
            "2.4595091342926025\n"
          ]
        },
        {
          "output_type": "stream",
          "name": "stderr",
          "text": [
            "100%|██████████| 6/6 [00:00<00:00, 21.38it/s]\n"
          ]
        },
        {
          "output_type": "stream",
          "name": "stdout",
          "text": [
            "Iteration 275 - Train Loss: 0.992135 - Dev Loss: 2.469946\r2.4699459075927734\n",
            "epoch 46\n"
          ]
        },
        {
          "output_type": "stream",
          "name": "stderr",
          "text": [
            " 33%|███▎      | 2/6 [00:00<00:00, 19.82it/s]"
          ]
        },
        {
          "output_type": "stream",
          "name": "stdout",
          "text": [
            "Iteration 276 - Train Loss: 0.809484 - Dev Loss: 2.487073\r2.4870729446411133\n",
            "Iteration 277 - Train Loss: 0.832488 - Dev Loss: 2.509426\r2.509425640106201\n",
            "Iteration 278 - Train Loss: 0.939899 - Dev Loss: 2.521640\r2.5216400623321533\n"
          ]
        },
        {
          "output_type": "stream",
          "name": "stderr",
          "text": [
            "\r 67%|██████▋   | 4/6 [00:00<00:00, 19.04it/s]"
          ]
        },
        {
          "output_type": "stream",
          "name": "stdout",
          "text": [
            "Iteration 279 - Train Loss: 0.861223 - Dev Loss: 2.514470\r2.514469623565674\n",
            "Iteration 280 - Train Loss: 0.859519 - Dev Loss: 2.500140\r2.5001397132873535\n"
          ]
        },
        {
          "output_type": "stream",
          "name": "stderr",
          "text": [
            "\r100%|██████████| 6/6 [00:00<00:00, 20.71it/s]\n"
          ]
        },
        {
          "output_type": "stream",
          "name": "stdout",
          "text": [
            "Iteration 281 - Train Loss: 0.924472 - Dev Loss: 2.493063\r2.49306321144104\n",
            "epoch 47\n"
          ]
        },
        {
          "output_type": "stream",
          "name": "stderr",
          "text": [
            "\r  0%|          | 0/6 [00:00<?, ?it/s]"
          ]
        },
        {
          "output_type": "stream",
          "name": "stdout",
          "text": [
            "Iteration 282 - Train Loss: 0.896023 - Dev Loss: 2.487164\r2.487164258956909\n",
            "Iteration 283 - Train Loss: 0.880665 - Dev Loss: 2.493591\r2.49359130859375\n"
          ]
        },
        {
          "output_type": "stream",
          "name": "stderr",
          "text": [
            "\r 50%|█████     | 3/6 [00:00<00:00, 21.33it/s]"
          ]
        },
        {
          "output_type": "stream",
          "name": "stdout",
          "text": [
            "Iteration 284 - Train Loss: 0.794318 - Dev Loss: 2.513062\r2.513061761856079\n",
            "2.53169846534729\n",
            "2.542656183242798\n"
          ]
        },
        {
          "output_type": "stream",
          "name": "stderr",
          "text": [
            "100%|██████████| 6/6 [00:00<00:00, 22.10it/s]\n"
          ]
        },
        {
          "output_type": "stream",
          "name": "stdout",
          "text": [
            "Iteration 287 - Train Loss: 0.827216 - Dev Loss: 2.549362\r2.5493621826171875\n",
            "epoch 48\n"
          ]
        },
        {
          "output_type": "stream",
          "name": "stderr",
          "text": [
            "\r  0%|          | 0/6 [00:00<?, ?it/s]"
          ]
        },
        {
          "output_type": "stream",
          "name": "stdout",
          "text": [
            "Iteration 288 - Train Loss: 0.807667 - Dev Loss: 2.553694\r2.5536937713623047\n"
          ]
        },
        {
          "output_type": "stream",
          "name": "stderr",
          "text": [
            "\r 33%|███▎      | 2/6 [00:00<00:00, 18.33it/s]"
          ]
        },
        {
          "output_type": "stream",
          "name": "stdout",
          "text": [
            "Iteration 289 - Train Loss: 0.848188 - Dev Loss: 2.552763\r2.552762508392334\n",
            "Iteration 290 - Train Loss: 0.856623 - Dev Loss: 2.546935\r2.5469353199005127\n"
          ]
        },
        {
          "output_type": "stream",
          "name": "stderr",
          "text": [
            "\r 83%|████████▎ | 5/6 [00:00<00:00, 20.68it/s]"
          ]
        },
        {
          "output_type": "stream",
          "name": "stdout",
          "text": [
            "Iteration 291 - Train Loss: 0.776469 - Dev Loss: 2.544769\r2.544769048690796\n",
            "Iteration 292 - Train Loss: 0.789064 - Dev Loss: 2.546374\r2.5463743209838867\n"
          ]
        },
        {
          "output_type": "stream",
          "name": "stderr",
          "text": [
            "\r100%|██████████| 6/6 [00:00<00:00, 21.13it/s]\n"
          ]
        },
        {
          "output_type": "stream",
          "name": "stdout",
          "text": [
            "Iteration 293 - Train Loss: 0.725624 - Dev Loss: 2.549449\r2.5494487285614014\n",
            "epoch 49\n"
          ]
        },
        {
          "output_type": "stream",
          "name": "stderr",
          "text": [
            "\r  0%|          | 0/6 [00:00<?, ?it/s]"
          ]
        },
        {
          "output_type": "stream",
          "name": "stdout",
          "text": [
            "Iteration 294 - Train Loss: 0.747406 - Dev Loss: 2.566333\r2.5663328170776367\n",
            "Iteration 295 - Train Loss: 0.713004 - Dev Loss: 2.585065\r2.5850648880004883\n"
          ]
        },
        {
          "output_type": "stream",
          "name": "stderr",
          "text": [
            "\r 50%|█████     | 3/6 [00:00<00:00, 21.13it/s]"
          ]
        },
        {
          "output_type": "stream",
          "name": "stdout",
          "text": [
            "Iteration 296 - Train Loss: 0.902212 - Dev Loss: 2.604020\r2.604020118713379\n",
            "2.610027551651001\n",
            "2.605654001235962\n"
          ]
        },
        {
          "output_type": "stream",
          "name": "stderr",
          "text": [
            "100%|██████████| 6/6 [00:00<00:00, 21.23it/s]\n"
          ]
        },
        {
          "output_type": "stream",
          "name": "stdout",
          "text": [
            "Iteration 299 - Train Loss: 0.787027 - Dev Loss: 2.579526\r2.579525947570801\n",
            "epoch 50\n"
          ]
        },
        {
          "output_type": "stream",
          "name": "stderr",
          "text": [
            "\r  0%|          | 0/6 [00:00<?, ?it/s]"
          ]
        },
        {
          "output_type": "stream",
          "name": "stdout",
          "text": [
            "Iteration 300 - Train Loss: 0.760183 - Dev Loss: 2.560460\r2.560459613800049\n"
          ]
        },
        {
          "output_type": "stream",
          "name": "stderr",
          "text": [
            "\r 33%|███▎      | 2/6 [00:00<00:00, 19.23it/s]"
          ]
        },
        {
          "output_type": "stream",
          "name": "stdout",
          "text": [
            "2.557539701461792\n",
            "2.5616676807403564\n"
          ]
        },
        {
          "output_type": "stream",
          "name": "stderr",
          "text": [
            "\r 83%|████████▎ | 5/6 [00:00<00:00, 21.09it/s]"
          ]
        },
        {
          "output_type": "stream",
          "name": "stdout",
          "text": [
            "Iteration 303 - Train Loss: 0.779314 - Dev Loss: 2.577031\r2.577030658721924\n",
            "Iteration 304 - Train Loss: 0.793655 - Dev Loss: 2.596748\r2.596747636795044\n"
          ]
        },
        {
          "output_type": "stream",
          "name": "stderr",
          "text": [
            "\r100%|██████████| 6/6 [00:00<00:00, 21.52it/s]\n"
          ]
        },
        {
          "output_type": "stream",
          "name": "stdout",
          "text": [
            "Iteration 305 - Train Loss: 0.818941 - Dev Loss: 2.611371\r2.61137056350708\n",
            "epoch 51\n"
          ]
        },
        {
          "output_type": "stream",
          "name": "stderr",
          "text": [
            "\r  0%|          | 0/6 [00:00<?, ?it/s]"
          ]
        },
        {
          "output_type": "stream",
          "name": "stdout",
          "text": [
            "2.601951837539673\n",
            "2.590752363204956\n"
          ]
        },
        {
          "output_type": "stream",
          "name": "stderr",
          "text": [
            "\r 50%|█████     | 3/6 [00:00<00:00, 19.89it/s]"
          ]
        },
        {
          "output_type": "stream",
          "name": "stdout",
          "text": [
            "2.594453811645508\n",
            "2.6053073406219482\n"
          ]
        },
        {
          "output_type": "stream",
          "name": "stderr",
          "text": [
            "\r 83%|████████▎ | 5/6 [00:00<00:00, 16.80it/s]"
          ]
        },
        {
          "output_type": "stream",
          "name": "stdout",
          "text": [
            "Iteration 310 - Train Loss: 0.768993 - Dev Loss: 2.625239\r2.625239372253418\n"
          ]
        },
        {
          "output_type": "stream",
          "name": "stderr",
          "text": [
            "\r100%|██████████| 6/6 [00:00<00:00, 17.63it/s]"
          ]
        },
        {
          "output_type": "stream",
          "name": "stdout",
          "text": [
            "Iteration 311 - Train Loss: 0.721702 - Dev Loss: 2.650094\r2.6500935554504395\n",
            "epoch 52"
          ]
        },
        {
          "output_type": "stream",
          "name": "stderr",
          "text": [
            "\n"
          ]
        },
        {
          "output_type": "stream",
          "name": "stdout",
          "text": [
            "\n"
          ]
        },
        {
          "output_type": "stream",
          "name": "stderr",
          "text": [
            "\r  0%|          | 0/6 [00:00<?, ?it/s]"
          ]
        },
        {
          "output_type": "stream",
          "name": "stdout",
          "text": [
            "Iteration 312 - Train Loss: 0.686400 - Dev Loss: 2.668012\r2.6680116653442383\n",
            "Iteration 313 - Train Loss: 0.730973 - Dev Loss: 2.672566"
          ]
        },
        {
          "output_type": "stream",
          "name": "stderr",
          "text": [
            "\r 33%|███▎      | 2/6 [00:00<00:00, 14.24it/s]"
          ]
        },
        {
          "output_type": "stream",
          "name": "stdout",
          "text": [
            "2.6725659370422363\n",
            "2.66374135017395\n"
          ]
        },
        {
          "output_type": "stream",
          "name": "stderr",
          "text": [
            "\r 67%|██████▋   | 4/6 [00:00<00:00, 14.07it/s]"
          ]
        },
        {
          "output_type": "stream",
          "name": "stdout",
          "text": [
            "2.6518335342407227\n",
            "2.6431329250335693\n"
          ]
        },
        {
          "output_type": "stream",
          "name": "stderr",
          "text": [
            "100%|██████████| 6/6 [00:00<00:00, 14.14it/s]\n"
          ]
        },
        {
          "output_type": "stream",
          "name": "stdout",
          "text": [
            "Iteration 317 - Train Loss: 0.873195 - Dev Loss: 2.640010\r2.640010356903076\n",
            "epoch 53\n"
          ]
        },
        {
          "output_type": "stream",
          "name": "stderr",
          "text": [
            "\r  0%|          | 0/6 [00:00<?, ?it/s]"
          ]
        },
        {
          "output_type": "stream",
          "name": "stdout",
          "text": [
            "Iteration 318 - Train Loss: 0.671826 - Dev Loss: 2.648458\r2.648458242416382\n"
          ]
        },
        {
          "output_type": "stream",
          "name": "stderr",
          "text": [
            "\r 33%|███▎      | 2/6 [00:00<00:00, 14.01it/s]"
          ]
        },
        {
          "output_type": "stream",
          "name": "stdout",
          "text": [
            "2.6588711738586426\n",
            "2.6640076637268066\n",
            "2.66618275642395\n"
          ]
        },
        {
          "output_type": "stream",
          "name": "stderr",
          "text": [
            "\r 67%|██████▋   | 4/6 [00:00<00:00, 14.59it/s]"
          ]
        },
        {
          "output_type": "stream",
          "name": "stdout",
          "text": [
            "Iteration 322 - Train Loss: 0.705679 - Dev Loss: 2.656477\r2.656477451324463\n"
          ]
        },
        {
          "output_type": "stream",
          "name": "stderr",
          "text": [
            "100%|██████████| 6/6 [00:00<00:00, 15.73it/s]\n"
          ]
        },
        {
          "output_type": "stream",
          "name": "stdout",
          "text": [
            "Iteration 323 - Train Loss: 0.739239 - Dev Loss: 2.652638\r2.6526377201080322\n",
            "epoch 54\n"
          ]
        },
        {
          "output_type": "stream",
          "name": "stderr",
          "text": [
            " 33%|███▎      | 2/6 [00:00<00:00, 17.62it/s]"
          ]
        },
        {
          "output_type": "stream",
          "name": "stdout",
          "text": [
            "Iteration 324 - Train Loss: 0.667723 - Dev Loss: 2.656991\r2.6569905281066895\n",
            "2.6764235496520996\n",
            "2.696795701980591\n"
          ]
        },
        {
          "output_type": "stream",
          "name": "stderr",
          "text": [
            "\r 67%|██████▋   | 4/6 [00:00<00:00, 15.84it/s]"
          ]
        },
        {
          "output_type": "stream",
          "name": "stdout",
          "text": [
            "Iteration 327 - Train Loss: 0.634517 - Dev Loss: 2.709305\r2.7093045711517334\n"
          ]
        },
        {
          "output_type": "stream",
          "name": "stderr",
          "text": [
            "\r100%|██████████| 6/6 [00:00<00:00, 17.20it/s]\n"
          ]
        },
        {
          "output_type": "stream",
          "name": "stdout",
          "text": [
            "Iteration 328 - Train Loss: 0.666392 - Dev Loss: 2.711919\r2.711918830871582\n",
            "Iteration 329 - Train Loss: 0.723340 - Dev Loss: 2.714263\r2.7142629623413086\n",
            "epoch 55\n"
          ]
        },
        {
          "output_type": "stream",
          "name": "stderr",
          "text": [
            "\r  0%|          | 0/6 [00:00<?, ?it/s]"
          ]
        },
        {
          "output_type": "stream",
          "name": "stdout",
          "text": [
            "Iteration 330 - Train Loss: 0.658304 - Dev Loss: 2.717798\r2.7177975177764893\n"
          ]
        },
        {
          "output_type": "stream",
          "name": "stderr",
          "text": [
            "\r 33%|███▎      | 2/6 [00:00<00:00, 14.52it/s]"
          ]
        },
        {
          "output_type": "stream",
          "name": "stdout",
          "text": [
            "2.7188937664031982\n",
            "2.7255237102508545\n"
          ]
        },
        {
          "output_type": "stream",
          "name": "stderr",
          "text": [
            "\r 67%|██████▋   | 4/6 [00:00<00:00, 14.09it/s]"
          ]
        },
        {
          "output_type": "stream",
          "name": "stdout",
          "text": [
            "2.7325265407562256\n",
            "2.7439730167388916\n",
            "2.751661539077759\n"
          ]
        },
        {
          "output_type": "stream",
          "name": "stderr",
          "text": [
            "100%|██████████| 6/6 [00:00<00:00, 14.97it/s]\n"
          ]
        },
        {
          "output_type": "stream",
          "name": "stdout",
          "text": [
            "epoch 56\n"
          ]
        },
        {
          "output_type": "stream",
          "name": "stderr",
          "text": [
            "\r  0%|          | 0/6 [00:00<?, ?it/s]"
          ]
        },
        {
          "output_type": "stream",
          "name": "stdout",
          "text": [
            "Iteration 336 - Train Loss: 0.650936 - Dev Loss: 2.751234\r2.7512340545654297\n"
          ]
        },
        {
          "output_type": "stream",
          "name": "stderr",
          "text": [
            "\r 33%|███▎      | 2/6 [00:00<00:00, 12.99it/s]"
          ]
        },
        {
          "output_type": "stream",
          "name": "stdout",
          "text": [
            "2.7500054836273193\n",
            "2.7505123615264893\n"
          ]
        },
        {
          "output_type": "stream",
          "name": "stderr",
          "text": [
            "\r 67%|██████▋   | 4/6 [00:00<00:00, 14.47it/s]"
          ]
        },
        {
          "output_type": "stream",
          "name": "stdout",
          "text": [
            "Iteration 339 - Train Loss: 0.594749 - Dev Loss: 2.752419\r2.7524194717407227\n",
            "Iteration 340 - Train Loss: 0.628702 - Dev Loss: 2.757793\r2.7577927112579346\n"
          ]
        },
        {
          "output_type": "stream",
          "name": "stderr",
          "text": [
            "\r100%|██████████| 6/6 [00:00<00:00, 16.59it/s]\n"
          ]
        },
        {
          "output_type": "stream",
          "name": "stdout",
          "text": [
            "Iteration 341 - Train Loss: 0.746410 - Dev Loss: 2.768712\r2.768712043762207\n",
            "epoch 57\n"
          ]
        },
        {
          "output_type": "stream",
          "name": "stderr",
          "text": [
            "\r  0%|          | 0/6 [00:00<?, ?it/s]"
          ]
        },
        {
          "output_type": "stream",
          "name": "stdout",
          "text": [
            "Iteration 342 - Train Loss: 0.636447 - Dev Loss: 2.769329\r2.769329071044922\n"
          ]
        },
        {
          "output_type": "stream",
          "name": "stderr",
          "text": [
            "\r 33%|███▎      | 2/6 [00:00<00:00, 17.36it/s]"
          ]
        },
        {
          "output_type": "stream",
          "name": "stdout",
          "text": [
            "Iteration 343 - Train Loss: 0.592379 - Dev Loss: 2.770168\r2.7701680660247803\n",
            "2.7695083618164062\n",
            "2.7684683799743652\n"
          ]
        },
        {
          "output_type": "stream",
          "name": "stderr",
          "text": [
            "100%|██████████| 6/6 [00:00<00:00, 20.60it/s]\n"
          ]
        },
        {
          "output_type": "stream",
          "name": "stdout",
          "text": [
            "Iteration 346 - Train Loss: 0.654311 - Dev Loss: 2.762006\r2.762005567550659\n",
            "Iteration 347 - Train Loss: 0.683565 - Dev Loss: 2.774635\r2.774634599685669\n",
            "epoch 58\n"
          ]
        },
        {
          "output_type": "stream",
          "name": "stderr",
          "text": [
            "\r  0%|          | 0/6 [00:00<?, ?it/s]"
          ]
        },
        {
          "output_type": "stream",
          "name": "stdout",
          "text": [
            "Iteration 348 - Train Loss: 0.612596 - Dev Loss: 2.797376\r2.7973759174346924\n",
            "Iteration 349 - Train Loss: 0.589248 - Dev Loss: 2.809366\r2.809365749359131\n"
          ]
        },
        {
          "output_type": "stream",
          "name": "stderr",
          "text": [
            "\r 50%|█████     | 3/6 [00:00<00:00, 20.11it/s]"
          ]
        },
        {
          "output_type": "stream",
          "name": "stdout",
          "text": [
            "2.807020664215088\n",
            "2.7968156337738037\n",
            "2.7846274375915527\n"
          ]
        },
        {
          "output_type": "stream",
          "name": "stderr",
          "text": [
            "100%|██████████| 6/6 [00:00<00:00, 20.48it/s]\n"
          ]
        },
        {
          "output_type": "stream",
          "name": "stdout",
          "text": [
            "Iteration 353 - Train Loss: 0.557160 - Dev Loss: 2.782784\r2.7827835083007812\n",
            "epoch 59\n"
          ]
        },
        {
          "output_type": "stream",
          "name": "stderr",
          "text": [
            "\r  0%|          | 0/6 [00:00<?, ?it/s]"
          ]
        },
        {
          "output_type": "stream",
          "name": "stdout",
          "text": [
            "2.8046765327453613\n",
            "2.82534122467041\n"
          ]
        },
        {
          "output_type": "stream",
          "name": "stderr",
          "text": [
            "\r 33%|███▎      | 2/6 [00:00<00:00, 18.13it/s]"
          ]
        },
        {
          "output_type": "stream",
          "name": "stdout",
          "text": [
            "2.8337769508361816\n",
            "2.823718309402466\n"
          ]
        },
        {
          "output_type": "stream",
          "name": "stderr",
          "text": [
            "100%|██████████| 6/6 [00:00<00:00, 20.99it/s]\n"
          ]
        },
        {
          "output_type": "stream",
          "name": "stdout",
          "text": [
            "Iteration 358 - Train Loss: 0.581071 - Dev Loss: 2.812219\r2.8122189044952393\n",
            "Iteration 359 - Train Loss: 0.606908 - Dev Loss: 2.802668\r2.802668333053589\n",
            "epoch 60\n"
          ]
        },
        {
          "output_type": "stream",
          "name": "stderr",
          "text": [
            "\r  0%|          | 0/6 [00:00<?, ?it/s]"
          ]
        },
        {
          "output_type": "stream",
          "name": "stdout",
          "text": [
            "2.809326171875\n",
            "2.823579788208008\n"
          ]
        },
        {
          "output_type": "stream",
          "name": "stderr",
          "text": [
            "\r 50%|█████     | 3/6 [00:00<00:00, 21.33it/s]"
          ]
        },
        {
          "output_type": "stream",
          "name": "stdout",
          "text": [
            "2.853417158126831\n",
            "2.875840663909912\n",
            "2.8803820610046387\n"
          ]
        },
        {
          "output_type": "stream",
          "name": "stderr",
          "text": [
            "100%|██████████| 6/6 [00:00<00:00, 21.85it/s]\n"
          ]
        },
        {
          "output_type": "stream",
          "name": "stdout",
          "text": [
            "Iteration 365 - Train Loss: 0.479805 - Dev Loss: 2.869403\r2.8694028854370117\n",
            "epoch 61\n"
          ]
        },
        {
          "output_type": "stream",
          "name": "stderr",
          "text": [
            "\r  0%|          | 0/6 [00:00<?, ?it/s]"
          ]
        },
        {
          "output_type": "stream",
          "name": "stdout",
          "text": [
            "2.8548150062561035\n",
            "2.838557481765747\n"
          ]
        },
        {
          "output_type": "stream",
          "name": "stderr",
          "text": [
            "\r 50%|█████     | 3/6 [00:00<00:00, 20.73it/s]"
          ]
        },
        {
          "output_type": "stream",
          "name": "stdout",
          "text": [
            "Iteration 368 - Train Loss: 0.525839 - Dev Loss: 2.834732\r2.8347318172454834\n",
            "2.8416287899017334\n",
            "2.8459742069244385\n"
          ]
        },
        {
          "output_type": "stream",
          "name": "stderr",
          "text": [
            "100%|██████████| 6/6 [00:00<00:00, 22.25it/s]\n"
          ]
        },
        {
          "output_type": "stream",
          "name": "stdout",
          "text": [
            "Iteration 371 - Train Loss: 0.467664 - Dev Loss: 2.843468\r2.8434677124023438\n",
            "epoch 62\n"
          ]
        },
        {
          "output_type": "stream",
          "name": "stderr",
          "text": [
            "\r  0%|          | 0/6 [00:00<?, ?it/s]"
          ]
        },
        {
          "output_type": "stream",
          "name": "stdout",
          "text": [
            "Iteration 372 - Train Loss: 0.532467 - Dev Loss: 2.849892\r2.8498921394348145\n"
          ]
        },
        {
          "output_type": "stream",
          "name": "stderr",
          "text": [
            "\r 33%|███▎      | 2/6 [00:00<00:00, 17.45it/s]"
          ]
        },
        {
          "output_type": "stream",
          "name": "stdout",
          "text": [
            "2.8635966777801514\n",
            "2.871722459793091\n"
          ]
        },
        {
          "output_type": "stream",
          "name": "stderr",
          "text": [
            "\r 83%|████████▎ | 5/6 [00:00<00:00, 19.73it/s]"
          ]
        },
        {
          "output_type": "stream",
          "name": "stdout",
          "text": [
            "Iteration 375 - Train Loss: 0.516045 - Dev Loss: 2.880719\r2.8807194232940674\n",
            "Iteration 376 - Train Loss: 0.587245 - Dev Loss: 2.889213\r2.8892126083374023\n"
          ]
        },
        {
          "output_type": "stream",
          "name": "stderr",
          "text": [
            "\r100%|██████████| 6/6 [00:00<00:00, 20.49it/s]\n"
          ]
        },
        {
          "output_type": "stream",
          "name": "stdout",
          "text": [
            "Iteration 377 - Train Loss: 0.565674 - Dev Loss: 2.900933\r2.900932788848877\n",
            "epoch 63\n"
          ]
        },
        {
          "output_type": "stream",
          "name": "stderr",
          "text": [
            "\r  0%|          | 0/6 [00:00<?, ?it/s]"
          ]
        },
        {
          "output_type": "stream",
          "name": "stdout",
          "text": [
            "Iteration 378 - Train Loss: 0.528118 - Dev Loss: 2.915821\r2.9158213138580322\n"
          ]
        },
        {
          "output_type": "stream",
          "name": "stderr",
          "text": [
            "\r 33%|███▎      | 2/6 [00:00<00:00, 19.09it/s]"
          ]
        },
        {
          "output_type": "stream",
          "name": "stdout",
          "text": [
            "2.9308865070343018\n",
            "2.93864107131958\n",
            "2.942068099975586\n"
          ]
        },
        {
          "output_type": "stream",
          "name": "stderr",
          "text": [
            "\r 83%|████████▎ | 5/6 [00:00<00:00, 21.16it/s]"
          ]
        },
        {
          "output_type": "stream",
          "name": "stdout",
          "text": [
            "Iteration 382 - Train Loss: 0.511925 - Dev Loss: 2.938122\r2.9381215572357178\n",
            "Iteration 383 - Train Loss: 0.592189 - Dev Loss: 2.926945\r2.9269447326660156\n"
          ]
        },
        {
          "output_type": "stream",
          "name": "stderr",
          "text": [
            "\r100%|██████████| 6/6 [00:00<00:00, 21.84it/s]\n"
          ]
        },
        {
          "output_type": "stream",
          "name": "stdout",
          "text": [
            "epoch 64\n"
          ]
        },
        {
          "output_type": "stream",
          "name": "stderr",
          "text": [
            "\r  0%|          | 0/6 [00:00<?, ?it/s]"
          ]
        },
        {
          "output_type": "stream",
          "name": "stdout",
          "text": [
            "Iteration 384 - Train Loss: 0.487441 - Dev Loss: 2.919062\r2.9190616607666016\n"
          ]
        },
        {
          "output_type": "stream",
          "name": "stderr",
          "text": [
            "\r 33%|███▎      | 2/6 [00:00<00:00, 19.39it/s]"
          ]
        },
        {
          "output_type": "stream",
          "name": "stdout",
          "text": [
            "Iteration 385 - Train Loss: 0.483312 - Dev Loss: 2.923683\r2.923682928085327\n",
            "2.931116819381714\n",
            "2.941753625869751\n"
          ]
        },
        {
          "output_type": "stream",
          "name": "stderr",
          "text": [
            "\r 83%|████████▎ | 5/6 [00:00<00:00, 20.81it/s]"
          ]
        },
        {
          "output_type": "stream",
          "name": "stdout",
          "text": [
            "Iteration 388 - Train Loss: 0.523675 - Dev Loss: 2.954059\r2.95405912399292\n"
          ]
        },
        {
          "output_type": "stream",
          "name": "stderr",
          "text": [
            "\r100%|██████████| 6/6 [00:00<00:00, 21.67it/s]\n"
          ]
        },
        {
          "output_type": "stream",
          "name": "stdout",
          "text": [
            "Iteration 389 - Train Loss: 0.463400 - Dev Loss: 2.966558\r2.966557502746582\n",
            "epoch 65\n"
          ]
        },
        {
          "output_type": "stream",
          "name": "stderr",
          "text": [
            "\r  0%|          | 0/6 [00:00<?, ?it/s]"
          ]
        },
        {
          "output_type": "stream",
          "name": "stdout",
          "text": [
            "Iteration 390 - Train Loss: 0.497971 - Dev Loss: 2.970624\r2.9706244468688965\n",
            "Iteration 391 - Train Loss: 0.533147 - Dev Loss: 2.970038\r2.970038414001465\n"
          ]
        },
        {
          "output_type": "stream",
          "name": "stderr",
          "text": [
            "\r 50%|█████     | 3/6 [00:00<00:00, 22.56it/s]"
          ]
        },
        {
          "output_type": "stream",
          "name": "stdout",
          "text": [
            "2.9689464569091797\n",
            "2.9696567058563232\n",
            "2.9686551094055176\n"
          ]
        },
        {
          "output_type": "stream",
          "name": "stderr",
          "text": [
            "100%|██████████| 6/6 [00:00<00:00, 22.01it/s]\n"
          ]
        },
        {
          "output_type": "stream",
          "name": "stdout",
          "text": [
            "Iteration 395 - Train Loss: 0.449161 - Dev Loss: 2.967450\r2.96744966506958\n",
            "epoch 66\n"
          ]
        },
        {
          "output_type": "stream",
          "name": "stderr",
          "text": [
            "\r  0%|          | 0/6 [00:00<?, ?it/s]"
          ]
        },
        {
          "output_type": "stream",
          "name": "stdout",
          "text": [
            "2.967231035232544\n",
            "2.9713876247406006\n"
          ]
        },
        {
          "output_type": "stream",
          "name": "stderr",
          "text": [
            "\r 50%|█████     | 3/6 [00:00<00:00, 20.91it/s]"
          ]
        },
        {
          "output_type": "stream",
          "name": "stdout",
          "text": [
            "2.9821436405181885\n",
            "2.99198055267334\n",
            "2.9982590675354004\n"
          ]
        },
        {
          "output_type": "stream",
          "name": "stderr",
          "text": [
            "100%|██████████| 6/6 [00:00<00:00, 20.80it/s]\n"
          ]
        },
        {
          "output_type": "stream",
          "name": "stdout",
          "text": [
            "Iteration 401 - Train Loss: 0.500915 - Dev Loss: 3.000378\r3.000378131866455\n",
            "epoch 67\n"
          ]
        },
        {
          "output_type": "stream",
          "name": "stderr",
          "text": [
            "\r  0%|          | 0/6 [00:00<?, ?it/s]"
          ]
        },
        {
          "output_type": "stream",
          "name": "stdout",
          "text": [
            "3.0062692165374756\n",
            "3.0210986137390137\n"
          ]
        },
        {
          "output_type": "stream",
          "name": "stderr",
          "text": [
            "\r 50%|█████     | 3/6 [00:00<00:00, 21.31it/s]"
          ]
        },
        {
          "output_type": "stream",
          "name": "stdout",
          "text": [
            "3.0391266345977783\n",
            "3.0471177101135254\n",
            "3.0419342517852783\n"
          ]
        },
        {
          "output_type": "stream",
          "name": "stderr",
          "text": [
            "100%|██████████| 6/6 [00:00<00:00, 21.35it/s]\n"
          ]
        },
        {
          "output_type": "stream",
          "name": "stdout",
          "text": [
            "Iteration 407 - Train Loss: 0.518915 - Dev Loss: 3.036990\r3.0369904041290283\n",
            "epoch 68\n"
          ]
        },
        {
          "output_type": "stream",
          "name": "stderr",
          "text": [
            "\r  0%|          | 0/6 [00:00<?, ?it/s]"
          ]
        },
        {
          "output_type": "stream",
          "name": "stdout",
          "text": [
            "Iteration 408 - Train Loss: 0.422904 - Dev Loss: 3.029682\r3.02968168258667\n",
            "Iteration 409 - Train Loss: 0.432061 - Dev Loss: 3.027773\r3.027772903442383\n"
          ]
        },
        {
          "output_type": "stream",
          "name": "stderr",
          "text": [
            "\r 50%|█████     | 3/6 [00:00<00:00, 21.29it/s]"
          ]
        },
        {
          "output_type": "stream",
          "name": "stdout",
          "text": [
            "Iteration 410 - Train Loss: 0.496523 - Dev Loss: 3.037209\r3.0372087955474854\n",
            "3.0525403022766113\n",
            "3.0591399669647217\n"
          ]
        },
        {
          "output_type": "stream",
          "name": "stderr",
          "text": [
            "100%|██████████| 6/6 [00:00<00:00, 21.59it/s]\n"
          ]
        },
        {
          "output_type": "stream",
          "name": "stdout",
          "text": [
            "Iteration 413 - Train Loss: 0.466221 - Dev Loss: 3.057610\r3.057609796524048\n",
            "epoch 69\n"
          ]
        },
        {
          "output_type": "stream",
          "name": "stderr",
          "text": [
            "\r  0%|          | 0/6 [00:00<?, ?it/s]"
          ]
        },
        {
          "output_type": "stream",
          "name": "stdout",
          "text": [
            "Iteration 414 - Train Loss: 0.404965 - Dev Loss: 3.061656\r3.0616557598114014\n"
          ]
        },
        {
          "output_type": "stream",
          "name": "stderr",
          "text": [
            "\r 33%|███▎      | 2/6 [00:00<00:00, 18.88it/s]"
          ]
        },
        {
          "output_type": "stream",
          "name": "stdout",
          "text": [
            "3.063790798187256\n",
            "3.058354616165161\n"
          ]
        },
        {
          "output_type": "stream",
          "name": "stderr",
          "text": [
            "\r 67%|██████▋   | 4/6 [00:00<00:00, 19.24it/s]"
          ]
        },
        {
          "output_type": "stream",
          "name": "stdout",
          "text": [
            "Iteration 417 - Train Loss: 0.474273 - Dev Loss: 3.053486\r3.053485631942749\n",
            "Iteration 418 - Train Loss: 0.464231 - Dev Loss: 3.052361\r3.052360773086548\n"
          ]
        },
        {
          "output_type": "stream",
          "name": "stderr",
          "text": [
            "\r100%|██████████| 6/6 [00:00<00:00, 21.25it/s]\n"
          ]
        },
        {
          "output_type": "stream",
          "name": "stdout",
          "text": [
            "Iteration 419 - Train Loss: 0.348628 - Dev Loss: 3.063080\r3.063080072402954\n",
            "epoch 70\n"
          ]
        },
        {
          "output_type": "stream",
          "name": "stderr",
          "text": [
            "\r  0%|          | 0/6 [00:00<?, ?it/s]"
          ]
        },
        {
          "output_type": "stream",
          "name": "stdout",
          "text": [
            "3.0750229358673096\n",
            "3.084311008453369\n"
          ]
        },
        {
          "output_type": "stream",
          "name": "stderr",
          "text": [
            "\r 50%|█████     | 3/6 [00:00<00:00, 21.42it/s]"
          ]
        },
        {
          "output_type": "stream",
          "name": "stdout",
          "text": [
            "3.099480390548706\n",
            "3.1183054447174072\n",
            "Iteration 424 - Train Loss: 0.433499 - Dev Loss: 3.119959"
          ]
        },
        {
          "output_type": "stream",
          "name": "stderr",
          "text": [
            "100%|██████████| 6/6 [00:00<00:00, 20.46it/s]\n"
          ]
        },
        {
          "output_type": "stream",
          "name": "stdout",
          "text": [
            "\r3.1199588775634766\n",
            "Iteration 425 - Train Loss: 0.567489 - Dev Loss: 3.111183\r3.1111831665039062\n",
            "epoch 71\n"
          ]
        },
        {
          "output_type": "stream",
          "name": "stderr",
          "text": [
            "\r  0%|          | 0/6 [00:00<?, ?it/s]"
          ]
        },
        {
          "output_type": "stream",
          "name": "stdout",
          "text": [
            "Iteration 426 - Train Loss: 0.415604 - Dev Loss: 3.104509\r3.1045093536376953\n",
            "Iteration 427 - Train Loss: 0.420825 - Dev Loss: 3.103480\r3.1034796237945557\n"
          ]
        },
        {
          "output_type": "stream",
          "name": "stderr",
          "text": [
            "\r 50%|█████     | 3/6 [00:00<00:00, 21.60it/s]"
          ]
        },
        {
          "output_type": "stream",
          "name": "stdout",
          "text": [
            "3.0969138145446777\n",
            "3.1039960384368896\n",
            "3.124253749847412\n"
          ]
        },
        {
          "output_type": "stream",
          "name": "stderr",
          "text": [
            "100%|██████████| 6/6 [00:00<00:00, 21.97it/s]\n"
          ]
        },
        {
          "output_type": "stream",
          "name": "stdout",
          "text": [
            "Iteration 431 - Train Loss: 0.371434 - Dev Loss: 3.131157\r3.1311569213867188\n",
            "epoch 72\n"
          ]
        },
        {
          "output_type": "stream",
          "name": "stderr",
          "text": [
            "\r  0%|          | 0/6 [00:00<?, ?it/s]"
          ]
        },
        {
          "output_type": "stream",
          "name": "stdout",
          "text": [
            "3.129429340362549\n",
            "3.1260039806365967\n"
          ]
        },
        {
          "output_type": "stream",
          "name": "stderr",
          "text": [
            "\r 50%|█████     | 3/6 [00:00<00:00, 21.30it/s]"
          ]
        },
        {
          "output_type": "stream",
          "name": "stdout",
          "text": [
            "3.122556686401367\n",
            "3.120694875717163\n",
            "3.130801200866699\n"
          ]
        },
        {
          "output_type": "stream",
          "name": "stderr",
          "text": [
            "100%|██████████| 6/6 [00:00<00:00, 20.70it/s]\n"
          ]
        },
        {
          "output_type": "stream",
          "name": "stdout",
          "text": [
            "Iteration 437 - Train Loss: 0.335059 - Dev Loss: 3.144705\r3.144705057144165\n",
            "epoch 73\n"
          ]
        },
        {
          "output_type": "stream",
          "name": "stderr",
          "text": [
            "\r  0%|          | 0/6 [00:00<?, ?it/s]"
          ]
        },
        {
          "output_type": "stream",
          "name": "stdout",
          "text": [
            "3.1615219116210938\n",
            "3.1756591796875\n"
          ]
        },
        {
          "output_type": "stream",
          "name": "stderr",
          "text": [
            "\r 50%|█████     | 3/6 [00:00<00:00, 21.56it/s]"
          ]
        },
        {
          "output_type": "stream",
          "name": "stdout",
          "text": [
            "Iteration 440 - Train Loss: 0.417061 - Dev Loss: 3.182954\r3.1829540729522705\n",
            "3.182861328125\n",
            "3.1818959712982178\n"
          ]
        },
        {
          "output_type": "stream",
          "name": "stderr",
          "text": [
            "100%|██████████| 6/6 [00:00<00:00, 20.96it/s]\n"
          ]
        },
        {
          "output_type": "stream",
          "name": "stdout",
          "text": [
            "Iteration 443 - Train Loss: 0.433398 - Dev Loss: 3.159798\r3.1597976684570312\n",
            "epoch 74\n"
          ]
        },
        {
          "output_type": "stream",
          "name": "stderr",
          "text": [
            "\r  0%|          | 0/6 [00:00<?, ?it/s]"
          ]
        },
        {
          "output_type": "stream",
          "name": "stdout",
          "text": [
            "Iteration 444 - Train Loss: 0.382585 - Dev Loss: 3.162925\r3.1629254817962646\n"
          ]
        },
        {
          "output_type": "stream",
          "name": "stderr",
          "text": [
            "\r 50%|█████     | 3/6 [00:00<00:00, 21.09it/s]"
          ]
        },
        {
          "output_type": "stream",
          "name": "stdout",
          "text": [
            "Iteration 445 - Train Loss: 0.346828 - Dev Loss: 3.164851\r3.1648507118225098\n",
            "3.173703670501709\n",
            "3.179187059402466\n",
            "3.179304599761963\n"
          ]
        },
        {
          "output_type": "stream",
          "name": "stderr",
          "text": [
            "100%|██████████| 6/6 [00:00<00:00, 21.43it/s]\n"
          ]
        },
        {
          "output_type": "stream",
          "name": "stdout",
          "text": [
            "Iteration 449 - Train Loss: 0.354105 - Dev Loss: 3.161811\r3.161811351776123\n",
            "epoch 75\n"
          ]
        },
        {
          "output_type": "stream",
          "name": "stderr",
          "text": [
            "\r  0%|          | 0/6 [00:00<?, ?it/s]"
          ]
        },
        {
          "output_type": "stream",
          "name": "stdout",
          "text": [
            "Iteration 450 - Train Loss: 0.383782 - Dev Loss: 3.146917\r3.1469171047210693\n"
          ]
        },
        {
          "output_type": "stream",
          "name": "stderr",
          "text": [
            "\r 33%|███▎      | 2/6 [00:00<00:00, 15.64it/s]"
          ]
        },
        {
          "output_type": "stream",
          "name": "stdout",
          "text": [
            "3.1442346572875977\n",
            "3.157705783843994\n"
          ]
        },
        {
          "output_type": "stream",
          "name": "stderr",
          "text": [
            "\r 83%|████████▎ | 5/6 [00:00<00:00, 19.42it/s]"
          ]
        },
        {
          "output_type": "stream",
          "name": "stdout",
          "text": [
            "Iteration 453 - Train Loss: 0.341846 - Dev Loss: 3.177302\r3.177302360534668\n",
            "Iteration 454 - Train Loss: 0.359613 - Dev Loss: 3.188573\r3.188572883605957\n"
          ]
        },
        {
          "output_type": "stream",
          "name": "stderr",
          "text": [
            "\r100%|██████████| 6/6 [00:00<00:00, 19.86it/s]\n"
          ]
        },
        {
          "output_type": "stream",
          "name": "stdout",
          "text": [
            "Iteration 455 - Train Loss: 0.369250 - Dev Loss: 3.191266\r3.1912662982940674\n",
            "epoch 76\n"
          ]
        },
        {
          "output_type": "stream",
          "name": "stderr",
          "text": [
            "\r  0%|          | 0/6 [00:00<?, ?it/s]"
          ]
        },
        {
          "output_type": "stream",
          "name": "stdout",
          "text": [
            "Iteration 456 - Train Loss: 0.329704 - Dev Loss: 3.188186\r3.188185691833496\n"
          ]
        },
        {
          "output_type": "stream",
          "name": "stderr",
          "text": [
            "\r 33%|███▎      | 2/6 [00:00<00:00, 19.03it/s]"
          ]
        },
        {
          "output_type": "stream",
          "name": "stdout",
          "text": [
            "3.1908998489379883\n",
            "3.194888114929199\n"
          ]
        },
        {
          "output_type": "stream",
          "name": "stderr",
          "text": [
            "\r 67%|██████▋   | 4/6 [00:00<00:00, 18.71it/s]"
          ]
        },
        {
          "output_type": "stream",
          "name": "stdout",
          "text": [
            "Iteration 459 - Train Loss: 0.347773 - Dev Loss: 3.199789\r3.1997885704040527\n"
          ]
        },
        {
          "output_type": "stream",
          "name": "stderr",
          "text": [
            "\r100%|██████████| 6/6 [00:00<00:00, 20.64it/s]\n"
          ]
        },
        {
          "output_type": "stream",
          "name": "stdout",
          "text": [
            "Iteration 460 - Train Loss: 0.385279 - Dev Loss: 3.207792\r3.207792282104492\n",
            "Iteration 461 - Train Loss: 0.318263 - Dev Loss: 3.205425\r3.2054247856140137\n",
            "epoch 77\n"
          ]
        },
        {
          "output_type": "stream",
          "name": "stderr",
          "text": [
            "\r  0%|          | 0/6 [00:00<?, ?it/s]"
          ]
        },
        {
          "output_type": "stream",
          "name": "stdout",
          "text": [
            "Iteration 462 - Train Loss: 0.345497 - Dev Loss: 3.189650\r3.189650297164917\n"
          ]
        },
        {
          "output_type": "stream",
          "name": "stderr",
          "text": [
            "\r 33%|███▎      | 2/6 [00:00<00:00, 18.50it/s]"
          ]
        },
        {
          "output_type": "stream",
          "name": "stdout",
          "text": [
            "3.1816914081573486\n",
            "3.1858484745025635\n"
          ]
        },
        {
          "output_type": "stream",
          "name": "stderr",
          "text": [
            "\r 83%|████████▎ | 5/6 [00:00<00:00, 19.99it/s]"
          ]
        },
        {
          "output_type": "stream",
          "name": "stdout",
          "text": [
            "Iteration 465 - Train Loss: 0.384581 - Dev Loss: 3.207864\r3.2078635692596436\n",
            "Iteration 466 - Train Loss: 0.328371 - Dev Loss: 3.218144\r3.2181437015533447\n"
          ]
        },
        {
          "output_type": "stream",
          "name": "stderr",
          "text": [
            "\r100%|██████████| 6/6 [00:00<00:00, 20.99it/s]\n"
          ]
        },
        {
          "output_type": "stream",
          "name": "stdout",
          "text": [
            "Iteration 467 - Train Loss: 0.379693 - Dev Loss: 3.240729\r3.2407288551330566\n",
            "epoch 78\n"
          ]
        },
        {
          "output_type": "stream",
          "name": "stderr",
          "text": [
            "\r  0%|          | 0/6 [00:00<?, ?it/s]"
          ]
        },
        {
          "output_type": "stream",
          "name": "stdout",
          "text": [
            "Iteration 468 - Train Loss: 0.348936 - Dev Loss: 3.261458\r3.261458396911621\n"
          ]
        },
        {
          "output_type": "stream",
          "name": "stderr",
          "text": [
            "\r 33%|███▎      | 2/6 [00:00<00:00, 18.92it/s]"
          ]
        },
        {
          "output_type": "stream",
          "name": "stdout",
          "text": [
            "3.278748035430908\n",
            "3.27410626411438\n"
          ]
        },
        {
          "output_type": "stream",
          "name": "stderr",
          "text": [
            "\r 83%|████████▎ | 5/6 [00:00<00:00, 19.82it/s]"
          ]
        },
        {
          "output_type": "stream",
          "name": "stdout",
          "text": [
            "Iteration 471 - Train Loss: 0.391628 - Dev Loss: 3.253084\r3.253084182739258\n",
            "Iteration 472 - Train Loss: 0.338002 - Dev Loss: 3.239865\r3.2398650646209717\n"
          ]
        },
        {
          "output_type": "stream",
          "name": "stderr",
          "text": [
            "\r100%|██████████| 6/6 [00:00<00:00, 20.42it/s]\n"
          ]
        },
        {
          "output_type": "stream",
          "name": "stdout",
          "text": [
            "Iteration 473 - Train Loss: 0.321217 - Dev Loss: 3.237030\r3.237030267715454\n",
            "epoch 79\n"
          ]
        },
        {
          "output_type": "stream",
          "name": "stderr",
          "text": [
            "\r  0%|          | 0/6 [00:00<?, ?it/s]"
          ]
        },
        {
          "output_type": "stream",
          "name": "stdout",
          "text": [
            "Iteration 474 - Train Loss: 0.343208 - Dev Loss: 3.241742\r3.24174165725708\n"
          ]
        },
        {
          "output_type": "stream",
          "name": "stderr",
          "text": [
            "\r 33%|███▎      | 2/6 [00:00<00:00, 17.75it/s]"
          ]
        },
        {
          "output_type": "stream",
          "name": "stdout",
          "text": [
            "Iteration 475 - Train Loss: 0.397718 - Dev Loss: 3.258798\r3.2587976455688477\n",
            "Iteration 476 - Train Loss: 0.296157 - Dev Loss: 3.268084\r3.2680838108062744\n"
          ]
        },
        {
          "output_type": "stream",
          "name": "stderr",
          "text": [
            "\r 67%|██████▋   | 4/6 [00:00<00:00, 18.97it/s]"
          ]
        },
        {
          "output_type": "stream",
          "name": "stdout",
          "text": [
            "Iteration 477 - Train Loss: 0.322163 - Dev Loss: 3.273493\r3.2734932899475098\n",
            "Iteration 478 - Train Loss: 0.333704 - Dev Loss: 3.280933\r3.280932664871216\n"
          ]
        },
        {
          "output_type": "stream",
          "name": "stderr",
          "text": [
            "\r100%|██████████| 6/6 [00:00<00:00, 20.36it/s]\n"
          ]
        },
        {
          "output_type": "stream",
          "name": "stdout",
          "text": [
            "Iteration 479 - Train Loss: 0.321596 - Dev Loss: 3.300952\r3.300952196121216\n",
            "epoch 80\n"
          ]
        },
        {
          "output_type": "stream",
          "name": "stderr",
          "text": [
            "\r  0%|          | 0/6 [00:00<?, ?it/s]"
          ]
        },
        {
          "output_type": "stream",
          "name": "stdout",
          "text": [
            "Iteration 480 - Train Loss: 0.341726 - Dev Loss: 3.309256\r3.309255838394165\n",
            "Iteration 481 - Train Loss: 0.318492 - Dev Loss: 3.296854\r3.2968544960021973\n"
          ]
        },
        {
          "output_type": "stream",
          "name": "stderr",
          "text": [
            "\r 50%|█████     | 3/6 [00:00<00:00, 21.47it/s]"
          ]
        },
        {
          "output_type": "stream",
          "name": "stdout",
          "text": [
            "Iteration 482 - Train Loss: 0.338956 - Dev Loss: 3.273990\r3.2739903926849365\n",
            "3.2604241371154785\n",
            "3.259404420852661\n"
          ]
        },
        {
          "output_type": "stream",
          "name": "stderr",
          "text": [
            "100%|██████████| 6/6 [00:00<00:00, 22.48it/s]\n"
          ]
        },
        {
          "output_type": "stream",
          "name": "stdout",
          "text": [
            "Iteration 485 - Train Loss: 0.339050 - Dev Loss: 3.276445\r3.276444673538208\n",
            "epoch 81\n"
          ]
        },
        {
          "output_type": "stream",
          "name": "stderr",
          "text": [
            "\r  0%|          | 0/6 [00:00<?, ?it/s]"
          ]
        },
        {
          "output_type": "stream",
          "name": "stdout",
          "text": [
            "Iteration 486 - Train Loss: 0.342876 - Dev Loss: 3.287101\r3.2871007919311523\n"
          ]
        },
        {
          "output_type": "stream",
          "name": "stderr",
          "text": [
            "\r 50%|█████     | 3/6 [00:00<00:00, 21.54it/s]"
          ]
        },
        {
          "output_type": "stream",
          "name": "stdout",
          "text": [
            "Iteration 487 - Train Loss: 0.317692 - Dev Loss: 3.281525\r3.2815253734588623\n",
            "3.269280195236206\n",
            "3.261533498764038\n",
            "3.269672393798828\n"
          ]
        },
        {
          "output_type": "stream",
          "name": "stderr",
          "text": [
            "100%|██████████| 6/6 [00:00<00:00, 21.43it/s]\n"
          ]
        },
        {
          "output_type": "stream",
          "name": "stdout",
          "text": [
            "Iteration 491 - Train Loss: 0.323718 - Dev Loss: 3.302722\r3.3027219772338867\n",
            "epoch 82\n"
          ]
        },
        {
          "output_type": "stream",
          "name": "stderr",
          "text": [
            " 33%|███▎      | 2/6 [00:00<00:00, 19.99it/s]"
          ]
        },
        {
          "output_type": "stream",
          "name": "stdout",
          "text": [
            "Iteration 492 - Train Loss: 0.303948 - Dev Loss: 3.337440\r3.33743953704834\n",
            "3.3534796237945557\n",
            "3.3558287620544434\n"
          ]
        },
        {
          "output_type": "stream",
          "name": "stderr",
          "text": [
            "\r 83%|████████▎ | 5/6 [00:00<00:00, 19.86it/s]"
          ]
        },
        {
          "output_type": "stream",
          "name": "stdout",
          "text": [
            "Iteration 495 - Train Loss: 0.277940 - Dev Loss: 3.347500\r3.3475003242492676\n",
            "Iteration 496 - Train Loss: 0.325477 - Dev Loss: 3.327657\r3.327657461166382\n"
          ]
        },
        {
          "output_type": "stream",
          "name": "stderr",
          "text": [
            "\r100%|██████████| 6/6 [00:00<00:00, 20.53it/s]\n"
          ]
        },
        {
          "output_type": "stream",
          "name": "stdout",
          "text": [
            "Iteration 497 - Train Loss: 0.259003 - Dev Loss: 3.310403\r3.3104028701782227\n",
            "epoch 83\n"
          ]
        },
        {
          "output_type": "stream",
          "name": "stderr",
          "text": [
            "\r  0%|          | 0/6 [00:00<?, ?it/s]"
          ]
        },
        {
          "output_type": "stream",
          "name": "stdout",
          "text": [
            "Iteration 498 - Train Loss: 0.336642 - Dev Loss: 3.296107\r3.2961068153381348\n"
          ]
        },
        {
          "output_type": "stream",
          "name": "stderr",
          "text": [
            "\r 33%|███▎      | 2/6 [00:00<00:00, 18.43it/s]"
          ]
        },
        {
          "output_type": "stream",
          "name": "stdout",
          "text": [
            "Iteration 499 - Train Loss: 0.303493 - Dev Loss: 3.286648\r3.2866477966308594\n",
            "Iteration 500 - Train Loss: 0.291968 - Dev Loss: 3.292599\r3.2925987243652344\n"
          ]
        },
        {
          "output_type": "stream",
          "name": "stderr",
          "text": [
            "\r 83%|████████▎ | 5/6 [00:00<00:00, 20.30it/s]"
          ]
        },
        {
          "output_type": "stream",
          "name": "stdout",
          "text": [
            "Iteration 501 - Train Loss: 0.293038 - Dev Loss: 3.317369\r3.317368984222412\n",
            "Iteration 502 - Train Loss: 0.284414 - Dev Loss: 3.347733\r3.3477327823638916\n"
          ]
        },
        {
          "output_type": "stream",
          "name": "stderr",
          "text": [
            "\r100%|██████████| 6/6 [00:00<00:00, 21.21it/s]\n"
          ]
        },
        {
          "output_type": "stream",
          "name": "stdout",
          "text": [
            "Iteration 503 - Train Loss: 0.300826 - Dev Loss: 3.365753\r3.365753173828125\n",
            "epoch 84\n"
          ]
        },
        {
          "output_type": "stream",
          "name": "stderr",
          "text": [
            "\r  0%|          | 0/6 [00:00<?, ?it/s]"
          ]
        },
        {
          "output_type": "stream",
          "name": "stdout",
          "text": [
            "Iteration 504 - Train Loss: 0.306152 - Dev Loss: 3.372365\r3.3723645210266113\n",
            "Iteration 505 - Train Loss: 0.300772 - Dev Loss: 3.371484\r3.3714842796325684\n"
          ]
        },
        {
          "output_type": "stream",
          "name": "stderr",
          "text": [
            "\r 50%|█████     | 3/6 [00:00<00:00, 20.09it/s]"
          ]
        },
        {
          "output_type": "stream",
          "name": "stdout",
          "text": [
            "Iteration 506 - Train Loss: 0.278764 - Dev Loss: 3.373759\r3.3737590312957764\n",
            "3.3703203201293945\n",
            "3.3632326126098633\n"
          ]
        },
        {
          "output_type": "stream",
          "name": "stderr",
          "text": [
            "100%|██████████| 6/6 [00:00<00:00, 21.40it/s]\n"
          ]
        },
        {
          "output_type": "stream",
          "name": "stdout",
          "text": [
            "Iteration 509 - Train Loss: 0.278273 - Dev Loss: 3.356947\r3.356947183609009\n",
            "epoch 85\n"
          ]
        },
        {
          "output_type": "stream",
          "name": "stderr",
          "text": [
            "\r  0%|          | 0/6 [00:00<?, ?it/s]"
          ]
        },
        {
          "output_type": "stream",
          "name": "stdout",
          "text": [
            "Iteration 510 - Train Loss: 0.280395 - Dev Loss: 3.355479\r3.3554792404174805\n"
          ]
        },
        {
          "output_type": "stream",
          "name": "stderr",
          "text": [
            "\r 50%|█████     | 3/6 [00:00<00:00, 20.43it/s]"
          ]
        },
        {
          "output_type": "stream",
          "name": "stdout",
          "text": [
            "Iteration 511 - Train Loss: 0.251223 - Dev Loss: 3.355461\r3.3554608821868896\n",
            "3.355259656906128\n",
            "3.36089825630188\n"
          ]
        },
        {
          "output_type": "stream",
          "name": "stderr",
          "text": [
            "100%|██████████| 6/6 [00:00<00:00, 21.19it/s]\n"
          ]
        },
        {
          "output_type": "stream",
          "name": "stdout",
          "text": [
            "Iteration 514 - Train Loss: 0.246966 - Dev Loss: 3.373650\r3.3736495971679688\n",
            "Iteration 515 - Train Loss: 0.302066 - Dev Loss: 3.407020\r3.407019853591919\n",
            "epoch 86\n"
          ]
        },
        {
          "output_type": "stream",
          "name": "stderr",
          "text": [
            " 33%|███▎      | 2/6 [00:00<00:00, 19.33it/s]"
          ]
        },
        {
          "output_type": "stream",
          "name": "stdout",
          "text": [
            "Iteration 516 - Train Loss: 0.287443 - Dev Loss: 3.443230\r3.443229913711548\n",
            "3.4526236057281494\n",
            "3.4430577754974365\n"
          ]
        },
        {
          "output_type": "stream",
          "name": "stderr",
          "text": [
            "\r 67%|██████▋   | 4/6 [00:00<00:00, 19.38it/s]"
          ]
        },
        {
          "output_type": "stream",
          "name": "stdout",
          "text": [
            "Iteration 519 - Train Loss: 0.270517 - Dev Loss: 3.417319\r3.417318820953369\n",
            "Iteration 520 - Train Loss: 0.271079 - Dev Loss: 3.407370\r3.407370090484619\n"
          ]
        },
        {
          "output_type": "stream",
          "name": "stderr",
          "text": [
            "\r100%|██████████| 6/6 [00:00<00:00, 19.88it/s]\n"
          ]
        },
        {
          "output_type": "stream",
          "name": "stdout",
          "text": [
            "Iteration 521 - Train Loss: 0.299372 - Dev Loss: 3.381235\r3.381234884262085\n",
            "epoch 87\n"
          ]
        },
        {
          "output_type": "stream",
          "name": "stderr",
          "text": [
            "\r  0%|          | 0/6 [00:00<?, ?it/s]"
          ]
        },
        {
          "output_type": "stream",
          "name": "stdout",
          "text": [
            "Iteration 522 - Train Loss: 0.262219 - Dev Loss: 3.372268\r3.3722684383392334\n",
            "Iteration 523 - Train Loss: 0.282667 - Dev Loss: 3.390346\r3.3903462886810303\n"
          ]
        },
        {
          "output_type": "stream",
          "name": "stderr",
          "text": [
            "\r 50%|█████     | 3/6 [00:00<00:00, 19.16it/s]"
          ]
        },
        {
          "output_type": "stream",
          "name": "stdout",
          "text": [
            "3.425593376159668\n",
            "3.463536024093628\n",
            "3.512986660003662\n"
          ]
        },
        {
          "output_type": "stream",
          "name": "stderr",
          "text": [
            "100%|██████████| 6/6 [00:00<00:00, 20.97it/s]\n"
          ]
        },
        {
          "output_type": "stream",
          "name": "stdout",
          "text": [
            "Iteration 527 - Train Loss: 0.243272 - Dev Loss: 3.545057\r3.5450565814971924\n",
            "epoch 88\n"
          ]
        },
        {
          "output_type": "stream",
          "name": "stderr",
          "text": [
            "\r  0%|          | 0/6 [00:00<?, ?it/s]"
          ]
        },
        {
          "output_type": "stream",
          "name": "stdout",
          "text": [
            "3.5622997283935547\n",
            "3.5586962699890137\n"
          ]
        },
        {
          "output_type": "stream",
          "name": "stderr",
          "text": [
            "\r 50%|█████     | 3/6 [00:00<00:00, 21.89it/s]"
          ]
        },
        {
          "output_type": "stream",
          "name": "stdout",
          "text": [
            "Iteration 530 - Train Loss: 0.276321 - Dev Loss: 3.524688\r3.5246877670288086\n",
            "3.483325481414795\n",
            "3.448615074157715\n"
          ]
        },
        {
          "output_type": "stream",
          "name": "stderr",
          "text": [
            "100%|██████████| 6/6 [00:00<00:00, 21.97it/s]\n"
          ]
        },
        {
          "output_type": "stream",
          "name": "stdout",
          "text": [
            "Iteration 533 - Train Loss: 0.304339 - Dev Loss: 3.428176\r3.428176164627075\n",
            "epoch 89\n"
          ]
        },
        {
          "output_type": "stream",
          "name": "stderr",
          "text": [
            "\r  0%|          | 0/6 [00:00<?, ?it/s]"
          ]
        },
        {
          "output_type": "stream",
          "name": "stdout",
          "text": [
            "Iteration 534 - Train Loss: 0.249076 - Dev Loss: 3.422771\r3.4227705001831055\n"
          ]
        },
        {
          "output_type": "stream",
          "name": "stderr",
          "text": [
            "\r 33%|███▎      | 2/6 [00:00<00:00, 19.80it/s]"
          ]
        },
        {
          "output_type": "stream",
          "name": "stdout",
          "text": [
            "Iteration 535 - Train Loss: 0.263308 - Dev Loss: 3.416655\r3.416654586791992\n",
            "Iteration 536 - Train Loss: 0.265150 - Dev Loss: 3.417882\r3.417881965637207\n"
          ]
        },
        {
          "output_type": "stream",
          "name": "stderr",
          "text": [
            "\r 67%|██████▋   | 4/6 [00:00<00:00, 18.78it/s]"
          ]
        },
        {
          "output_type": "stream",
          "name": "stdout",
          "text": [
            "Iteration 537 - Train Loss: 0.290173 - Dev Loss: 3.428396\r3.4283957481384277\n",
            "Iteration 538 - Train Loss: 0.259913 - Dev Loss: 3.453964\r3.4539637565612793\n"
          ]
        },
        {
          "output_type": "stream",
          "name": "stderr",
          "text": [
            "\r100%|██████████| 6/6 [00:00<00:00, 21.10it/s]\n"
          ]
        },
        {
          "output_type": "stream",
          "name": "stdout",
          "text": [
            "Iteration 539 - Train Loss: 0.219880 - Dev Loss: 3.520756\r3.5207560062408447\n",
            "epoch 90\n"
          ]
        },
        {
          "output_type": "stream",
          "name": "stderr",
          "text": [
            " 33%|███▎      | 2/6 [00:00<00:00, 19.94it/s]"
          ]
        },
        {
          "output_type": "stream",
          "name": "stdout",
          "text": [
            "Iteration 540 - Train Loss: 0.259063 - Dev Loss: 3.582126\r3.582125663757324\n",
            "3.5931193828582764\n",
            "3.5746243000030518\n"
          ]
        },
        {
          "output_type": "stream",
          "name": "stderr",
          "text": [
            "\r 67%|██████▋   | 4/6 [00:00<00:00, 19.17it/s]"
          ]
        },
        {
          "output_type": "stream",
          "name": "stdout",
          "text": [
            "Iteration 543 - Train Loss: 0.270819 - Dev Loss: 3.543272\r3.543271780014038\n"
          ]
        },
        {
          "output_type": "stream",
          "name": "stderr",
          "text": [
            "100%|██████████| 6/6 [00:00<00:00, 18.61it/s]\n"
          ]
        },
        {
          "output_type": "stream",
          "name": "stdout",
          "text": [
            "Iteration 544 - Train Loss: 0.275916 - Dev Loss: 3.503733\r3.5037331581115723\n",
            "Iteration 545 - Train Loss: 0.210084 - Dev Loss: 3.467481\r3.4674806594848633\n",
            "epoch 91\n"
          ]
        },
        {
          "output_type": "stream",
          "name": "stderr",
          "text": [
            "\r  0%|          | 0/6 [00:00<?, ?it/s]"
          ]
        },
        {
          "output_type": "stream",
          "name": "stdout",
          "text": [
            "3.44457745552063\n",
            "3.433427333831787\n"
          ]
        },
        {
          "output_type": "stream",
          "name": "stderr",
          "text": [
            "\r 33%|███▎      | 2/6 [00:00<00:00, 13.70it/s]"
          ]
        },
        {
          "output_type": "stream",
          "name": "stdout",
          "text": [
            "Iteration 548 - Train Loss: 0.271496 - Dev Loss: 3.435494\r3.4354937076568604\n"
          ]
        },
        {
          "output_type": "stream",
          "name": "stderr",
          "text": [
            "\r 67%|██████▋   | 4/6 [00:00<00:00, 13.52it/s]"
          ]
        },
        {
          "output_type": "stream",
          "name": "stdout",
          "text": [
            "3.437558174133301\n",
            "3.450310707092285\n",
            "3.493293523788452\n"
          ]
        },
        {
          "output_type": "stream",
          "name": "stderr",
          "text": [
            "100%|██████████| 6/6 [00:00<00:00, 14.41it/s]\n"
          ]
        },
        {
          "output_type": "stream",
          "name": "stdout",
          "text": [
            "epoch 92\n"
          ]
        },
        {
          "output_type": "stream",
          "name": "stderr",
          "text": [
            "\r  0%|          | 0/6 [00:00<?, ?it/s]"
          ]
        },
        {
          "output_type": "stream",
          "name": "stdout",
          "text": [
            "Iteration 552 - Train Loss: 0.231152 - Dev Loss: 3.527048\r3.527047872543335\n"
          ]
        },
        {
          "output_type": "stream",
          "name": "stderr",
          "text": [
            "\r 33%|███▎      | 2/6 [00:00<00:00, 12.69it/s]"
          ]
        },
        {
          "output_type": "stream",
          "name": "stdout",
          "text": [
            "3.527250051498413\n",
            "3.5315890312194824\n",
            "3.553130865097046\n"
          ]
        },
        {
          "output_type": "stream",
          "name": "stderr",
          "text": [
            "\r 67%|██████▋   | 4/6 [00:00<00:00, 14.30it/s]"
          ]
        },
        {
          "output_type": "stream",
          "name": "stdout",
          "text": [
            "Iteration 556 - Train Loss: 0.243345 - Dev Loss: 3.556800"
          ]
        },
        {
          "output_type": "stream",
          "name": "stderr",
          "text": [
            "100%|██████████| 6/6 [00:00<00:00, 14.63it/s]\n"
          ]
        },
        {
          "output_type": "stream",
          "name": "stdout",
          "text": [
            "\r3.5567996501922607\n",
            "Iteration 557 - Train Loss: 0.220226 - Dev Loss: 3.557173\r3.557173252105713\n",
            "epoch 93\n"
          ]
        },
        {
          "output_type": "stream",
          "name": "stderr",
          "text": [
            "\r  0%|          | 0/6 [00:00<?, ?it/s]"
          ]
        },
        {
          "output_type": "stream",
          "name": "stdout",
          "text": [
            "Iteration 558 - Train Loss: 0.262526 - Dev Loss: 3.540521\r3.5405209064483643\n"
          ]
        },
        {
          "output_type": "stream",
          "name": "stderr",
          "text": [
            "\r 33%|███▎      | 2/6 [00:00<00:00, 13.65it/s]"
          ]
        },
        {
          "output_type": "stream",
          "name": "stdout",
          "text": [
            "Iteration 559 - Train Loss: 0.216949 - Dev Loss: 3.512071\r3.512071132659912\n",
            "Iteration 560 - Train Loss: 0.238891 - Dev Loss: 3.492556\r3.49255633354187\n"
          ]
        },
        {
          "output_type": "stream",
          "name": "stderr",
          "text": [
            "\r 67%|██████▋   | 4/6 [00:00<00:00, 13.27it/s]"
          ]
        },
        {
          "output_type": "stream",
          "name": "stdout",
          "text": [
            "Iteration 561 - Train Loss: 0.246308 - Dev Loss: 3.490845\r3.490844964981079\n"
          ]
        },
        {
          "output_type": "stream",
          "name": "stderr",
          "text": [
            "100%|██████████| 6/6 [00:00<00:00, 13.90it/s]\n"
          ]
        },
        {
          "output_type": "stream",
          "name": "stdout",
          "text": [
            "Iteration 562 - Train Loss: 0.253529 - Dev Loss: 3.507625\r3.507624626159668\n",
            "Iteration 563 - Train Loss: 0.174700 - Dev Loss: 3.531880\r3.5318799018859863\n",
            "epoch 94\n"
          ]
        },
        {
          "output_type": "stream",
          "name": "stderr",
          "text": [
            "\r  0%|          | 0/6 [00:00<?, ?it/s]"
          ]
        },
        {
          "output_type": "stream",
          "name": "stdout",
          "text": [
            "Iteration 564 - Train Loss: 0.229647 - Dev Loss: 3.550576\r3.5505757331848145\n"
          ]
        },
        {
          "output_type": "stream",
          "name": "stderr",
          "text": [
            "\r 33%|███▎      | 2/6 [00:00<00:00, 13.10it/s]"
          ]
        },
        {
          "output_type": "stream",
          "name": "stdout",
          "text": [
            "Iteration 565 - Train Loss: 0.226060 - Dev Loss: 3.554414\r3.5544142723083496\n",
            "Iteration 566 - Train Loss: 0.275776 - Dev Loss: 3.556043\r3.5560429096221924\n"
          ]
        },
        {
          "output_type": "stream",
          "name": "stderr",
          "text": [
            "\r 67%|██████▋   | 4/6 [00:00<00:00, 13.52it/s]"
          ]
        },
        {
          "output_type": "stream",
          "name": "stdout",
          "text": [
            "Iteration 567 - Train Loss: 0.225402 - Dev Loss: 3.556209\r3.5562093257904053\n"
          ]
        },
        {
          "output_type": "stream",
          "name": "stderr",
          "text": [
            "100%|██████████| 6/6 [00:00<00:00, 13.90it/s]\n"
          ]
        },
        {
          "output_type": "stream",
          "name": "stdout",
          "text": [
            "Iteration 568 - Train Loss: 0.217106 - Dev Loss: 3.552370\r3.552370309829712\n",
            "Iteration 569 - Train Loss: 0.198757 - Dev Loss: 3.553151\r3.5531511306762695\n",
            "epoch 95\n"
          ]
        },
        {
          "output_type": "stream",
          "name": "stderr",
          "text": [
            "\r  0%|          | 0/6 [00:00<?, ?it/s]"
          ]
        },
        {
          "output_type": "stream",
          "name": "stdout",
          "text": [
            "Iteration 570 - Train Loss: 0.236411 - Dev Loss: 3.557043\r3.5570425987243652\n"
          ]
        },
        {
          "output_type": "stream",
          "name": "stderr",
          "text": [
            "\r 33%|███▎      | 2/6 [00:00<00:00, 12.43it/s]"
          ]
        },
        {
          "output_type": "stream",
          "name": "stdout",
          "text": [
            "Iteration 571 - Train Loss: 0.244225 - Dev Loss: 3.565455\r3.565455198287964\n",
            "Iteration 572 - Train Loss: 0.217184 - Dev Loss: 3.561296\r3.561295509338379\n"
          ]
        },
        {
          "output_type": "stream",
          "name": "stderr",
          "text": [
            "\r 67%|██████▋   | 4/6 [00:00<00:00, 14.22it/s]"
          ]
        },
        {
          "output_type": "stream",
          "name": "stdout",
          "text": [
            "Iteration 573 - Train Loss: 0.205241 - Dev Loss: 3.560846\r3.5608458518981934\n",
            "Iteration 574 - Train Loss: 0.227685 - Dev Loss: 3.562671\r3.562670946121216\n"
          ]
        },
        {
          "output_type": "stream",
          "name": "stderr",
          "text": [
            "\r100%|██████████| 6/6 [00:00<00:00, 16.19it/s]\n"
          ]
        },
        {
          "output_type": "stream",
          "name": "stdout",
          "text": [
            "Iteration 575 - Train Loss: 0.177459 - Dev Loss: 3.570174\r3.570173501968384\n",
            "epoch 96\n"
          ]
        },
        {
          "output_type": "stream",
          "name": "stderr",
          "text": [
            " 33%|███▎      | 2/6 [00:00<00:00, 19.22it/s]"
          ]
        },
        {
          "output_type": "stream",
          "name": "stdout",
          "text": [
            "Iteration 576 - Train Loss: 0.219383 - Dev Loss: 3.577582\r3.5775821208953857\n",
            "3.586536407470703\n",
            "3.5936505794525146\n"
          ]
        },
        {
          "output_type": "stream",
          "name": "stderr",
          "text": [
            "\r 67%|██████▋   | 4/6 [00:00<00:00, 19.46it/s]"
          ]
        },
        {
          "output_type": "stream",
          "name": "stdout",
          "text": [
            "Iteration 579 - Train Loss: 0.224066 - Dev Loss: 3.590624\r3.5906243324279785\n",
            "Iteration 580 - Train Loss: 0.194320 - Dev Loss: 3.588574\r3.588573694229126\n"
          ]
        },
        {
          "output_type": "stream",
          "name": "stderr",
          "text": [
            "\r100%|██████████| 6/6 [00:00<00:00, 20.65it/s]\n"
          ]
        },
        {
          "output_type": "stream",
          "name": "stdout",
          "text": [
            "Iteration 581 - Train Loss: 0.240668 - Dev Loss: 3.592999\r3.592999219894409\n",
            "epoch 97\n"
          ]
        },
        {
          "output_type": "stream",
          "name": "stderr",
          "text": [
            "\r  0%|          | 0/6 [00:00<?, ?it/s]"
          ]
        },
        {
          "output_type": "stream",
          "name": "stdout",
          "text": [
            "3.6059536933898926\n",
            "3.6218464374542236\n"
          ]
        },
        {
          "output_type": "stream",
          "name": "stderr",
          "text": [
            "\r 50%|█████     | 3/6 [00:00<00:00, 19.43it/s]"
          ]
        },
        {
          "output_type": "stream",
          "name": "stdout",
          "text": [
            "3.633352756500244\n",
            "3.630021810531616\n",
            "3.6237473487854004\n"
          ]
        },
        {
          "output_type": "stream",
          "name": "stderr",
          "text": [
            "100%|██████████| 6/6 [00:00<00:00, 21.23it/s]\n"
          ]
        },
        {
          "output_type": "stream",
          "name": "stdout",
          "text": [
            "Iteration 587 - Train Loss: 0.197361 - Dev Loss: 3.616340\r3.616339683532715\n",
            "epoch 98\n"
          ]
        },
        {
          "output_type": "stream",
          "name": "stderr",
          "text": [
            "\r  0%|          | 0/6 [00:00<?, ?it/s]"
          ]
        },
        {
          "output_type": "stream",
          "name": "stdout",
          "text": [
            "Iteration 588 - Train Loss: 0.192819 - Dev Loss: 3.612121\r3.6121206283569336\n"
          ]
        },
        {
          "output_type": "stream",
          "name": "stderr",
          "text": [
            "\r 33%|███▎      | 2/6 [00:00<00:00, 18.28it/s]"
          ]
        },
        {
          "output_type": "stream",
          "name": "stdout",
          "text": [
            "Iteration 589 - Train Loss: 0.201302 - Dev Loss: 3.615900\r3.6158998012542725\n",
            "Iteration 590 - Train Loss: 0.191482 - Dev Loss: 3.624537\r3.624537229537964\n"
          ]
        },
        {
          "output_type": "stream",
          "name": "stderr",
          "text": [
            "\r 83%|████████▎ | 5/6 [00:00<00:00, 20.30it/s]"
          ]
        },
        {
          "output_type": "stream",
          "name": "stdout",
          "text": [
            "Iteration 591 - Train Loss: 0.222961 - Dev Loss: 3.632375\r3.6323747634887695\n",
            "Iteration 592 - Train Loss: 0.231821 - Dev Loss: 3.632439\r3.6324386596679688\n"
          ]
        },
        {
          "output_type": "stream",
          "name": "stderr",
          "text": [
            "\r100%|██████████| 6/6 [00:00<00:00, 20.98it/s]\n"
          ]
        },
        {
          "output_type": "stream",
          "name": "stdout",
          "text": [
            "Iteration 593 - Train Loss: 0.146732 - Dev Loss: 3.628425\r3.628425121307373\n",
            "epoch 99\n"
          ]
        },
        {
          "output_type": "stream",
          "name": "stderr",
          "text": [
            " 33%|███▎      | 2/6 [00:00<00:00, 19.37it/s]"
          ]
        },
        {
          "output_type": "stream",
          "name": "stdout",
          "text": [
            "Iteration 594 - Train Loss: 0.189170 - Dev Loss: 3.631157\r3.6311569213867188\n",
            "3.640068769454956\n",
            "3.655407428741455\n"
          ]
        },
        {
          "output_type": "stream",
          "name": "stderr",
          "text": [
            "\r 67%|██████▋   | 4/6 [00:00<00:00, 18.96it/s]"
          ]
        },
        {
          "output_type": "stream",
          "name": "stdout",
          "text": [
            "Iteration 597 - Train Loss: 0.211566 - Dev Loss: 3.664780\r3.6647799015045166\n"
          ]
        },
        {
          "output_type": "stream",
          "name": "stderr",
          "text": [
            "\r100%|██████████| 6/6 [00:00<00:00, 20.02it/s]\n"
          ]
        },
        {
          "output_type": "stream",
          "name": "stdout",
          "text": [
            "Iteration 598 - Train Loss: 0.219031 - Dev Loss: 3.669596\r3.669595718383789\n",
            "Iteration 599 - Train Loss: 0.192698 - Dev Loss: 3.675046\r3.675045967102051\n"
          ]
        }
      ]
    },
    {
      "cell_type": "code",
      "source": [
        "state_dict = torch.load('pos_tagger.pt', map_location=torch.device('cpu'))\n",
        "\n",
        "#create model for inference\n",
        "model = Tagger(input_vocab_size, output_vocab_size,num_layers=1,hidden_size=128)\n",
        "model.load_state_dict(state_dict.state_dict())\n",
        "model.eval()"
      ],
      "metadata": {
        "colab": {
          "base_uri": "https://localhost:8080/"
        },
        "id": "iEBe8Non-m-h",
        "outputId": "f1d75524-b92c-470b-be01-5a01bb017b2d"
      },
      "execution_count": null,
      "outputs": [
        {
          "output_type": "execute_result",
          "data": {
            "text/plain": [
              "Tagger(\n",
              "  (word_embeddings): Embedding(2382, 64, padding_idx=0)\n",
              "  (rnn): GRU(64, 128, dropout=0.9, bidirectional=True)\n",
              "  (fc): Linear(in_features=256, out_features=69, bias=True)\n",
              "  (activation): LogSoftmax(dim=2)\n",
              ")"
            ]
          },
          "metadata": {},
          "execution_count": 192
        }
      ]
    },
    {
      "cell_type": "code",
      "source": [
        "model.cuda()\n"
      ],
      "metadata": {
        "colab": {
          "base_uri": "https://localhost:8080/"
        },
        "id": "JSrGo1hg_GSZ",
        "outputId": "b88e2649-d6fd-4501-f419-802a04f87b1f"
      },
      "execution_count": null,
      "outputs": [
        {
          "output_type": "execute_result",
          "data": {
            "text/plain": [
              "Tagger(\n",
              "  (word_embeddings): Embedding(2382, 64, padding_idx=0)\n",
              "  (rnn): GRU(64, 128, dropout=0.9, bidirectional=True)\n",
              "  (fc): Linear(in_features=256, out_features=69, bias=True)\n",
              "  (activation): LogSoftmax(dim=2)\n",
              ")"
            ]
          },
          "metadata": {},
          "execution_count": 193
        }
      ]
    },
    {
      "cell_type": "code",
      "source": [
        "y_true = []\n",
        "y_pred = []\n",
        "\n",
        "for inputs, targets, lengths in test_loader:\n",
        "    outputs, _ = model(inputs, lengths=lengths)\n",
        "    _, preds = torch.max(outputs, dim=2)\n",
        "    targets = targets.view(-1)\n",
        "    preds = preds.view(-1)\n",
        "    if torch.cuda.is_available():\n",
        "        targets = targets.cpu()\n",
        "        preds = preds.cpu()\n",
        "    y_true.append(targets.data.numpy())\n",
        "    y_pred.append(preds.data.numpy())\n",
        "\n",
        "# Stack into numpy arrays\n",
        "y_true = np.concatenate(y_true)\n",
        "y_pred = np.concatenate(y_pred)\n",
        "\n",
        "# Compute accuracy\n",
        "acc = np.mean(y_true[y_true != 0] == y_pred[y_true != 0])\n",
        "print('Accuracy - %0.6f\\n' % acc)\n",
        "\n",
        "# Evaluate f1-score\n",
        "from sklearn.metrics import f1_score\n",
        "score = f1_score(y_true, y_pred, average=None)\n",
        "print('F1-scores:\\n')\n",
        "for label, score in zip(dev_dataset.pos_vocab._id2word[1:], score[1:]):\n",
        "    print('%s - %0.6f' % (label, score))"
      ],
      "metadata": {
        "colab": {
          "base_uri": "https://localhost:8080/"
        },
        "id": "_k2d68Mu_Jk6",
        "outputId": "3e00aadf-e015-47df-92a8-7f062e11433e"
      },
      "execution_count": null,
      "outputs": [
        {
          "output_type": "stream",
          "name": "stdout",
          "text": [
            "Accuracy - 0.345973\n",
            "\n",
            "F1-scores:\n",
            "\n",
            "<unk> - 0.000000\n",
            "O - 0.466194\n",
            "I_PRODUCTQUALITY_POS - 0.327820\n",
            "I_APPEARANCE_POS - 0.229947\n",
            "I_DELIVERYTIME_POS - 0.578171\n",
            "I_PRODUCTQUALITY_NEG - 0.207547\n",
            "I_PACKAGING_POS - 0.525140\n",
            "I_STORESERVICE_POS - 0.275449\n",
            "I_PRICE_POS - 0.315068\n",
            "I_DELIVERYSERVICE_POS - 0.323077\n",
            "I_PACKAGING_NEG - 0.062016\n",
            "I_APPEARANCE_NEG - 0.001021\n",
            "B_PRODUCTQUALITY_POS - 0.317460\n",
            "I_STORESERVICE_NEG - 0.248447\n",
            "B_DELIVERYTIME_POS - 0.580645\n",
            "B_APPEARANCE_POS - 0.324324\n",
            "I_DELIVERYTIME_NEG - 0.114286\n",
            "I_DELIVERYSERVICE_NEG - 0.000000\n",
            "B_PRICE_POS - 0.390244\n",
            "B_PRODUCTQUALITY_NEG - 0.105263\n",
            "B_PACKAGING_POS - 0.482759\n",
            "I_IMPRESSED_NEG - 0.000000\n",
            "B_STORESERVICE_POS - 0.303030\n",
            "B_DELIVERYSERVICE_POS - 0.307692\n",
            "B_APPEARANCE_NEG - 0.111111\n",
            "I_IMPRESSED_POS - 0.000000\n",
            "I_PRICE_NEG - 0.242424\n",
            "B_STORESERVICE_NEG - 0.153846\n",
            "I_DELIVERY_SERVICE_NEG - 0.000000\n",
            "B_PACKAGING_NEG - 0.000000\n",
            "I_DELIVERY_SERVICE_POS - 0.000000\n",
            "B_DELIVERYTIME_NEG - 0.222222\n",
            "B_DELIVERYSERVICE_NEG - 0.000000\n",
            "I_PROMOTION_POS - 0.000000\n",
            "I_FEEL_POS - 0.000000\n",
            "I_PRICEPRODUCT_POS - 0.000000\n",
            "B_IMPRESSED_NEG - 0.000000\n",
            "B_IMPRESSED_POS - 0.000000\n",
            "I_DISCOUNT_POS - 0.000000\n",
            "I_FEEL_NEG - 0.000000\n",
            "B_PRICE_NEG - 0.000000\n",
            "I_COMMENT_POS - 0.000000\n",
            "B_DELIVERY_SERVICE_NEG - 0.000000\n",
            "B_FEEL_POS - 0.000000\n",
            "I_PRICEPRODUCT_NEG - 0.000000\n",
            "I_DELIVERY_TIME__NEG - 0.000000\n",
            "I_IMAGEPRODUCT_POS - 0.000000\n",
            "I_BUYAGAIN_POS - 0.000000\n",
            "I_INCOMPLETEDELIVERY_NEG - 0.000000\n",
            "I_COUNT_NEG - 0.000000\n",
            "B_DELIVERY_SERVICE_POS - 0.000000\n",
            "B_PROMOTION_POS - 0.000000\n"
          ]
        }
      ]
    },
    {
      "cell_type": "markdown",
      "source": [
        "# model 2\n",
        "\n",
        "---\n",
        "\n"
      ],
      "metadata": {
        "id": "c1RQLHVeA_nK"
      }
    },
    {
      "cell_type": "code",
      "source": [
        "parse_data('train.txt','train.conllu')\n",
        "parse_data('test.txt','test.conllu')\n",
        "parse_data('valid.txt','valid.conllu')"
      ],
      "metadata": {
        "id": "OCKLNjhEQWUj"
      },
      "execution_count": null,
      "outputs": []
    },
    {
      "cell_type": "code",
      "source": [
        "!head -n 100 'train.conllu'\n",
        "!head -n 100 'test.conllu'\n",
        "!head -n 100 'valid.conllu'"
      ],
      "metadata": {
        "id": "WZ2Rer8mQ_1p"
      },
      "execution_count": null,
      "outputs": []
    },
    {
      "cell_type": "code",
      "source": [
        "import re\n",
        "from torch.utils.data import Dataset\n",
        "\n",
        "\n",
        "class Annotation(object):\n",
        "    def __init__(self):\n",
        "        \"\"\"A helper object for storing annotation data.\"\"\"\n",
        "        self.tokens = []\n",
        "        self.tags = []\n",
        "\n",
        "\n",
        "class CoNLLDataset(Dataset):\n",
        "    def __init__(self, fname):\n",
        "        \"\"\"Initializes the CoNLLDataset.\n",
        "        Args:\n",
        "            fname: The .conllu file to load data from.\n",
        "        \"\"\"\n",
        "        self.fname = fname\n",
        "        self.annotations = self.process_conll_file(fname)\n",
        "        self.token_vocab = Vocab([x.tokens for x in self.annotations],\n",
        "                                 unk_token='<unk>')\n",
        "        self.pos_vocab = Vocab([x.tags for x in self.annotations],\n",
        "                               unk_token='<unk>')\n",
        "\n",
        "    def __len__(self):\n",
        "        return len(self.annotations)\n",
        "\n",
        "    def __getitem__(self, idx):\n",
        "        annotation = self.annotations[idx]\n",
        "        input = [self.token_vocab.word2id(x) for x in annotation.tokens]\n",
        "        target = [self.pos_vocab.word2id(x) for x in annotation.tags]\n",
        "        return input, target\n",
        "\n",
        "    def process_conll_file(self, fname):\n",
        "        # Read the entire file.\n",
        "        with open(fname, 'r') as f:\n",
        "            raw_text = f.read()\n",
        "        # Split into chunks on blank lines.\n",
        "        chunks = re.split(r'^\\n', raw_text, flags=re.MULTILINE)\n",
        "        # Process each chunk into an annotation.\n",
        "        annotations = []\n",
        "        for chunk in chunks:\n",
        "            annotation = Annotation()\n",
        "            lines = chunk.split('\\n')\n",
        "            # Iterate over all lines in the chunk.\n",
        "            for line in lines:\n",
        "                # If line is empty ignore it.\n",
        "                if len(line)==0:\n",
        "                    continue\n",
        "                # If line is a commend ignore it.\n",
        "                if line[0] == '#':\n",
        "                    continue\n",
        "                # Otherwise split on tabs and retrieve the token and the\n",
        "                # POS tag fields.\n",
        "                fields = line.split('\\t')\n",
        "                annotation.tokens.append(fields[0])  #<------ input ของโมเดล\n",
        "                annotation.tags.append(fields[1])    #<------ output ของโมเดล อยากให้ทำนายอะไร\n",
        "\n",
        "            if (len(annotation.tokens) > 0) and (len(annotation.tags) > 0):\n",
        "                annotations.append(annotation)\n",
        "        return annotations"
      ],
      "metadata": {
        "id": "5WLY3_-TQSNj"
      },
      "execution_count": null,
      "outputs": []
    },
    {
      "cell_type": "code",
      "source": [
        "import numpy as np\n",
        "\n",
        "# Load datasets.\n",
        "train_dataset = CoNLLDataset('train.conllu')\n",
        "dev_dataset = CoNLLDataset('valid.conllu')\n",
        "test_dataset = CoNLLDataset('test.conllu')\n",
        "\n",
        "dev_dataset.token_vocab = train_dataset.token_vocab\n",
        "dev_dataset.pos_vocab = train_dataset.pos_vocab\n",
        "\n",
        "test_dataset.token_vocab = train_dataset.token_vocab\n",
        "test_dataset.pos_vocab = train_dataset.pos_vocab\n",
        "\n",
        "# Hyperparameters / constants.\n",
        "input_vocab_size = len(train_dataset.token_vocab)\n",
        "output_vocab_size = len(train_dataset.pos_vocab)\n",
        "batch_size = 128\n",
        "epochs = 100"
      ],
      "metadata": {
        "id": "V-g8I491BeI0"
      },
      "execution_count": null,
      "outputs": []
    },
    {
      "cell_type": "code",
      "source": [
        "# Initialize the model.\n",
        "model = Tagger(input_vocab_size, output_vocab_size,num_layers = 3, hidden_size= 128)\n",
        "if torch.cuda.is_available():\n",
        "    model = model.cuda()\n",
        "\n",
        "# Loss function weights.\n",
        "weight = torch.ones(output_vocab_size)\n",
        "weight[0] = 0\n",
        "if torch.cuda.is_available():\n",
        "    weight = weight.cuda()\n",
        "\n",
        "# Initialize loss function and optimizer.\n",
        "loss_function = torch.nn.NLLLoss(weight)\n",
        "optimizer = torch.optim.Adam(model.parameters())\n",
        "\n",
        "# Main training loop.\n",
        "data_loader = DataLoader(train_dataset, batch_size=batch_size, shuffle=True,\n",
        "                         collate_fn=collate_annotations)\n",
        "dev_loader = DataLoader(dev_dataset, batch_size=batch_size, shuffle=False,\n",
        "                        collate_fn=collate_annotations)\n",
        "\n",
        "test_loader = DataLoader(train_dataset, batch_size=batch_size, shuffle=True,\n",
        "                         collate_fn=collate_annotations)\n",
        "test_loader = DataLoader(dev_dataset, batch_size=batch_size, shuffle=False,\n",
        "                        collate_fn=collate_annotations)\n",
        "\n",
        "\n",
        "losses = []\n",
        "i = 0\n",
        "min_losses = float('inf')\n",
        "from tqdm import tqdm\n",
        "for epoch in range(epochs):\n",
        "    print('epoch',epoch)\n",
        "    for inputs, targets, lengths in tqdm(data_loader):\n",
        "        optimizer.zero_grad()\n",
        "        outputs, _ = model(inputs, lengths=lengths)\n",
        "\n",
        "        outputs = outputs.view(-1, output_vocab_size)\n",
        "        targets = targets.view(-1)\n",
        "\n",
        "        loss = loss_function(outputs, targets)\n",
        "        loss.backward()\n",
        "        optimizer.step()\n",
        "\n",
        "        losses.append(loss.item())\n",
        "        if (i % 1) == 0:\n",
        "            # Compute dev loss over entire dev set.\n",
        "            # NOTE: This is expensive. In your work you may want to only use a\n",
        "            # subset of the dev set.\n",
        "            dev_losses = []\n",
        "            for inputs, targets, lengths in dev_loader:\n",
        "                outputs, _ = model(inputs, lengths=lengths)\n",
        "                outputs = outputs.view(-1, output_vocab_size)\n",
        "                targets = targets.view(-1)\n",
        "                loss = loss_function(outputs, targets)\n",
        "                dev_losses.append(loss.item())\n",
        "            avg_train_loss = np.mean(losses)\n",
        "            avg_dev_loss = np.mean(dev_losses)\n",
        "            losses = []\n",
        "            print('Iteration %i - Train Loss: %0.6f - Dev Loss: %0.6f' % (i, avg_train_loss, avg_dev_loss), end='\\r')\n",
        "\n",
        "            #เพิ่มโค้ด เพื่อให้บันทึกโมเดลรอบที่ loss ต่ำสุด\n",
        "            print(avg_dev_loss)\n",
        "            if avg_dev_loss < min_losses:\n",
        "              torch.save(model, 'pos_tragger_best.pt')\n",
        "              min_losses = avg_dev_loss\n",
        "\n",
        "            torch.save(model, 'pos_tagger.pt')\n",
        "        i += 1\n",
        "\n",
        "torch.save(model, 'pos_tagger.final.pt')"
      ],
      "metadata": {
        "colab": {
          "base_uri": "https://localhost:8080/"
        },
        "id": "_3fIBNpUBimQ",
        "outputId": "7133125d-50d1-440a-cbc1-9c733e61547f"
      },
      "execution_count": null,
      "outputs": [
        {
          "output_type": "stream",
          "name": "stdout",
          "text": [
            "epoch 0\n"
          ]
        },
        {
          "output_type": "stream",
          "name": "stderr",
          "text": [
            " 17%|█▋        | 1/6 [00:00<00:00,  8.34it/s]"
          ]
        },
        {
          "output_type": "stream",
          "name": "stdout",
          "text": [
            "Iteration 0 - Train Loss: 4.271808 - Dev Loss: 4.207900\r4.207900047302246\n"
          ]
        },
        {
          "output_type": "stream",
          "name": "stderr",
          "text": [
            "\r 33%|███▎      | 2/6 [00:00<00:00,  8.57it/s]"
          ]
        },
        {
          "output_type": "stream",
          "name": "stdout",
          "text": [
            "Iteration 1 - Train Loss: 4.210104 - Dev Loss: 4.150802\r4.150801658630371\n",
            "Iteration 2 - Train Loss: 4.150214 - Dev Loss: 4.080548\r4.080548286437988\n"
          ]
        },
        {
          "output_type": "stream",
          "name": "stderr",
          "text": [
            "\r 50%|█████     | 3/6 [00:00<00:00,  9.07it/s]"
          ]
        },
        {
          "output_type": "stream",
          "name": "stdout",
          "text": [
            "Iteration 3 - Train Loss: 4.073596 - Dev Loss: 4.010995\r4.010994911193848\n"
          ]
        },
        {
          "output_type": "stream",
          "name": "stderr",
          "text": [
            "100%|██████████| 6/6 [00:00<00:00, 10.60it/s]\n"
          ]
        },
        {
          "output_type": "stream",
          "name": "stdout",
          "text": [
            "Iteration 4 - Train Loss: 3.943170 - Dev Loss: 3.900844\r3.900844097137451\n",
            "Iteration 5 - Train Loss: 3.828656 - Dev Loss: 3.776017\r3.7760167121887207\n",
            "epoch 1\n"
          ]
        },
        {
          "output_type": "stream",
          "name": "stderr",
          "text": [
            "\r  0%|          | 0/6 [00:00<?, ?it/s]"
          ]
        },
        {
          "output_type": "stream",
          "name": "stdout",
          "text": [
            "Iteration 6 - Train Loss: 3.717128 - Dev Loss: 3.622681\r3.622680902481079\n"
          ]
        },
        {
          "output_type": "stream",
          "name": "stderr",
          "text": [
            "\r 33%|███▎      | 2/6 [00:00<00:00, 11.39it/s]"
          ]
        },
        {
          "output_type": "stream",
          "name": "stdout",
          "text": [
            "Iteration 7 - Train Loss: 3.507790 - Dev Loss: 3.441940\r3.4419403076171875\n",
            "Iteration 8 - Train Loss: 3.365879 - Dev Loss: 3.261078\r3.261077880859375\n"
          ]
        },
        {
          "output_type": "stream",
          "name": "stderr",
          "text": [
            "\r 67%|██████▋   | 4/6 [00:00<00:00, 12.20it/s]"
          ]
        },
        {
          "output_type": "stream",
          "name": "stdout",
          "text": [
            "Iteration 9 - Train Loss: 3.198626 - Dev Loss: 3.158896\r3.15889573097229\n"
          ]
        },
        {
          "output_type": "stream",
          "name": "stderr",
          "text": [
            "100%|██████████| 6/6 [00:00<00:00, 12.82it/s]\n"
          ]
        },
        {
          "output_type": "stream",
          "name": "stdout",
          "text": [
            "Iteration 10 - Train Loss: 2.994344 - Dev Loss: 3.138351\r3.1383509635925293\n",
            "Iteration 11 - Train Loss: 3.028253 - Dev Loss: 3.134219\r3.1342194080352783\n",
            "epoch 2\n"
          ]
        },
        {
          "output_type": "stream",
          "name": "stderr",
          "text": [
            "\r  0%|          | 0/6 [00:00<?, ?it/s]"
          ]
        },
        {
          "output_type": "stream",
          "name": "stdout",
          "text": [
            "Iteration 12 - Train Loss: 2.933841 - Dev Loss: 3.072587\r3.0725865364074707\n"
          ]
        },
        {
          "output_type": "stream",
          "name": "stderr",
          "text": [
            "\r 33%|███▎      | 2/6 [00:00<00:00, 12.36it/s]"
          ]
        },
        {
          "output_type": "stream",
          "name": "stdout",
          "text": [
            "Iteration 13 - Train Loss: 2.986027 - Dev Loss: 2.991530\r2.991529703140259\n",
            "Iteration 14 - Train Loss: 2.852867 - Dev Loss: 2.942159\r2.9421586990356445\n"
          ]
        },
        {
          "output_type": "stream",
          "name": "stderr",
          "text": [
            "\r 67%|██████▋   | 4/6 [00:00<00:00, 11.55it/s]"
          ]
        },
        {
          "output_type": "stream",
          "name": "stdout",
          "text": [
            "Iteration 15 - Train Loss: 2.837752 - Dev Loss: 2.899956\r2.899956226348877\n"
          ]
        },
        {
          "output_type": "stream",
          "name": "stderr",
          "text": [
            "100%|██████████| 6/6 [00:00<00:00, 12.41it/s]\n"
          ]
        },
        {
          "output_type": "stream",
          "name": "stdout",
          "text": [
            "Iteration 16 - Train Loss: 2.826278 - Dev Loss: 2.893928\r2.893927812576294\n",
            "Iteration 17 - Train Loss: 2.541027 - Dev Loss: 2.897431\r2.897430896759033\n",
            "epoch 3\n"
          ]
        },
        {
          "output_type": "stream",
          "name": "stderr",
          "text": [
            "\r  0%|          | 0/6 [00:00<?, ?it/s]"
          ]
        },
        {
          "output_type": "stream",
          "name": "stdout",
          "text": [
            "Iteration 18 - Train Loss: 2.783528 - Dev Loss: 2.899853\r2.899852991104126\n"
          ]
        },
        {
          "output_type": "stream",
          "name": "stderr",
          "text": [
            "\r 33%|███▎      | 2/6 [00:00<00:00, 12.62it/s]"
          ]
        },
        {
          "output_type": "stream",
          "name": "stdout",
          "text": [
            "Iteration 19 - Train Loss: 2.687999 - Dev Loss: 2.896149\r2.896148681640625\n",
            "Iteration 20 - Train Loss: 2.775813 - Dev Loss: 2.892395\r2.892394781112671\n"
          ]
        },
        {
          "output_type": "stream",
          "name": "stderr",
          "text": [
            "\r 67%|██████▋   | 4/6 [00:00<00:00, 12.20it/s]"
          ]
        },
        {
          "output_type": "stream",
          "name": "stdout",
          "text": [
            "Iteration 21 - Train Loss: 2.822492 - Dev Loss: 2.893603\r2.8936028480529785\n"
          ]
        },
        {
          "output_type": "stream",
          "name": "stderr",
          "text": [
            "100%|██████████| 6/6 [00:00<00:00, 12.63it/s]\n"
          ]
        },
        {
          "output_type": "stream",
          "name": "stdout",
          "text": [
            "Iteration 22 - Train Loss: 2.858306 - Dev Loss: 2.887157\r2.8871569633483887\n",
            "Iteration 23 - Train Loss: 2.750073 - Dev Loss: 2.883605\r2.8836052417755127\n",
            "epoch 4\n"
          ]
        },
        {
          "output_type": "stream",
          "name": "stderr",
          "text": [
            "\r  0%|          | 0/6 [00:00<?, ?it/s]"
          ]
        },
        {
          "output_type": "stream",
          "name": "stdout",
          "text": [
            "Iteration 24 - Train Loss: 2.729480 - Dev Loss: 2.879884\r2.8798837661743164\n"
          ]
        },
        {
          "output_type": "stream",
          "name": "stderr",
          "text": [
            "\r 33%|███▎      | 2/6 [00:00<00:00, 13.18it/s]"
          ]
        },
        {
          "output_type": "stream",
          "name": "stdout",
          "text": [
            "Iteration 25 - Train Loss: 2.872361 - Dev Loss: 2.882446\r2.882446050643921\n",
            "Iteration 26 - Train Loss: 2.772054 - Dev Loss: 2.899624\r2.8996238708496094\n"
          ]
        },
        {
          "output_type": "stream",
          "name": "stderr",
          "text": [
            "\r 67%|██████▋   | 4/6 [00:00<00:00, 13.27it/s]"
          ]
        },
        {
          "output_type": "stream",
          "name": "stdout",
          "text": [
            "Iteration 27 - Train Loss: 2.646020 - Dev Loss: 2.909626\r2.909625768661499\n"
          ]
        },
        {
          "output_type": "stream",
          "name": "stderr",
          "text": [
            "100%|██████████| 6/6 [00:00<00:00, 13.42it/s]\n"
          ]
        },
        {
          "output_type": "stream",
          "name": "stdout",
          "text": [
            "Iteration 28 - Train Loss: 2.610910 - Dev Loss: 2.904538\r2.90453839302063\n",
            "Iteration 29 - Train Loss: 2.673981 - Dev Loss: 2.909379\r2.909379005432129\n",
            "epoch 5\n"
          ]
        },
        {
          "output_type": "stream",
          "name": "stderr",
          "text": [
            "\r  0%|          | 0/6 [00:00<?, ?it/s]"
          ]
        },
        {
          "output_type": "stream",
          "name": "stdout",
          "text": [
            "Iteration 30 - Train Loss: 2.698389 - Dev Loss: 2.915030\r2.9150302410125732\n"
          ]
        },
        {
          "output_type": "stream",
          "name": "stderr",
          "text": [
            "\r 33%|███▎      | 2/6 [00:00<00:00, 12.83it/s]"
          ]
        },
        {
          "output_type": "stream",
          "name": "stdout",
          "text": [
            "Iteration 31 - Train Loss: 2.782527 - Dev Loss: 2.906385\r2.9063851833343506\n",
            "Iteration 32 - Train Loss: 2.689739 - Dev Loss: 2.908388\r2.908388376235962\n"
          ]
        },
        {
          "output_type": "stream",
          "name": "stderr",
          "text": [
            "\r 67%|██████▋   | 4/6 [00:00<00:00, 13.67it/s]"
          ]
        },
        {
          "output_type": "stream",
          "name": "stdout",
          "text": [
            "Iteration 33 - Train Loss: 2.720214 - Dev Loss: 2.890296\r2.8902955055236816\n"
          ]
        },
        {
          "output_type": "stream",
          "name": "stderr",
          "text": [
            "100%|██████████| 6/6 [00:00<00:00, 14.20it/s]\n"
          ]
        },
        {
          "output_type": "stream",
          "name": "stdout",
          "text": [
            "Iteration 34 - Train Loss: 2.636509 - Dev Loss: 2.882145\r2.8821446895599365\n",
            "Iteration 35 - Train Loss: 2.794805 - Dev Loss: 2.858956\r2.8589560985565186\n",
            "epoch 6\n"
          ]
        },
        {
          "output_type": "stream",
          "name": "stderr",
          "text": [
            "\r  0%|          | 0/6 [00:00<?, ?it/s]"
          ]
        },
        {
          "output_type": "stream",
          "name": "stdout",
          "text": [
            "2.8654069900512695\n",
            "2.850271224975586\n"
          ]
        },
        {
          "output_type": "stream",
          "name": "stderr",
          "text": [
            "\r 33%|███▎      | 2/6 [00:00<00:00, 13.98it/s]"
          ]
        },
        {
          "output_type": "stream",
          "name": "stdout",
          "text": [
            "Iteration 38 - Train Loss: 2.711062 - Dev Loss: 2.850052\r2.8500521183013916\n"
          ]
        },
        {
          "output_type": "stream",
          "name": "stderr",
          "text": [
            "\r 67%|██████▋   | 4/6 [00:00<00:00, 13.18it/s]"
          ]
        },
        {
          "output_type": "stream",
          "name": "stdout",
          "text": [
            "2.8412466049194336\n",
            "2.835855722427368\n"
          ]
        },
        {
          "output_type": "stream",
          "name": "stderr",
          "text": [
            "100%|██████████| 6/6 [00:00<00:00, 12.92it/s]\n"
          ]
        },
        {
          "output_type": "stream",
          "name": "stdout",
          "text": [
            "Iteration 41 - Train Loss: 2.619340 - Dev Loss: 2.837739\r2.8377392292022705\n",
            "epoch 7\n"
          ]
        },
        {
          "output_type": "stream",
          "name": "stderr",
          "text": [
            "\r  0%|          | 0/6 [00:00<?, ?it/s]"
          ]
        },
        {
          "output_type": "stream",
          "name": "stdout",
          "text": [
            "Iteration 42 - Train Loss: 2.709359 - Dev Loss: 2.839696\r2.8396964073181152\n"
          ]
        },
        {
          "output_type": "stream",
          "name": "stderr",
          "text": [
            "\r 33%|███▎      | 2/6 [00:00<00:00, 11.35it/s]"
          ]
        },
        {
          "output_type": "stream",
          "name": "stdout",
          "text": [
            "2.8334739208221436\n",
            "2.8266162872314453\n"
          ]
        },
        {
          "output_type": "stream",
          "name": "stderr",
          "text": [
            "\r 67%|██████▋   | 4/6 [00:00<00:00,  9.73it/s]"
          ]
        },
        {
          "output_type": "stream",
          "name": "stdout",
          "text": [
            "Iteration 45 - Train Loss: 2.542420 - Dev Loss: 2.825226\r2.825225830078125\n"
          ]
        },
        {
          "output_type": "stream",
          "name": "stderr",
          "text": [
            "\r 83%|████████▎ | 5/6 [00:00<00:00,  9.50it/s]"
          ]
        },
        {
          "output_type": "stream",
          "name": "stdout",
          "text": [
            "Iteration 46 - Train Loss: 2.679792 - Dev Loss: 2.827502\r2.8275015354156494\n"
          ]
        },
        {
          "output_type": "stream",
          "name": "stderr",
          "text": [
            "\r100%|██████████| 6/6 [00:00<00:00, 10.08it/s]\n"
          ]
        },
        {
          "output_type": "stream",
          "name": "stdout",
          "text": [
            "Iteration 47 - Train Loss: 2.644754 - Dev Loss: 2.825780\r2.825780153274536\n",
            "epoch 8\n"
          ]
        },
        {
          "output_type": "stream",
          "name": "stderr",
          "text": [
            "\r  0%|          | 0/6 [00:00<?, ?it/s]"
          ]
        },
        {
          "output_type": "stream",
          "name": "stdout",
          "text": [
            "Iteration 48 - Train Loss: 2.671412 - Dev Loss: 2.831345\r2.8313448429107666\n"
          ]
        },
        {
          "output_type": "stream",
          "name": "stderr",
          "text": [
            " 33%|███▎      | 2/6 [00:00<00:00,  8.65it/s]"
          ]
        },
        {
          "output_type": "stream",
          "name": "stdout",
          "text": [
            "Iteration 49 - Train Loss: 2.523196 - Dev Loss: 2.819606\r2.819605827331543\n"
          ]
        },
        {
          "output_type": "stream",
          "name": "stderr",
          "text": [
            "\r 50%|█████     | 3/6 [00:00<00:00,  8.02it/s]"
          ]
        },
        {
          "output_type": "stream",
          "name": "stdout",
          "text": [
            "Iteration 50 - Train Loss: 2.696715 - Dev Loss: 2.812001\r2.8120007514953613\n"
          ]
        },
        {
          "output_type": "stream",
          "name": "stderr",
          "text": [
            "\r 67%|██████▋   | 4/6 [00:00<00:00,  8.08it/s]"
          ]
        },
        {
          "output_type": "stream",
          "name": "stdout",
          "text": [
            "Iteration 51 - Train Loss: 2.664909 - Dev Loss: 2.820217\r2.8202171325683594\n"
          ]
        },
        {
          "output_type": "stream",
          "name": "stderr",
          "text": [
            "100%|██████████| 6/6 [00:00<00:00,  8.96it/s]"
          ]
        },
        {
          "output_type": "stream",
          "name": "stdout",
          "text": [
            "Iteration 52 - Train Loss: 2.693282 - Dev Loss: 2.803753\r2.803753137588501\n",
            "Iteration 53 - Train Loss: 2.711434 - Dev Loss: 2.812101\r2.812101364135742\n"
          ]
        },
        {
          "output_type": "stream",
          "name": "stderr",
          "text": [
            "\n"
          ]
        },
        {
          "output_type": "stream",
          "name": "stdout",
          "text": [
            "epoch 9\n"
          ]
        },
        {
          "output_type": "stream",
          "name": "stderr",
          "text": [
            " 17%|█▋        | 1/6 [00:00<00:00,  9.33it/s]"
          ]
        },
        {
          "output_type": "stream",
          "name": "stdout",
          "text": [
            "Iteration 54 - Train Loss: 2.664484 - Dev Loss: 2.807882\r2.8078815937042236\n",
            "Iteration 55 - Train Loss: 2.438049 - Dev Loss: 2.805252\r2.8052523136138916\n"
          ]
        },
        {
          "output_type": "stream",
          "name": "stderr",
          "text": [
            " 67%|██████▋   | 4/6 [00:00<00:00,  8.42it/s]"
          ]
        },
        {
          "output_type": "stream",
          "name": "stdout",
          "text": [
            "Iteration 56 - Train Loss: 2.616286 - Dev Loss: 2.799952\r2.799952268600464\n",
            "Iteration 57 - Train Loss: 2.601272 - Dev Loss: 2.795226\r2.7952263355255127\n"
          ]
        },
        {
          "output_type": "stream",
          "name": "stderr",
          "text": [
            "100%|██████████| 6/6 [00:00<00:00,  8.59it/s]\n"
          ]
        },
        {
          "output_type": "stream",
          "name": "stdout",
          "text": [
            "Iteration 58 - Train Loss: 2.844659 - Dev Loss: 2.801046\r2.8010456562042236\n",
            "Iteration 59 - Train Loss: 2.665439 - Dev Loss: 2.787849\r2.787849187850952\n",
            "epoch 10\n"
          ]
        },
        {
          "output_type": "stream",
          "name": "stderr",
          "text": [
            " 50%|█████     | 3/6 [00:00<00:00, 10.44it/s]"
          ]
        },
        {
          "output_type": "stream",
          "name": "stdout",
          "text": [
            "Iteration 60 - Train Loss: 2.625757 - Dev Loss: 2.788314\r2.788313865661621\n",
            "Iteration 61 - Train Loss: 2.578415 - Dev Loss: 2.786248\r2.786247968673706\n",
            "Iteration 62 - Train Loss: 2.640063 - Dev Loss: 2.781704\r2.7817039489746094\n"
          ]
        },
        {
          "output_type": "stream",
          "name": "stderr",
          "text": [
            "100%|██████████| 6/6 [00:00<00:00, 11.97it/s]\n"
          ]
        },
        {
          "output_type": "stream",
          "name": "stdout",
          "text": [
            "Iteration 63 - Train Loss: 2.641834 - Dev Loss: 2.794821\r2.794820785522461\n",
            "Iteration 64 - Train Loss: 2.558628 - Dev Loss: 2.782001\r2.782001495361328\n",
            "Iteration 65 - Train Loss: 2.710827 - Dev Loss: 2.774834\r2.774834394454956\n",
            "epoch 11\n"
          ]
        },
        {
          "output_type": "stream",
          "name": "stderr",
          "text": [
            " 33%|███▎      | 2/6 [00:00<00:00, 11.84it/s]"
          ]
        },
        {
          "output_type": "stream",
          "name": "stdout",
          "text": [
            "Iteration 66 - Train Loss: 2.615899 - Dev Loss: 2.764992\r2.764991521835327\n",
            "Iteration 67 - Train Loss: 2.662822 - Dev Loss: 2.761216\r2.7612156867980957\n",
            "Iteration 68 - Train Loss: 2.571288 - Dev Loss: 2.767660\r2.767659902572632\n"
          ]
        },
        {
          "output_type": "stream",
          "name": "stderr",
          "text": [
            "100%|██████████| 6/6 [00:00<00:00, 13.03it/s]\n"
          ]
        },
        {
          "output_type": "stream",
          "name": "stdout",
          "text": [
            "Iteration 69 - Train Loss: 2.535754 - Dev Loss: 2.753502\r2.753502368927002\n",
            "Iteration 70 - Train Loss: 2.607234 - Dev Loss: 2.749472\r2.749471664428711\n",
            "Iteration 71 - Train Loss: 2.390009 - Dev Loss: 2.753166\r2.753166437149048\n",
            "epoch 12\n"
          ]
        },
        {
          "output_type": "stream",
          "name": "stderr",
          "text": [
            " 33%|███▎      | 2/6 [00:00<00:00, 11.87it/s]"
          ]
        },
        {
          "output_type": "stream",
          "name": "stdout",
          "text": [
            "Iteration 72 - Train Loss: 2.635848 - Dev Loss: 2.753368\r2.7533681392669678\n",
            "Iteration 73 - Train Loss: 2.664047 - Dev Loss: 2.747051\r2.7470510005950928\n",
            "Iteration 74 - Train Loss: 2.486801 - Dev Loss: 2.733695\r2.733694553375244\n"
          ]
        },
        {
          "output_type": "stream",
          "name": "stderr",
          "text": [
            "100%|██████████| 6/6 [00:00<00:00, 13.37it/s]\n"
          ]
        },
        {
          "output_type": "stream",
          "name": "stdout",
          "text": [
            "Iteration 75 - Train Loss: 2.436822 - Dev Loss: 2.737166\r2.737166166305542\n",
            "Iteration 76 - Train Loss: 2.586183 - Dev Loss: 2.739953\r2.73995304107666\n",
            "Iteration 77 - Train Loss: 2.534879 - Dev Loss: 2.735289\r2.735288619995117\n",
            "epoch 13\n"
          ]
        },
        {
          "output_type": "stream",
          "name": "stderr",
          "text": [
            " 50%|█████     | 3/6 [00:00<00:00, 12.48it/s]"
          ]
        },
        {
          "output_type": "stream",
          "name": "stdout",
          "text": [
            "Iteration 78 - Train Loss: 2.607448 - Dev Loss: 2.727649\r2.727648973464966\n",
            "Iteration 79 - Train Loss: 2.586015 - Dev Loss: 2.730318\r2.730318307876587\n",
            "Iteration 80 - Train Loss: 2.453929 - Dev Loss: 2.718080\r2.7180798053741455\n"
          ]
        },
        {
          "output_type": "stream",
          "name": "stderr",
          "text": [
            "100%|██████████| 6/6 [00:00<00:00, 13.20it/s]\n"
          ]
        },
        {
          "output_type": "stream",
          "name": "stdout",
          "text": [
            "Iteration 81 - Train Loss: 2.549444 - Dev Loss: 2.709482\r2.709481716156006\n",
            "Iteration 82 - Train Loss: 2.461411 - Dev Loss: 2.704167\r2.704166889190674\n",
            "Iteration 83 - Train Loss: 2.439525 - Dev Loss: 2.712899\r2.7128987312316895\n",
            "epoch 14\n"
          ]
        },
        {
          "output_type": "stream",
          "name": "stderr",
          "text": [
            " 33%|███▎      | 2/6 [00:00<00:00, 13.00it/s]"
          ]
        },
        {
          "output_type": "stream",
          "name": "stdout",
          "text": [
            "Iteration 84 - Train Loss: 2.468242 - Dev Loss: 2.697578\r2.6975784301757812\n",
            "Iteration 85 - Train Loss: 2.476949 - Dev Loss: 2.687207\r2.687206745147705\n",
            "Iteration 86 - Train Loss: 2.577155 - Dev Loss: 2.684558\r2.684558391571045\n"
          ]
        },
        {
          "output_type": "stream",
          "name": "stderr",
          "text": [
            "100%|██████████| 6/6 [00:00<00:00, 12.46it/s]\n"
          ]
        },
        {
          "output_type": "stream",
          "name": "stdout",
          "text": [
            "Iteration 87 - Train Loss: 2.550534 - Dev Loss: 2.701525\r2.7015254497528076\n",
            "Iteration 88 - Train Loss: 2.353742 - Dev Loss: 2.676303\r2.6763033866882324\n",
            "Iteration 89 - Train Loss: 2.546860 - Dev Loss: 2.666437\r2.6664371490478516\n",
            "epoch 15\n"
          ]
        },
        {
          "output_type": "stream",
          "name": "stderr",
          "text": [
            " 33%|███▎      | 2/6 [00:00<00:00, 12.63it/s]"
          ]
        },
        {
          "output_type": "stream",
          "name": "stdout",
          "text": [
            "Iteration 90 - Train Loss: 2.502468 - Dev Loss: 2.669736\r2.669735908508301\n",
            "Iteration 91 - Train Loss: 2.479281 - Dev Loss: 2.653421\r2.653421401977539\n",
            "Iteration 92 - Train Loss: 2.414412 - Dev Loss: 2.659121\r2.659121036529541\n"
          ]
        },
        {
          "output_type": "stream",
          "name": "stderr",
          "text": [
            "100%|██████████| 6/6 [00:00<00:00, 13.20it/s]\n"
          ]
        },
        {
          "output_type": "stream",
          "name": "stdout",
          "text": [
            "Iteration 93 - Train Loss: 2.359701 - Dev Loss: 2.655660\r2.6556599140167236\n",
            "Iteration 94 - Train Loss: 2.341126 - Dev Loss: 2.660234\r2.660233974456787\n",
            "Iteration 95 - Train Loss: 2.587060 - Dev Loss: 2.640311\r2.6403114795684814\n",
            "epoch 16\n"
          ]
        },
        {
          "output_type": "stream",
          "name": "stderr",
          "text": [
            " 33%|███▎      | 2/6 [00:00<00:00, 11.85it/s]"
          ]
        },
        {
          "output_type": "stream",
          "name": "stdout",
          "text": [
            "Iteration 96 - Train Loss: 2.366286 - Dev Loss: 2.626139\r2.6261391639709473\n",
            "Iteration 97 - Train Loss: 2.464419 - Dev Loss: 2.631582\r2.6315817832946777\n",
            "Iteration 98 - Train Loss: 2.353253 - Dev Loss: 2.601333\r2.6013333797454834\n"
          ]
        },
        {
          "output_type": "stream",
          "name": "stderr",
          "text": [
            "100%|██████████| 6/6 [00:00<00:00, 13.40it/s]\n"
          ]
        },
        {
          "output_type": "stream",
          "name": "stdout",
          "text": [
            "Iteration 99 - Train Loss: 2.330040 - Dev Loss: 2.619355\r2.6193549633026123\n",
            "Iteration 100 - Train Loss: 2.447451 - Dev Loss: 2.615338\r2.6153383255004883\n",
            "Iteration 101 - Train Loss: 2.123069 - Dev Loss: 2.585372\r2.58537220954895\n",
            "epoch 17\n"
          ]
        },
        {
          "output_type": "stream",
          "name": "stderr",
          "text": [
            " 33%|███▎      | 2/6 [00:00<00:00, 13.65it/s]"
          ]
        },
        {
          "output_type": "stream",
          "name": "stdout",
          "text": [
            "Iteration 102 - Train Loss: 2.356200 - Dev Loss: 2.612723\r2.612722873687744\n",
            "Iteration 103 - Train Loss: 2.407628 - Dev Loss: 2.617729\r2.6177291870117188\n",
            "Iteration 104 - Train Loss: 2.179792 - Dev Loss: 2.605191\r2.605191469192505\n"
          ]
        },
        {
          "output_type": "stream",
          "name": "stderr",
          "text": [
            "100%|██████████| 6/6 [00:00<00:00, 14.22it/s]\n"
          ]
        },
        {
          "output_type": "stream",
          "name": "stdout",
          "text": [
            "Iteration 105 - Train Loss: 2.370762 - Dev Loss: 2.603432\r2.6034319400787354\n",
            "Iteration 106 - Train Loss: 2.310117 - Dev Loss: 2.628877\r2.6288769245147705\n",
            "Iteration 107 - Train Loss: 2.177987 - Dev Loss: 2.605480\r2.6054799556732178\n",
            "epoch 18\n"
          ]
        },
        {
          "output_type": "stream",
          "name": "stderr",
          "text": [
            " 33%|███▎      | 2/6 [00:00<00:00, 13.45it/s]"
          ]
        },
        {
          "output_type": "stream",
          "name": "stdout",
          "text": [
            "Iteration 108 - Train Loss: 2.322909 - Dev Loss: 2.611664\r2.611664295196533\n",
            "Iteration 109 - Train Loss: 2.269692 - Dev Loss: 2.591187\r2.5911865234375\n",
            "Iteration 110 - Train Loss: 2.213099 - Dev Loss: 2.564326\r2.564326047897339\n"
          ]
        },
        {
          "output_type": "stream",
          "name": "stderr",
          "text": [
            "100%|██████████| 6/6 [00:00<00:00, 13.53it/s]\n"
          ]
        },
        {
          "output_type": "stream",
          "name": "stdout",
          "text": [
            "Iteration 111 - Train Loss: 2.148625 - Dev Loss: 2.556165\r2.5561652183532715\n",
            "Iteration 112 - Train Loss: 2.318813 - Dev Loss: 2.536700\r2.5367002487182617\n",
            "Iteration 113 - Train Loss: 2.178309 - Dev Loss: 2.546990\r2.546990394592285\n",
            "epoch 19\n"
          ]
        },
        {
          "output_type": "stream",
          "name": "stderr",
          "text": [
            " 33%|███▎      | 2/6 [00:00<00:00, 13.24it/s]"
          ]
        },
        {
          "output_type": "stream",
          "name": "stdout",
          "text": [
            "Iteration 114 - Train Loss: 2.163398 - Dev Loss: 2.564134\r2.564133882522583\n",
            "Iteration 115 - Train Loss: 2.229893 - Dev Loss: 2.586052\r2.586052417755127\n",
            "Iteration 116 - Train Loss: 2.197038 - Dev Loss: 2.553044\r2.5530436038970947\n"
          ]
        },
        {
          "output_type": "stream",
          "name": "stderr",
          "text": [
            "100%|██████████| 6/6 [00:00<00:00, 14.15it/s]\n"
          ]
        },
        {
          "output_type": "stream",
          "name": "stdout",
          "text": [
            "Iteration 117 - Train Loss: 2.208219 - Dev Loss: 2.571325\r2.571324586868286\n",
            "Iteration 118 - Train Loss: 2.132276 - Dev Loss: 2.580958\r2.5809576511383057\n",
            "Iteration 119 - Train Loss: 2.090194 - Dev Loss: 2.582435\r2.582435369491577\n",
            "epoch 20\n"
          ]
        },
        {
          "output_type": "stream",
          "name": "stderr",
          "text": [
            "\r  0%|          | 0/6 [00:00<?, ?it/s]"
          ]
        },
        {
          "output_type": "stream",
          "name": "stdout",
          "text": [
            "Iteration 120 - Train Loss: 2.140333 - Dev Loss: 2.568833\r2.568833112716675\n"
          ]
        },
        {
          "output_type": "stream",
          "name": "stderr",
          "text": [
            "\r 33%|███▎      | 2/6 [00:00<00:00, 14.32it/s]"
          ]
        },
        {
          "output_type": "stream",
          "name": "stdout",
          "text": [
            "Iteration 121 - Train Loss: 2.205913 - Dev Loss: 2.568743\r2.5687434673309326\n",
            "Iteration 122 - Train Loss: 1.999664 - Dev Loss: 2.570661\r2.5706608295440674\n"
          ]
        },
        {
          "output_type": "stream",
          "name": "stderr",
          "text": [
            "\r 67%|██████▋   | 4/6 [00:00<00:00, 13.78it/s]"
          ]
        },
        {
          "output_type": "stream",
          "name": "stdout",
          "text": [
            "Iteration 123 - Train Loss: 2.158532 - Dev Loss: 2.555796\r2.5557961463928223\n"
          ]
        },
        {
          "output_type": "stream",
          "name": "stderr",
          "text": [
            "100%|██████████| 6/6 [00:00<00:00, 13.85it/s]\n"
          ]
        },
        {
          "output_type": "stream",
          "name": "stdout",
          "text": [
            "Iteration 124 - Train Loss: 2.092689 - Dev Loss: 2.587347\r2.5873472690582275\n",
            "Iteration 125 - Train Loss: 2.137067 - Dev Loss: 2.565548\r2.5655479431152344\n",
            "epoch 21\n"
          ]
        },
        {
          "output_type": "stream",
          "name": "stderr",
          "text": [
            "\r  0%|          | 0/6 [00:00<?, ?it/s]"
          ]
        },
        {
          "output_type": "stream",
          "name": "stdout",
          "text": [
            "Iteration 126 - Train Loss: 2.078693 - Dev Loss: 2.573814\r2.5738141536712646\n"
          ]
        },
        {
          "output_type": "stream",
          "name": "stderr",
          "text": [
            "\r 33%|███▎      | 2/6 [00:00<00:00, 13.23it/s]"
          ]
        },
        {
          "output_type": "stream",
          "name": "stdout",
          "text": [
            "Iteration 127 - Train Loss: 2.071354 - Dev Loss: 2.604042\r2.6040420532226562\n",
            "Iteration 128 - Train Loss: 2.079307 - Dev Loss: 2.576037\r2.5760374069213867\n"
          ]
        },
        {
          "output_type": "stream",
          "name": "stderr",
          "text": [
            "\r 67%|██████▋   | 4/6 [00:00<00:00, 13.53it/s]"
          ]
        },
        {
          "output_type": "stream",
          "name": "stdout",
          "text": [
            "Iteration 129 - Train Loss: 2.075488 - Dev Loss: 2.594167\r2.5941672325134277\n"
          ]
        },
        {
          "output_type": "stream",
          "name": "stderr",
          "text": [
            "100%|██████████| 6/6 [00:00<00:00, 13.84it/s]\n"
          ]
        },
        {
          "output_type": "stream",
          "name": "stdout",
          "text": [
            "Iteration 130 - Train Loss: 2.040974 - Dev Loss: 2.558898\r2.5588979721069336\n",
            "Iteration 131 - Train Loss: 2.008788 - Dev Loss: 2.545344\r2.545344352722168\n",
            "epoch 22\n"
          ]
        },
        {
          "output_type": "stream",
          "name": "stderr",
          "text": [
            "\r  0%|          | 0/6 [00:00<?, ?it/s]"
          ]
        },
        {
          "output_type": "stream",
          "name": "stdout",
          "text": [
            "Iteration 132 - Train Loss: 1.904326 - Dev Loss: 2.585234\r2.5852341651916504\n"
          ]
        },
        {
          "output_type": "stream",
          "name": "stderr",
          "text": [
            "\r 33%|███▎      | 2/6 [00:00<00:00, 12.05it/s]"
          ]
        },
        {
          "output_type": "stream",
          "name": "stdout",
          "text": [
            "Iteration 133 - Train Loss: 2.077908 - Dev Loss: 2.590625\r2.590625047683716\n",
            "Iteration 134 - Train Loss: 2.080795 - Dev Loss: 2.557800\r2.55780029296875\n"
          ]
        },
        {
          "output_type": "stream",
          "name": "stderr",
          "text": [
            "\r 67%|██████▋   | 4/6 [00:00<00:00, 13.14it/s]"
          ]
        },
        {
          "output_type": "stream",
          "name": "stdout",
          "text": [
            "Iteration 135 - Train Loss: 1.984597 - Dev Loss: 2.563531\r2.5635311603546143\n"
          ]
        },
        {
          "output_type": "stream",
          "name": "stderr",
          "text": [
            "100%|██████████| 6/6 [00:00<00:00, 13.57it/s]\n"
          ]
        },
        {
          "output_type": "stream",
          "name": "stdout",
          "text": [
            "Iteration 136 - Train Loss: 1.966304 - Dev Loss: 2.570928\r2.570927858352661\n",
            "Iteration 137 - Train Loss: 2.035749 - Dev Loss: 2.597260\r2.5972604751586914\n",
            "epoch 23\n"
          ]
        },
        {
          "output_type": "stream",
          "name": "stderr",
          "text": [
            "\r  0%|          | 0/6 [00:00<?, ?it/s]"
          ]
        },
        {
          "output_type": "stream",
          "name": "stdout",
          "text": [
            "Iteration 138 - Train Loss: 1.957550 - Dev Loss: 2.576916\r2.576915740966797\n"
          ]
        },
        {
          "output_type": "stream",
          "name": "stderr",
          "text": [
            "\r 33%|███▎      | 2/6 [00:00<00:00, 12.92it/s]"
          ]
        },
        {
          "output_type": "stream",
          "name": "stdout",
          "text": [
            "Iteration 139 - Train Loss: 1.917910 - Dev Loss: 2.571479\r2.5714786052703857\n",
            "Iteration 140 - Train Loss: 1.938882 - Dev Loss: 2.596482\r2.5964818000793457\n"
          ]
        },
        {
          "output_type": "stream",
          "name": "stderr",
          "text": [
            "\r 67%|██████▋   | 4/6 [00:00<00:00, 12.39it/s]"
          ]
        },
        {
          "output_type": "stream",
          "name": "stdout",
          "text": [
            "Iteration 141 - Train Loss: 1.949489 - Dev Loss: 2.589036\r2.5890355110168457\n"
          ]
        },
        {
          "output_type": "stream",
          "name": "stderr",
          "text": [
            "100%|██████████| 6/6 [00:00<00:00, 13.62it/s]\n"
          ]
        },
        {
          "output_type": "stream",
          "name": "stdout",
          "text": [
            "Iteration 142 - Train Loss: 2.008757 - Dev Loss: 2.577122\r2.5771217346191406\n",
            "Iteration 143 - Train Loss: 1.935874 - Dev Loss: 2.556309\r2.556309223175049\n",
            "epoch 24\n"
          ]
        },
        {
          "output_type": "stream",
          "name": "stderr",
          "text": [
            "\r  0%|          | 0/6 [00:00<?, ?it/s]"
          ]
        },
        {
          "output_type": "stream",
          "name": "stdout",
          "text": [
            "Iteration 144 - Train Loss: 1.906054 - Dev Loss: 2.543692\r2.5436923503875732\n"
          ]
        },
        {
          "output_type": "stream",
          "name": "stderr",
          "text": [
            "\r 33%|███▎      | 2/6 [00:00<00:00, 12.83it/s]"
          ]
        },
        {
          "output_type": "stream",
          "name": "stdout",
          "text": [
            "Iteration 145 - Train Loss: 1.897982 - Dev Loss: 2.549839\r2.5498387813568115\n",
            "Iteration 146 - Train Loss: 1.947360 - Dev Loss: 2.522777\r2.5227773189544678\n"
          ]
        },
        {
          "output_type": "stream",
          "name": "stderr",
          "text": [
            "\r 67%|██████▋   | 4/6 [00:00<00:00, 13.09it/s]"
          ]
        },
        {
          "output_type": "stream",
          "name": "stdout",
          "text": [
            "Iteration 147 - Train Loss: 1.987492 - Dev Loss: 2.572121\r2.5721211433410645\n"
          ]
        },
        {
          "output_type": "stream",
          "name": "stderr",
          "text": [
            "100%|██████████| 6/6 [00:00<00:00, 13.56it/s]\n"
          ]
        },
        {
          "output_type": "stream",
          "name": "stdout",
          "text": [
            "Iteration 148 - Train Loss: 1.833228 - Dev Loss: 2.520605\r2.5206050872802734\n",
            "Iteration 149 - Train Loss: 1.805638 - Dev Loss: 2.535890\r2.5358903408050537\n",
            "epoch 25\n"
          ]
        },
        {
          "output_type": "stream",
          "name": "stderr",
          "text": [
            "\r  0%|          | 0/6 [00:00<?, ?it/s]"
          ]
        },
        {
          "output_type": "stream",
          "name": "stdout",
          "text": [
            "Iteration 150 - Train Loss: 1.887830 - Dev Loss: 2.543479\r2.5434787273406982\n"
          ]
        },
        {
          "output_type": "stream",
          "name": "stderr",
          "text": [
            "\r 33%|███▎      | 2/6 [00:00<00:00, 12.25it/s]"
          ]
        },
        {
          "output_type": "stream",
          "name": "stdout",
          "text": [
            "Iteration 151 - Train Loss: 1.944807 - Dev Loss: 2.549598\r2.549598217010498\n",
            "Iteration 152 - Train Loss: 1.839368 - Dev Loss: 2.555021\r2.555021286010742\n"
          ]
        },
        {
          "output_type": "stream",
          "name": "stderr",
          "text": [
            "\r 67%|██████▋   | 4/6 [00:00<00:00, 13.58it/s]"
          ]
        },
        {
          "output_type": "stream",
          "name": "stdout",
          "text": [
            "Iteration 153 - Train Loss: 1.807454 - Dev Loss: 2.545999\r2.5459985733032227\n"
          ]
        },
        {
          "output_type": "stream",
          "name": "stderr",
          "text": [
            "100%|██████████| 6/6 [00:00<00:00, 13.69it/s]\n"
          ]
        },
        {
          "output_type": "stream",
          "name": "stdout",
          "text": [
            "Iteration 154 - Train Loss: 1.787043 - Dev Loss: 2.558232\r2.5582315921783447\n",
            "Iteration 155 - Train Loss: 1.692493 - Dev Loss: 2.586917\r2.586916923522949\n",
            "epoch 26\n"
          ]
        },
        {
          "output_type": "stream",
          "name": "stderr",
          "text": [
            "\r  0%|          | 0/6 [00:00<?, ?it/s]"
          ]
        },
        {
          "output_type": "stream",
          "name": "stdout",
          "text": [
            "Iteration 156 - Train Loss: 1.797497 - Dev Loss: 2.566872\r2.5668721199035645\n",
            "Iteration 157 - Train Loss: 1.750349 - Dev Loss: 2.589771\r2.589770555496216\n"
          ]
        },
        {
          "output_type": "stream",
          "name": "stderr",
          "text": [
            "\r 33%|███▎      | 2/6 [00:00<00:00, 13.61it/s]"
          ]
        },
        {
          "output_type": "stream",
          "name": "stdout",
          "text": [
            "Iteration 158 - Train Loss: 1.825176 - Dev Loss: 2.556047\r2.556047201156616\n"
          ]
        },
        {
          "output_type": "stream",
          "name": "stderr",
          "text": [
            "\r 67%|██████▋   | 4/6 [00:00<00:00, 13.83it/s]"
          ]
        },
        {
          "output_type": "stream",
          "name": "stdout",
          "text": [
            "Iteration 159 - Train Loss: 1.820358 - Dev Loss: 2.590362\r2.5903618335723877\n",
            "Iteration 160 - Train Loss: 1.843374 - Dev Loss: 2.603532\r2.6035315990448\n",
            "Iteration 161 - Train Loss: 1.779598 - Dev Loss: 2.594846\r2.59484601020813\n"
          ]
        },
        {
          "output_type": "stream",
          "name": "stderr",
          "text": [
            "100%|██████████| 6/6 [00:00<00:00, 14.10it/s]\n"
          ]
        },
        {
          "output_type": "stream",
          "name": "stdout",
          "text": [
            "epoch 27\n"
          ]
        },
        {
          "output_type": "stream",
          "name": "stderr",
          "text": [
            " 33%|███▎      | 2/6 [00:00<00:00, 12.17it/s]"
          ]
        },
        {
          "output_type": "stream",
          "name": "stdout",
          "text": [
            "Iteration 162 - Train Loss: 1.832806 - Dev Loss: 2.557509\r2.557509183883667\n",
            "2.619140625\n",
            "2.560593366622925\n"
          ]
        },
        {
          "output_type": "stream",
          "name": "stderr",
          "text": [
            "\r 67%|██████▋   | 4/6 [00:00<00:00, 13.44it/s]"
          ]
        },
        {
          "output_type": "stream",
          "name": "stdout",
          "text": [
            "Iteration 165 - Train Loss: 1.785317 - Dev Loss: 2.552400\r2.5523996353149414\n",
            "Iteration 166 - Train Loss: 1.759233 - Dev Loss: 2.575324\r2.5753235816955566\n",
            "Iteration 167 - Train Loss: 1.731388 - Dev Loss: 2.622930\r2.6229300498962402\n"
          ]
        },
        {
          "output_type": "stream",
          "name": "stderr",
          "text": [
            "100%|██████████| 6/6 [00:00<00:00, 13.65it/s]\n"
          ]
        },
        {
          "output_type": "stream",
          "name": "stdout",
          "text": [
            "epoch 28\n"
          ]
        },
        {
          "output_type": "stream",
          "name": "stderr",
          "text": [
            " 33%|███▎      | 2/6 [00:00<00:00, 12.69it/s]"
          ]
        },
        {
          "output_type": "stream",
          "name": "stdout",
          "text": [
            "Iteration 168 - Train Loss: 1.612434 - Dev Loss: 2.564019\r2.5640194416046143\n",
            "2.5298147201538086\n",
            "2.551978826522827\n"
          ]
        },
        {
          "output_type": "stream",
          "name": "stderr",
          "text": [
            "\r 67%|██████▋   | 4/6 [00:00<00:00, 12.62it/s]"
          ]
        },
        {
          "output_type": "stream",
          "name": "stdout",
          "text": [
            "Iteration 171 - Train Loss: 1.777114 - Dev Loss: 2.555812\r2.555812358856201\n",
            "Iteration 172 - Train Loss: 1.745044 - Dev Loss: 2.559137\r2.5591373443603516\n"
          ]
        },
        {
          "output_type": "stream",
          "name": "stderr",
          "text": [
            "100%|██████████| 6/6 [00:00<00:00, 13.41it/s]\n"
          ]
        },
        {
          "output_type": "stream",
          "name": "stdout",
          "text": [
            "Iteration 173 - Train Loss: 1.693693 - Dev Loss: 2.594788\r2.594787836074829\n",
            "epoch 29\n"
          ]
        },
        {
          "output_type": "stream",
          "name": "stderr",
          "text": [
            " 33%|███▎      | 2/6 [00:00<00:00, 14.51it/s]"
          ]
        },
        {
          "output_type": "stream",
          "name": "stdout",
          "text": [
            "Iteration 174 - Train Loss: 1.717718 - Dev Loss: 2.594150\r2.5941503047943115\n",
            "2.624774217605591\n",
            "2.555685043334961\n",
            "2.5920138359069824\n"
          ]
        },
        {
          "output_type": "stream",
          "name": "stderr",
          "text": [
            "\r 67%|██████▋   | 4/6 [00:00<00:00, 13.68it/s]"
          ]
        },
        {
          "output_type": "stream",
          "name": "stdout",
          "text": [
            "Iteration 178 - Train Loss: 1.646694 - Dev Loss: 2.527110\r2.5271103382110596\n"
          ]
        },
        {
          "output_type": "stream",
          "name": "stderr",
          "text": [
            "100%|██████████| 6/6 [00:00<00:00, 14.09it/s]\n"
          ]
        },
        {
          "output_type": "stream",
          "name": "stdout",
          "text": [
            "Iteration 179 - Train Loss: 1.720410 - Dev Loss: 2.561460\r2.561459541320801\n",
            "epoch 30\n"
          ]
        },
        {
          "output_type": "stream",
          "name": "stderr",
          "text": [
            "\r  0%|          | 0/6 [00:00<?, ?it/s]"
          ]
        },
        {
          "output_type": "stream",
          "name": "stdout",
          "text": [
            "Iteration 180 - Train Loss: 1.705952 - Dev Loss: 2.566849\r2.5668487548828125\n"
          ]
        },
        {
          "output_type": "stream",
          "name": "stderr",
          "text": [
            "\r 33%|███▎      | 2/6 [00:00<00:00, 11.05it/s]"
          ]
        },
        {
          "output_type": "stream",
          "name": "stdout",
          "text": [
            "2.552035093307495\n",
            "2.537156581878662\n"
          ]
        },
        {
          "output_type": "stream",
          "name": "stderr",
          "text": [
            "\r 67%|██████▋   | 4/6 [00:00<00:00,  9.82it/s]"
          ]
        },
        {
          "output_type": "stream",
          "name": "stdout",
          "text": [
            "Iteration 183 - Train Loss: 1.630353 - Dev Loss: 2.576877\r2.5768771171569824\n",
            "Iteration 184 - Train Loss: 1.643960 - Dev Loss: 2.580827\r2.5808265209198\n"
          ]
        },
        {
          "output_type": "stream",
          "name": "stderr",
          "text": [
            "100%|██████████| 6/6 [00:00<00:00, 10.32it/s]\n"
          ]
        },
        {
          "output_type": "stream",
          "name": "stdout",
          "text": [
            "Iteration 185 - Train Loss: 1.809678 - Dev Loss: 2.583067\r2.5830671787261963\n",
            "epoch 31\n"
          ]
        },
        {
          "output_type": "stream",
          "name": "stderr",
          "text": [
            "\r  0%|          | 0/6 [00:00<?, ?it/s]"
          ]
        },
        {
          "output_type": "stream",
          "name": "stdout",
          "text": [
            "Iteration 186 - Train Loss: 1.710435 - Dev Loss: 2.643902\r2.64390230178833\n"
          ]
        },
        {
          "output_type": "stream",
          "name": "stderr",
          "text": [
            "\r 33%|███▎      | 2/6 [00:00<00:00, 10.04it/s]"
          ]
        },
        {
          "output_type": "stream",
          "name": "stdout",
          "text": [
            "2.6084396839141846\n",
            "2.5975124835968018\n"
          ]
        },
        {
          "output_type": "stream",
          "name": "stderr",
          "text": [
            "\r 67%|██████▋   | 4/6 [00:00<00:00,  9.65it/s]"
          ]
        },
        {
          "output_type": "stream",
          "name": "stdout",
          "text": [
            "Iteration 189 - Train Loss: 1.649057 - Dev Loss: 2.560148\r2.560148000717163\n"
          ]
        },
        {
          "output_type": "stream",
          "name": "stderr",
          "text": [
            "\r 83%|████████▎ | 5/6 [00:00<00:00,  9.63it/s]"
          ]
        },
        {
          "output_type": "stream",
          "name": "stdout",
          "text": [
            "Iteration 190 - Train Loss: 1.560274 - Dev Loss: 2.631134\r2.631134271621704\n",
            "Iteration 191 - Train Loss: 1.584003 - Dev Loss: 2.620092\r2.620091676712036\n"
          ]
        },
        {
          "output_type": "stream",
          "name": "stderr",
          "text": [
            "\r100%|██████████| 6/6 [00:00<00:00,  9.91it/s]\n"
          ]
        },
        {
          "output_type": "stream",
          "name": "stdout",
          "text": [
            "epoch 32\n"
          ]
        },
        {
          "output_type": "stream",
          "name": "stderr",
          "text": [
            " 17%|█▋        | 1/6 [00:00<00:00,  7.56it/s]"
          ]
        },
        {
          "output_type": "stream",
          "name": "stdout",
          "text": [
            "Iteration 192 - Train Loss: 1.674846 - Dev Loss: 2.601990\r2.601990222930908\n"
          ]
        },
        {
          "output_type": "stream",
          "name": "stderr",
          "text": [
            "\r 33%|███▎      | 2/6 [00:00<00:00,  7.44it/s]"
          ]
        },
        {
          "output_type": "stream",
          "name": "stdout",
          "text": [
            "Iteration 193 - Train Loss: 1.721629 - Dev Loss: 2.590641\r2.5906407833099365\n"
          ]
        },
        {
          "output_type": "stream",
          "name": "stderr",
          "text": [
            "\r 50%|█████     | 3/6 [00:00<00:00,  7.83it/s]"
          ]
        },
        {
          "output_type": "stream",
          "name": "stdout",
          "text": [
            "Iteration 194 - Train Loss: 1.564722 - Dev Loss: 2.612296\r2.612295627593994\n"
          ]
        },
        {
          "output_type": "stream",
          "name": "stderr",
          "text": [
            "\r 67%|██████▋   | 4/6 [00:00<00:00,  8.06it/s]"
          ]
        },
        {
          "output_type": "stream",
          "name": "stdout",
          "text": [
            "Iteration 195 - Train Loss: 1.599205 - Dev Loss: 2.627075\r2.6270751953125\n"
          ]
        },
        {
          "output_type": "stream",
          "name": "stderr",
          "text": [
            "\r 83%|████████▎ | 5/6 [00:00<00:00,  7.50it/s]"
          ]
        },
        {
          "output_type": "stream",
          "name": "stdout",
          "text": [
            "Iteration 196 - Train Loss: 1.602693 - Dev Loss: 2.612782\r2.6127820014953613\n"
          ]
        },
        {
          "output_type": "stream",
          "name": "stderr",
          "text": [
            "100%|██████████| 6/6 [00:00<00:00,  7.74it/s]\n"
          ]
        },
        {
          "output_type": "stream",
          "name": "stdout",
          "text": [
            "Iteration 197 - Train Loss: 1.486184 - Dev Loss: 2.630404\r2.630403995513916\n",
            "epoch 33\n"
          ]
        },
        {
          "output_type": "stream",
          "name": "stderr",
          "text": [
            " 17%|█▋        | 1/6 [00:00<00:00,  6.36it/s]"
          ]
        },
        {
          "output_type": "stream",
          "name": "stdout",
          "text": [
            "Iteration 198 - Train Loss: 1.563661 - Dev Loss: 2.659354\r2.6593539714813232\n"
          ]
        },
        {
          "output_type": "stream",
          "name": "stderr",
          "text": [
            "\r 33%|███▎      | 2/6 [00:00<00:00,  7.91it/s]"
          ]
        },
        {
          "output_type": "stream",
          "name": "stdout",
          "text": [
            "Iteration 199 - Train Loss: 1.487223 - Dev Loss: 2.633796\r2.633796453475952\n"
          ]
        },
        {
          "output_type": "stream",
          "name": "stderr",
          "text": [
            "\r 50%|█████     | 3/6 [00:00<00:00,  7.82it/s]"
          ]
        },
        {
          "output_type": "stream",
          "name": "stdout",
          "text": [
            "Iteration 200 - Train Loss: 1.641677 - Dev Loss: 2.600399\r2.6003992557525635\n"
          ]
        },
        {
          "output_type": "stream",
          "name": "stderr",
          "text": [
            "\r 67%|██████▋   | 4/6 [00:00<00:00,  7.76it/s]"
          ]
        },
        {
          "output_type": "stream",
          "name": "stdout",
          "text": [
            "Iteration 201 - Train Loss: 1.609545 - Dev Loss: 2.619098\r2.619097948074341\n"
          ]
        },
        {
          "output_type": "stream",
          "name": "stderr",
          "text": [
            "100%|██████████| 6/6 [00:00<00:00,  8.64it/s]\n"
          ]
        },
        {
          "output_type": "stream",
          "name": "stdout",
          "text": [
            "Iteration 202 - Train Loss: 1.623844 - Dev Loss: 2.663373\r2.663372755050659\n",
            "Iteration 203 - Train Loss: 1.560573 - Dev Loss: 2.649039\r2.6490390300750732\n",
            "epoch 34\n"
          ]
        },
        {
          "output_type": "stream",
          "name": "stderr",
          "text": [
            "\r  0%|          | 0/6 [00:00<?, ?it/s]"
          ]
        },
        {
          "output_type": "stream",
          "name": "stdout",
          "text": [
            "Iteration 204 - Train Loss: 1.482619 - Dev Loss: 2.646224\r2.646224021911621\n"
          ]
        },
        {
          "output_type": "stream",
          "name": "stderr",
          "text": [
            " 33%|███▎      | 2/6 [00:00<00:00,  8.49it/s]"
          ]
        },
        {
          "output_type": "stream",
          "name": "stdout",
          "text": [
            "Iteration 205 - Train Loss: 1.501057 - Dev Loss: 2.621532\r2.6215317249298096\n"
          ]
        },
        {
          "output_type": "stream",
          "name": "stderr",
          "text": [
            "\r 50%|█████     | 3/6 [00:00<00:00,  9.08it/s]"
          ]
        },
        {
          "output_type": "stream",
          "name": "stdout",
          "text": [
            "Iteration 206 - Train Loss: 1.500699 - Dev Loss: 2.622734\r2.622734308242798\n"
          ]
        },
        {
          "output_type": "stream",
          "name": "stderr",
          "text": [
            "\r 67%|██████▋   | 4/6 [00:00<00:00,  9.02it/s]"
          ]
        },
        {
          "output_type": "stream",
          "name": "stdout",
          "text": [
            "Iteration 207 - Train Loss: 1.567722 - Dev Loss: 2.622107\r2.6221065521240234\n"
          ]
        },
        {
          "output_type": "stream",
          "name": "stderr",
          "text": [
            "100%|██████████| 6/6 [00:00<00:00,  9.40it/s]"
          ]
        },
        {
          "output_type": "stream",
          "name": "stdout",
          "text": [
            "Iteration 208 - Train Loss: 1.653710 - Dev Loss: 2.638808\r2.638807773590088\n",
            "Iteration 209 - Train Loss: 1.421096 - Dev Loss: 2.602096\r2.60209584236145\n"
          ]
        },
        {
          "output_type": "stream",
          "name": "stderr",
          "text": [
            "\n"
          ]
        },
        {
          "output_type": "stream",
          "name": "stdout",
          "text": [
            "epoch 35\n"
          ]
        },
        {
          "output_type": "stream",
          "name": "stderr",
          "text": [
            " 17%|█▋        | 1/6 [00:00<00:00,  7.98it/s]"
          ]
        },
        {
          "output_type": "stream",
          "name": "stdout",
          "text": [
            "Iteration 210 - Train Loss: 1.591191 - Dev Loss: 2.663174\r2.6631743907928467\n"
          ]
        },
        {
          "output_type": "stream",
          "name": "stderr",
          "text": [
            "\r 33%|███▎      | 2/6 [00:00<00:00,  8.83it/s]"
          ]
        },
        {
          "output_type": "stream",
          "name": "stdout",
          "text": [
            "Iteration 211 - Train Loss: 1.494730 - Dev Loss: 2.658126\r2.658125638961792\n"
          ]
        },
        {
          "output_type": "stream",
          "name": "stderr",
          "text": [
            "\r 67%|██████▋   | 4/6 [00:00<00:00, 10.72it/s]"
          ]
        },
        {
          "output_type": "stream",
          "name": "stdout",
          "text": [
            "Iteration 212 - Train Loss: 1.499241 - Dev Loss: 2.630333\r2.6303327083587646\n",
            "Iteration 213 - Train Loss: 1.461474 - Dev Loss: 2.602022\r2.6020216941833496\n"
          ]
        },
        {
          "output_type": "stream",
          "name": "stderr",
          "text": [
            "100%|██████████| 6/6 [00:00<00:00, 11.59it/s]\n"
          ]
        },
        {
          "output_type": "stream",
          "name": "stdout",
          "text": [
            "Iteration 214 - Train Loss: 1.439761 - Dev Loss: 2.647036\r2.647036075592041\n",
            "Iteration 215 - Train Loss: 1.614990 - Dev Loss: 2.673080\r2.6730804443359375\n",
            "epoch 36\n"
          ]
        },
        {
          "output_type": "stream",
          "name": "stderr",
          "text": [
            "\r  0%|          | 0/6 [00:00<?, ?it/s]"
          ]
        },
        {
          "output_type": "stream",
          "name": "stdout",
          "text": [
            "Iteration 216 - Train Loss: 1.442797 - Dev Loss: 2.618659\r2.618659019470215\n"
          ]
        },
        {
          "output_type": "stream",
          "name": "stderr",
          "text": [
            "\r 33%|███▎      | 2/6 [00:00<00:00, 13.01it/s]"
          ]
        },
        {
          "output_type": "stream",
          "name": "stdout",
          "text": [
            "Iteration 217 - Train Loss: 1.534546 - Dev Loss: 2.621126\r2.6211256980895996\n",
            "Iteration 218 - Train Loss: 1.437689 - Dev Loss: 2.633207\r2.633207082748413\n"
          ]
        },
        {
          "output_type": "stream",
          "name": "stderr",
          "text": [
            "\r 67%|██████▋   | 4/6 [00:00<00:00, 13.63it/s]"
          ]
        },
        {
          "output_type": "stream",
          "name": "stdout",
          "text": [
            "Iteration 219 - Train Loss: 1.489420 - Dev Loss: 2.619989\r2.6199886798858643\n",
            "Iteration 220 - Train Loss: 1.411744 - Dev Loss: 2.719661\r2.7196614742279053\n"
          ]
        },
        {
          "output_type": "stream",
          "name": "stderr",
          "text": [
            "100%|██████████| 6/6 [00:00<00:00, 14.71it/s]\n"
          ]
        },
        {
          "output_type": "stream",
          "name": "stdout",
          "text": [
            "Iteration 221 - Train Loss: 1.638688 - Dev Loss: 2.690720\r2.6907196044921875\n",
            "epoch 37\n"
          ]
        },
        {
          "output_type": "stream",
          "name": "stderr",
          "text": [
            "\r  0%|          | 0/6 [00:00<?, ?it/s]"
          ]
        },
        {
          "output_type": "stream",
          "name": "stdout",
          "text": [
            "Iteration 222 - Train Loss: 1.509563 - Dev Loss: 2.691810\r2.691809892654419\n"
          ]
        },
        {
          "output_type": "stream",
          "name": "stderr",
          "text": [
            "\r 33%|███▎      | 2/6 [00:00<00:00, 13.82it/s]"
          ]
        },
        {
          "output_type": "stream",
          "name": "stdout",
          "text": [
            "2.66523814201355\n",
            "2.660616636276245\n"
          ]
        },
        {
          "output_type": "stream",
          "name": "stderr",
          "text": [
            "\r 67%|██████▋   | 4/6 [00:00<00:00, 13.28it/s]"
          ]
        },
        {
          "output_type": "stream",
          "name": "stdout",
          "text": [
            "Iteration 225 - Train Loss: 1.400736 - Dev Loss: 2.679894\r2.679894208908081\n"
          ]
        },
        {
          "output_type": "stream",
          "name": "stderr",
          "text": [
            "100%|██████████| 6/6 [00:00<00:00, 14.17it/s]\n"
          ]
        },
        {
          "output_type": "stream",
          "name": "stdout",
          "text": [
            "Iteration 226 - Train Loss: 1.458095 - Dev Loss: 2.667724\r2.667724132537842\n",
            "Iteration 227 - Train Loss: 1.355980 - Dev Loss: 2.681530\r2.6815295219421387\n",
            "epoch 38\n"
          ]
        },
        {
          "output_type": "stream",
          "name": "stderr",
          "text": [
            "\r  0%|          | 0/6 [00:00<?, ?it/s]"
          ]
        },
        {
          "output_type": "stream",
          "name": "stdout",
          "text": [
            "Iteration 228 - Train Loss: 1.400730 - Dev Loss: 2.721044\r2.721043586730957\n"
          ]
        },
        {
          "output_type": "stream",
          "name": "stderr",
          "text": [
            "\r 33%|███▎      | 2/6 [00:00<00:00, 13.09it/s]"
          ]
        },
        {
          "output_type": "stream",
          "name": "stdout",
          "text": [
            "Iteration 229 - Train Loss: 1.462177 - Dev Loss: 2.656393\r2.65639328956604\n",
            "Iteration 230 - Train Loss: 1.403287 - Dev Loss: 2.655564\r2.655564069747925\n"
          ]
        },
        {
          "output_type": "stream",
          "name": "stderr",
          "text": [
            "\r 67%|██████▋   | 4/6 [00:00<00:00, 13.77it/s]"
          ]
        },
        {
          "output_type": "stream",
          "name": "stdout",
          "text": [
            "Iteration 231 - Train Loss: 1.380388 - Dev Loss: 2.681442\r2.6814424991607666\n"
          ]
        },
        {
          "output_type": "stream",
          "name": "stderr",
          "text": [
            "100%|██████████| 6/6 [00:00<00:00, 13.89it/s]\n"
          ]
        },
        {
          "output_type": "stream",
          "name": "stdout",
          "text": [
            "Iteration 232 - Train Loss: 1.506116 - Dev Loss: 2.719719\r2.719719171524048\n",
            "Iteration 233 - Train Loss: 1.293451 - Dev Loss: 2.682011\r2.682011365890503\n",
            "epoch 39\n"
          ]
        },
        {
          "output_type": "stream",
          "name": "stderr",
          "text": [
            "\r  0%|          | 0/6 [00:00<?, ?it/s]"
          ]
        },
        {
          "output_type": "stream",
          "name": "stdout",
          "text": [
            "Iteration 234 - Train Loss: 1.412224 - Dev Loss: 2.696709\r2.696709394454956\n"
          ]
        },
        {
          "output_type": "stream",
          "name": "stderr",
          "text": [
            "\r 33%|███▎      | 2/6 [00:00<00:00, 12.73it/s]"
          ]
        },
        {
          "output_type": "stream",
          "name": "stdout",
          "text": [
            "Iteration 235 - Train Loss: 1.327613 - Dev Loss: 2.698322\r2.698321580886841\n",
            "Iteration 236 - Train Loss: 1.423503 - Dev Loss: 2.646029\r2.646028995513916\n"
          ]
        },
        {
          "output_type": "stream",
          "name": "stderr",
          "text": [
            "\r 67%|██████▋   | 4/6 [00:00<00:00, 13.38it/s]"
          ]
        },
        {
          "output_type": "stream",
          "name": "stdout",
          "text": [
            "Iteration 237 - Train Loss: 1.281148 - Dev Loss: 2.671121\r2.67112135887146\n"
          ]
        },
        {
          "output_type": "stream",
          "name": "stderr",
          "text": [
            "100%|██████████| 6/6 [00:00<00:00, 13.74it/s]\n"
          ]
        },
        {
          "output_type": "stream",
          "name": "stdout",
          "text": [
            "Iteration 238 - Train Loss: 1.462516 - Dev Loss: 2.625314\r2.6253135204315186\n",
            "Iteration 239 - Train Loss: 1.687832 - Dev Loss: 2.711799\r2.711799383163452\n",
            "epoch 40\n"
          ]
        },
        {
          "output_type": "stream",
          "name": "stderr",
          "text": [
            "\r  0%|          | 0/6 [00:00<?, ?it/s]"
          ]
        },
        {
          "output_type": "stream",
          "name": "stdout",
          "text": [
            "Iteration 240 - Train Loss: 1.327418 - Dev Loss: 2.709772\r2.7097723484039307\n"
          ]
        },
        {
          "output_type": "stream",
          "name": "stderr",
          "text": [
            "\r 33%|███▎      | 2/6 [00:00<00:00, 13.61it/s]"
          ]
        },
        {
          "output_type": "stream",
          "name": "stdout",
          "text": [
            "Iteration 241 - Train Loss: 1.356543 - Dev Loss: 2.718717\r2.718717098236084\n",
            "Iteration 242 - Train Loss: 1.379970 - Dev Loss: 2.641084\r2.6410837173461914\n"
          ]
        },
        {
          "output_type": "stream",
          "name": "stderr",
          "text": [
            "\r 67%|██████▋   | 4/6 [00:00<00:00, 13.20it/s]"
          ]
        },
        {
          "output_type": "stream",
          "name": "stdout",
          "text": [
            "Iteration 243 - Train Loss: 1.398907 - Dev Loss: 2.671540\r2.6715400218963623\n"
          ]
        },
        {
          "output_type": "stream",
          "name": "stderr",
          "text": [
            "100%|██████████| 6/6 [00:00<00:00, 14.27it/s]\n"
          ]
        },
        {
          "output_type": "stream",
          "name": "stdout",
          "text": [
            "Iteration 244 - Train Loss: 1.371908 - Dev Loss: 2.686266\r2.686265707015991\n",
            "Iteration 245 - Train Loss: 1.264818 - Dev Loss: 2.712162\r2.7121617794036865\n",
            "epoch 41\n"
          ]
        },
        {
          "output_type": "stream",
          "name": "stderr",
          "text": [
            "\r  0%|          | 0/6 [00:00<?, ?it/s]"
          ]
        },
        {
          "output_type": "stream",
          "name": "stdout",
          "text": [
            "2.672600269317627\n",
            "2.6900289058685303\n"
          ]
        },
        {
          "output_type": "stream",
          "name": "stderr",
          "text": [
            "\r 33%|███▎      | 2/6 [00:00<00:00, 13.81it/s]"
          ]
        },
        {
          "output_type": "stream",
          "name": "stdout",
          "text": [
            "Iteration 248 - Train Loss: 1.376827 - Dev Loss: 2.689783\r2.6897833347320557\n"
          ]
        },
        {
          "output_type": "stream",
          "name": "stderr",
          "text": [
            "\r 67%|██████▋   | 4/6 [00:00<00:00, 13.61it/s]"
          ]
        },
        {
          "output_type": "stream",
          "name": "stdout",
          "text": [
            "Iteration 249 - Train Loss: 1.343139 - Dev Loss: 2.756660\r2.7566604614257812\n"
          ]
        },
        {
          "output_type": "stream",
          "name": "stderr",
          "text": [
            "100%|██████████| 6/6 [00:00<00:00, 14.34it/s]\n"
          ]
        },
        {
          "output_type": "stream",
          "name": "stdout",
          "text": [
            "Iteration 250 - Train Loss: 1.360361 - Dev Loss: 2.711939\r2.7119388580322266\n",
            "Iteration 251 - Train Loss: 1.474660 - Dev Loss: 2.717252\r2.717251777648926\n",
            "epoch 42\n"
          ]
        },
        {
          "output_type": "stream",
          "name": "stderr",
          "text": [
            "\r  0%|          | 0/6 [00:00<?, ?it/s]"
          ]
        },
        {
          "output_type": "stream",
          "name": "stdout",
          "text": [
            "Iteration 252 - Train Loss: 1.350521 - Dev Loss: 2.677654\r2.6776535511016846\n"
          ]
        },
        {
          "output_type": "stream",
          "name": "stderr",
          "text": [
            "\r 33%|███▎      | 2/6 [00:00<00:00, 12.42it/s]"
          ]
        },
        {
          "output_type": "stream",
          "name": "stdout",
          "text": [
            "Iteration 253 - Train Loss: 1.359949 - Dev Loss: 2.770220\r2.770219564437866\n",
            "Iteration 254 - Train Loss: 1.305554 - Dev Loss: 2.785280\r2.785280227661133\n"
          ]
        },
        {
          "output_type": "stream",
          "name": "stderr",
          "text": [
            "\r 67%|██████▋   | 4/6 [00:00<00:00, 12.99it/s]"
          ]
        },
        {
          "output_type": "stream",
          "name": "stdout",
          "text": [
            "Iteration 255 - Train Loss: 1.320884 - Dev Loss: 2.788080\r2.7880797386169434\n"
          ]
        },
        {
          "output_type": "stream",
          "name": "stderr",
          "text": [
            "100%|██████████| 6/6 [00:00<00:00, 13.58it/s]\n"
          ]
        },
        {
          "output_type": "stream",
          "name": "stdout",
          "text": [
            "Iteration 256 - Train Loss: 1.277161 - Dev Loss: 2.768146\r2.76814603805542\n",
            "Iteration 257 - Train Loss: 1.408829 - Dev Loss: 2.698751\r2.698751449584961\n",
            "epoch 43\n"
          ]
        },
        {
          "output_type": "stream",
          "name": "stderr",
          "text": [
            "\r  0%|          | 0/6 [00:00<?, ?it/s]"
          ]
        },
        {
          "output_type": "stream",
          "name": "stdout",
          "text": [
            "Iteration 258 - Train Loss: 1.376125 - Dev Loss: 2.768008\r2.768007755279541\n"
          ]
        },
        {
          "output_type": "stream",
          "name": "stderr",
          "text": [
            "\r 33%|███▎      | 2/6 [00:00<00:00, 13.25it/s]"
          ]
        },
        {
          "output_type": "stream",
          "name": "stdout",
          "text": [
            "Iteration 259 - Train Loss: 1.207469 - Dev Loss: 2.847066\r2.8470664024353027\n",
            "Iteration 260 - Train Loss: 1.240617 - Dev Loss: 2.759408\r2.7594079971313477\n"
          ]
        },
        {
          "output_type": "stream",
          "name": "stderr",
          "text": [
            "\r 67%|██████▋   | 4/6 [00:00<00:00, 13.08it/s]"
          ]
        },
        {
          "output_type": "stream",
          "name": "stdout",
          "text": [
            "Iteration 261 - Train Loss: 1.328788 - Dev Loss: 2.763139\r2.763139009475708\n"
          ]
        },
        {
          "output_type": "stream",
          "name": "stderr",
          "text": [
            "100%|██████████| 6/6 [00:00<00:00, 14.04it/s]\n"
          ]
        },
        {
          "output_type": "stream",
          "name": "stdout",
          "text": [
            "Iteration 262 - Train Loss: 1.290300 - Dev Loss: 2.793441\r2.7934410572052\n",
            "Iteration 263 - Train Loss: 1.251432 - Dev Loss: 2.738710\r2.738710403442383\n",
            "epoch 44\n"
          ]
        },
        {
          "output_type": "stream",
          "name": "stderr",
          "text": [
            "\r  0%|          | 0/6 [00:00<?, ?it/s]"
          ]
        },
        {
          "output_type": "stream",
          "name": "stdout",
          "text": [
            "Iteration 264 - Train Loss: 1.296922 - Dev Loss: 2.725238\r2.7252378463745117\n",
            "Iteration 265 - Train Loss: 1.227394 - Dev Loss: 2.783128\r2.783128499984741\n"
          ]
        },
        {
          "output_type": "stream",
          "name": "stderr",
          "text": [
            "\r 33%|███▎      | 2/6 [00:00<00:00, 13.27it/s]"
          ]
        },
        {
          "output_type": "stream",
          "name": "stdout",
          "text": [
            "Iteration 266 - Train Loss: 1.255394 - Dev Loss: 2.771212\r2.771211624145508\n"
          ]
        },
        {
          "output_type": "stream",
          "name": "stderr",
          "text": [
            "\r 67%|██████▋   | 4/6 [00:00<00:00, 13.34it/s]"
          ]
        },
        {
          "output_type": "stream",
          "name": "stdout",
          "text": [
            "Iteration 267 - Train Loss: 1.275578 - Dev Loss: 2.799613\r2.7996132373809814\n",
            "Iteration 268 - Train Loss: 1.275842 - Dev Loss: 2.792278\r2.7922778129577637\n"
          ]
        },
        {
          "output_type": "stream",
          "name": "stderr",
          "text": [
            "100%|██████████| 6/6 [00:00<00:00, 13.32it/s]\n"
          ]
        },
        {
          "output_type": "stream",
          "name": "stdout",
          "text": [
            "Iteration 269 - Train Loss: 1.329305 - Dev Loss: 2.801748\r2.801748275756836\n",
            "epoch 45\n"
          ]
        },
        {
          "output_type": "stream",
          "name": "stderr",
          "text": [
            " 33%|███▎      | 2/6 [00:00<00:00, 12.95it/s]"
          ]
        },
        {
          "output_type": "stream",
          "name": "stdout",
          "text": [
            "Iteration 270 - Train Loss: 1.180232 - Dev Loss: 2.844354\r2.8443541526794434\n",
            "2.8365871906280518\n",
            "2.84395694732666\n"
          ]
        },
        {
          "output_type": "stream",
          "name": "stderr",
          "text": [
            "\r 67%|██████▋   | 4/6 [00:00<00:00, 14.06it/s]"
          ]
        },
        {
          "output_type": "stream",
          "name": "stdout",
          "text": [
            "Iteration 273 - Train Loss: 1.274866 - Dev Loss: 2.795053\r2.795053005218506\n",
            "Iteration 274 - Train Loss: 1.163056 - Dev Loss: 2.716677\r2.71667742729187\n"
          ]
        },
        {
          "output_type": "stream",
          "name": "stderr",
          "text": [
            "100%|██████████| 6/6 [00:00<00:00, 13.87it/s]\n"
          ]
        },
        {
          "output_type": "stream",
          "name": "stdout",
          "text": [
            "Iteration 275 - Train Loss: 1.349920 - Dev Loss: 2.805954\r2.8059537410736084\n",
            "epoch 46\n"
          ]
        },
        {
          "output_type": "stream",
          "name": "stderr",
          "text": [
            " 33%|███▎      | 2/6 [00:00<00:00, 14.46it/s]"
          ]
        },
        {
          "output_type": "stream",
          "name": "stdout",
          "text": [
            "Iteration 276 - Train Loss: 1.141745 - Dev Loss: 2.755667\r2.755667209625244\n",
            "2.857989549636841\n",
            "2.8018605709075928\n"
          ]
        },
        {
          "output_type": "stream",
          "name": "stderr",
          "text": [
            "\r 67%|██████▋   | 4/6 [00:00<00:00, 13.85it/s]"
          ]
        },
        {
          "output_type": "stream",
          "name": "stdout",
          "text": [
            "Iteration 279 - Train Loss: 1.217083 - Dev Loss: 2.771804\r2.771803855895996\n",
            "Iteration 280 - Train Loss: 1.255166 - Dev Loss: 2.839974\r2.8399736881256104\n"
          ]
        },
        {
          "output_type": "stream",
          "name": "stderr",
          "text": [
            "100%|██████████| 6/6 [00:00<00:00, 13.58it/s]\n"
          ]
        },
        {
          "output_type": "stream",
          "name": "stdout",
          "text": [
            "Iteration 281 - Train Loss: 1.161366 - Dev Loss: 2.828339\r2.828338861465454\n",
            "epoch 47\n"
          ]
        },
        {
          "output_type": "stream",
          "name": "stderr",
          "text": [
            " 33%|███▎      | 2/6 [00:00<00:00, 13.16it/s]"
          ]
        },
        {
          "output_type": "stream",
          "name": "stdout",
          "text": [
            "Iteration 282 - Train Loss: 1.143327 - Dev Loss: 2.842211\r2.8422110080718994\n",
            "2.858994960784912\n",
            "2.8621325492858887\n"
          ]
        },
        {
          "output_type": "stream",
          "name": "stderr",
          "text": [
            "\r 67%|██████▋   | 4/6 [00:00<00:00, 13.88it/s]"
          ]
        },
        {
          "output_type": "stream",
          "name": "stdout",
          "text": [
            "Iteration 285 - Train Loss: 1.186910 - Dev Loss: 2.837158\r2.837158441543579\n",
            "Iteration 286 - Train Loss: 1.249459 - Dev Loss: 2.837295\r2.837294816970825\n",
            "Iteration 287 - Train Loss: 1.180377 - Dev Loss: 2.822583\r2.822582721710205\n"
          ]
        },
        {
          "output_type": "stream",
          "name": "stderr",
          "text": [
            "100%|██████████| 6/6 [00:00<00:00, 14.04it/s]\n"
          ]
        },
        {
          "output_type": "stream",
          "name": "stdout",
          "text": [
            "epoch 48\n"
          ]
        },
        {
          "output_type": "stream",
          "name": "stderr",
          "text": [
            " 33%|███▎      | 2/6 [00:00<00:00, 13.63it/s]"
          ]
        },
        {
          "output_type": "stream",
          "name": "stdout",
          "text": [
            "Iteration 288 - Train Loss: 1.200097 - Dev Loss: 2.835433\r2.835432529449463\n",
            "2.8645834922790527\n",
            "2.819053888320923\n"
          ]
        },
        {
          "output_type": "stream",
          "name": "stderr",
          "text": [
            "\r 67%|██████▋   | 4/6 [00:00<00:00, 13.28it/s]"
          ]
        },
        {
          "output_type": "stream",
          "name": "stdout",
          "text": [
            "Iteration 291 - Train Loss: 1.225537 - Dev Loss: 2.933655\r2.933655261993408\n",
            "Iteration 292 - Train Loss: 1.193116 - Dev Loss: 2.945290\r2.9452903270721436\n",
            "Iteration 293 - Train Loss: 1.118738 - Dev Loss: 2.929525\r2.929525375366211\n"
          ]
        },
        {
          "output_type": "stream",
          "name": "stderr",
          "text": [
            "100%|██████████| 6/6 [00:00<00:00, 13.66it/s]\n"
          ]
        },
        {
          "output_type": "stream",
          "name": "stdout",
          "text": [
            "epoch 49\n"
          ]
        },
        {
          "output_type": "stream",
          "name": "stderr",
          "text": [
            " 33%|███▎      | 2/6 [00:00<00:00, 12.91it/s]"
          ]
        },
        {
          "output_type": "stream",
          "name": "stdout",
          "text": [
            "Iteration 294 - Train Loss: 1.206160 - Dev Loss: 2.876339\r2.8763391971588135\n",
            "2.864140272140503\n",
            "2.9584498405456543\n"
          ]
        },
        {
          "output_type": "stream",
          "name": "stderr",
          "text": [
            "\r 67%|██████▋   | 4/6 [00:00<00:00, 12.71it/s]"
          ]
        },
        {
          "output_type": "stream",
          "name": "stdout",
          "text": [
            "Iteration 297 - Train Loss: 1.028800 - Dev Loss: 2.847667\r2.8476674556732178\n",
            "Iteration 298 - Train Loss: 1.164095 - Dev Loss: 2.845668\r2.845667839050293\n"
          ]
        },
        {
          "output_type": "stream",
          "name": "stderr",
          "text": [
            "100%|██████████| 6/6 [00:00<00:00, 12.94it/s]\n"
          ]
        },
        {
          "output_type": "stream",
          "name": "stdout",
          "text": [
            "Iteration 299 - Train Loss: 1.079918 - Dev Loss: 2.936791\r2.93679141998291\n",
            "epoch 50\n"
          ]
        },
        {
          "output_type": "stream",
          "name": "stderr",
          "text": [
            " 33%|███▎      | 2/6 [00:00<00:00, 13.52it/s]"
          ]
        },
        {
          "output_type": "stream",
          "name": "stdout",
          "text": [
            "Iteration 300 - Train Loss: 1.051287 - Dev Loss: 2.874395\r2.8743948936462402\n",
            "2.8662493228912354\n",
            "2.872704029083252\n"
          ]
        },
        {
          "output_type": "stream",
          "name": "stderr",
          "text": [
            "\r 67%|██████▋   | 4/6 [00:00<00:00, 12.80it/s]"
          ]
        },
        {
          "output_type": "stream",
          "name": "stdout",
          "text": [
            "Iteration 303 - Train Loss: 1.213210 - Dev Loss: 2.843428\r2.843428134918213\n",
            "Iteration 304 - Train Loss: 1.150529 - Dev Loss: 2.880369\r2.8803694248199463\n"
          ]
        },
        {
          "output_type": "stream",
          "name": "stderr",
          "text": [
            "100%|██████████| 6/6 [00:00<00:00, 13.36it/s]\n"
          ]
        },
        {
          "output_type": "stream",
          "name": "stdout",
          "text": [
            "Iteration 305 - Train Loss: 1.273936 - Dev Loss: 2.841937\r2.8419365882873535\n",
            "epoch 51\n"
          ]
        },
        {
          "output_type": "stream",
          "name": "stderr",
          "text": [
            " 33%|███▎      | 2/6 [00:00<00:00, 15.02it/s]"
          ]
        },
        {
          "output_type": "stream",
          "name": "stdout",
          "text": [
            "Iteration 306 - Train Loss: 1.057263 - Dev Loss: 2.908983\r2.908982992172241\n",
            "2.86161208152771\n",
            "2.8472728729248047\n"
          ]
        },
        {
          "output_type": "stream",
          "name": "stderr",
          "text": [
            "\r 67%|██████▋   | 4/6 [00:00<00:00, 13.44it/s]"
          ]
        },
        {
          "output_type": "stream",
          "name": "stdout",
          "text": [
            "Iteration 309 - Train Loss: 1.156421 - Dev Loss: 2.934628\r2.9346275329589844\n",
            "Iteration 310 - Train Loss: 1.061308 - Dev Loss: 2.892358\r2.892357587814331\n"
          ]
        },
        {
          "output_type": "stream",
          "name": "stderr",
          "text": [
            "100%|██████████| 6/6 [00:00<00:00, 13.64it/s]\n"
          ]
        },
        {
          "output_type": "stream",
          "name": "stdout",
          "text": [
            "Iteration 311 - Train Loss: 1.136771 - Dev Loss: 2.945288\r2.9452879428863525\n",
            "epoch 52\n"
          ]
        },
        {
          "output_type": "stream",
          "name": "stderr",
          "text": [
            " 33%|███▎      | 2/6 [00:00<00:00, 13.32it/s]"
          ]
        },
        {
          "output_type": "stream",
          "name": "stdout",
          "text": [
            "Iteration 312 - Train Loss: 1.070804 - Dev Loss: 2.930638\r2.930637836456299\n",
            "2.911874532699585\n",
            "2.8961989879608154\n"
          ]
        },
        {
          "output_type": "stream",
          "name": "stderr",
          "text": [
            "\r 67%|██████▋   | 4/6 [00:00<00:00, 13.54it/s]"
          ]
        },
        {
          "output_type": "stream",
          "name": "stdout",
          "text": [
            "Iteration 315 - Train Loss: 1.165172 - Dev Loss: 2.897007\r2.8970072269439697\n",
            "Iteration 316 - Train Loss: 1.176134 - Dev Loss: 2.948808\r2.948807954788208\n"
          ]
        },
        {
          "output_type": "stream",
          "name": "stderr",
          "text": [
            "100%|██████████| 6/6 [00:00<00:00, 13.92it/s]\n"
          ]
        },
        {
          "output_type": "stream",
          "name": "stdout",
          "text": [
            "Iteration 317 - Train Loss: 1.075402 - Dev Loss: 2.965032\r2.9650323390960693\n",
            "epoch 53\n"
          ]
        },
        {
          "output_type": "stream",
          "name": "stderr",
          "text": [
            " 33%|███▎      | 2/6 [00:00<00:00, 14.16it/s]"
          ]
        },
        {
          "output_type": "stream",
          "name": "stdout",
          "text": [
            "Iteration 318 - Train Loss: 1.047572 - Dev Loss: 2.890570\r2.8905704021453857\n",
            "2.9286677837371826\n",
            "2.9452147483825684\n"
          ]
        },
        {
          "output_type": "stream",
          "name": "stderr",
          "text": [
            "\r 67%|██████▋   | 4/6 [00:00<00:00, 13.26it/s]"
          ]
        },
        {
          "output_type": "stream",
          "name": "stdout",
          "text": [
            "Iteration 321 - Train Loss: 1.118890 - Dev Loss: 2.861196\r2.8611955642700195\n",
            "Iteration 322 - Train Loss: 1.073411 - Dev Loss: 2.984529\r2.9845287799835205\n"
          ]
        },
        {
          "output_type": "stream",
          "name": "stderr",
          "text": [
            "100%|██████████| 6/6 [00:00<00:00, 13.92it/s]\n"
          ]
        },
        {
          "output_type": "stream",
          "name": "stdout",
          "text": [
            "Iteration 323 - Train Loss: 1.217465 - Dev Loss: 2.958026\r2.9580256938934326\n",
            "epoch 54\n"
          ]
        },
        {
          "output_type": "stream",
          "name": "stderr",
          "text": [
            " 33%|███▎      | 2/6 [00:00<00:00, 13.38it/s]"
          ]
        },
        {
          "output_type": "stream",
          "name": "stdout",
          "text": [
            "Iteration 324 - Train Loss: 1.045087 - Dev Loss: 2.903311\r2.903311252593994\n",
            "2.942856788635254\n",
            "2.99269962310791\n"
          ]
        },
        {
          "output_type": "stream",
          "name": "stderr",
          "text": [
            "\r 67%|██████▋   | 4/6 [00:00<00:00, 13.39it/s]"
          ]
        },
        {
          "output_type": "stream",
          "name": "stdout",
          "text": [
            "Iteration 327 - Train Loss: 1.121150 - Dev Loss: 2.988818\r2.9888179302215576\n",
            "Iteration 328 - Train Loss: 1.058446 - Dev Loss: 2.996513\r2.9965131282806396\n"
          ]
        },
        {
          "output_type": "stream",
          "name": "stderr",
          "text": [
            "100%|██████████| 6/6 [00:00<00:00, 13.62it/s]\n"
          ]
        },
        {
          "output_type": "stream",
          "name": "stdout",
          "text": [
            "Iteration 329 - Train Loss: 0.977828 - Dev Loss: 2.976888\r2.9768877029418945\n",
            "epoch 55\n"
          ]
        },
        {
          "output_type": "stream",
          "name": "stderr",
          "text": [
            " 33%|███▎      | 2/6 [00:00<00:00, 14.01it/s]"
          ]
        },
        {
          "output_type": "stream",
          "name": "stdout",
          "text": [
            "Iteration 330 - Train Loss: 0.967871 - Dev Loss: 2.937588\r2.9375879764556885\n",
            "2.9686999320983887\n",
            "2.9726011753082275\n",
            "2.9837090969085693\n"
          ]
        },
        {
          "output_type": "stream",
          "name": "stderr",
          "text": [
            "\r 67%|██████▋   | 4/6 [00:00<00:00, 13.85it/s]"
          ]
        },
        {
          "output_type": "stream",
          "name": "stdout",
          "text": [
            "Iteration 334 - Train Loss: 1.108415 - Dev Loss: 2.985137\r2.985137462615967\n"
          ]
        },
        {
          "output_type": "stream",
          "name": "stderr",
          "text": [
            "100%|██████████| 6/6 [00:00<00:00, 13.97it/s]\n"
          ]
        },
        {
          "output_type": "stream",
          "name": "stdout",
          "text": [
            "Iteration 335 - Train Loss: 1.077624 - Dev Loss: 2.916476\r2.916475772857666\n",
            "epoch 56\n"
          ]
        },
        {
          "output_type": "stream",
          "name": "stderr",
          "text": [
            "\r  0%|          | 0/6 [00:00<?, ?it/s]"
          ]
        },
        {
          "output_type": "stream",
          "name": "stdout",
          "text": [
            "Iteration 336 - Train Loss: 1.044403 - Dev Loss: 3.025066\r3.0250661373138428\n"
          ]
        },
        {
          "output_type": "stream",
          "name": "stderr",
          "text": [
            "\r 33%|███▎      | 2/6 [00:00<00:00, 12.90it/s]"
          ]
        },
        {
          "output_type": "stream",
          "name": "stdout",
          "text": [
            "2.9384095668792725\n",
            "3.050006151199341\n"
          ]
        },
        {
          "output_type": "stream",
          "name": "stderr",
          "text": [
            "\r 67%|██████▋   | 4/6 [00:00<00:00, 13.24it/s]"
          ]
        },
        {
          "output_type": "stream",
          "name": "stdout",
          "text": [
            "Iteration 339 - Train Loss: 1.028060 - Dev Loss: 2.971480\r2.971480131149292\n"
          ]
        },
        {
          "output_type": "stream",
          "name": "stderr",
          "text": [
            "\r100%|██████████| 6/6 [00:00<00:00, 14.50it/s]"
          ]
        },
        {
          "output_type": "stream",
          "name": "stdout",
          "text": [
            "Iteration 340 - Train Loss: 1.040457 - Dev Loss: 2.972112\r2.972111701965332\n",
            "Iteration 341 - Train Loss: 1.156526 - Dev Loss: 3.033180\r3.0331804752349854\n"
          ]
        },
        {
          "output_type": "stream",
          "name": "stderr",
          "text": [
            "\r100%|██████████| 6/6 [00:00<00:00, 13.99it/s]\n"
          ]
        },
        {
          "output_type": "stream",
          "name": "stdout",
          "text": [
            "epoch 57\n"
          ]
        },
        {
          "output_type": "stream",
          "name": "stderr",
          "text": [
            "\r  0%|          | 0/6 [00:00<?, ?it/s]"
          ]
        },
        {
          "output_type": "stream",
          "name": "stdout",
          "text": [
            "3.0093395709991455\n",
            "2.9835803508758545\n"
          ]
        },
        {
          "output_type": "stream",
          "name": "stderr",
          "text": [
            "\r 33%|███▎      | 2/6 [00:00<00:00, 13.58it/s]"
          ]
        },
        {
          "output_type": "stream",
          "name": "stdout",
          "text": [
            "Iteration 344 - Train Loss: 1.032730 - Dev Loss: 3.052912\r3.052912473678589\n"
          ]
        },
        {
          "output_type": "stream",
          "name": "stderr",
          "text": [
            "\r 67%|██████▋   | 4/6 [00:00<00:00, 12.44it/s]"
          ]
        },
        {
          "output_type": "stream",
          "name": "stdout",
          "text": [
            "3.074801445007324\n",
            "3.142116069793701\n",
            "3.0214548110961914\n"
          ]
        },
        {
          "output_type": "stream",
          "name": "stderr",
          "text": [
            "100%|██████████| 6/6 [00:00<00:00, 13.57it/s]\n"
          ]
        },
        {
          "output_type": "stream",
          "name": "stdout",
          "text": [
            "epoch 58\n"
          ]
        },
        {
          "output_type": "stream",
          "name": "stderr",
          "text": [
            " 17%|█▋        | 1/6 [00:00<00:00,  9.71it/s]"
          ]
        },
        {
          "output_type": "stream",
          "name": "stdout",
          "text": [
            "Iteration 348 - Train Loss: 1.026082 - Dev Loss: 3.042102\r3.0421016216278076\n"
          ]
        },
        {
          "output_type": "stream",
          "name": "stderr",
          "text": [
            "\r 33%|███▎      | 2/6 [00:00<00:00,  8.50it/s]"
          ]
        },
        {
          "output_type": "stream",
          "name": "stdout",
          "text": [
            "3.0034682750701904\n",
            "3.0159902572631836\n",
            "3.033249616622925\n"
          ]
        },
        {
          "output_type": "stream",
          "name": "stderr",
          "text": [
            "100%|██████████| 6/6 [00:00<00:00,  9.74it/s]\n"
          ]
        },
        {
          "output_type": "stream",
          "name": "stdout",
          "text": [
            "Iteration 352 - Train Loss: 0.990556 - Dev Loss: 3.046335\r3.046335458755493\n",
            "Iteration 353 - Train Loss: 1.146186 - Dev Loss: 2.998861\r2.998861312866211\n",
            "epoch 59\n"
          ]
        },
        {
          "output_type": "stream",
          "name": "stderr",
          "text": [
            " 33%|███▎      | 2/6 [00:00<00:00,  8.62it/s]"
          ]
        },
        {
          "output_type": "stream",
          "name": "stdout",
          "text": [
            "Iteration 354 - Train Loss: 1.064399 - Dev Loss: 3.041283\r3.041283369064331\n",
            "Iteration 355 - Train Loss: 0.856114 - Dev Loss: 3.057694\r3.0576939582824707\n"
          ]
        },
        {
          "output_type": "stream",
          "name": "stderr",
          "text": [
            "\r 50%|█████     | 3/6 [00:00<00:00,  9.13it/s]"
          ]
        },
        {
          "output_type": "stream",
          "name": "stdout",
          "text": [
            "Iteration 356 - Train Loss: 1.027410 - Dev Loss: 2.946434\r2.9464340209960938\n",
            "Iteration 357 - Train Loss: 1.053043 - Dev Loss: 3.031726\r3.0317256450653076\n"
          ]
        },
        {
          "output_type": "stream",
          "name": "stderr",
          "text": [
            "100%|██████████| 6/6 [00:00<00:00,  9.36it/s]\n"
          ]
        },
        {
          "output_type": "stream",
          "name": "stdout",
          "text": [
            "Iteration 358 - Train Loss: 1.085153 - Dev Loss: 3.065434\r3.065434217453003\n",
            "Iteration 359 - Train Loss: 1.023252 - Dev Loss: 3.006908\r3.0069079399108887\n",
            "epoch 60\n"
          ]
        },
        {
          "output_type": "stream",
          "name": "stderr",
          "text": [
            " 33%|███▎      | 2/6 [00:00<00:00,  8.68it/s]"
          ]
        },
        {
          "output_type": "stream",
          "name": "stdout",
          "text": [
            "Iteration 360 - Train Loss: 0.956078 - Dev Loss: 3.122559\r3.122558832168579\n",
            "Iteration 361 - Train Loss: 0.973533 - Dev Loss: 3.092969\r3.0929694175720215\n"
          ]
        },
        {
          "output_type": "stream",
          "name": "stderr",
          "text": [
            " 67%|██████▋   | 4/6 [00:00<00:00,  9.26it/s]"
          ]
        },
        {
          "output_type": "stream",
          "name": "stdout",
          "text": [
            "Iteration 362 - Train Loss: 1.038822 - Dev Loss: 3.049461\r3.0494608879089355\n",
            "Iteration 363 - Train Loss: 1.097275 - Dev Loss: 3.046661\r3.046661376953125\n"
          ]
        },
        {
          "output_type": "stream",
          "name": "stderr",
          "text": [
            "100%|██████████| 6/6 [00:00<00:00,  9.76it/s]\n"
          ]
        },
        {
          "output_type": "stream",
          "name": "stdout",
          "text": [
            "Iteration 364 - Train Loss: 0.906996 - Dev Loss: 3.003610\r3.0036096572875977\n",
            "Iteration 365 - Train Loss: 0.987030 - Dev Loss: 3.021500\r3.0214996337890625\n",
            "epoch 61\n"
          ]
        },
        {
          "output_type": "stream",
          "name": "stderr",
          "text": [
            "\r  0%|          | 0/6 [00:00<?, ?it/s]"
          ]
        },
        {
          "output_type": "stream",
          "name": "stdout",
          "text": [
            "Iteration 366 - Train Loss: 0.942595 - Dev Loss: 3.036940\r3.0369396209716797\n"
          ]
        },
        {
          "output_type": "stream",
          "name": "stderr",
          "text": [
            "\r 33%|███▎      | 2/6 [00:00<00:00, 13.24it/s]"
          ]
        },
        {
          "output_type": "stream",
          "name": "stdout",
          "text": [
            "Iteration 367 - Train Loss: 0.959433 - Dev Loss: 2.987133\r2.987133264541626\n",
            "Iteration 368 - Train Loss: 0.993087 - Dev Loss: 3.024622\r3.0246217250823975\n"
          ]
        },
        {
          "output_type": "stream",
          "name": "stderr",
          "text": [
            "\r 67%|██████▋   | 4/6 [00:00<00:00, 12.97it/s]"
          ]
        },
        {
          "output_type": "stream",
          "name": "stdout",
          "text": [
            "Iteration 369 - Train Loss: 1.022295 - Dev Loss: 3.081127\r3.081127405166626\n"
          ]
        },
        {
          "output_type": "stream",
          "name": "stderr",
          "text": [
            "100%|██████████| 6/6 [00:00<00:00, 13.34it/s]\n"
          ]
        },
        {
          "output_type": "stream",
          "name": "stdout",
          "text": [
            "Iteration 370 - Train Loss: 0.948172 - Dev Loss: 3.134578\r3.134577989578247\n",
            "Iteration 371 - Train Loss: 0.928250 - Dev Loss: 3.096326\r3.0963263511657715\n",
            "epoch 62\n"
          ]
        },
        {
          "output_type": "stream",
          "name": "stderr",
          "text": [
            "\r  0%|          | 0/6 [00:00<?, ?it/s]"
          ]
        },
        {
          "output_type": "stream",
          "name": "stdout",
          "text": [
            "Iteration 372 - Train Loss: 0.968465 - Dev Loss: 3.122599\r3.122598648071289\n",
            "Iteration 373 - Train Loss: 0.974461 - Dev Loss: 3.071405\r3.0714054107666016\n"
          ]
        },
        {
          "output_type": "stream",
          "name": "stderr",
          "text": [
            "\r 33%|███▎      | 2/6 [00:00<00:00, 13.44it/s]"
          ]
        },
        {
          "output_type": "stream",
          "name": "stdout",
          "text": [
            "Iteration 374 - Train Loss: 1.055827 - Dev Loss: 3.093773\r3.0937726497650146\n"
          ]
        },
        {
          "output_type": "stream",
          "name": "stderr",
          "text": [
            "\r 67%|██████▋   | 4/6 [00:00<00:00, 13.44it/s]"
          ]
        },
        {
          "output_type": "stream",
          "name": "stdout",
          "text": [
            "Iteration 375 - Train Loss: 0.917478 - Dev Loss: 3.075746\r3.0757455825805664\n",
            "Iteration 376 - Train Loss: 0.887601 - Dev Loss: 3.141146\r3.141146183013916\n"
          ]
        },
        {
          "output_type": "stream",
          "name": "stderr",
          "text": [
            "100%|██████████| 6/6 [00:00<00:00, 13.73it/s]\n"
          ]
        },
        {
          "output_type": "stream",
          "name": "stdout",
          "text": [
            "Iteration 377 - Train Loss: 1.001309 - Dev Loss: 3.104634\r3.1046335697174072\n",
            "epoch 63\n"
          ]
        },
        {
          "output_type": "stream",
          "name": "stderr",
          "text": [
            " 33%|███▎      | 2/6 [00:00<00:00, 14.16it/s]"
          ]
        },
        {
          "output_type": "stream",
          "name": "stdout",
          "text": [
            "Iteration 378 - Train Loss: 1.052288 - Dev Loss: 3.047192\r3.047192096710205\n",
            "3.085920810699463\n",
            "3.1549296379089355\n"
          ]
        },
        {
          "output_type": "stream",
          "name": "stderr",
          "text": [
            "100%|██████████| 6/6 [00:00<00:00, 14.71it/s]"
          ]
        },
        {
          "output_type": "stream",
          "name": "stdout",
          "text": [
            "Iteration 381 - Train Loss: 0.887156 - Dev Loss: 3.150689\r3.150688648223877\n",
            "Iteration 382 - Train Loss: 0.903339 - Dev Loss: 3.064295\r3.0642950534820557\n",
            "Iteration 383 - Train Loss: 0.911548 - Dev Loss: 3.073805\r3.073805332183838\n"
          ]
        },
        {
          "output_type": "stream",
          "name": "stderr",
          "text": [
            "\r100%|██████████| 6/6 [00:00<00:00, 14.27it/s]\n"
          ]
        },
        {
          "output_type": "stream",
          "name": "stdout",
          "text": [
            "epoch 64\n"
          ]
        },
        {
          "output_type": "stream",
          "name": "stderr",
          "text": [
            " 33%|███▎      | 2/6 [00:00<00:00, 11.92it/s]"
          ]
        },
        {
          "output_type": "stream",
          "name": "stdout",
          "text": [
            "Iteration 384 - Train Loss: 0.957307 - Dev Loss: 3.015641\r3.0156409740448\n",
            "3.121891975402832\n",
            "3.157714366912842\n"
          ]
        },
        {
          "output_type": "stream",
          "name": "stderr",
          "text": [
            "100%|██████████| 6/6 [00:00<00:00, 13.60it/s]\n"
          ]
        },
        {
          "output_type": "stream",
          "name": "stdout",
          "text": [
            "Iteration 387 - Train Loss: 1.000692 - Dev Loss: 3.087899\r3.0878994464874268\n",
            "Iteration 388 - Train Loss: 0.873045 - Dev Loss: 3.162906\r3.162905693054199\n",
            "Iteration 389 - Train Loss: 0.930033 - Dev Loss: 3.113073\r3.1130731105804443\n",
            "epoch 65\n"
          ]
        },
        {
          "output_type": "stream",
          "name": "stderr",
          "text": [
            " 33%|███▎      | 2/6 [00:00<00:00, 13.22it/s]"
          ]
        },
        {
          "output_type": "stream",
          "name": "stdout",
          "text": [
            "Iteration 390 - Train Loss: 0.960136 - Dev Loss: 3.131401\r3.1314010620117188\n",
            "Iteration 391 - Train Loss: 0.932001 - Dev Loss: 3.115745\r3.1157453060150146\n",
            "Iteration 392 - Train Loss: 0.886406 - Dev Loss: 3.143059\r3.143059253692627\n"
          ]
        },
        {
          "output_type": "stream",
          "name": "stderr",
          "text": [
            "100%|██████████| 6/6 [00:00<00:00, 14.39it/s]\n"
          ]
        },
        {
          "output_type": "stream",
          "name": "stdout",
          "text": [
            "Iteration 393 - Train Loss: 0.909999 - Dev Loss: 3.169904\r3.169903516769409\n",
            "Iteration 394 - Train Loss: 0.887507 - Dev Loss: 3.145291\r3.1452908515930176\n",
            "Iteration 395 - Train Loss: 0.841448 - Dev Loss: 3.139587\r3.1395866870880127\n",
            "epoch 66\n"
          ]
        },
        {
          "output_type": "stream",
          "name": "stderr",
          "text": [
            "\r  0%|          | 0/6 [00:00<?, ?it/s]"
          ]
        },
        {
          "output_type": "stream",
          "name": "stdout",
          "text": [
            "Iteration 396 - Train Loss: 0.928695 - Dev Loss: 3.148293\r3.1482930183410645\n"
          ]
        },
        {
          "output_type": "stream",
          "name": "stderr",
          "text": [
            "\r 33%|███▎      | 2/6 [00:00<00:00, 13.28it/s]"
          ]
        },
        {
          "output_type": "stream",
          "name": "stdout",
          "text": [
            "Iteration 397 - Train Loss: 0.910081 - Dev Loss: 3.096239\r3.0962390899658203\n",
            "Iteration 398 - Train Loss: 0.918965 - Dev Loss: 3.235267\r3.235266923904419\n"
          ]
        },
        {
          "output_type": "stream",
          "name": "stderr",
          "text": [
            "\r 67%|██████▋   | 4/6 [00:00<00:00, 13.16it/s]"
          ]
        },
        {
          "output_type": "stream",
          "name": "stdout",
          "text": [
            "Iteration 399 - Train Loss: 0.909612 - Dev Loss: 3.098447\r3.098446846008301\n"
          ]
        },
        {
          "output_type": "stream",
          "name": "stderr",
          "text": [
            "100%|██████████| 6/6 [00:00<00:00, 13.85it/s]\n"
          ]
        },
        {
          "output_type": "stream",
          "name": "stdout",
          "text": [
            "Iteration 400 - Train Loss: 0.855473 - Dev Loss: 3.249915\r3.249915361404419\n",
            "Iteration 401 - Train Loss: 0.890336 - Dev Loss: 3.121278\r3.1212778091430664\n",
            "epoch 67\n"
          ]
        },
        {
          "output_type": "stream",
          "name": "stderr",
          "text": [
            "\r  0%|          | 0/6 [00:00<?, ?it/s]"
          ]
        },
        {
          "output_type": "stream",
          "name": "stdout",
          "text": [
            "Iteration 402 - Train Loss: 0.858073 - Dev Loss: 3.146614\r3.146613836288452\n"
          ]
        },
        {
          "output_type": "stream",
          "name": "stderr",
          "text": [
            "\r 33%|███▎      | 2/6 [00:00<00:00, 13.60it/s]"
          ]
        },
        {
          "output_type": "stream",
          "name": "stdout",
          "text": [
            "Iteration 403 - Train Loss: 0.861057 - Dev Loss: 3.133547\r3.133547067642212\n",
            "Iteration 404 - Train Loss: 0.974234 - Dev Loss: 3.152547\r3.1525473594665527\n"
          ]
        },
        {
          "output_type": "stream",
          "name": "stderr",
          "text": [
            "\r 67%|██████▋   | 4/6 [00:00<00:00, 13.38it/s]"
          ]
        },
        {
          "output_type": "stream",
          "name": "stdout",
          "text": [
            "Iteration 405 - Train Loss: 0.868067 - Dev Loss: 3.133070\r3.133070230484009\n"
          ]
        },
        {
          "output_type": "stream",
          "name": "stderr",
          "text": [
            "100%|██████████| 6/6 [00:00<00:00, 14.36it/s]\n"
          ]
        },
        {
          "output_type": "stream",
          "name": "stdout",
          "text": [
            "Iteration 406 - Train Loss: 0.864787 - Dev Loss: 3.135136\r3.1351358890533447\n",
            "Iteration 407 - Train Loss: 0.993538 - Dev Loss: 3.118579\r3.1185789108276367\n",
            "epoch 68\n"
          ]
        },
        {
          "output_type": "stream",
          "name": "stderr",
          "text": [
            "\r  0%|          | 0/6 [00:00<?, ?it/s]"
          ]
        },
        {
          "output_type": "stream",
          "name": "stdout",
          "text": [
            "Iteration 408 - Train Loss: 0.934837 - Dev Loss: 3.129061\r3.129061460494995\n"
          ]
        },
        {
          "output_type": "stream",
          "name": "stderr",
          "text": [
            "\r 33%|███▎      | 2/6 [00:00<00:00, 13.53it/s]"
          ]
        },
        {
          "output_type": "stream",
          "name": "stdout",
          "text": [
            "Iteration 409 - Train Loss: 0.838873 - Dev Loss: 3.138627\r3.138627052307129\n",
            "Iteration 410 - Train Loss: 0.896774 - Dev Loss: 3.256778\r3.2567780017852783\n"
          ]
        },
        {
          "output_type": "stream",
          "name": "stderr",
          "text": [
            "\r 67%|██████▋   | 4/6 [00:00<00:00, 13.21it/s]"
          ]
        },
        {
          "output_type": "stream",
          "name": "stdout",
          "text": [
            "Iteration 411 - Train Loss: 0.945745 - Dev Loss: 3.171335\r3.171334743499756\n"
          ]
        },
        {
          "output_type": "stream",
          "name": "stderr",
          "text": [
            "100%|██████████| 6/6 [00:00<00:00, 13.76it/s]\n"
          ]
        },
        {
          "output_type": "stream",
          "name": "stdout",
          "text": [
            "Iteration 412 - Train Loss: 0.858514 - Dev Loss: 3.232138\r3.232137680053711\n",
            "Iteration 413 - Train Loss: 0.841907 - Dev Loss: 3.142999\r3.1429989337921143\n",
            "epoch 69\n"
          ]
        },
        {
          "output_type": "stream",
          "name": "stderr",
          "text": [
            "\r  0%|          | 0/6 [00:00<?, ?it/s]"
          ]
        },
        {
          "output_type": "stream",
          "name": "stdout",
          "text": [
            "Iteration 414 - Train Loss: 0.850915 - Dev Loss: 3.259786\r3.2597856521606445\n"
          ]
        },
        {
          "output_type": "stream",
          "name": "stderr",
          "text": [
            "\r 33%|███▎      | 2/6 [00:00<00:00, 12.08it/s]"
          ]
        },
        {
          "output_type": "stream",
          "name": "stdout",
          "text": [
            "Iteration 415 - Train Loss: 0.955271 - Dev Loss: 3.236645\r3.236645460128784\n",
            "Iteration 416 - Train Loss: 0.890044 - Dev Loss: 3.247801\r3.2478013038635254\n"
          ]
        },
        {
          "output_type": "stream",
          "name": "stderr",
          "text": [
            "\r 67%|██████▋   | 4/6 [00:00<00:00, 13.17it/s]"
          ]
        },
        {
          "output_type": "stream",
          "name": "stdout",
          "text": [
            "Iteration 417 - Train Loss: 0.865644 - Dev Loss: 3.228807\r3.228806972503662\n",
            "Iteration 418 - Train Loss: 0.831440 - Dev Loss: 3.177695\r3.17769455909729\n"
          ]
        },
        {
          "output_type": "stream",
          "name": "stderr",
          "text": [
            "100%|██████████| 6/6 [00:00<00:00, 13.88it/s]\n"
          ]
        },
        {
          "output_type": "stream",
          "name": "stdout",
          "text": [
            "Iteration 419 - Train Loss: 0.916260 - Dev Loss: 3.249061\r3.249060869216919\n",
            "epoch 70\n"
          ]
        },
        {
          "output_type": "stream",
          "name": "stderr",
          "text": [
            " 33%|███▎      | 2/6 [00:00<00:00, 13.23it/s]"
          ]
        },
        {
          "output_type": "stream",
          "name": "stdout",
          "text": [
            "Iteration 420 - Train Loss: 0.834915 - Dev Loss: 3.254207\r3.254206657409668\n",
            "3.2478835582733154\n",
            "3.144395351409912\n"
          ]
        },
        {
          "output_type": "stream",
          "name": "stderr",
          "text": [
            "\r 67%|██████▋   | 4/6 [00:00<00:00, 13.29it/s]"
          ]
        },
        {
          "output_type": "stream",
          "name": "stdout",
          "text": [
            "Iteration 423 - Train Loss: 0.889532 - Dev Loss: 3.156107\r3.15610671043396\n",
            "Iteration 424 - Train Loss: 0.870823 - Dev Loss: 3.212734\r3.212733745574951\n"
          ]
        },
        {
          "output_type": "stream",
          "name": "stderr",
          "text": [
            "100%|██████████| 6/6 [00:00<00:00, 13.44it/s]\n"
          ]
        },
        {
          "output_type": "stream",
          "name": "stdout",
          "text": [
            "Iteration 425 - Train Loss: 1.115518 - Dev Loss: 3.337991\r3.33799147605896\n",
            "epoch 71\n"
          ]
        },
        {
          "output_type": "stream",
          "name": "stderr",
          "text": [
            " 33%|███▎      | 2/6 [00:00<00:00, 13.58it/s]"
          ]
        },
        {
          "output_type": "stream",
          "name": "stdout",
          "text": [
            "Iteration 426 - Train Loss: 0.944566 - Dev Loss: 3.310907\r3.3109068870544434\n",
            "3.2937450408935547\n",
            "3.259134292602539\n"
          ]
        },
        {
          "output_type": "stream",
          "name": "stderr",
          "text": [
            "\r 67%|██████▋   | 4/6 [00:00<00:00, 12.49it/s]"
          ]
        },
        {
          "output_type": "stream",
          "name": "stdout",
          "text": [
            "Iteration 429 - Train Loss: 0.861805 - Dev Loss: 3.302781\r3.3027806282043457\n",
            "Iteration 430 - Train Loss: 0.843032 - Dev Loss: 3.264532\r3.2645316123962402\n",
            "Iteration 431 - Train Loss: 0.919898 - Dev Loss: 3.240251\r3.240251064300537\n"
          ]
        },
        {
          "output_type": "stream",
          "name": "stderr",
          "text": [
            "100%|██████████| 6/6 [00:00<00:00, 13.67it/s]\n"
          ]
        },
        {
          "output_type": "stream",
          "name": "stdout",
          "text": [
            "epoch 72\n"
          ]
        },
        {
          "output_type": "stream",
          "name": "stderr",
          "text": [
            " 33%|███▎      | 2/6 [00:00<00:00, 13.30it/s]"
          ]
        },
        {
          "output_type": "stream",
          "name": "stdout",
          "text": [
            "Iteration 432 - Train Loss: 0.887523 - Dev Loss: 3.273270\r3.2732698917388916\n",
            "3.3404150009155273\n",
            "3.172250509262085\n"
          ]
        },
        {
          "output_type": "stream",
          "name": "stderr",
          "text": [
            "\r 67%|██████▋   | 4/6 [00:00<00:00, 12.48it/s]"
          ]
        },
        {
          "output_type": "stream",
          "name": "stdout",
          "text": [
            "Iteration 435 - Train Loss: 0.821420 - Dev Loss: 3.216092\r3.216092109680176\n",
            "Iteration 436 - Train Loss: 0.857890 - Dev Loss: 3.213417\r3.213416576385498\n"
          ]
        },
        {
          "output_type": "stream",
          "name": "stderr",
          "text": [
            "100%|██████████| 6/6 [00:00<00:00, 13.59it/s]\n"
          ]
        },
        {
          "output_type": "stream",
          "name": "stdout",
          "text": [
            "Iteration 437 - Train Loss: 0.892251 - Dev Loss: 3.205195\r3.205195188522339\n",
            "epoch 73\n"
          ]
        },
        {
          "output_type": "stream",
          "name": "stderr",
          "text": [
            " 33%|███▎      | 2/6 [00:00<00:00, 13.10it/s]"
          ]
        },
        {
          "output_type": "stream",
          "name": "stdout",
          "text": [
            "Iteration 438 - Train Loss: 0.836879 - Dev Loss: 3.223083\r3.223083257675171\n",
            "3.2337937355041504\n",
            "3.2412924766540527\n"
          ]
        },
        {
          "output_type": "stream",
          "name": "stderr",
          "text": [
            "100%|██████████| 6/6 [00:00<00:00, 14.16it/s]\n"
          ]
        },
        {
          "output_type": "stream",
          "name": "stdout",
          "text": [
            "Iteration 441 - Train Loss: 0.827745 - Dev Loss: 3.226087\r3.2260868549346924\n",
            "Iteration 442 - Train Loss: 0.833938 - Dev Loss: 3.258389\r3.258389472961426\n",
            "Iteration 443 - Train Loss: 0.861432 - Dev Loss: 3.278321\r3.278320550918579\n",
            "epoch 74\n"
          ]
        },
        {
          "output_type": "stream",
          "name": "stderr",
          "text": [
            " 33%|███▎      | 2/6 [00:00<00:00, 13.36it/s]"
          ]
        },
        {
          "output_type": "stream",
          "name": "stdout",
          "text": [
            "Iteration 444 - Train Loss: 0.820503 - Dev Loss: 3.283401\r3.283400535583496\n",
            "Iteration 445 - Train Loss: 0.812578 - Dev Loss: 3.294088\r3.294088125228882\n",
            "Iteration 446 - Train Loss: 0.822604 - Dev Loss: 3.240824\r3.2408244609832764\n",
            "Iteration 447 - Train Loss: 0.860438 - Dev Loss: 3.290359\r3.2903590202331543\n"
          ]
        },
        {
          "output_type": "stream",
          "name": "stderr",
          "text": [
            "100%|██████████| 6/6 [00:00<00:00, 14.35it/s]\n"
          ]
        },
        {
          "output_type": "stream",
          "name": "stdout",
          "text": [
            "Iteration 448 - Train Loss: 0.856332 - Dev Loss: 3.234226\r3.2342264652252197\n",
            "Iteration 449 - Train Loss: 0.904011 - Dev Loss: 3.233533\r3.2335331439971924\n",
            "epoch 75\n"
          ]
        },
        {
          "output_type": "stream",
          "name": "stderr",
          "text": [
            "\r  0%|          | 0/6 [00:00<?, ?it/s]"
          ]
        },
        {
          "output_type": "stream",
          "name": "stdout",
          "text": [
            "Iteration 450 - Train Loss: 0.787485 - Dev Loss: 3.228340\r3.2283403873443604\n"
          ]
        },
        {
          "output_type": "stream",
          "name": "stderr",
          "text": [
            "\r 33%|███▎      | 2/6 [00:00<00:00, 12.99it/s]"
          ]
        },
        {
          "output_type": "stream",
          "name": "stdout",
          "text": [
            "Iteration 451 - Train Loss: 0.794574 - Dev Loss: 3.329078\r3.329078197479248\n",
            "Iteration 452 - Train Loss: 0.838071 - Dev Loss: 3.313384\r3.3133840560913086\n"
          ]
        },
        {
          "output_type": "stream",
          "name": "stderr",
          "text": [
            "\r 67%|██████▋   | 4/6 [00:00<00:00, 12.45it/s]"
          ]
        },
        {
          "output_type": "stream",
          "name": "stdout",
          "text": [
            "Iteration 453 - Train Loss: 0.864985 - Dev Loss: 3.276037\r3.2760369777679443\n"
          ]
        },
        {
          "output_type": "stream",
          "name": "stderr",
          "text": [
            "100%|██████████| 6/6 [00:00<00:00, 13.03it/s]\n"
          ]
        },
        {
          "output_type": "stream",
          "name": "stdout",
          "text": [
            "Iteration 454 - Train Loss: 0.819217 - Dev Loss: 3.292613\r3.2926132678985596\n",
            "Iteration 455 - Train Loss: 0.873026 - Dev Loss: 3.321885\r3.3218846321105957\n",
            "epoch 76\n"
          ]
        },
        {
          "output_type": "stream",
          "name": "stderr",
          "text": [
            "\r  0%|          | 0/6 [00:00<?, ?it/s]"
          ]
        },
        {
          "output_type": "stream",
          "name": "stdout",
          "text": [
            "Iteration 456 - Train Loss: 0.879602 - Dev Loss: 3.281934\r3.2819342613220215\n"
          ]
        },
        {
          "output_type": "stream",
          "name": "stderr",
          "text": [
            "\r 33%|███▎      | 2/6 [00:00<00:00, 12.94it/s]"
          ]
        },
        {
          "output_type": "stream",
          "name": "stdout",
          "text": [
            "Iteration 457 - Train Loss: 0.788439 - Dev Loss: 3.291903\r3.291902542114258\n",
            "Iteration 458 - Train Loss: 0.820666 - Dev Loss: 3.296675\r3.2966747283935547\n"
          ]
        },
        {
          "output_type": "stream",
          "name": "stderr",
          "text": [
            "\r 67%|██████▋   | 4/6 [00:00<00:00, 13.45it/s]"
          ]
        },
        {
          "output_type": "stream",
          "name": "stdout",
          "text": [
            "Iteration 459 - Train Loss: 0.778361 - Dev Loss: 3.226127\r3.2261266708374023\n"
          ]
        },
        {
          "output_type": "stream",
          "name": "stderr",
          "text": [
            "100%|██████████| 6/6 [00:00<00:00, 13.71it/s]\n"
          ]
        },
        {
          "output_type": "stream",
          "name": "stdout",
          "text": [
            "Iteration 460 - Train Loss: 0.790620 - Dev Loss: 3.294870\r3.2948696613311768\n",
            "Iteration 461 - Train Loss: 0.833927 - Dev Loss: 3.287439\r3.2874388694763184\n",
            "epoch 77\n"
          ]
        },
        {
          "output_type": "stream",
          "name": "stderr",
          "text": [
            "\r  0%|          | 0/6 [00:00<?, ?it/s]"
          ]
        },
        {
          "output_type": "stream",
          "name": "stdout",
          "text": [
            "Iteration 462 - Train Loss: 0.834114 - Dev Loss: 3.256279\r3.2562787532806396\n"
          ]
        },
        {
          "output_type": "stream",
          "name": "stderr",
          "text": [
            "\r 33%|███▎      | 2/6 [00:00<00:00, 12.92it/s]"
          ]
        },
        {
          "output_type": "stream",
          "name": "stdout",
          "text": [
            "Iteration 463 - Train Loss: 0.822331 - Dev Loss: 3.301273\r3.3012728691101074\n",
            "Iteration 464 - Train Loss: 0.818931 - Dev Loss: 3.318356\r3.3183555603027344\n"
          ]
        },
        {
          "output_type": "stream",
          "name": "stderr",
          "text": [
            "\r 67%|██████▋   | 4/6 [00:00<00:00, 13.65it/s]"
          ]
        },
        {
          "output_type": "stream",
          "name": "stdout",
          "text": [
            "Iteration 465 - Train Loss: 0.764912 - Dev Loss: 3.285708\r3.285707950592041\n"
          ]
        },
        {
          "output_type": "stream",
          "name": "stderr",
          "text": [
            "100%|██████████| 6/6 [00:00<00:00, 14.37it/s]\n"
          ]
        },
        {
          "output_type": "stream",
          "name": "stdout",
          "text": [
            "Iteration 466 - Train Loss: 0.852639 - Dev Loss: 3.338386\r3.338385820388794\n",
            "Iteration 467 - Train Loss: 0.653555 - Dev Loss: 3.321946\r3.321946382522583\n",
            "epoch 78\n"
          ]
        },
        {
          "output_type": "stream",
          "name": "stderr",
          "text": [
            "\r  0%|          | 0/6 [00:00<?, ?it/s]"
          ]
        },
        {
          "output_type": "stream",
          "name": "stdout",
          "text": [
            "Iteration 468 - Train Loss: 0.771054 - Dev Loss: 3.347351\r3.347350597381592\n",
            "Iteration 469 - Train Loss: 0.811668 - Dev Loss: 3.253418\r3.253418207168579\n"
          ]
        },
        {
          "output_type": "stream",
          "name": "stderr",
          "text": [
            "\r 33%|███▎      | 2/6 [00:00<00:00, 13.02it/s]"
          ]
        },
        {
          "output_type": "stream",
          "name": "stdout",
          "text": [
            "Iteration 470 - Train Loss: 0.836366 - Dev Loss: 3.344334\r3.3443336486816406\n"
          ]
        },
        {
          "output_type": "stream",
          "name": "stderr",
          "text": [
            "\r 67%|██████▋   | 4/6 [00:00<00:00, 13.67it/s]"
          ]
        },
        {
          "output_type": "stream",
          "name": "stdout",
          "text": [
            "Iteration 471 - Train Loss: 0.788529 - Dev Loss: 3.362505\r3.362504720687866\n",
            "Iteration 472 - Train Loss: 0.786031 - Dev Loss: 3.308385\r3.308384895324707\n"
          ]
        },
        {
          "output_type": "stream",
          "name": "stderr",
          "text": [
            "100%|██████████| 6/6 [00:00<00:00, 13.50it/s]\n"
          ]
        },
        {
          "output_type": "stream",
          "name": "stdout",
          "text": [
            "Iteration 473 - Train Loss: 0.625839 - Dev Loss: 3.326148\r3.3261477947235107\n",
            "epoch 79\n"
          ]
        },
        {
          "output_type": "stream",
          "name": "stderr",
          "text": [
            " 33%|███▎      | 2/6 [00:00<00:00, 14.19it/s]"
          ]
        },
        {
          "output_type": "stream",
          "name": "stdout",
          "text": [
            "Iteration 474 - Train Loss: 0.806882 - Dev Loss: 3.456687\r3.4566867351531982\n",
            "3.4617109298706055\n",
            "3.378084421157837\n"
          ]
        },
        {
          "output_type": "stream",
          "name": "stderr",
          "text": [
            "\r 67%|██████▋   | 4/6 [00:00<00:00, 13.18it/s]"
          ]
        },
        {
          "output_type": "stream",
          "name": "stdout",
          "text": [
            "Iteration 477 - Train Loss: 0.787635 - Dev Loss: 3.427080\r3.4270803928375244\n",
            "Iteration 478 - Train Loss: 0.859426 - Dev Loss: 3.411628\r3.411628246307373\n"
          ]
        },
        {
          "output_type": "stream",
          "name": "stderr",
          "text": [
            "100%|██████████| 6/6 [00:00<00:00, 13.63it/s]\n"
          ]
        },
        {
          "output_type": "stream",
          "name": "stdout",
          "text": [
            "Iteration 479 - Train Loss: 0.811894 - Dev Loss: 3.403971\r3.4039714336395264\n",
            "epoch 80\n"
          ]
        },
        {
          "output_type": "stream",
          "name": "stderr",
          "text": [
            " 33%|███▎      | 2/6 [00:00<00:00, 12.68it/s]"
          ]
        },
        {
          "output_type": "stream",
          "name": "stdout",
          "text": [
            "Iteration 480 - Train Loss: 0.782822 - Dev Loss: 3.465771\r3.465771198272705\n",
            "3.4715445041656494\n",
            "3.487309217453003\n"
          ]
        },
        {
          "output_type": "stream",
          "name": "stderr",
          "text": [
            "\r 67%|██████▋   | 4/6 [00:00<00:00, 13.33it/s]"
          ]
        },
        {
          "output_type": "stream",
          "name": "stdout",
          "text": [
            "Iteration 483 - Train Loss: 0.731195 - Dev Loss: 3.411520\r3.411520004272461\n",
            "Iteration 484 - Train Loss: 0.831930 - Dev Loss: 3.408247\r3.4082467555999756\n",
            "Iteration 485 - Train Loss: 0.778449 - Dev Loss: 3.351123\r3.351123332977295\n"
          ]
        },
        {
          "output_type": "stream",
          "name": "stderr",
          "text": [
            "100%|██████████| 6/6 [00:00<00:00, 13.40it/s]\n"
          ]
        },
        {
          "output_type": "stream",
          "name": "stdout",
          "text": [
            "epoch 81\n"
          ]
        },
        {
          "output_type": "stream",
          "name": "stderr",
          "text": [
            " 33%|███▎      | 2/6 [00:00<00:00, 11.81it/s]"
          ]
        },
        {
          "output_type": "stream",
          "name": "stdout",
          "text": [
            "Iteration 486 - Train Loss: 0.795293 - Dev Loss: 3.458493\r3.45849347114563\n",
            "3.463242292404175\n",
            "3.4372034072875977\n"
          ]
        },
        {
          "output_type": "stream",
          "name": "stderr",
          "text": [
            "100%|██████████| 6/6 [00:00<00:00,  6.98it/s]\n"
          ]
        },
        {
          "output_type": "stream",
          "name": "stdout",
          "text": [
            "Iteration 489 - Train Loss: 0.729792 - Dev Loss: 3.389815\r3.389814615249634\n",
            "Iteration 490 - Train Loss: 0.808179 - Dev Loss: 3.389665\r3.389665126800537\n",
            "Iteration 491 - Train Loss: 0.644951 - Dev Loss: 3.388017\r3.388016700744629\n",
            "epoch 82\n"
          ]
        },
        {
          "output_type": "stream",
          "name": "stderr",
          "text": [
            "\r  0%|          | 0/6 [00:00<?, ?it/s]"
          ]
        },
        {
          "output_type": "stream",
          "name": "stdout",
          "text": [
            "Iteration 492 - Train Loss: 0.747153 - Dev Loss: 3.385494\r3.385493516921997\n"
          ]
        },
        {
          "output_type": "stream",
          "name": "stderr",
          "text": [
            "\r 33%|███▎      | 2/6 [00:00<00:00, 13.35it/s]"
          ]
        },
        {
          "output_type": "stream",
          "name": "stdout",
          "text": [
            "Iteration 493 - Train Loss: 0.753637 - Dev Loss: 3.424454\r3.4244544506073\n",
            "Iteration 494 - Train Loss: 0.726883 - Dev Loss: 3.470335\r3.470334529876709\n"
          ]
        },
        {
          "output_type": "stream",
          "name": "stderr",
          "text": [
            "\r 67%|██████▋   | 4/6 [00:00<00:00, 11.44it/s]"
          ]
        },
        {
          "output_type": "stream",
          "name": "stdout",
          "text": [
            "3.350654363632202\n",
            "3.470249891281128\n",
            "3.4718120098114014\n"
          ]
        },
        {
          "output_type": "stream",
          "name": "stderr",
          "text": [
            "100%|██████████| 6/6 [00:00<00:00, 10.91it/s]\n"
          ]
        },
        {
          "output_type": "stream",
          "name": "stdout",
          "text": [
            "epoch 83\n"
          ]
        },
        {
          "output_type": "stream",
          "name": "stderr",
          "text": [
            " 17%|█▋        | 1/6 [00:00<00:00,  7.16it/s]"
          ]
        },
        {
          "output_type": "stream",
          "name": "stdout",
          "text": [
            "Iteration 498 - Train Loss: 0.779982 - Dev Loss: 3.436961\r3.4369606971740723\n"
          ]
        },
        {
          "output_type": "stream",
          "name": "stderr",
          "text": [
            "\r 33%|███▎      | 2/6 [00:00<00:00,  7.70it/s]"
          ]
        },
        {
          "output_type": "stream",
          "name": "stdout",
          "text": [
            "Iteration 499 - Train Loss: 0.824724 - Dev Loss: 3.443104\r3.443103790283203\n"
          ]
        },
        {
          "output_type": "stream",
          "name": "stderr",
          "text": [
            "\r 50%|█████     | 3/6 [00:00<00:00,  7.70it/s]"
          ]
        },
        {
          "output_type": "stream",
          "name": "stdout",
          "text": [
            "3.3454012870788574\n",
            "3.397458553314209\n",
            "3.4102041721343994\n"
          ]
        },
        {
          "output_type": "stream",
          "name": "stderr",
          "text": [
            "100%|██████████| 6/6 [00:00<00:00,  9.23it/s]\n"
          ]
        },
        {
          "output_type": "stream",
          "name": "stdout",
          "text": [
            "Iteration 503 - Train Loss: 0.822445 - Dev Loss: 3.392761\r3.392761468887329\n",
            "epoch 84\n"
          ]
        },
        {
          "output_type": "stream",
          "name": "stderr",
          "text": [
            " 17%|█▋        | 1/6 [00:00<00:00,  9.68it/s]"
          ]
        },
        {
          "output_type": "stream",
          "name": "stdout",
          "text": [
            "Iteration 504 - Train Loss: 0.771381 - Dev Loss: 3.443664\r3.443664073944092\n",
            "Iteration 505 - Train Loss: 0.735941 - Dev Loss: 3.434578\r3.434577703475952\n"
          ]
        },
        {
          "output_type": "stream",
          "name": "stderr",
          "text": [
            "\r 50%|█████     | 3/6 [00:00<00:00, 10.61it/s]"
          ]
        },
        {
          "output_type": "stream",
          "name": "stdout",
          "text": [
            "3.3785951137542725\n",
            "3.424603223800659\n"
          ]
        },
        {
          "output_type": "stream",
          "name": "stderr",
          "text": [
            "\r 83%|████████▎ | 5/6 [00:00<00:00,  9.77it/s]"
          ]
        },
        {
          "output_type": "stream",
          "name": "stdout",
          "text": [
            "Iteration 508 - Train Loss: 0.794185 - Dev Loss: 3.438250\r3.4382500648498535\n",
            "Iteration 509 - Train Loss: 0.760101 - Dev Loss: 3.392835\r3.3928351402282715\n"
          ]
        },
        {
          "output_type": "stream",
          "name": "stderr",
          "text": [
            "\r100%|██████████| 6/6 [00:00<00:00, 10.22it/s]\n"
          ]
        },
        {
          "output_type": "stream",
          "name": "stdout",
          "text": [
            "epoch 85\n"
          ]
        },
        {
          "output_type": "stream",
          "name": "stderr",
          "text": [
            "\r  0%|          | 0/6 [00:00<?, ?it/s]"
          ]
        },
        {
          "output_type": "stream",
          "name": "stdout",
          "text": [
            "3.412285089492798\n",
            "3.438305139541626\n"
          ]
        },
        {
          "output_type": "stream",
          "name": "stderr",
          "text": [
            " 50%|█████     | 3/6 [00:00<00:00,  9.06it/s]"
          ]
        },
        {
          "output_type": "stream",
          "name": "stdout",
          "text": [
            "Iteration 512 - Train Loss: 0.753496 - Dev Loss: 3.458750\r3.458749771118164\n"
          ]
        },
        {
          "output_type": "stream",
          "name": "stderr",
          "text": [
            "\r 83%|████████▎ | 5/6 [00:00<00:00, 10.58it/s]"
          ]
        },
        {
          "output_type": "stream",
          "name": "stdout",
          "text": [
            "Iteration 513 - Train Loss: 0.708278 - Dev Loss: 3.448609\r3.448608636856079\n",
            "Iteration 514 - Train Loss: 0.721100 - Dev Loss: 3.459283\r3.4592833518981934\n"
          ]
        },
        {
          "output_type": "stream",
          "name": "stderr",
          "text": [
            "\r100%|██████████| 6/6 [00:00<00:00, 11.00it/s]\n"
          ]
        },
        {
          "output_type": "stream",
          "name": "stdout",
          "text": [
            "Iteration 515 - Train Loss: 0.871547 - Dev Loss: 3.481933\r3.481933116912842\n",
            "epoch 86\n"
          ]
        },
        {
          "output_type": "stream",
          "name": "stderr",
          "text": [
            " 33%|███▎      | 2/6 [00:00<00:00, 13.54it/s]"
          ]
        },
        {
          "output_type": "stream",
          "name": "stdout",
          "text": [
            "Iteration 516 - Train Loss: 0.747120 - Dev Loss: 3.356051\r3.356050968170166\n",
            "3.4234955310821533\n",
            "3.4819705486297607\n"
          ]
        },
        {
          "output_type": "stream",
          "name": "stderr",
          "text": [
            "100%|██████████| 6/6 [00:00<00:00, 14.81it/s]"
          ]
        },
        {
          "output_type": "stream",
          "name": "stdout",
          "text": [
            "Iteration 519 - Train Loss: 0.751634 - Dev Loss: 3.433423\r3.433422803878784\n",
            "Iteration 520 - Train Loss: 0.731115 - Dev Loss: 3.456573\r3.4565727710723877\n",
            "Iteration 521 - Train Loss: 0.764281 - Dev Loss: 3.462044\r3.4620444774627686\n"
          ]
        },
        {
          "output_type": "stream",
          "name": "stderr",
          "text": [
            "\r100%|██████████| 6/6 [00:00<00:00, 14.30it/s]\n"
          ]
        },
        {
          "output_type": "stream",
          "name": "stdout",
          "text": [
            "epoch 87\n"
          ]
        },
        {
          "output_type": "stream",
          "name": "stderr",
          "text": [
            "\r  0%|          | 0/6 [00:00<?, ?it/s]"
          ]
        },
        {
          "output_type": "stream",
          "name": "stdout",
          "text": [
            "Iteration 522 - Train Loss: 0.707979 - Dev Loss: 3.435730\r3.43572998046875\n"
          ]
        },
        {
          "output_type": "stream",
          "name": "stderr",
          "text": [
            "\r 33%|███▎      | 2/6 [00:00<00:00, 11.73it/s]"
          ]
        },
        {
          "output_type": "stream",
          "name": "stdout",
          "text": [
            "3.4443838596343994\n",
            "3.5428531169891357\n"
          ]
        },
        {
          "output_type": "stream",
          "name": "stderr",
          "text": [
            "\r 67%|██████▋   | 4/6 [00:00<00:00, 12.78it/s]"
          ]
        },
        {
          "output_type": "stream",
          "name": "stdout",
          "text": [
            "Iteration 525 - Train Loss: 0.670581 - Dev Loss: 3.423121\r3.4231209754943848\n"
          ]
        },
        {
          "output_type": "stream",
          "name": "stderr",
          "text": [
            "100%|██████████| 6/6 [00:00<00:00, 13.64it/s]"
          ]
        },
        {
          "output_type": "stream",
          "name": "stdout",
          "text": [
            "Iteration 526 - Train Loss: 0.766009 - Dev Loss: 3.392840\r3.3928401470184326\n",
            "Iteration 527 - Train Loss: 0.796248 - Dev Loss: 3.419031\r3.4190313816070557\n"
          ]
        },
        {
          "output_type": "stream",
          "name": "stderr",
          "text": [
            "\n"
          ]
        },
        {
          "output_type": "stream",
          "name": "stdout",
          "text": [
            "epoch 88\n"
          ]
        },
        {
          "output_type": "stream",
          "name": "stderr",
          "text": [
            "\r  0%|          | 0/6 [00:00<?, ?it/s]"
          ]
        },
        {
          "output_type": "stream",
          "name": "stdout",
          "text": [
            "Iteration 528 - Train Loss: 0.716025 - Dev Loss: 3.396557\r3.396557092666626\n"
          ]
        },
        {
          "output_type": "stream",
          "name": "stderr",
          "text": [
            "\r 33%|███▎      | 2/6 [00:00<00:00, 14.21it/s]"
          ]
        },
        {
          "output_type": "stream",
          "name": "stdout",
          "text": [
            "3.396878719329834\n",
            "3.4634408950805664\n"
          ]
        },
        {
          "output_type": "stream",
          "name": "stderr",
          "text": [
            "\r 67%|██████▋   | 4/6 [00:00<00:00, 13.44it/s]"
          ]
        },
        {
          "output_type": "stream",
          "name": "stdout",
          "text": [
            "3.4675166606903076\n",
            "3.51239013671875\n",
            "3.4430325031280518\n"
          ]
        },
        {
          "output_type": "stream",
          "name": "stderr",
          "text": [
            "100%|██████████| 6/6 [00:00<00:00, 14.07it/s]\n"
          ]
        },
        {
          "output_type": "stream",
          "name": "stdout",
          "text": [
            "epoch 89\n"
          ]
        },
        {
          "output_type": "stream",
          "name": "stderr",
          "text": [
            "\r  0%|          | 0/6 [00:00<?, ?it/s]"
          ]
        },
        {
          "output_type": "stream",
          "name": "stdout",
          "text": [
            "Iteration 534 - Train Loss: 0.736977 - Dev Loss: 3.440744\r3.4407436847686768\n"
          ]
        },
        {
          "output_type": "stream",
          "name": "stderr",
          "text": [
            "\r 33%|███▎      | 2/6 [00:00<00:00, 12.34it/s]"
          ]
        },
        {
          "output_type": "stream",
          "name": "stdout",
          "text": [
            "3.423535108566284\n",
            "3.499013900756836\n"
          ]
        },
        {
          "output_type": "stream",
          "name": "stderr",
          "text": [
            "\r 67%|██████▋   | 4/6 [00:00<00:00, 13.98it/s]"
          ]
        },
        {
          "output_type": "stream",
          "name": "stdout",
          "text": [
            "Iteration 537 - Train Loss: 0.695342 - Dev Loss: 3.456241\r3.456240653991699\n"
          ]
        },
        {
          "output_type": "stream",
          "name": "stderr",
          "text": [
            "\r100%|██████████| 6/6 [00:00<00:00, 14.53it/s]"
          ]
        },
        {
          "output_type": "stream",
          "name": "stdout",
          "text": [
            "Iteration 538 - Train Loss: 0.710221 - Dev Loss: 3.510569\r3.5105690956115723\n",
            "Iteration 539 - Train Loss: 0.756592 - Dev Loss: 3.430465\r3.4304654598236084\n"
          ]
        },
        {
          "output_type": "stream",
          "name": "stderr",
          "text": [
            "\r100%|██████████| 6/6 [00:00<00:00, 14.06it/s]\n"
          ]
        },
        {
          "output_type": "stream",
          "name": "stdout",
          "text": [
            "epoch 90\n"
          ]
        },
        {
          "output_type": "stream",
          "name": "stderr",
          "text": [
            "\r  0%|          | 0/6 [00:00<?, ?it/s]"
          ]
        },
        {
          "output_type": "stream",
          "name": "stdout",
          "text": [
            "Iteration 540 - Train Loss: 0.671600 - Dev Loss: 3.432213\r3.432213306427002\n"
          ]
        },
        {
          "output_type": "stream",
          "name": "stderr",
          "text": [
            "\r 33%|███▎      | 2/6 [00:00<00:00, 11.79it/s]"
          ]
        },
        {
          "output_type": "stream",
          "name": "stdout",
          "text": [
            "3.515957832336426\n",
            "3.487609386444092\n"
          ]
        },
        {
          "output_type": "stream",
          "name": "stderr",
          "text": [
            "\r 67%|██████▋   | 4/6 [00:00<00:00, 12.55it/s]"
          ]
        },
        {
          "output_type": "stream",
          "name": "stdout",
          "text": [
            "3.481823682785034\n",
            "3.5379366874694824\n"
          ]
        },
        {
          "output_type": "stream",
          "name": "stderr",
          "text": [
            "100%|██████████| 6/6 [00:00<00:00, 13.03it/s]\n"
          ]
        },
        {
          "output_type": "stream",
          "name": "stdout",
          "text": [
            "Iteration 545 - Train Loss: 0.748997 - Dev Loss: 3.473195\r3.4731948375701904\n",
            "epoch 91\n"
          ]
        },
        {
          "output_type": "stream",
          "name": "stderr",
          "text": [
            "\r  0%|          | 0/6 [00:00<?, ?it/s]"
          ]
        },
        {
          "output_type": "stream",
          "name": "stdout",
          "text": [
            "Iteration 546 - Train Loss: 0.747417 - Dev Loss: 3.481105\r3.481105089187622\n"
          ]
        },
        {
          "output_type": "stream",
          "name": "stderr",
          "text": [
            "\r 33%|███▎      | 2/6 [00:00<00:00, 11.51it/s]"
          ]
        },
        {
          "output_type": "stream",
          "name": "stdout",
          "text": [
            "3.4547035694122314\n",
            "3.47890043258667\n"
          ]
        },
        {
          "output_type": "stream",
          "name": "stderr",
          "text": [
            "\r 67%|██████▋   | 4/6 [00:00<00:00, 12.77it/s]"
          ]
        },
        {
          "output_type": "stream",
          "name": "stdout",
          "text": [
            "3.5430428981781006\n",
            "3.6284854412078857\n",
            "3.5458974838256836\n"
          ]
        },
        {
          "output_type": "stream",
          "name": "stderr",
          "text": [
            "100%|██████████| 6/6 [00:00<00:00, 13.13it/s]\n"
          ]
        },
        {
          "output_type": "stream",
          "name": "stdout",
          "text": [
            "epoch 92\n"
          ]
        },
        {
          "output_type": "stream",
          "name": "stderr",
          "text": [
            "\r  0%|          | 0/6 [00:00<?, ?it/s]"
          ]
        },
        {
          "output_type": "stream",
          "name": "stdout",
          "text": [
            "Iteration 552 - Train Loss: 0.710416 - Dev Loss: 3.564968\r3.5649681091308594\n"
          ]
        },
        {
          "output_type": "stream",
          "name": "stderr",
          "text": [
            "\r 33%|███▎      | 2/6 [00:00<00:00, 13.59it/s]"
          ]
        },
        {
          "output_type": "stream",
          "name": "stdout",
          "text": [
            "3.6308915615081787\n",
            "3.553642988204956\n"
          ]
        },
        {
          "output_type": "stream",
          "name": "stderr",
          "text": [
            "\r 67%|██████▋   | 4/6 [00:00<00:00, 12.11it/s]"
          ]
        },
        {
          "output_type": "stream",
          "name": "stdout",
          "text": [
            "3.598428249359131\n",
            "3.5590898990631104\n",
            "3.6607370376586914\n"
          ]
        },
        {
          "output_type": "stream",
          "name": "stderr",
          "text": [
            "100%|██████████| 6/6 [00:00<00:00, 13.25it/s]\n"
          ]
        },
        {
          "output_type": "stream",
          "name": "stdout",
          "text": [
            "epoch 93\n"
          ]
        },
        {
          "output_type": "stream",
          "name": "stderr",
          "text": [
            "\r  0%|          | 0/6 [00:00<?, ?it/s]"
          ]
        },
        {
          "output_type": "stream",
          "name": "stdout",
          "text": [
            "Iteration 558 - Train Loss: 0.672215 - Dev Loss: 3.538503\r3.5385031700134277\n"
          ]
        },
        {
          "output_type": "stream",
          "name": "stderr",
          "text": [
            "\r 33%|███▎      | 2/6 [00:00<00:00, 11.91it/s]"
          ]
        },
        {
          "output_type": "stream",
          "name": "stdout",
          "text": [
            "3.5238819122314453\n",
            "3.5487942695617676\n"
          ]
        },
        {
          "output_type": "stream",
          "name": "stderr",
          "text": [
            "\r 67%|██████▋   | 4/6 [00:00<00:00, 12.35it/s]"
          ]
        },
        {
          "output_type": "stream",
          "name": "stdout",
          "text": [
            "Iteration 561 - Train Loss: 0.791690 - Dev Loss: 3.695981\r3.6959805488586426\n"
          ]
        },
        {
          "output_type": "stream",
          "name": "stderr",
          "text": [
            "\r100%|██████████| 6/6 [00:00<00:00, 13.65it/s]"
          ]
        },
        {
          "output_type": "stream",
          "name": "stdout",
          "text": [
            "Iteration 562 - Train Loss: 0.661569 - Dev Loss: 3.630625\r3.630624771118164\n",
            "Iteration 563 - Train Loss: 0.711239 - Dev Loss: 3.531703\r3.531702756881714\n"
          ]
        },
        {
          "output_type": "stream",
          "name": "stderr",
          "text": [
            "\r100%|██████████| 6/6 [00:00<00:00, 13.12it/s]\n"
          ]
        },
        {
          "output_type": "stream",
          "name": "stdout",
          "text": [
            "epoch 94\n"
          ]
        },
        {
          "output_type": "stream",
          "name": "stderr",
          "text": [
            "\r  0%|          | 0/6 [00:00<?, ?it/s]"
          ]
        },
        {
          "output_type": "stream",
          "name": "stdout",
          "text": [
            "Iteration 564 - Train Loss: 0.705063 - Dev Loss: 3.623080\r3.623079776763916\n"
          ]
        },
        {
          "output_type": "stream",
          "name": "stderr",
          "text": [
            "\r 33%|███▎      | 2/6 [00:00<00:00, 12.03it/s]"
          ]
        },
        {
          "output_type": "stream",
          "name": "stdout",
          "text": [
            "3.5509231090545654\n",
            "3.5517385005950928\n"
          ]
        },
        {
          "output_type": "stream",
          "name": "stderr",
          "text": [
            "\r 67%|██████▋   | 4/6 [00:00<00:00, 13.62it/s]"
          ]
        },
        {
          "output_type": "stream",
          "name": "stdout",
          "text": [
            "3.5849947929382324\n",
            "3.544682502746582\n",
            "3.6034295558929443\n"
          ]
        },
        {
          "output_type": "stream",
          "name": "stderr",
          "text": [
            "100%|██████████| 6/6 [00:00<00:00, 13.51it/s]\n"
          ]
        },
        {
          "output_type": "stream",
          "name": "stdout",
          "text": [
            "epoch 95\n"
          ]
        },
        {
          "output_type": "stream",
          "name": "stderr",
          "text": [
            "\r  0%|          | 0/6 [00:00<?, ?it/s]"
          ]
        },
        {
          "output_type": "stream",
          "name": "stdout",
          "text": [
            "Iteration 570 - Train Loss: 0.753847 - Dev Loss: 3.680506\r3.6805059909820557\n"
          ]
        },
        {
          "output_type": "stream",
          "name": "stderr",
          "text": [
            "\r 33%|███▎      | 2/6 [00:00<00:00, 13.24it/s]"
          ]
        },
        {
          "output_type": "stream",
          "name": "stdout",
          "text": [
            "3.633401393890381\n",
            "3.6235125064849854\n"
          ]
        },
        {
          "output_type": "stream",
          "name": "stderr",
          "text": [
            "\r 67%|██████▋   | 4/6 [00:00<00:00, 13.15it/s]"
          ]
        },
        {
          "output_type": "stream",
          "name": "stdout",
          "text": [
            "Iteration 573 - Train Loss: 0.616889 - Dev Loss: 3.595276\r3.595276355743408\n"
          ]
        },
        {
          "output_type": "stream",
          "name": "stderr",
          "text": [
            "100%|██████████| 6/6 [00:00<00:00, 13.94it/s]\n"
          ]
        },
        {
          "output_type": "stream",
          "name": "stdout",
          "text": [
            "Iteration 574 - Train Loss: 0.693714 - Dev Loss: 3.556135\r3.5561349391937256\n",
            "Iteration 575 - Train Loss: 0.808148 - Dev Loss: 3.542171\r3.5421712398529053\n",
            "epoch 96\n"
          ]
        },
        {
          "output_type": "stream",
          "name": "stderr",
          "text": [
            "\r  0%|          | 0/6 [00:00<?, ?it/s]"
          ]
        },
        {
          "output_type": "stream",
          "name": "stdout",
          "text": [
            "Iteration 576 - Train Loss: 0.740771 - Dev Loss: 3.618528\r3.61852765083313\n"
          ]
        },
        {
          "output_type": "stream",
          "name": "stderr",
          "text": [
            "\r 33%|███▎      | 2/6 [00:00<00:00, 13.38it/s]"
          ]
        },
        {
          "output_type": "stream",
          "name": "stdout",
          "text": [
            "Iteration 577 - Train Loss: 0.651382 - Dev Loss: 3.590422\r3.590421676635742\n",
            "Iteration 578 - Train Loss: 0.718435 - Dev Loss: 3.569005\r3.569004535675049\n"
          ]
        },
        {
          "output_type": "stream",
          "name": "stderr",
          "text": [
            "\r 67%|██████▋   | 4/6 [00:00<00:00, 12.85it/s]"
          ]
        },
        {
          "output_type": "stream",
          "name": "stdout",
          "text": [
            "Iteration 579 - Train Loss: 0.720773 - Dev Loss: 3.523813\r3.523812770843506\n"
          ]
        },
        {
          "output_type": "stream",
          "name": "stderr",
          "text": [
            "100%|██████████| 6/6 [00:00<00:00, 13.96it/s]\n"
          ]
        },
        {
          "output_type": "stream",
          "name": "stdout",
          "text": [
            "Iteration 580 - Train Loss: 0.633956 - Dev Loss: 3.502454\r3.5024542808532715\n",
            "Iteration 581 - Train Loss: 0.875018 - Dev Loss: 3.585347\r3.5853471755981445\n",
            "epoch 97\n"
          ]
        },
        {
          "output_type": "stream",
          "name": "stderr",
          "text": [
            "\r  0%|          | 0/6 [00:00<?, ?it/s]"
          ]
        },
        {
          "output_type": "stream",
          "name": "stdout",
          "text": [
            "3.5617120265960693\n",
            "3.6607882976531982\n"
          ]
        },
        {
          "output_type": "stream",
          "name": "stderr",
          "text": [
            "\r 33%|███▎      | 2/6 [00:00<00:00, 13.10it/s]"
          ]
        },
        {
          "output_type": "stream",
          "name": "stdout",
          "text": [
            "Iteration 584 - Train Loss: 0.736505 - Dev Loss: 3.601340\r3.60133957862854\n"
          ]
        },
        {
          "output_type": "stream",
          "name": "stderr",
          "text": [
            "\r 67%|██████▋   | 4/6 [00:00<00:00, 13.52it/s]"
          ]
        },
        {
          "output_type": "stream",
          "name": "stdout",
          "text": [
            "3.6023645401000977\n",
            "3.5436863899230957\n"
          ]
        },
        {
          "output_type": "stream",
          "name": "stderr",
          "text": [
            "100%|██████████| 6/6 [00:00<00:00, 13.70it/s]\n"
          ]
        },
        {
          "output_type": "stream",
          "name": "stdout",
          "text": [
            "Iteration 587 - Train Loss: 0.607724 - Dev Loss: 3.631129\r3.631129264831543\n",
            "epoch 98\n"
          ]
        },
        {
          "output_type": "stream",
          "name": "stderr",
          "text": [
            "\r  0%|          | 0/6 [00:00<?, ?it/s]"
          ]
        },
        {
          "output_type": "stream",
          "name": "stdout",
          "text": [
            "Iteration 588 - Train Loss: 0.660754 - Dev Loss: 3.667433\r3.6674327850341797\n"
          ]
        },
        {
          "output_type": "stream",
          "name": "stderr",
          "text": [
            "\r 33%|███▎      | 2/6 [00:00<00:00, 12.58it/s]"
          ]
        },
        {
          "output_type": "stream",
          "name": "stdout",
          "text": [
            "3.617089033126831\n",
            "3.621302843093872\n"
          ]
        },
        {
          "output_type": "stream",
          "name": "stderr",
          "text": [
            "\r 67%|██████▋   | 4/6 [00:00<00:00, 13.43it/s]"
          ]
        },
        {
          "output_type": "stream",
          "name": "stdout",
          "text": [
            "3.5822322368621826\n",
            "3.6532645225524902\n"
          ]
        },
        {
          "output_type": "stream",
          "name": "stderr",
          "text": [
            "100%|██████████| 6/6 [00:00<00:00, 13.56it/s]\n"
          ]
        },
        {
          "output_type": "stream",
          "name": "stdout",
          "text": [
            "Iteration 593 - Train Loss: 0.659765 - Dev Loss: 3.676248\r3.6762478351593018\n",
            "epoch 99\n"
          ]
        },
        {
          "output_type": "stream",
          "name": "stderr",
          "text": [
            "\r  0%|          | 0/6 [00:00<?, ?it/s]"
          ]
        },
        {
          "output_type": "stream",
          "name": "stdout",
          "text": [
            "Iteration 594 - Train Loss: 0.688912 - Dev Loss: 3.599313\r3.5993127822875977\n"
          ]
        },
        {
          "output_type": "stream",
          "name": "stderr",
          "text": [
            "\r 33%|███▎      | 2/6 [00:00<00:00, 12.05it/s]"
          ]
        },
        {
          "output_type": "stream",
          "name": "stdout",
          "text": [
            "3.6806464195251465\n",
            "3.6062326431274414\n"
          ]
        },
        {
          "output_type": "stream",
          "name": "stderr",
          "text": [
            "\r 67%|██████▋   | 4/6 [00:00<00:00, 13.40it/s]"
          ]
        },
        {
          "output_type": "stream",
          "name": "stdout",
          "text": [
            "Iteration 597 - Train Loss: 0.687098 - Dev Loss: 3.568585\r3.568584680557251\n"
          ]
        },
        {
          "output_type": "stream",
          "name": "stderr",
          "text": [
            "\r100%|██████████| 6/6 [00:00<00:00, 14.26it/s]"
          ]
        },
        {
          "output_type": "stream",
          "name": "stdout",
          "text": [
            "Iteration 598 - Train Loss: 0.670617 - Dev Loss: 3.639111\r3.639111280441284\n",
            "Iteration 599 - Train Loss: 0.605278 - Dev Loss: 3.637144\r3.6371443271636963\n"
          ]
        },
        {
          "output_type": "stream",
          "name": "stderr",
          "text": [
            "\r100%|██████████| 6/6 [00:00<00:00, 13.74it/s]\n"
          ]
        }
      ]
    },
    {
      "cell_type": "code",
      "source": [
        "state_dict = torch.load('pos_tagger.pt', map_location=torch.device('cpu'))\n",
        "\n",
        "#create model for inference\n",
        "model = Tagger(input_vocab_size, output_vocab_size,num_layers = 3, hidden_size= 128)\n",
        "model.load_state_dict(state_dict.state_dict())\n",
        "model.eval()"
      ],
      "metadata": {
        "colab": {
          "base_uri": "https://localhost:8080/"
        },
        "id": "UFb2HvBiBwPq",
        "outputId": "97de2e4c-cc01-48b3-a0e4-0bdcc8818044"
      },
      "execution_count": null,
      "outputs": [
        {
          "output_type": "execute_result",
          "data": {
            "text/plain": [
              "Tagger(\n",
              "  (word_embeddings): Embedding(2382, 64, padding_idx=0)\n",
              "  (rnn): GRU(64, 128, num_layers=3, dropout=0.9, bidirectional=True)\n",
              "  (fc): Linear(in_features=256, out_features=69, bias=True)\n",
              "  (activation): LogSoftmax(dim=2)\n",
              ")"
            ]
          },
          "metadata": {},
          "execution_count": 214
        }
      ]
    },
    {
      "cell_type": "code",
      "source": [
        "model.cuda()"
      ],
      "metadata": {
        "colab": {
          "base_uri": "https://localhost:8080/"
        },
        "id": "6VzQ6YdgB0v3",
        "outputId": "f0184728-12a3-478a-cbb1-4c116e963ff6"
      },
      "execution_count": null,
      "outputs": [
        {
          "output_type": "execute_result",
          "data": {
            "text/plain": [
              "Tagger(\n",
              "  (word_embeddings): Embedding(2382, 64, padding_idx=0)\n",
              "  (rnn): GRU(64, 128, num_layers=3, dropout=0.9, bidirectional=True)\n",
              "  (fc): Linear(in_features=256, out_features=69, bias=True)\n",
              "  (activation): LogSoftmax(dim=2)\n",
              ")"
            ]
          },
          "metadata": {},
          "execution_count": 215
        }
      ]
    },
    {
      "cell_type": "code",
      "source": [
        "y_true = []\n",
        "y_pred = []\n",
        "\n",
        "for inputs, targets, lengths in dev_loader:\n",
        "    outputs, _ = model(inputs, lengths=lengths)\n",
        "    _, preds = torch.max(outputs, dim=2)\n",
        "    targets = targets.view(-1)\n",
        "    preds = preds.view(-1)\n",
        "    if torch.cuda.is_available():\n",
        "        targets = targets.cpu()\n",
        "        preds = preds.cpu()\n",
        "    y_true.append(targets.data.numpy())\n",
        "    y_pred.append(preds.data.numpy())\n",
        "\n",
        "# Stack into numpy arrays\n",
        "y_true = np.concatenate(y_true)\n",
        "y_pred = np.concatenate(y_pred)\n",
        "\n",
        "# Compute accuracy\n",
        "acc = np.mean(y_true[y_true != 0] == y_pred[y_true != 0])\n",
        "print('Accuracy - %0.6f\\n' % acc)\n",
        "\n",
        "# Evaluate f1-score\n",
        "from sklearn.metrics import f1_score\n",
        "score = f1_score(y_true, y_pred, average=None)\n",
        "print('F1-scores:\\n')\n",
        "for label, score in zip(dev_dataset.pos_vocab._id2word[1:], score[1:]):\n",
        "    print('%s - %0.6f' % (label, score))"
      ],
      "metadata": {
        "colab": {
          "base_uri": "https://localhost:8080/"
        },
        "id": "34rsKH0_B4A2",
        "outputId": "dcd51406-ef66-4e08-e51e-35fca3811e48"
      },
      "execution_count": null,
      "outputs": [
        {
          "output_type": "stream",
          "name": "stdout",
          "text": [
            "Accuracy - 0.277718\n",
            "\n",
            "F1-scores:\n",
            "\n",
            "<unk> - 0.000000\n",
            "O - 0.340187\n",
            "I_PRODUCTQUALITY_POS - 0.291933\n",
            "I_APPEARANCE_POS - 0.239278\n",
            "I_DELIVERYTIME_POS - 0.521739\n",
            "I_PRODUCTQUALITY_NEG - 0.204239\n",
            "I_PACKAGING_POS - 0.455764\n",
            "I_STORESERVICE_POS - 0.234637\n",
            "I_PRICE_POS - 0.395722\n",
            "I_DELIVERYSERVICE_POS - 0.198830\n",
            "I_PACKAGING_NEG - 0.291667\n",
            "I_APPEARANCE_NEG - 0.125000\n",
            "B_PRODUCTQUALITY_POS - 0.003064\n",
            "I_STORESERVICE_NEG - 0.061069\n",
            "B_DELIVERYTIME_POS - 0.440000\n",
            "B_APPEARANCE_POS - 0.187500\n",
            "I_DELIVERYTIME_NEG - 0.222222\n",
            "I_DELIVERYSERVICE_NEG - 0.000000\n",
            "B_PRICE_POS - 0.254545\n",
            "B_PRODUCTQUALITY_NEG - 0.125000\n",
            "B_PACKAGING_POS - 0.321429\n",
            "I_IMPRESSED_NEG - 0.000000\n",
            "B_STORESERVICE_POS - 0.000000\n",
            "B_DELIVERYSERVICE_POS - 0.076923\n",
            "B_APPEARANCE_NEG - 0.000000\n",
            "I_IMPRESSED_POS - 0.000000\n",
            "I_PRICE_NEG - 0.000000\n",
            "B_STORESERVICE_NEG - 0.000000\n",
            "I_DELIVERY_SERVICE_NEG - 0.000000\n",
            "B_PACKAGING_NEG - 0.000000\n",
            "I_DELIVERY_SERVICE_POS - 0.000000\n",
            "B_DELIVERYTIME_NEG - 0.285714\n",
            "B_DELIVERYSERVICE_NEG - 0.000000\n",
            "I_PROMOTION_POS - 0.000000\n",
            "I_FEEL_POS - 0.000000\n",
            "I_PRICEPRODUCT_POS - 0.000000\n",
            "B_IMPRESSED_NEG - 0.000000\n",
            "B_IMPRESSED_POS - 0.000000\n",
            "I_DISCOUNT_POS - 0.000000\n",
            "I_FEEL_NEG - 0.000000\n",
            "B_PRICE_NEG - 0.000000\n",
            "I_COMMENT_POS - 0.000000\n",
            "B_DELIVERY_SERVICE_NEG - 0.000000\n",
            "B_FEEL_POS - 0.000000\n",
            "I_PRICEPRODUCT_NEG - 0.000000\n",
            "I_DELIVERY_TIME__NEG - 0.000000\n",
            "I_IMAGEPRODUCT_POS - 0.000000\n",
            "I_BUYAGAIN_POS - 0.000000\n",
            "I_INCOMPLETEDELIVERY_NEG - 0.000000\n",
            "I_COUNT_NEG - 0.000000\n",
            "B_DELIVERY_SERVICE_POS - 0.000000\n",
            "B_PROMOTION_POS - 0.000000\n",
            "B_PRICEPRODUCT_POS - 0.000000\n",
            "B_FEEL_NEG - 0.000000\n"
          ]
        }
      ]
    },
    {
      "cell_type": "markdown",
      "source": [
        "**ลองทำเพิ่มเติม**\n",
        "\n",
        "https://github.com/bentrevett/pytorch-pos-tagging\n",
        "\n",
        "https://github.com/yoseflaw/nerindo\n",
        "\n",
        "https://notebook.community/sameersingh/uci-statnlp/tutorials/rnn_examples"
      ],
      "metadata": {
        "id": "U3bwjXBw67Kg"
      }
    },
    {
      "cell_type": "markdown",
      "source": [],
      "metadata": {
        "id": "wYIvKDxU9JVk"
      }
    }
  ]
}